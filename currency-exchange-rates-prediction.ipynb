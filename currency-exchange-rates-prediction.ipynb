{
 "cells": [
  {
   "cell_type": "markdown",
   "id": "d21a9f6b",
   "metadata": {
    "papermill": {
     "duration": 0.03611,
     "end_time": "2022-04-06T23:26:47.440682",
     "exception": false,
     "start_time": "2022-04-06T23:26:47.404572",
     "status": "completed"
    },
    "tags": []
   },
   "source": [
    "# Currency exchange rates prediction"
   ]
  },
  {
   "cell_type": "code",
   "execution_count": 1,
   "id": "ba2debed",
   "metadata": {
    "execution": {
     "iopub.execute_input": "2022-04-06T23:26:47.540757Z",
     "iopub.status.busy": "2022-04-06T23:26:47.540121Z",
     "iopub.status.idle": "2022-04-06T23:26:48.701531Z",
     "shell.execute_reply": "2022-04-06T23:26:48.700489Z",
     "shell.execute_reply.started": "2022-04-06T21:27:49.529803Z"
    },
    "papermill": {
     "duration": 1.225263,
     "end_time": "2022-04-06T23:26:48.701722",
     "exception": false,
     "start_time": "2022-04-06T23:26:47.476459",
     "status": "completed"
    },
    "tags": []
   },
   "outputs": [],
   "source": [
    "import pandas as pd\n",
    "import numpy as np\n",
    "import matplotlib.pyplot as plt\n",
    "import seaborn as sns"
   ]
  },
  {
   "cell_type": "code",
   "execution_count": 2,
   "id": "e82e9030",
   "metadata": {
    "execution": {
     "iopub.execute_input": "2022-04-06T23:26:48.817185Z",
     "iopub.status.busy": "2022-04-06T23:26:48.816283Z",
     "iopub.status.idle": "2022-04-06T23:26:48.858159Z",
     "shell.execute_reply": "2022-04-06T23:26:48.858788Z",
     "shell.execute_reply.started": "2022-04-06T21:27:54.519946Z"
    },
    "papermill": {
     "duration": 0.101262,
     "end_time": "2022-04-06T23:26:48.859015",
     "exception": false,
     "start_time": "2022-04-06T23:26:48.757753",
     "status": "completed"
    },
    "tags": []
   },
   "outputs": [],
   "source": [
    "data = pd.read_csv('../input/currency-exchange-rates/exchange_rates.csv')"
   ]
  },
  {
   "cell_type": "code",
   "execution_count": 3,
   "id": "22290bcd",
   "metadata": {
    "execution": {
     "iopub.execute_input": "2022-04-06T23:26:48.973046Z",
     "iopub.status.busy": "2022-04-06T23:26:48.972187Z",
     "iopub.status.idle": "2022-04-06T23:26:48.994485Z",
     "shell.execute_reply": "2022-04-06T23:26:48.995088Z",
     "shell.execute_reply.started": "2022-04-06T21:34:15.564076Z"
    },
    "papermill": {
     "duration": 0.080221,
     "end_time": "2022-04-06T23:26:48.995277",
     "exception": false,
     "start_time": "2022-04-06T23:26:48.915056",
     "status": "completed"
    },
    "tags": []
   },
   "outputs": [
    {
     "data": {
      "text/html": [
       "<div>\n",
       "<style scoped>\n",
       "    .dataframe tbody tr th:only-of-type {\n",
       "        vertical-align: middle;\n",
       "    }\n",
       "\n",
       "    .dataframe tbody tr th {\n",
       "        vertical-align: top;\n",
       "    }\n",
       "\n",
       "    .dataframe thead th {\n",
       "        text-align: right;\n",
       "    }\n",
       "</style>\n",
       "<table border=\"1\" class=\"dataframe\">\n",
       "  <thead>\n",
       "    <tr style=\"text-align: right;\">\n",
       "      <th></th>\n",
       "      <th>Unnamed: 0</th>\n",
       "      <th>Country/Currency</th>\n",
       "      <th>currency</th>\n",
       "      <th>value</th>\n",
       "      <th>date</th>\n",
       "    </tr>\n",
       "  </thead>\n",
       "  <tbody>\n",
       "    <tr>\n",
       "      <th>0</th>\n",
       "      <td>0</td>\n",
       "      <td>Australia Dollar</td>\n",
       "      <td>AUD</td>\n",
       "      <td>1.581627</td>\n",
       "      <td>17/12/2021</td>\n",
       "    </tr>\n",
       "    <tr>\n",
       "      <th>1</th>\n",
       "      <td>1</td>\n",
       "      <td>Great Britain Pound</td>\n",
       "      <td>GBP</td>\n",
       "      <td>0.851619</td>\n",
       "      <td>17/12/2021</td>\n",
       "    </tr>\n",
       "    <tr>\n",
       "      <th>2</th>\n",
       "      <td>2</td>\n",
       "      <td>Euro</td>\n",
       "      <td>EUR</td>\n",
       "      <td>1.000000</td>\n",
       "      <td>17/12/2021</td>\n",
       "    </tr>\n",
       "    <tr>\n",
       "      <th>3</th>\n",
       "      <td>3</td>\n",
       "      <td>Japan Yen</td>\n",
       "      <td>JPY</td>\n",
       "      <td>128.301759</td>\n",
       "      <td>17/12/2021</td>\n",
       "    </tr>\n",
       "    <tr>\n",
       "      <th>4</th>\n",
       "      <td>4</td>\n",
       "      <td>Switzerland Franc</td>\n",
       "      <td>CHF</td>\n",
       "      <td>1.041015</td>\n",
       "      <td>17/12/2021</td>\n",
       "    </tr>\n",
       "  </tbody>\n",
       "</table>\n",
       "</div>"
      ],
      "text/plain": [
       "   Unnamed: 0     Country/Currency currency       value        date\n",
       "0           0     Australia Dollar      AUD    1.581627  17/12/2021\n",
       "1           1  Great Britain Pound      GBP    0.851619  17/12/2021\n",
       "2           2                 Euro      EUR    1.000000  17/12/2021\n",
       "3           3            Japan Yen      JPY  128.301759  17/12/2021\n",
       "4           4    Switzerland Franc      CHF    1.041015  17/12/2021"
      ]
     },
     "execution_count": 3,
     "metadata": {},
     "output_type": "execute_result"
    }
   ],
   "source": [
    "data.head()"
   ]
  },
  {
   "cell_type": "code",
   "execution_count": 4,
   "id": "8a42f5ec",
   "metadata": {
    "execution": {
     "iopub.execute_input": "2022-04-06T23:26:49.114619Z",
     "iopub.status.busy": "2022-04-06T23:26:49.113729Z",
     "iopub.status.idle": "2022-04-06T23:26:49.131358Z",
     "shell.execute_reply": "2022-04-06T23:26:49.132048Z",
     "shell.execute_reply.started": "2022-04-06T21:34:49.554528Z"
    },
    "papermill": {
     "duration": 0.076945,
     "end_time": "2022-04-06T23:26:49.132228",
     "exception": false,
     "start_time": "2022-04-06T23:26:49.055283",
     "status": "completed"
    },
    "tags": []
   },
   "outputs": [
    {
     "data": {
      "text/plain": [
       "Australia Dollar          113\n",
       "Morocco Dirham            113\n",
       "Myanmar Kyat              113\n",
       "NL Antilles Guilder       113\n",
       "Namibia Dollar            113\n",
       "                         ... \n",
       "El Salvador Colon         113\n",
       "Ethiopia Birr             113\n",
       "Falkland Islands Pound    113\n",
       "Zambia Kwacha             113\n",
       "Euro                      111\n",
       "Name: Country/Currency, Length: 150, dtype: int64"
      ]
     },
     "execution_count": 4,
     "metadata": {},
     "output_type": "execute_result"
    }
   ],
   "source": [
    "data['Country/Currency'].value_counts()"
   ]
  },
  {
   "cell_type": "code",
   "execution_count": 5,
   "id": "f4c49e59",
   "metadata": {
    "execution": {
     "iopub.execute_input": "2022-04-06T23:26:49.248681Z",
     "iopub.status.busy": "2022-04-06T23:26:49.247863Z",
     "iopub.status.idle": "2022-04-06T23:26:49.255584Z",
     "shell.execute_reply": "2022-04-06T23:26:49.256230Z",
     "shell.execute_reply.started": "2022-04-06T21:35:52.334008Z"
    },
    "papermill": {
     "duration": 0.067443,
     "end_time": "2022-04-06T23:26:49.256407",
     "exception": false,
     "start_time": "2022-04-06T23:26:49.188964",
     "status": "completed"
    },
    "tags": []
   },
   "outputs": [],
   "source": [
    "df = data[data['Country/Currency'] == 'Australia Dollar']"
   ]
  },
  {
   "cell_type": "code",
   "execution_count": 6,
   "id": "4f620d4a",
   "metadata": {
    "execution": {
     "iopub.execute_input": "2022-04-06T23:26:49.373302Z",
     "iopub.status.busy": "2022-04-06T23:26:49.372379Z",
     "iopub.status.idle": "2022-04-06T23:26:49.390689Z",
     "shell.execute_reply": "2022-04-06T23:26:49.391397Z",
     "shell.execute_reply.started": "2022-04-06T21:36:07.430754Z"
    },
    "papermill": {
     "duration": 0.078484,
     "end_time": "2022-04-06T23:26:49.391610",
     "exception": false,
     "start_time": "2022-04-06T23:26:49.313126",
     "status": "completed"
    },
    "tags": []
   },
   "outputs": [
    {
     "name": "stdout",
     "output_type": "stream",
     "text": [
      "<class 'pandas.core.frame.DataFrame'>\n",
      "Int64Index: 113 entries, 0 to 16798\n",
      "Data columns (total 5 columns):\n",
      " #   Column            Non-Null Count  Dtype  \n",
      "---  ------            --------------  -----  \n",
      " 0   Unnamed: 0        113 non-null    int64  \n",
      " 1   Country/Currency  113 non-null    object \n",
      " 2   currency          113 non-null    object \n",
      " 3   value             113 non-null    float64\n",
      " 4   date              113 non-null    object \n",
      "dtypes: float64(1), int64(1), object(3)\n",
      "memory usage: 5.3+ KB\n"
     ]
    }
   ],
   "source": [
    "df.info()"
   ]
  },
  {
   "cell_type": "code",
   "execution_count": 7,
   "id": "a8676eca",
   "metadata": {
    "execution": {
     "iopub.execute_input": "2022-04-06T23:26:49.525603Z",
     "iopub.status.busy": "2022-04-06T23:26:49.522617Z",
     "iopub.status.idle": "2022-04-06T23:26:49.528263Z",
     "shell.execute_reply": "2022-04-06T23:26:49.529068Z",
     "shell.execute_reply.started": "2022-04-06T21:36:51.866793Z"
    },
    "papermill": {
     "duration": 0.079445,
     "end_time": "2022-04-06T23:26:49.529267",
     "exception": false,
     "start_time": "2022-04-06T23:26:49.449822",
     "status": "completed"
    },
    "tags": []
   },
   "outputs": [
    {
     "name": "stderr",
     "output_type": "stream",
     "text": [
      "/opt/conda/lib/python3.7/site-packages/ipykernel_launcher.py:1: SettingWithCopyWarning: \n",
      "A value is trying to be set on a copy of a slice from a DataFrame.\n",
      "Try using .loc[row_indexer,col_indexer] = value instead\n",
      "\n",
      "See the caveats in the documentation: https://pandas.pydata.org/pandas-docs/stable/user_guide/indexing.html#returning-a-view-versus-a-copy\n",
      "  \"\"\"Entry point for launching an IPython kernel.\n"
     ]
    }
   ],
   "source": [
    "df['date'] = pd.to_datetime(df['date'])"
   ]
  },
  {
   "cell_type": "code",
   "execution_count": 8,
   "id": "192fb76c",
   "metadata": {
    "execution": {
     "iopub.execute_input": "2022-04-06T23:26:49.658652Z",
     "iopub.status.busy": "2022-04-06T23:26:49.657908Z",
     "iopub.status.idle": "2022-04-06T23:26:49.670882Z",
     "shell.execute_reply": "2022-04-06T23:26:49.671604Z",
     "shell.execute_reply.started": "2022-04-06T21:37:01.887283Z"
    },
    "papermill": {
     "duration": 0.077065,
     "end_time": "2022-04-06T23:26:49.671796",
     "exception": false,
     "start_time": "2022-04-06T23:26:49.594731",
     "status": "completed"
    },
    "tags": []
   },
   "outputs": [
    {
     "name": "stdout",
     "output_type": "stream",
     "text": [
      "<class 'pandas.core.frame.DataFrame'>\n",
      "Int64Index: 113 entries, 0 to 16798\n",
      "Data columns (total 5 columns):\n",
      " #   Column            Non-Null Count  Dtype         \n",
      "---  ------            --------------  -----         \n",
      " 0   Unnamed: 0        113 non-null    int64         \n",
      " 1   Country/Currency  113 non-null    object        \n",
      " 2   currency          113 non-null    object        \n",
      " 3   value             113 non-null    float64       \n",
      " 4   date              113 non-null    datetime64[ns]\n",
      "dtypes: datetime64[ns](1), float64(1), int64(1), object(2)\n",
      "memory usage: 5.3+ KB\n"
     ]
    }
   ],
   "source": [
    "df.info()"
   ]
  },
  {
   "cell_type": "code",
   "execution_count": 9,
   "id": "a1253ea6",
   "metadata": {
    "execution": {
     "iopub.execute_input": "2022-04-06T23:26:49.802660Z",
     "iopub.status.busy": "2022-04-06T23:26:49.801673Z",
     "iopub.status.idle": "2022-04-06T23:26:49.805142Z",
     "shell.execute_reply": "2022-04-06T23:26:49.805712Z",
     "shell.execute_reply.started": "2022-04-06T21:39:26.985023Z"
    },
    "papermill": {
     "duration": 0.073345,
     "end_time": "2022-04-06T23:26:49.805928",
     "exception": false,
     "start_time": "2022-04-06T23:26:49.732583",
     "status": "completed"
    },
    "tags": []
   },
   "outputs": [],
   "source": [
    "#ARIMA\n",
    "# AR  --P\n",
    "#I ---D\n",
    "#MA ----Q"
   ]
  },
  {
   "cell_type": "code",
   "execution_count": 10,
   "id": "b30effb1",
   "metadata": {
    "execution": {
     "iopub.execute_input": "2022-04-06T23:26:49.928653Z",
     "iopub.status.busy": "2022-04-06T23:26:49.927704Z",
     "iopub.status.idle": "2022-04-06T23:26:49.932822Z",
     "shell.execute_reply": "2022-04-06T23:26:49.933444Z",
     "shell.execute_reply.started": "2022-04-06T21:40:24.228955Z"
    },
    "papermill": {
     "duration": 0.068348,
     "end_time": "2022-04-06T23:26:49.933629",
     "exception": false,
     "start_time": "2022-04-06T23:26:49.865281",
     "status": "completed"
    },
    "tags": []
   },
   "outputs": [],
   "source": [
    "df= df[['date','value']]"
   ]
  },
  {
   "cell_type": "code",
   "execution_count": 11,
   "id": "9534e245",
   "metadata": {
    "execution": {
     "iopub.execute_input": "2022-04-06T23:26:50.055645Z",
     "iopub.status.busy": "2022-04-06T23:26:50.054752Z",
     "iopub.status.idle": "2022-04-06T23:26:50.059666Z",
     "shell.execute_reply": "2022-04-06T23:26:50.060266Z",
     "shell.execute_reply.started": "2022-04-06T21:40:40.724635Z"
    },
    "papermill": {
     "duration": 0.067559,
     "end_time": "2022-04-06T23:26:50.060447",
     "exception": false,
     "start_time": "2022-04-06T23:26:49.992888",
     "status": "completed"
    },
    "tags": []
   },
   "outputs": [],
   "source": [
    "df  = df.set_index('date')"
   ]
  },
  {
   "cell_type": "code",
   "execution_count": 12,
   "id": "f65cf196",
   "metadata": {
    "execution": {
     "iopub.execute_input": "2022-04-06T23:26:50.181552Z",
     "iopub.status.busy": "2022-04-06T23:26:50.180674Z",
     "iopub.status.idle": "2022-04-06T23:26:50.465109Z",
     "shell.execute_reply": "2022-04-06T23:26:50.464245Z",
     "shell.execute_reply.started": "2022-04-06T21:40:48.501604Z"
    },
    "papermill": {
     "duration": 0.3453,
     "end_time": "2022-04-06T23:26:50.465273",
     "exception": false,
     "start_time": "2022-04-06T23:26:50.119973",
     "status": "completed"
    },
    "tags": []
   },
   "outputs": [
    {
     "data": {
      "text/plain": [
       "<AxesSubplot:xlabel='date'>"
      ]
     },
     "execution_count": 12,
     "metadata": {},
     "output_type": "execute_result"
    },
    {
     "data": {
      "image/png": "[encoded data removed]",
      "text/plain": [
       "<Figure size 432x288 with 1 Axes>"
      ]
     },
     "metadata": {
      "needs_background": "light"
     },
     "output_type": "display_data"
    }
   ],
   "source": [
    "df.plot()"
   ]
  },
  {
   "cell_type": "code",
   "execution_count": 13,
   "id": "cad3222e",
   "metadata": {
    "execution": {
     "iopub.execute_input": "2022-04-06T23:26:50.591603Z",
     "iopub.status.busy": "2022-04-06T23:26:50.590879Z",
     "iopub.status.idle": "2022-04-06T23:26:50.598406Z",
     "shell.execute_reply": "2022-04-06T23:26:50.599313Z",
     "shell.execute_reply.started": "2022-04-06T21:47:01.165231Z"
    },
    "papermill": {
     "duration": 0.071844,
     "end_time": "2022-04-06T23:26:50.599537",
     "exception": false,
     "start_time": "2022-04-06T23:26:50.527693",
     "status": "completed"
    },
    "tags": []
   },
   "outputs": [
    {
     "data": {
      "text/html": [
       "<div>\n",
       "<style scoped>\n",
       "    .dataframe tbody tr th:only-of-type {\n",
       "        vertical-align: middle;\n",
       "    }\n",
       "\n",
       "    .dataframe tbody tr th {\n",
       "        vertical-align: top;\n",
       "    }\n",
       "\n",
       "    .dataframe thead th {\n",
       "        text-align: right;\n",
       "    }\n",
       "</style>\n",
       "<table border=\"1\" class=\"dataframe\">\n",
       "  <thead>\n",
       "    <tr style=\"text-align: right;\">\n",
       "      <th></th>\n",
       "      <th>value</th>\n",
       "    </tr>\n",
       "    <tr>\n",
       "      <th>date</th>\n",
       "      <th></th>\n",
       "    </tr>\n",
       "  </thead>\n",
       "  <tbody>\n",
       "    <tr>\n",
       "      <th>2021-12-17</th>\n",
       "      <td>1.581627</td>\n",
       "    </tr>\n",
       "  </tbody>\n",
       "</table>\n",
       "</div>"
      ],
      "text/plain": [
       "               value\n",
       "date                \n",
       "2021-12-17  1.581627"
      ]
     },
     "execution_count": 13,
     "metadata": {},
     "output_type": "execute_result"
    }
   ],
   "source": [
    "df.head(1)"
   ]
  },
  {
   "cell_type": "code",
   "execution_count": 14,
   "id": "9a623fd5",
   "metadata": {
    "execution": {
     "iopub.execute_input": "2022-04-06T23:26:50.726606Z",
     "iopub.status.busy": "2022-04-06T23:26:50.723988Z",
     "iopub.status.idle": "2022-04-06T23:26:50.920661Z",
     "shell.execute_reply": "2022-04-06T23:26:50.921144Z",
     "shell.execute_reply.started": "2022-04-06T21:45:30.481951Z"
    },
    "papermill": {
     "duration": 0.261071,
     "end_time": "2022-04-06T23:26:50.921302",
     "exception": false,
     "start_time": "2022-04-06T23:26:50.660231",
     "status": "completed"
    },
    "tags": []
   },
   "outputs": [],
   "source": [
    "from statsmodels.tsa.stattools import adfuller"
   ]
  },
  {
   "cell_type": "code",
   "execution_count": 15,
   "id": "8e64d7a3",
   "metadata": {
    "execution": {
     "iopub.execute_input": "2022-04-06T23:26:51.004048Z",
     "iopub.status.busy": "2022-04-06T23:26:51.003415Z",
     "iopub.status.idle": "2022-04-06T23:26:51.036345Z",
     "shell.execute_reply": "2022-04-06T23:26:51.035596Z",
     "shell.execute_reply.started": "2022-04-06T21:50:47.711649Z"
    },
    "papermill": {
     "duration": 0.074929,
     "end_time": "2022-04-06T23:26:51.036506",
     "exception": false,
     "start_time": "2022-04-06T23:26:50.961577",
     "status": "completed"
    },
    "tags": []
   },
   "outputs": [
    {
     "name": "stdout",
     "output_type": "stream",
     "text": [
      "test statistics              0.253759\n",
      "p-value                      0.975121\n",
      "lags used                    0.000000\n",
      "no of observations used    112.000000\n",
      "critical value(1%)          -3.490131\n",
      "critical value(5%)          -2.887712\n",
      "critical value(10%)         -2.580730\n",
      "dtype: float64\n"
     ]
    }
   ],
   "source": [
    "m = adfuller(df['value'],autolag = 'AIC')\n",
    "out = pd.Series(m[0:4],index=['test statistics','p-value','lags used','no of observations used'])\n",
    "for key,value in m[4].items():\n",
    "        out['critical value(%s)'%key]=value\n",
    "print(out)      "
   ]
  },
  {
   "cell_type": "code",
   "execution_count": 16,
   "id": "b118fa03",
   "metadata": {
    "execution": {
     "iopub.execute_input": "2022-04-06T23:26:51.164635Z",
     "iopub.status.busy": "2022-04-06T23:26:51.163928Z",
     "iopub.status.idle": "2022-04-06T23:26:51.168426Z",
     "shell.execute_reply": "2022-04-06T23:26:51.169143Z",
     "shell.execute_reply.started": "2022-04-06T21:52:44.968660Z"
    },
    "papermill": {
     "duration": 0.069691,
     "end_time": "2022-04-06T23:26:51.169364",
     "exception": false,
     "start_time": "2022-04-06T23:26:51.099673",
     "status": "completed"
    },
    "tags": []
   },
   "outputs": [],
   "source": [
    "log = np.log(df)"
   ]
  },
  {
   "cell_type": "code",
   "execution_count": 17,
   "id": "0638e173",
   "metadata": {
    "execution": {
     "iopub.execute_input": "2022-04-06T23:26:51.294110Z",
     "iopub.status.busy": "2022-04-06T23:26:51.293374Z",
     "iopub.status.idle": "2022-04-06T23:26:51.300775Z",
     "shell.execute_reply": "2022-04-06T23:26:51.301461Z",
     "shell.execute_reply.started": "2022-04-06T21:53:30.608174Z"
    },
    "papermill": {
     "duration": 0.071546,
     "end_time": "2022-04-06T23:26:51.301650",
     "exception": false,
     "start_time": "2022-04-06T23:26:51.230104",
     "status": "completed"
    },
    "tags": []
   },
   "outputs": [],
   "source": [
    "logmean = log.rolling(window = 12).mean()\n",
    "logstd = log.rolling(window = 12).std()"
   ]
  },
  {
   "cell_type": "code",
   "execution_count": 18,
   "id": "ed51561b",
   "metadata": {
    "execution": {
     "iopub.execute_input": "2022-04-06T23:26:51.428445Z",
     "iopub.status.busy": "2022-04-06T23:26:51.427697Z",
     "iopub.status.idle": "2022-04-06T23:26:51.433133Z",
     "shell.execute_reply": "2022-04-06T23:26:51.433810Z",
     "shell.execute_reply.started": "2022-04-06T21:54:27.614293Z"
    },
    "papermill": {
     "duration": 0.070788,
     "end_time": "2022-04-06T23:26:51.434048",
     "exception": false,
     "start_time": "2022-04-06T23:26:51.363260",
     "status": "completed"
    },
    "tags": []
   },
   "outputs": [],
   "source": [
    "logmeanscale = log - logmean"
   ]
  },
  {
   "cell_type": "code",
   "execution_count": 19,
   "id": "7c306890",
   "metadata": {
    "execution": {
     "iopub.execute_input": "2022-04-06T23:26:51.543424Z",
     "iopub.status.busy": "2022-04-06T23:26:51.542940Z",
     "iopub.status.idle": "2022-04-06T23:26:51.548660Z",
     "shell.execute_reply": "2022-04-06T23:26:51.549222Z",
     "shell.execute_reply.started": "2022-04-06T21:54:48.975296Z"
    },
    "papermill": {
     "duration": 0.053351,
     "end_time": "2022-04-06T23:26:51.549396",
     "exception": false,
     "start_time": "2022-04-06T23:26:51.496045",
     "status": "completed"
    },
    "tags": []
   },
   "outputs": [],
   "source": [
    "logmeanscale = logmeanscale.dropna()"
   ]
  },
  {
   "cell_type": "code",
   "execution_count": 20,
   "id": "ac66110e",
   "metadata": {
    "execution": {
     "iopub.execute_input": "2022-04-06T23:26:51.631513Z",
     "iopub.status.busy": "2022-04-06T23:26:51.631031Z",
     "iopub.status.idle": "2022-04-06T23:26:51.649560Z",
     "shell.execute_reply": "2022-04-06T23:26:51.650308Z",
     "shell.execute_reply.started": "2022-04-06T21:55:17.374918Z"
    },
    "papermill": {
     "duration": 0.061576,
     "end_time": "2022-04-06T23:26:51.650535",
     "exception": false,
     "start_time": "2022-04-06T23:26:51.588959",
     "status": "completed"
    },
    "tags": []
   },
   "outputs": [
    {
     "name": "stdout",
     "output_type": "stream",
     "text": [
      "test statistics             -3.136418\n",
      "p-value                      0.023973\n",
      "lags used                    1.000000\n",
      "no of observations used    100.000000\n",
      "critical value(1%)          -3.497501\n",
      "critical value(5%)          -2.890906\n",
      "critical value(10%)         -2.582435\n",
      "dtype: float64\n"
     ]
    }
   ],
   "source": [
    "m = adfuller(logmeanscale['value'],autolag = 'AIC')\n",
    "out = pd.Series(m[0:4],index=['test statistics','p-value','lags used','no of observations used'])\n",
    "for key,value in m[4].items():\n",
    "        out['critical value(%s)'%key]=value\n",
    "print(out)  "
   ]
  },
  {
   "cell_type": "code",
   "execution_count": 21,
   "id": "6063d2a7",
   "metadata": {
    "execution": {
     "iopub.execute_input": "2022-04-06T23:26:51.782999Z",
     "iopub.status.busy": "2022-04-06T23:26:51.782199Z",
     "iopub.status.idle": "2022-04-06T23:26:51.783806Z",
     "shell.execute_reply": "2022-04-06T23:26:51.784386Z",
     "shell.execute_reply.started": "2022-04-06T21:56:49.645341Z"
    },
    "papermill": {
     "duration": 0.070862,
     "end_time": "2022-04-06T23:26:51.784581",
     "exception": false,
     "start_time": "2022-04-06T23:26:51.713719",
     "status": "completed"
    },
    "tags": []
   },
   "outputs": [],
   "source": [
    "exp = log.ewm(halflife = 12,min_periods = 0,adjust = True).mean()"
   ]
  },
  {
   "cell_type": "code",
   "execution_count": 22,
   "id": "455b0ae6",
   "metadata": {
    "execution": {
     "iopub.execute_input": "2022-04-06T23:26:51.926392Z",
     "iopub.status.busy": "2022-04-06T23:26:51.925548Z",
     "iopub.status.idle": "2022-04-06T23:26:51.930350Z",
     "shell.execute_reply": "2022-04-06T23:26:51.931057Z",
     "shell.execute_reply.started": "2022-04-06T21:57:06.341102Z"
    },
    "papermill": {
     "duration": 0.082635,
     "end_time": "2022-04-06T23:26:51.931263",
     "exception": false,
     "start_time": "2022-04-06T23:26:51.848628",
     "status": "completed"
    },
    "tags": []
   },
   "outputs": [],
   "source": [
    "logexp = log - exp"
   ]
  },
  {
   "cell_type": "code",
   "execution_count": 23,
   "id": "fb4925a0",
   "metadata": {
    "execution": {
     "iopub.execute_input": "2022-04-06T23:26:52.058772Z",
     "iopub.status.busy": "2022-04-06T23:26:52.057895Z",
     "iopub.status.idle": "2022-04-06T23:26:52.076494Z",
     "shell.execute_reply": "2022-04-06T23:26:52.077230Z",
     "shell.execute_reply.started": "2022-04-06T21:57:54.040341Z"
    },
    "papermill": {
     "duration": 0.08412,
     "end_time": "2022-04-06T23:26:52.077469",
     "exception": false,
     "start_time": "2022-04-06T23:26:51.993349",
     "status": "completed"
    },
    "tags": []
   },
   "outputs": [
    {
     "name": "stdout",
     "output_type": "stream",
     "text": [
      "test statistics             -1.589360\n",
      "p-value                      0.488936\n",
      "lags used                    0.000000\n",
      "no of observations used    112.000000\n",
      "critical value(1%)          -3.490131\n",
      "critical value(5%)          -2.887712\n",
      "critical value(10%)         -2.580730\n",
      "dtype: float64\n"
     ]
    }
   ],
   "source": [
    "m = adfuller(logexp['value'],autolag = 'AIC')\n",
    "out = pd.Series(m[0:4],index=['test statistics','p-value','lags used','no of observations used'])\n",
    "for key,value in m[4].items():\n",
    "        out['critical value(%s)'%key]=value\n",
    "print(out)  "
   ]
  },
  {
   "cell_type": "code",
   "execution_count": 24,
   "id": "f15dca31",
   "metadata": {
    "execution": {
     "iopub.execute_input": "2022-04-06T23:26:52.210825Z",
     "iopub.status.busy": "2022-04-06T23:26:52.210003Z",
     "iopub.status.idle": "2022-04-06T23:26:52.216146Z",
     "shell.execute_reply": "2022-04-06T23:26:52.216821Z",
     "shell.execute_reply.started": "2022-04-06T21:59:58.747137Z"
    },
    "papermill": {
     "duration": 0.073115,
     "end_time": "2022-04-06T23:26:52.217050",
     "exception": false,
     "start_time": "2022-04-06T23:26:52.143935",
     "status": "completed"
    },
    "tags": []
   },
   "outputs": [],
   "source": [
    "logshift = log-log.shift()\n",
    "logshift = logshift.dropna()"
   ]
  },
  {
   "cell_type": "code",
   "execution_count": null,
   "id": "1085c687",
   "metadata": {
    "papermill": {
     "duration": 0.062239,
     "end_time": "2022-04-06T23:26:52.342572",
     "exception": false,
     "start_time": "2022-04-06T23:26:52.280333",
     "status": "completed"
    },
    "tags": []
   },
   "outputs": [],
   "source": []
  },
  {
   "cell_type": "code",
   "execution_count": 25,
   "id": "ac1912e4",
   "metadata": {
    "execution": {
     "iopub.execute_input": "2022-04-06T23:26:52.471661Z",
     "iopub.status.busy": "2022-04-06T23:26:52.470870Z",
     "iopub.status.idle": "2022-04-06T23:26:52.490906Z",
     "shell.execute_reply": "2022-04-06T23:26:52.491512Z",
     "shell.execute_reply.started": "2022-04-06T22:00:00.695176Z"
    },
    "papermill": {
     "duration": 0.086611,
     "end_time": "2022-04-06T23:26:52.491727",
     "exception": false,
     "start_time": "2022-04-06T23:26:52.405116",
     "status": "completed"
    },
    "tags": []
   },
   "outputs": [
    {
     "name": "stdout",
     "output_type": "stream",
     "text": [
      "test statistics           -9.166726e+00\n",
      "p-value                    2.449365e-15\n",
      "lags used                  0.000000e+00\n",
      "no of observations used    1.110000e+02\n",
      "critical value(1%)        -3.490683e+00\n",
      "critical value(5%)        -2.887952e+00\n",
      "critical value(10%)       -2.580857e+00\n",
      "dtype: float64\n"
     ]
    }
   ],
   "source": [
    "m = adfuller(logshift['value'],autolag = 'AIC')\n",
    "out = pd.Series(m[0:4],index=['test statistics','p-value','lags used','no of observations used'])\n",
    "for key,value in m[4].items():\n",
    "        out['critical value(%s)'%key]=value\n",
    "print(out)  "
   ]
  },
  {
   "cell_type": "code",
   "execution_count": 26,
   "id": "35b9ef86",
   "metadata": {
    "execution": {
     "iopub.execute_input": "2022-04-06T23:26:52.629095Z",
     "iopub.status.busy": "2022-04-06T23:26:52.628282Z",
     "iopub.status.idle": "2022-04-06T23:26:52.633253Z",
     "shell.execute_reply": "2022-04-06T23:26:52.633952Z",
     "shell.execute_reply.started": "2022-04-06T22:07:23.343505Z"
    },
    "papermill": {
     "duration": 0.075693,
     "end_time": "2022-04-06T23:26:52.634177",
     "exception": false,
     "start_time": "2022-04-06T23:26:52.558484",
     "status": "completed"
    },
    "tags": []
   },
   "outputs": [],
   "source": [
    "from statsmodels.graphics.tsaplots import plot_acf,plot_pacf"
   ]
  },
  {
   "cell_type": "code",
   "execution_count": 27,
   "id": "18d2ba6c",
   "metadata": {
    "execution": {
     "iopub.execute_input": "2022-04-06T23:26:52.763624Z",
     "iopub.status.busy": "2022-04-06T23:26:52.762781Z",
     "iopub.status.idle": "2022-04-06T23:26:53.505822Z",
     "shell.execute_reply": "2022-04-06T23:26:53.505167Z",
     "shell.execute_reply.started": "2022-04-06T22:07:28.004038Z"
    },
    "papermill": {
     "duration": 0.808243,
     "end_time": "2022-04-06T23:26:53.506011",
     "exception": false,
     "start_time": "2022-04-06T23:26:52.697768",
     "status": "completed"
    },
    "tags": []
   },
   "outputs": [],
   "source": [
    "import  statsmodels.api as sm"
   ]
  },
  {
   "cell_type": "code",
   "execution_count": 28,
   "id": "fae64a8d",
   "metadata": {
    "execution": {
     "iopub.execute_input": "2022-04-06T23:26:53.649162Z",
     "iopub.status.busy": "2022-04-06T23:26:53.648432Z",
     "iopub.status.idle": "2022-04-06T23:26:53.879524Z",
     "shell.execute_reply": "2022-04-06T23:26:53.880093Z",
     "shell.execute_reply.started": "2022-04-06T22:07:36.155033Z"
    },
    "papermill": {
     "duration": 0.309285,
     "end_time": "2022-04-06T23:26:53.880287",
     "exception": false,
     "start_time": "2022-04-06T23:26:53.571002",
     "status": "completed"
    },
    "tags": []
   },
   "outputs": [
    {
     "data": {
      "image/png": "[encoded data removed]",
      "text/plain": [
       "<Figure size 432x288 with 1 Axes>"
      ]
     },
     "execution_count": 28,
     "metadata": {},
     "output_type": "execute_result"
    },
    {
     "data": {
      "image/png": "[encoded data removed]",
      "text/plain": [
       "<Figure size 432x288 with 1 Axes>"
      ]
     },
     "metadata": {
      "needs_background": "light"
     },
     "output_type": "display_data"
    }
   ],
   "source": [
    "sm.graphics.tsa.plot_acf(logshift)"
   ]
  },
  {
   "cell_type": "code",
   "execution_count": 29,
   "id": "1595d39b",
   "metadata": {
    "execution": {
     "iopub.execute_input": "2022-04-06T23:26:53.992721Z",
     "iopub.status.busy": "2022-04-06T23:26:53.991698Z",
     "iopub.status.idle": "2022-04-06T23:26:53.995752Z",
     "shell.execute_reply": "2022-04-06T23:26:53.995040Z",
     "shell.execute_reply.started": "2022-04-06T22:08:28.805864Z"
    },
    "papermill": {
     "duration": 0.05064,
     "end_time": "2022-04-06T23:26:53.995985",
     "exception": false,
     "start_time": "2022-04-06T23:26:53.945345",
     "status": "completed"
    },
    "tags": []
   },
   "outputs": [],
   "source": [
    "# q =1"
   ]
  },
  {
   "cell_type": "code",
   "execution_count": 30,
   "id": "016042d5",
   "metadata": {
    "execution": {
     "iopub.execute_input": "2022-04-06T23:26:54.134599Z",
     "iopub.status.busy": "2022-04-06T23:26:54.133745Z",
     "iopub.status.idle": "2022-04-06T23:26:54.422809Z",
     "shell.execute_reply": "2022-04-06T23:26:54.421907Z",
     "shell.execute_reply.started": "2022-04-06T22:08:43.708014Z"
    },
    "papermill": {
     "duration": 0.361223,
     "end_time": "2022-04-06T23:26:54.422971",
     "exception": false,
     "start_time": "2022-04-06T23:26:54.061748",
     "status": "completed"
    },
    "tags": []
   },
   "outputs": [
    {
     "name": "stderr",
     "output_type": "stream",
     "text": [
      "/opt/conda/lib/python3.7/site-packages/statsmodels/graphics/tsaplots.py:353: FutureWarning: The default method 'yw' can produce PACF values outside of the [-1,1] interval. After 0.13, the default will change tounadjusted Yule-Walker ('ywm'). You can use this method now by setting method='ywm'.\n",
      "  FutureWarning,\n"
     ]
    },
    {
     "data": {
      "image/png": "[encoded data removed]",
      "text/plain": [
       "<Figure size 432x288 with 1 Axes>"
      ]
     },
     "execution_count": 30,
     "metadata": {},
     "output_type": "execute_result"
    },
    {
     "data": {
      "image/png": "[encoded data removed]",
      "text/plain": [
       "<Figure size 432x288 with 1 Axes>"
      ]
     },
     "metadata": {
      "needs_background": "light"
     },
     "output_type": "display_data"
    }
   ],
   "source": [
    "sm.graphics.tsa.plot_pacf(logshift)"
   ]
  },
  {
   "cell_type": "code",
   "execution_count": 31,
   "id": "fdda3ba8",
   "metadata": {
    "execution": {
     "iopub.execute_input": "2022-04-06T23:26:54.515133Z",
     "iopub.status.busy": "2022-04-06T23:26:54.514551Z",
     "iopub.status.idle": "2022-04-06T23:26:54.516404Z",
     "shell.execute_reply": "2022-04-06T23:26:54.516875Z",
     "shell.execute_reply.started": "2022-04-06T22:09:11.178715Z"
    },
    "papermill": {
     "duration": 0.050745,
     "end_time": "2022-04-06T23:26:54.517043",
     "exception": false,
     "start_time": "2022-04-06T23:26:54.466298",
     "status": "completed"
    },
    "tags": []
   },
   "outputs": [],
   "source": [
    "#p =1"
   ]
  },
  {
   "cell_type": "code",
   "execution_count": 32,
   "id": "b0396a01",
   "metadata": {
    "execution": {
     "iopub.execute_input": "2022-04-06T23:26:54.609109Z",
     "iopub.status.busy": "2022-04-06T23:26:54.608401Z",
     "iopub.status.idle": "2022-04-06T23:26:54.621731Z",
     "shell.execute_reply": "2022-04-06T23:26:54.622375Z",
     "shell.execute_reply.started": "2022-04-06T22:11:53.258212Z"
    },
    "papermill": {
     "duration": 0.06187,
     "end_time": "2022-04-06T23:26:54.622573",
     "exception": false,
     "start_time": "2022-04-06T23:26:54.560703",
     "status": "completed"
    },
    "tags": []
   },
   "outputs": [
    {
     "name": "stderr",
     "output_type": "stream",
     "text": [
      "/opt/conda/lib/python3.7/site-packages/statsmodels/tsa/base/tsa_model.py:595: ValueWarning: A date index has been provided, but it has no associated frequency information and so will be ignored when e.g. forecasting.\n",
      "  ' ignored when e.g. forecasting.', ValueWarning)\n",
      "/opt/conda/lib/python3.7/site-packages/statsmodels/tsa/base/tsa_model.py:599: ValueWarning: A date index has been provided, but it is not monotonic and so will be ignored when e.g. forecasting.\n",
      "  ' forecasting.', ValueWarning)\n",
      "/opt/conda/lib/python3.7/site-packages/statsmodels/tsa/base/tsa_model.py:595: ValueWarning: A date index has been provided, but it has no associated frequency information and so will be ignored when e.g. forecasting.\n",
      "  ' ignored when e.g. forecasting.', ValueWarning)\n",
      "/opt/conda/lib/python3.7/site-packages/statsmodels/tsa/base/tsa_model.py:599: ValueWarning: A date index has been provided, but it is not monotonic and so will be ignored when e.g. forecasting.\n",
      "  ' forecasting.', ValueWarning)\n",
      "/opt/conda/lib/python3.7/site-packages/statsmodels/tsa/base/tsa_model.py:595: ValueWarning: A date index has been provided, but it has no associated frequency information and so will be ignored when e.g. forecasting.\n",
      "  ' ignored when e.g. forecasting.', ValueWarning)\n",
      "/opt/conda/lib/python3.7/site-packages/statsmodels/tsa/base/tsa_model.py:599: ValueWarning: A date index has been provided, but it is not monotonic and so will be ignored when e.g. forecasting.\n",
      "  ' forecasting.', ValueWarning)\n"
     ]
    }
   ],
   "source": [
    "model = sm.tsa.arima.ARIMA(logshift,order = (1,1,0))"
   ]
  },
  {
   "cell_type": "code",
   "execution_count": 33,
   "id": "a468a479",
   "metadata": {
    "execution": {
     "iopub.execute_input": "2022-04-06T23:26:54.764338Z",
     "iopub.status.busy": "2022-04-06T23:26:54.737293Z",
     "iopub.status.idle": "2022-04-06T23:26:54.849163Z",
     "shell.execute_reply": "2022-04-06T23:26:54.848456Z",
     "shell.execute_reply.started": "2022-04-06T22:12:07.353093Z"
    },
    "papermill": {
     "duration": 0.158159,
     "end_time": "2022-04-06T23:26:54.849323",
     "exception": false,
     "start_time": "2022-04-06T23:26:54.691164",
     "status": "completed"
    },
    "tags": []
   },
   "outputs": [
    {
     "name": "stderr",
     "output_type": "stream",
     "text": [
      "/opt/conda/lib/python3.7/site-packages/statsmodels/base/model.py:606: ConvergenceWarning: Maximum Likelihood optimization failed to converge. Check mle_retvals\n",
      "  ConvergenceWarning)\n"
     ]
    }
   ],
   "source": [
    "result = model.fit()"
   ]
  },
  {
   "cell_type": "code",
   "execution_count": 34,
   "id": "55d8d453",
   "metadata": {
    "execution": {
     "iopub.execute_input": "2022-04-06T23:26:54.989530Z",
     "iopub.status.busy": "2022-04-06T23:26:54.988847Z",
     "iopub.status.idle": "2022-04-06T23:26:54.992007Z",
     "shell.execute_reply": "2022-04-06T23:26:54.992577Z",
     "shell.execute_reply.started": "2022-04-06T22:13:49.349979Z"
    },
    "papermill": {
     "duration": 0.074804,
     "end_time": "2022-04-06T23:26:54.992789",
     "exception": false,
     "start_time": "2022-04-06T23:26:54.917985",
     "status": "completed"
    },
    "tags": []
   },
   "outputs": [],
   "source": [
    "#RSS"
   ]
  },
  {
   "cell_type": "code",
   "execution_count": 35,
   "id": "fd4092df",
   "metadata": {
    "execution": {
     "iopub.execute_input": "2022-04-06T23:26:55.138878Z",
     "iopub.status.busy": "2022-04-06T23:26:55.135790Z",
     "iopub.status.idle": "2022-04-06T23:26:55.143737Z",
     "shell.execute_reply": "2022-04-06T23:26:55.144308Z",
     "shell.execute_reply.started": "2022-04-06T22:13:19.960549Z"
    },
    "papermill": {
     "duration": 0.083537,
     "end_time": "2022-04-06T23:26:55.144498",
     "exception": false,
     "start_time": "2022-04-06T23:26:55.060961",
     "status": "completed"
    },
    "tags": []
   },
   "outputs": [
    {
     "data": {
      "text/plain": [
       "1.7095466976811223e-06"
      ]
     },
     "execution_count": 35,
     "metadata": {},
     "output_type": "execute_result"
    }
   ],
   "source": [
    "sum(result.fittedvalues-logshift['value'])**2"
   ]
  },
  {
   "cell_type": "code",
   "execution_count": 36,
   "id": "b7672e2c",
   "metadata": {
    "execution": {
     "iopub.execute_input": "2022-04-06T23:26:55.301137Z",
     "iopub.status.busy": "2022-04-06T23:26:55.300286Z",
     "iopub.status.idle": "2022-04-06T23:26:55.305972Z",
     "shell.execute_reply": "2022-04-06T23:26:55.306529Z",
     "shell.execute_reply.started": "2022-04-06T22:18:12.850384Z"
    },
    "papermill": {
     "duration": 0.081562,
     "end_time": "2022-04-06T23:26:55.306740",
     "exception": false,
     "start_time": "2022-04-06T23:26:55.225178",
     "status": "completed"
    },
    "tags": []
   },
   "outputs": [],
   "source": [
    "pred = result.predict(1,10)"
   ]
  },
  {
   "cell_type": "code",
   "execution_count": 37,
   "id": "dfa47d54",
   "metadata": {
    "execution": {
     "iopub.execute_input": "2022-04-06T23:26:55.451704Z",
     "iopub.status.busy": "2022-04-06T23:26:55.450923Z",
     "iopub.status.idle": "2022-04-06T23:26:55.453365Z",
     "shell.execute_reply": "2022-04-06T23:26:55.454043Z",
     "shell.execute_reply.started": "2022-04-06T22:18:40.777834Z"
    },
    "papermill": {
     "duration": 0.078243,
     "end_time": "2022-04-06T23:26:55.454242",
     "exception": false,
     "start_time": "2022-04-06T23:26:55.375999",
     "status": "completed"
    },
    "tags": []
   },
   "outputs": [],
   "source": [
    "original = logshift.head(10)"
   ]
  },
  {
   "cell_type": "code",
   "execution_count": 38,
   "id": "0a8a153d",
   "metadata": {
    "execution": {
     "iopub.execute_input": "2022-04-06T23:26:55.597723Z",
     "iopub.status.busy": "2022-04-06T23:26:55.596941Z",
     "iopub.status.idle": "2022-04-06T23:26:55.825309Z",
     "shell.execute_reply": "2022-04-06T23:26:55.824639Z",
     "shell.execute_reply.started": "2022-04-06T22:19:24.445171Z"
    },
    "papermill": {
     "duration": 0.302071,
     "end_time": "2022-04-06T23:26:55.825484",
     "exception": false,
     "start_time": "2022-04-06T23:26:55.523413",
     "status": "completed"
    },
    "tags": []
   },
   "outputs": [
    {
     "data": {
      "text/plain": [
       "<AxesSubplot:xlabel='date'>"
      ]
     },
     "execution_count": 38,
     "metadata": {},
     "output_type": "execute_result"
    },
    {
     "data": {
      "image/png": "[encoded data removed]",
      "text/plain": [
       "<Figure size 432x288 with 1 Axes>"
      ]
     },
     "metadata": {
      "needs_background": "light"
     },
     "output_type": "display_data"
    }
   ],
   "source": [
    "original.plot()\n",
    "pred.plot(color = 'red')"
   ]
  },
  {
   "cell_type": "code",
   "execution_count": 39,
   "id": "7771d42e",
   "metadata": {
    "execution": {
     "iopub.execute_input": "2022-04-06T23:26:55.971637Z",
     "iopub.status.busy": "2022-04-06T23:26:55.970691Z",
     "iopub.status.idle": "2022-04-06T23:26:55.977751Z",
     "shell.execute_reply": "2022-04-06T23:26:55.978413Z",
     "shell.execute_reply.started": "2022-04-06T22:21:03.684354Z"
    },
    "papermill": {
     "duration": 0.081504,
     "end_time": "2022-04-06T23:26:55.978616",
     "exception": false,
     "start_time": "2022-04-06T23:26:55.897112",
     "status": "completed"
    },
    "tags": []
   },
   "outputs": [
    {
     "data": {
      "text/plain": [
       "(112, 1)"
      ]
     },
     "execution_count": 39,
     "metadata": {},
     "output_type": "execute_result"
    }
   ],
   "source": [
    "logshift.shape"
   ]
  },
  {
   "cell_type": "code",
   "execution_count": 40,
   "id": "36f07b88",
   "metadata": {
    "execution": {
     "iopub.execute_input": "2022-04-06T23:26:56.124479Z",
     "iopub.status.busy": "2022-04-06T23:26:56.123709Z",
     "iopub.status.idle": "2022-04-06T23:26:56.134438Z",
     "shell.execute_reply": "2022-04-06T23:26:56.135129Z",
     "shell.execute_reply.started": "2022-04-06T22:21:26.436215Z"
    },
    "papermill": {
     "duration": 0.085558,
     "end_time": "2022-04-06T23:26:56.135351",
     "exception": false,
     "start_time": "2022-04-06T23:26:56.049793",
     "status": "completed"
    },
    "tags": []
   },
   "outputs": [
    {
     "name": "stderr",
     "output_type": "stream",
     "text": [
      "/opt/conda/lib/python3.7/site-packages/statsmodels/tsa/base/tsa_model.py:393: ValueWarning: No supported index is available. Prediction results will be given with an integer index beginning at `start`.\n",
      "  ValueWarning)\n"
     ]
    },
    {
     "data": {
      "text/plain": [
       "112   -0.002277\n",
       "113    0.001095\n",
       "114   -0.000405\n",
       "115    0.000263\n",
       "116   -0.000034\n",
       "117    0.000098\n",
       "118    0.000039\n",
       "119    0.000065\n",
       "120    0.000054\n",
       "121    0.000059\n",
       "122    0.000056\n",
       "Name: predicted_mean, dtype: float64"
      ]
     },
     "execution_count": 40,
     "metadata": {},
     "output_type": "execute_result"
    }
   ],
   "source": [
    "result.predict(112,122)"
   ]
  },
  {
   "cell_type": "code",
   "execution_count": null,
   "id": "961a8d2f",
   "metadata": {
    "papermill": {
     "duration": 0.071993,
     "end_time": "2022-04-06T23:26:56.280244",
     "exception": false,
     "start_time": "2022-04-06T23:26:56.208251",
     "status": "completed"
    },
    "tags": []
   },
   "outputs": [],
   "source": []
  }
 ],
 "metadata": {
  "kernelspec": {
   "display_name": "Python 3",
   "language": "python",
   "name": "python3"
  },
  "language_info": {
   "codemirror_mode": {
    "name": "ipython",
    "version": 3
   },
   "file_extension": ".py",
   "mimetype": "text/x-python",
   "name": "python",
   "nbconvert_exporter": "python",
   "pygments_lexer": "ipython3",
   "version": "3.7.12"
  },
  "papermill": {
   "default_parameters": {},
   "duration": 21.937826,
   "end_time": "2022-04-06T23:26:57.467199",
   "environment_variables": {},
   "exception": null,
   "input_path": "__notebook__.ipynb",
   "output_path": "__notebook__.ipynb",
   "parameters": {},
   "start_time": "2022-04-06T23:26:35.529373",
   "version": "2.3.3"
  }
 },
 "nbformat": 4,
 "nbformat_minor": 5
}
