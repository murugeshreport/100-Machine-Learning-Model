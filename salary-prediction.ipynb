{
 "cells": [
  {
   "cell_type": "code",
   "execution_count": 1,
   "id": "87d8f085",
   "metadata": {
    "execution": {
     "iopub.execute_input": "2022-04-18T21:27:39.825628Z",
     "iopub.status.busy": "2022-04-18T21:27:39.825060Z",
     "iopub.status.idle": "2022-04-18T21:27:39.834955Z",
     "shell.execute_reply": "2022-04-18T21:27:39.834127Z"
    },
    "papermill": {
     "duration": 0.041968,
     "end_time": "2022-04-18T21:27:39.837574",
     "exception": false,
     "start_time": "2022-04-18T21:27:39.795606",
     "status": "completed"
    },
    "tags": []
   },
   "outputs": [],
   "source": [
    "import pandas as pd\n",
    "import numpy as np\n",
    "import matplotlib.pyplot as plt"
   ]
  },
  {
   "cell_type": "markdown",
   "id": "a2f46bdb",
   "metadata": {
    "papermill": {
     "duration": 0.026911,
     "end_time": "2022-04-18T21:27:39.891081",
     "exception": false,
     "start_time": "2022-04-18T21:27:39.864170",
     "status": "completed"
    },
    "tags": []
   },
   "source": [
    "# Salary Prediction"
   ]
  },
  {
   "cell_type": "markdown",
   "id": "90f6a44a",
   "metadata": {
    "papermill": {
     "duration": 0.026187,
     "end_time": "2022-04-18T21:27:39.943750",
     "exception": false,
     "start_time": "2022-04-18T21:27:39.917563",
     "status": "completed"
    },
    "tags": []
   },
   "source": [
    "![](https://www.gannett-cdn.com/-mm-/389f33b6050a2664d0a5c4c7964c4fab0747cd63/c=0-38-2024-1181/local/-/media/2015/10/26/USATODAY/USATODAY/635814567737908846-salary.jpg?width=2024&height=1143&fit=crop&format=pjpg&auto=webp)"
   ]
  },
  {
   "cell_type": "code",
   "execution_count": null,
   "id": "9102ed0c",
   "metadata": {
    "papermill": {
     "duration": 0.025646,
     "end_time": "2022-04-18T21:27:39.995710",
     "exception": false,
     "start_time": "2022-04-18T21:27:39.970064",
     "status": "completed"
    },
    "tags": []
   },
   "outputs": [],
   "source": []
  },
  {
   "cell_type": "code",
   "execution_count": 2,
   "id": "03b88214",
   "metadata": {
    "execution": {
     "iopub.execute_input": "2022-04-18T21:27:40.049649Z",
     "iopub.status.busy": "2022-04-18T21:27:40.048739Z",
     "iopub.status.idle": "2022-04-18T21:27:40.177741Z",
     "shell.execute_reply": "2022-04-18T21:27:40.177078Z"
    },
    "papermill": {
     "duration": 0.15829,
     "end_time": "2022-04-18T21:27:40.179901",
     "exception": false,
     "start_time": "2022-04-18T21:27:40.021611",
     "status": "completed"
    },
    "tags": []
   },
   "outputs": [],
   "source": [
    "df = pd.read_csv('../input/salary-prediction-classification/salary.csv')"
   ]
  },
  {
   "cell_type": "code",
   "execution_count": 3,
   "id": "69b15480",
   "metadata": {
    "execution": {
     "iopub.execute_input": "2022-04-18T21:27:40.236362Z",
     "iopub.status.busy": "2022-04-18T21:27:40.235623Z",
     "iopub.status.idle": "2022-04-18T21:27:40.264064Z",
     "shell.execute_reply": "2022-04-18T21:27:40.263048Z"
    },
    "papermill": {
     "duration": 0.058053,
     "end_time": "2022-04-18T21:27:40.266182",
     "exception": false,
     "start_time": "2022-04-18T21:27:40.208129",
     "status": "completed"
    },
    "tags": []
   },
   "outputs": [
    {
     "data": {
      "text/html": [
       "<div>\n",
       "<style scoped>\n",
       "    .dataframe tbody tr th:only-of-type {\n",
       "        vertical-align: middle;\n",
       "    }\n",
       "\n",
       "    .dataframe tbody tr th {\n",
       "        vertical-align: top;\n",
       "    }\n",
       "\n",
       "    .dataframe thead th {\n",
       "        text-align: right;\n",
       "    }\n",
       "</style>\n",
       "<table border=\"1\" class=\"dataframe\">\n",
       "  <thead>\n",
       "    <tr style=\"text-align: right;\">\n",
       "      <th></th>\n",
       "      <th>age</th>\n",
       "      <th>workclass</th>\n",
       "      <th>fnlwgt</th>\n",
       "      <th>education</th>\n",
       "      <th>education-num</th>\n",
       "      <th>marital-status</th>\n",
       "      <th>occupation</th>\n",
       "      <th>relationship</th>\n",
       "      <th>race</th>\n",
       "      <th>sex</th>\n",
       "      <th>capital-gain</th>\n",
       "      <th>capital-loss</th>\n",
       "      <th>hours-per-week</th>\n",
       "      <th>native-country</th>\n",
       "      <th>salary</th>\n",
       "    </tr>\n",
       "  </thead>\n",
       "  <tbody>\n",
       "    <tr>\n",
       "      <th>0</th>\n",
       "      <td>39</td>\n",
       "      <td>State-gov</td>\n",
       "      <td>77516</td>\n",
       "      <td>Bachelors</td>\n",
       "      <td>13</td>\n",
       "      <td>Never-married</td>\n",
       "      <td>Adm-clerical</td>\n",
       "      <td>Not-in-family</td>\n",
       "      <td>White</td>\n",
       "      <td>Male</td>\n",
       "      <td>2174</td>\n",
       "      <td>0</td>\n",
       "      <td>40</td>\n",
       "      <td>United-States</td>\n",
       "      <td>&lt;=50K</td>\n",
       "    </tr>\n",
       "    <tr>\n",
       "      <th>1</th>\n",
       "      <td>50</td>\n",
       "      <td>Self-emp-not-inc</td>\n",
       "      <td>83311</td>\n",
       "      <td>Bachelors</td>\n",
       "      <td>13</td>\n",
       "      <td>Married-civ-spouse</td>\n",
       "      <td>Exec-managerial</td>\n",
       "      <td>Husband</td>\n",
       "      <td>White</td>\n",
       "      <td>Male</td>\n",
       "      <td>0</td>\n",
       "      <td>0</td>\n",
       "      <td>13</td>\n",
       "      <td>United-States</td>\n",
       "      <td>&lt;=50K</td>\n",
       "    </tr>\n",
       "    <tr>\n",
       "      <th>2</th>\n",
       "      <td>38</td>\n",
       "      <td>Private</td>\n",
       "      <td>215646</td>\n",
       "      <td>HS-grad</td>\n",
       "      <td>9</td>\n",
       "      <td>Divorced</td>\n",
       "      <td>Handlers-cleaners</td>\n",
       "      <td>Not-in-family</td>\n",
       "      <td>White</td>\n",
       "      <td>Male</td>\n",
       "      <td>0</td>\n",
       "      <td>0</td>\n",
       "      <td>40</td>\n",
       "      <td>United-States</td>\n",
       "      <td>&lt;=50K</td>\n",
       "    </tr>\n",
       "  </tbody>\n",
       "</table>\n",
       "</div>"
      ],
      "text/plain": [
       "   age          workclass  fnlwgt   education  education-num  \\\n",
       "0   39          State-gov   77516   Bachelors             13   \n",
       "1   50   Self-emp-not-inc   83311   Bachelors             13   \n",
       "2   38            Private  215646     HS-grad              9   \n",
       "\n",
       "        marital-status          occupation    relationship    race    sex  \\\n",
       "0        Never-married        Adm-clerical   Not-in-family   White   Male   \n",
       "1   Married-civ-spouse     Exec-managerial         Husband   White   Male   \n",
       "2             Divorced   Handlers-cleaners   Not-in-family   White   Male   \n",
       "\n",
       "   capital-gain  capital-loss  hours-per-week  native-country  salary  \n",
       "0          2174             0              40   United-States   <=50K  \n",
       "1             0             0              13   United-States   <=50K  \n",
       "2             0             0              40   United-States   <=50K  "
      ]
     },
     "execution_count": 3,
     "metadata": {},
     "output_type": "execute_result"
    }
   ],
   "source": [
    "df.head(3)"
   ]
  },
  {
   "cell_type": "code",
   "execution_count": 4,
   "id": "e30b031e",
   "metadata": {
    "execution": {
     "iopub.execute_input": "2022-04-18T21:27:40.321970Z",
     "iopub.status.busy": "2022-04-18T21:27:40.321595Z",
     "iopub.status.idle": "2022-04-18T21:27:40.362477Z",
     "shell.execute_reply": "2022-04-18T21:27:40.361648Z"
    },
    "papermill": {
     "duration": 0.07147,
     "end_time": "2022-04-18T21:27:40.364634",
     "exception": false,
     "start_time": "2022-04-18T21:27:40.293164",
     "status": "completed"
    },
    "tags": []
   },
   "outputs": [
    {
     "data": {
      "text/plain": [
       "age               0\n",
       "workclass         0\n",
       "fnlwgt            0\n",
       "education         0\n",
       "education-num     0\n",
       "marital-status    0\n",
       "occupation        0\n",
       "relationship      0\n",
       "race              0\n",
       "sex               0\n",
       "capital-gain      0\n",
       "capital-loss      0\n",
       "hours-per-week    0\n",
       "native-country    0\n",
       "salary            0\n",
       "dtype: int64"
      ]
     },
     "execution_count": 4,
     "metadata": {},
     "output_type": "execute_result"
    }
   ],
   "source": [
    "df.isnull().sum()"
   ]
  },
  {
   "cell_type": "code",
   "execution_count": 5,
   "id": "509da0e2",
   "metadata": {
    "execution": {
     "iopub.execute_input": "2022-04-18T21:27:40.422432Z",
     "iopub.status.busy": "2022-04-18T21:27:40.421582Z",
     "iopub.status.idle": "2022-04-18T21:27:40.437955Z",
     "shell.execute_reply": "2022-04-18T21:27:40.437262Z"
    },
    "papermill": {
     "duration": 0.048641,
     "end_time": "2022-04-18T21:27:40.440159",
     "exception": false,
     "start_time": "2022-04-18T21:27:40.391518",
     "status": "completed"
    },
    "tags": []
   },
   "outputs": [],
   "source": [
    "sex = pd.get_dummies(df['sex'],drop_first = 'first')"
   ]
  },
  {
   "cell_type": "code",
   "execution_count": 6,
   "id": "cd20417e",
   "metadata": {
    "execution": {
     "iopub.execute_input": "2022-04-18T21:27:40.495589Z",
     "iopub.status.busy": "2022-04-18T21:27:40.495289Z",
     "iopub.status.idle": "2022-04-18T21:27:40.507033Z",
     "shell.execute_reply": "2022-04-18T21:27:40.506158Z"
    },
    "papermill": {
     "duration": 0.041973,
     "end_time": "2022-04-18T21:27:40.509198",
     "exception": false,
     "start_time": "2022-04-18T21:27:40.467225",
     "status": "completed"
    },
    "tags": []
   },
   "outputs": [],
   "source": [
    "education = pd.get_dummies(df['education'],drop_first='first')"
   ]
  },
  {
   "cell_type": "code",
   "execution_count": 7,
   "id": "fb20c3cd",
   "metadata": {
    "execution": {
     "iopub.execute_input": "2022-04-18T21:27:40.564851Z",
     "iopub.status.busy": "2022-04-18T21:27:40.564555Z",
     "iopub.status.idle": "2022-04-18T21:27:40.576388Z",
     "shell.execute_reply": "2022-04-18T21:27:40.575241Z"
    },
    "papermill": {
     "duration": 0.042589,
     "end_time": "2022-04-18T21:27:40.578797",
     "exception": false,
     "start_time": "2022-04-18T21:27:40.536208",
     "status": "completed"
    },
    "tags": []
   },
   "outputs": [],
   "source": [
    "occupation = pd.get_dummies(df['occupation'],drop_first='first')"
   ]
  },
  {
   "cell_type": "code",
   "execution_count": 8,
   "id": "d863d70e",
   "metadata": {
    "execution": {
     "iopub.execute_input": "2022-04-18T21:27:40.633975Z",
     "iopub.status.busy": "2022-04-18T21:27:40.633677Z",
     "iopub.status.idle": "2022-04-18T21:27:40.643681Z",
     "shell.execute_reply": "2022-04-18T21:27:40.642857Z"
    },
    "papermill": {
     "duration": 0.040221,
     "end_time": "2022-04-18T21:27:40.645730",
     "exception": false,
     "start_time": "2022-04-18T21:27:40.605509",
     "status": "completed"
    },
    "tags": []
   },
   "outputs": [],
   "source": [
    "marirtal = pd.get_dummies(df['marital-status'],drop_first = 'first')"
   ]
  },
  {
   "cell_type": "code",
   "execution_count": 9,
   "id": "ce0d2326",
   "metadata": {
    "execution": {
     "iopub.execute_input": "2022-04-18T21:27:40.701075Z",
     "iopub.status.busy": "2022-04-18T21:27:40.700762Z",
     "iopub.status.idle": "2022-04-18T21:27:40.710961Z",
     "shell.execute_reply": "2022-04-18T21:27:40.710084Z"
    },
    "papermill": {
     "duration": 0.040587,
     "end_time": "2022-04-18T21:27:40.713233",
     "exception": false,
     "start_time": "2022-04-18T21:27:40.672646",
     "status": "completed"
    },
    "tags": []
   },
   "outputs": [],
   "source": [
    "workclass = pd.get_dummies(df['workclass'],drop_first='first')"
   ]
  },
  {
   "cell_type": "code",
   "execution_count": 10,
   "id": "e8084a51",
   "metadata": {
    "execution": {
     "iopub.execute_input": "2022-04-18T21:27:40.770640Z",
     "iopub.status.busy": "2022-04-18T21:27:40.770275Z",
     "iopub.status.idle": "2022-04-18T21:27:40.778169Z",
     "shell.execute_reply": "2022-04-18T21:27:40.776982Z"
    },
    "papermill": {
     "duration": 0.039328,
     "end_time": "2022-04-18T21:27:40.780205",
     "exception": false,
     "start_time": "2022-04-18T21:27:40.740877",
     "status": "completed"
    },
    "tags": []
   },
   "outputs": [],
   "source": [
    "data = df[['age','education-num','capital-gain','capital-loss','hours-per-week']]"
   ]
  },
  {
   "cell_type": "code",
   "execution_count": 11,
   "id": "1fe4506b",
   "metadata": {
    "execution": {
     "iopub.execute_input": "2022-04-18T21:27:40.835941Z",
     "iopub.status.busy": "2022-04-18T21:27:40.835078Z",
     "iopub.status.idle": "2022-04-18T21:27:40.843045Z",
     "shell.execute_reply": "2022-04-18T21:27:40.841939Z"
    },
    "papermill": {
     "duration": 0.038271,
     "end_time": "2022-04-18T21:27:40.845232",
     "exception": false,
     "start_time": "2022-04-18T21:27:40.806961",
     "status": "completed"
    },
    "tags": []
   },
   "outputs": [],
   "source": [
    "x = pd.concat([data,workclass,marirtal,occupation,education,sex],axis =1)"
   ]
  },
  {
   "cell_type": "code",
   "execution_count": 12,
   "id": "c2c5eca2",
   "metadata": {
    "execution": {
     "iopub.execute_input": "2022-04-18T21:27:40.900711Z",
     "iopub.status.busy": "2022-04-18T21:27:40.900426Z",
     "iopub.status.idle": "2022-04-18T21:27:40.929615Z",
     "shell.execute_reply": "2022-04-18T21:27:40.928785Z"
    },
    "papermill": {
     "duration": 0.059596,
     "end_time": "2022-04-18T21:27:40.931755",
     "exception": false,
     "start_time": "2022-04-18T21:27:40.872159",
     "status": "completed"
    },
    "tags": []
   },
   "outputs": [
    {
     "data": {
      "text/html": [
       "<div>\n",
       "<style scoped>\n",
       "    .dataframe tbody tr th:only-of-type {\n",
       "        vertical-align: middle;\n",
       "    }\n",
       "\n",
       "    .dataframe tbody tr th {\n",
       "        vertical-align: top;\n",
       "    }\n",
       "\n",
       "    .dataframe thead th {\n",
       "        text-align: right;\n",
       "    }\n",
       "</style>\n",
       "<table border=\"1\" class=\"dataframe\">\n",
       "  <thead>\n",
       "    <tr style=\"text-align: right;\">\n",
       "      <th></th>\n",
       "      <th>age</th>\n",
       "      <th>education-num</th>\n",
       "      <th>capital-gain</th>\n",
       "      <th>capital-loss</th>\n",
       "      <th>hours-per-week</th>\n",
       "      <th>Federal-gov</th>\n",
       "      <th>Local-gov</th>\n",
       "      <th>Never-worked</th>\n",
       "      <th>Private</th>\n",
       "      <th>Self-emp-inc</th>\n",
       "      <th>...</th>\n",
       "      <th>Assoc-acdm</th>\n",
       "      <th>Assoc-voc</th>\n",
       "      <th>Bachelors</th>\n",
       "      <th>Doctorate</th>\n",
       "      <th>HS-grad</th>\n",
       "      <th>Masters</th>\n",
       "      <th>Preschool</th>\n",
       "      <th>Prof-school</th>\n",
       "      <th>Some-college</th>\n",
       "      <th>Male</th>\n",
       "    </tr>\n",
       "  </thead>\n",
       "  <tbody>\n",
       "    <tr>\n",
       "      <th>0</th>\n",
       "      <td>39</td>\n",
       "      <td>13</td>\n",
       "      <td>2174</td>\n",
       "      <td>0</td>\n",
       "      <td>40</td>\n",
       "      <td>0</td>\n",
       "      <td>0</td>\n",
       "      <td>0</td>\n",
       "      <td>0</td>\n",
       "      <td>0</td>\n",
       "      <td>...</td>\n",
       "      <td>0</td>\n",
       "      <td>0</td>\n",
       "      <td>1</td>\n",
       "      <td>0</td>\n",
       "      <td>0</td>\n",
       "      <td>0</td>\n",
       "      <td>0</td>\n",
       "      <td>0</td>\n",
       "      <td>0</td>\n",
       "      <td>1</td>\n",
       "    </tr>\n",
       "    <tr>\n",
       "      <th>1</th>\n",
       "      <td>50</td>\n",
       "      <td>13</td>\n",
       "      <td>0</td>\n",
       "      <td>0</td>\n",
       "      <td>13</td>\n",
       "      <td>0</td>\n",
       "      <td>0</td>\n",
       "      <td>0</td>\n",
       "      <td>0</td>\n",
       "      <td>0</td>\n",
       "      <td>...</td>\n",
       "      <td>0</td>\n",
       "      <td>0</td>\n",
       "      <td>1</td>\n",
       "      <td>0</td>\n",
       "      <td>0</td>\n",
       "      <td>0</td>\n",
       "      <td>0</td>\n",
       "      <td>0</td>\n",
       "      <td>0</td>\n",
       "      <td>1</td>\n",
       "    </tr>\n",
       "    <tr>\n",
       "      <th>2</th>\n",
       "      <td>38</td>\n",
       "      <td>9</td>\n",
       "      <td>0</td>\n",
       "      <td>0</td>\n",
       "      <td>40</td>\n",
       "      <td>0</td>\n",
       "      <td>0</td>\n",
       "      <td>0</td>\n",
       "      <td>1</td>\n",
       "      <td>0</td>\n",
       "      <td>...</td>\n",
       "      <td>0</td>\n",
       "      <td>0</td>\n",
       "      <td>0</td>\n",
       "      <td>0</td>\n",
       "      <td>1</td>\n",
       "      <td>0</td>\n",
       "      <td>0</td>\n",
       "      <td>0</td>\n",
       "      <td>0</td>\n",
       "      <td>1</td>\n",
       "    </tr>\n",
       "    <tr>\n",
       "      <th>3</th>\n",
       "      <td>53</td>\n",
       "      <td>7</td>\n",
       "      <td>0</td>\n",
       "      <td>0</td>\n",
       "      <td>40</td>\n",
       "      <td>0</td>\n",
       "      <td>0</td>\n",
       "      <td>0</td>\n",
       "      <td>1</td>\n",
       "      <td>0</td>\n",
       "      <td>...</td>\n",
       "      <td>0</td>\n",
       "      <td>0</td>\n",
       "      <td>0</td>\n",
       "      <td>0</td>\n",
       "      <td>0</td>\n",
       "      <td>0</td>\n",
       "      <td>0</td>\n",
       "      <td>0</td>\n",
       "      <td>0</td>\n",
       "      <td>1</td>\n",
       "    </tr>\n",
       "    <tr>\n",
       "      <th>4</th>\n",
       "      <td>28</td>\n",
       "      <td>13</td>\n",
       "      <td>0</td>\n",
       "      <td>0</td>\n",
       "      <td>40</td>\n",
       "      <td>0</td>\n",
       "      <td>0</td>\n",
       "      <td>0</td>\n",
       "      <td>1</td>\n",
       "      <td>0</td>\n",
       "      <td>...</td>\n",
       "      <td>0</td>\n",
       "      <td>0</td>\n",
       "      <td>1</td>\n",
       "      <td>0</td>\n",
       "      <td>0</td>\n",
       "      <td>0</td>\n",
       "      <td>0</td>\n",
       "      <td>0</td>\n",
       "      <td>0</td>\n",
       "      <td>0</td>\n",
       "    </tr>\n",
       "    <tr>\n",
       "      <th>...</th>\n",
       "      <td>...</td>\n",
       "      <td>...</td>\n",
       "      <td>...</td>\n",
       "      <td>...</td>\n",
       "      <td>...</td>\n",
       "      <td>...</td>\n",
       "      <td>...</td>\n",
       "      <td>...</td>\n",
       "      <td>...</td>\n",
       "      <td>...</td>\n",
       "      <td>...</td>\n",
       "      <td>...</td>\n",
       "      <td>...</td>\n",
       "      <td>...</td>\n",
       "      <td>...</td>\n",
       "      <td>...</td>\n",
       "      <td>...</td>\n",
       "      <td>...</td>\n",
       "      <td>...</td>\n",
       "      <td>...</td>\n",
       "      <td>...</td>\n",
       "    </tr>\n",
       "    <tr>\n",
       "      <th>32556</th>\n",
       "      <td>27</td>\n",
       "      <td>12</td>\n",
       "      <td>0</td>\n",
       "      <td>0</td>\n",
       "      <td>38</td>\n",
       "      <td>0</td>\n",
       "      <td>0</td>\n",
       "      <td>0</td>\n",
       "      <td>1</td>\n",
       "      <td>0</td>\n",
       "      <td>...</td>\n",
       "      <td>1</td>\n",
       "      <td>0</td>\n",
       "      <td>0</td>\n",
       "      <td>0</td>\n",
       "      <td>0</td>\n",
       "      <td>0</td>\n",
       "      <td>0</td>\n",
       "      <td>0</td>\n",
       "      <td>0</td>\n",
       "      <td>0</td>\n",
       "    </tr>\n",
       "    <tr>\n",
       "      <th>32557</th>\n",
       "      <td>40</td>\n",
       "      <td>9</td>\n",
       "      <td>0</td>\n",
       "      <td>0</td>\n",
       "      <td>40</td>\n",
       "      <td>0</td>\n",
       "      <td>0</td>\n",
       "      <td>0</td>\n",
       "      <td>1</td>\n",
       "      <td>0</td>\n",
       "      <td>...</td>\n",
       "      <td>0</td>\n",
       "      <td>0</td>\n",
       "      <td>0</td>\n",
       "      <td>0</td>\n",
       "      <td>1</td>\n",
       "      <td>0</td>\n",
       "      <td>0</td>\n",
       "      <td>0</td>\n",
       "      <td>0</td>\n",
       "      <td>1</td>\n",
       "    </tr>\n",
       "    <tr>\n",
       "      <th>32558</th>\n",
       "      <td>58</td>\n",
       "      <td>9</td>\n",
       "      <td>0</td>\n",
       "      <td>0</td>\n",
       "      <td>40</td>\n",
       "      <td>0</td>\n",
       "      <td>0</td>\n",
       "      <td>0</td>\n",
       "      <td>1</td>\n",
       "      <td>0</td>\n",
       "      <td>...</td>\n",
       "      <td>0</td>\n",
       "      <td>0</td>\n",
       "      <td>0</td>\n",
       "      <td>0</td>\n",
       "      <td>1</td>\n",
       "      <td>0</td>\n",
       "      <td>0</td>\n",
       "      <td>0</td>\n",
       "      <td>0</td>\n",
       "      <td>0</td>\n",
       "    </tr>\n",
       "    <tr>\n",
       "      <th>32559</th>\n",
       "      <td>22</td>\n",
       "      <td>9</td>\n",
       "      <td>0</td>\n",
       "      <td>0</td>\n",
       "      <td>20</td>\n",
       "      <td>0</td>\n",
       "      <td>0</td>\n",
       "      <td>0</td>\n",
       "      <td>1</td>\n",
       "      <td>0</td>\n",
       "      <td>...</td>\n",
       "      <td>0</td>\n",
       "      <td>0</td>\n",
       "      <td>0</td>\n",
       "      <td>0</td>\n",
       "      <td>1</td>\n",
       "      <td>0</td>\n",
       "      <td>0</td>\n",
       "      <td>0</td>\n",
       "      <td>0</td>\n",
       "      <td>1</td>\n",
       "    </tr>\n",
       "    <tr>\n",
       "      <th>32560</th>\n",
       "      <td>52</td>\n",
       "      <td>9</td>\n",
       "      <td>15024</td>\n",
       "      <td>0</td>\n",
       "      <td>40</td>\n",
       "      <td>0</td>\n",
       "      <td>0</td>\n",
       "      <td>0</td>\n",
       "      <td>0</td>\n",
       "      <td>1</td>\n",
       "      <td>...</td>\n",
       "      <td>0</td>\n",
       "      <td>0</td>\n",
       "      <td>0</td>\n",
       "      <td>0</td>\n",
       "      <td>1</td>\n",
       "      <td>0</td>\n",
       "      <td>0</td>\n",
       "      <td>0</td>\n",
       "      <td>0</td>\n",
       "      <td>0</td>\n",
       "    </tr>\n",
       "  </tbody>\n",
       "</table>\n",
       "<p>32561 rows × 49 columns</p>\n",
       "</div>"
      ],
      "text/plain": [
       "       age  education-num  capital-gain  capital-loss  hours-per-week  \\\n",
       "0       39             13          2174             0              40   \n",
       "1       50             13             0             0              13   \n",
       "2       38              9             0             0              40   \n",
       "3       53              7             0             0              40   \n",
       "4       28             13             0             0              40   \n",
       "...    ...            ...           ...           ...             ...   \n",
       "32556   27             12             0             0              38   \n",
       "32557   40              9             0             0              40   \n",
       "32558   58              9             0             0              40   \n",
       "32559   22              9             0             0              20   \n",
       "32560   52              9         15024             0              40   \n",
       "\n",
       "        Federal-gov   Local-gov   Never-worked   Private   Self-emp-inc  ...  \\\n",
       "0                 0           0              0         0              0  ...   \n",
       "1                 0           0              0         0              0  ...   \n",
       "2                 0           0              0         1              0  ...   \n",
       "3                 0           0              0         1              0  ...   \n",
       "4                 0           0              0         1              0  ...   \n",
       "...             ...         ...            ...       ...            ...  ...   \n",
       "32556             0           0              0         1              0  ...   \n",
       "32557             0           0              0         1              0  ...   \n",
       "32558             0           0              0         1              0  ...   \n",
       "32559             0           0              0         1              0  ...   \n",
       "32560             0           0              0         0              1  ...   \n",
       "\n",
       "        Assoc-acdm   Assoc-voc   Bachelors   Doctorate   HS-grad   Masters  \\\n",
       "0                0           0           1           0         0         0   \n",
       "1                0           0           1           0         0         0   \n",
       "2                0           0           0           0         1         0   \n",
       "3                0           0           0           0         0         0   \n",
       "4                0           0           1           0         0         0   \n",
       "...            ...         ...         ...         ...       ...       ...   \n",
       "32556            1           0           0           0         0         0   \n",
       "32557            0           0           0           0         1         0   \n",
       "32558            0           0           0           0         1         0   \n",
       "32559            0           0           0           0         1         0   \n",
       "32560            0           0           0           0         1         0   \n",
       "\n",
       "        Preschool   Prof-school   Some-college   Male  \n",
       "0               0             0              0      1  \n",
       "1               0             0              0      1  \n",
       "2               0             0              0      1  \n",
       "3               0             0              0      1  \n",
       "4               0             0              0      0  \n",
       "...           ...           ...            ...    ...  \n",
       "32556           0             0              0      0  \n",
       "32557           0             0              0      1  \n",
       "32558           0             0              0      0  \n",
       "32559           0             0              0      1  \n",
       "32560           0             0              0      0  \n",
       "\n",
       "[32561 rows x 49 columns]"
      ]
     },
     "execution_count": 12,
     "metadata": {},
     "output_type": "execute_result"
    }
   ],
   "source": [
    "x"
   ]
  },
  {
   "cell_type": "code",
   "execution_count": 13,
   "id": "d53c0680",
   "metadata": {
    "execution": {
     "iopub.execute_input": "2022-04-18T21:27:40.989383Z",
     "iopub.status.busy": "2022-04-18T21:27:40.988776Z",
     "iopub.status.idle": "2022-04-18T21:27:41.049702Z",
     "shell.execute_reply": "2022-04-18T21:27:41.048962Z"
    },
    "papermill": {
     "duration": 0.092355,
     "end_time": "2022-04-18T21:27:41.051968",
     "exception": false,
     "start_time": "2022-04-18T21:27:40.959613",
     "status": "completed"
    },
    "tags": []
   },
   "outputs": [],
   "source": [
    "df['salary'] = df['salary'].str.replace('<=','less then')\n",
    "df['salary'] = df['salary'].str.replace('>','greater then')"
   ]
  },
  {
   "cell_type": "code",
   "execution_count": 14,
   "id": "9f0e0c66",
   "metadata": {
    "execution": {
     "iopub.execute_input": "2022-04-18T21:27:41.109564Z",
     "iopub.status.busy": "2022-04-18T21:27:41.109047Z",
     "iopub.status.idle": "2022-04-18T21:27:41.115976Z",
     "shell.execute_reply": "2022-04-18T21:27:41.115306Z"
    },
    "papermill": {
     "duration": 0.037879,
     "end_time": "2022-04-18T21:27:41.117839",
     "exception": false,
     "start_time": "2022-04-18T21:27:41.079960",
     "status": "completed"
    },
    "tags": []
   },
   "outputs": [
    {
     "data": {
      "text/plain": [
       "0            less then50K\n",
       "1            less then50K\n",
       "2            less then50K\n",
       "3            less then50K\n",
       "4            less then50K\n",
       "               ...       \n",
       "32556        less then50K\n",
       "32557     greater then50K\n",
       "32558        less then50K\n",
       "32559        less then50K\n",
       "32560     greater then50K\n",
       "Name: salary, Length: 32561, dtype: object"
      ]
     },
     "execution_count": 14,
     "metadata": {},
     "output_type": "execute_result"
    }
   ],
   "source": [
    "y = df['salary']\n",
    "y"
   ]
  },
  {
   "cell_type": "code",
   "execution_count": 15,
   "id": "c02a11e5",
   "metadata": {
    "execution": {
     "iopub.execute_input": "2022-04-18T21:27:41.175895Z",
     "iopub.status.busy": "2022-04-18T21:27:41.175568Z",
     "iopub.status.idle": "2022-04-18T21:27:42.337428Z",
     "shell.execute_reply": "2022-04-18T21:27:42.336578Z"
    },
    "papermill": {
     "duration": 1.193739,
     "end_time": "2022-04-18T21:27:42.339780",
     "exception": false,
     "start_time": "2022-04-18T21:27:41.146041",
     "status": "completed"
    },
    "tags": []
   },
   "outputs": [],
   "source": [
    "from sklearn.model_selection import train_test_split"
   ]
  },
  {
   "cell_type": "code",
   "execution_count": 16,
   "id": "71659dcb",
   "metadata": {
    "execution": {
     "iopub.execute_input": "2022-04-18T21:27:42.398637Z",
     "iopub.status.busy": "2022-04-18T21:27:42.398183Z",
     "iopub.status.idle": "2022-04-18T21:27:42.422746Z",
     "shell.execute_reply": "2022-04-18T21:27:42.422051Z"
    },
    "papermill": {
     "duration": 0.056576,
     "end_time": "2022-04-18T21:27:42.424935",
     "exception": false,
     "start_time": "2022-04-18T21:27:42.368359",
     "status": "completed"
    },
    "tags": []
   },
   "outputs": [],
   "source": [
    "xtrain,xtest,ytrain,ytest = train_test_split(x,y,test_size = 0.20)"
   ]
  },
  {
   "cell_type": "code",
   "execution_count": 17,
   "id": "5cc11fbc",
   "metadata": {
    "execution": {
     "iopub.execute_input": "2022-04-18T21:27:42.484558Z",
     "iopub.status.busy": "2022-04-18T21:27:42.484155Z",
     "iopub.status.idle": "2022-04-18T21:27:42.702300Z",
     "shell.execute_reply": "2022-04-18T21:27:42.701287Z"
    },
    "papermill": {
     "duration": 0.250541,
     "end_time": "2022-04-18T21:27:42.704677",
     "exception": false,
     "start_time": "2022-04-18T21:27:42.454136",
     "status": "completed"
    },
    "tags": []
   },
   "outputs": [],
   "source": [
    "from sklearn.ensemble import GradientBoostingClassifier"
   ]
  },
  {
   "cell_type": "code",
   "execution_count": 18,
   "id": "0db1d2f0",
   "metadata": {
    "execution": {
     "iopub.execute_input": "2022-04-18T21:27:42.763560Z",
     "iopub.status.busy": "2022-04-18T21:27:42.763250Z",
     "iopub.status.idle": "2022-04-18T21:27:46.651538Z",
     "shell.execute_reply": "2022-04-18T21:27:46.650762Z"
    },
    "papermill": {
     "duration": 3.920376,
     "end_time": "2022-04-18T21:27:46.653634",
     "exception": false,
     "start_time": "2022-04-18T21:27:42.733258",
     "status": "completed"
    },
    "tags": []
   },
   "outputs": [
    {
     "data": {
      "text/plain": [
       "GradientBoostingClassifier(max_depth=4)"
      ]
     },
     "execution_count": 18,
     "metadata": {},
     "output_type": "execute_result"
    }
   ],
   "source": [
    "model = GradientBoostingClassifier(max_depth = 4)\n",
    "model.fit(xtrain,ytrain)"
   ]
  },
  {
   "cell_type": "code",
   "execution_count": 19,
   "id": "30b8d705",
   "metadata": {
    "execution": {
     "iopub.execute_input": "2022-04-18T21:27:46.714357Z",
     "iopub.status.busy": "2022-04-18T21:27:46.713869Z",
     "iopub.status.idle": "2022-04-18T21:27:46.913748Z",
     "shell.execute_reply": "2022-04-18T21:27:46.912623Z"
    },
    "papermill": {
     "duration": 0.232642,
     "end_time": "2022-04-18T21:27:46.916193",
     "exception": false,
     "start_time": "2022-04-18T21:27:46.683551",
     "status": "completed"
    },
    "tags": []
   },
   "outputs": [
    {
     "data": {
      "text/plain": [
       "0.8764588452088452"
      ]
     },
     "execution_count": 19,
     "metadata": {},
     "output_type": "execute_result"
    }
   ],
   "source": [
    "model.score(xtrain,ytrain)"
   ]
  },
  {
   "cell_type": "code",
   "execution_count": 20,
   "id": "f75d72cc",
   "metadata": {
    "execution": {
     "iopub.execute_input": "2022-04-18T21:27:46.976696Z",
     "iopub.status.busy": "2022-04-18T21:27:46.976215Z",
     "iopub.status.idle": "2022-04-18T21:27:47.026441Z",
     "shell.execute_reply": "2022-04-18T21:27:47.025555Z"
    },
    "papermill": {
     "duration": 0.08321,
     "end_time": "2022-04-18T21:27:47.028898",
     "exception": false,
     "start_time": "2022-04-18T21:27:46.945688",
     "status": "completed"
    },
    "tags": []
   },
   "outputs": [
    {
     "data": {
      "text/plain": [
       "0.8704130201136189"
      ]
     },
     "execution_count": 20,
     "metadata": {},
     "output_type": "execute_result"
    }
   ],
   "source": [
    "model.score(xtest,ytest)"
   ]
  },
  {
   "cell_type": "code",
   "execution_count": 21,
   "id": "c5dccc36",
   "metadata": {
    "execution": {
     "iopub.execute_input": "2022-04-18T21:27:47.091765Z",
     "iopub.status.busy": "2022-04-18T21:27:47.091358Z",
     "iopub.status.idle": "2022-04-18T21:28:31.624020Z",
     "shell.execute_reply": "2022-04-18T21:28:31.623112Z"
    },
    "papermill": {
     "duration": 44.566197,
     "end_time": "2022-04-18T21:28:31.626879",
     "exception": false,
     "start_time": "2022-04-18T21:27:47.060682",
     "status": "completed"
    },
    "tags": []
   },
   "outputs": [],
   "source": [
    "cls = []\n",
    "for max_depth in range(1,10):\n",
    "    dr = GradientBoostingClassifier(max_depth = max_depth)\n",
    "    dr.fit(xtrain,ytrain)\n",
    "    cls.append(dr)"
   ]
  },
  {
   "cell_type": "code",
   "execution_count": 22,
   "id": "2a8a5dec",
   "metadata": {
    "execution": {
     "iopub.execute_input": "2022-04-18T21:28:31.687895Z",
     "iopub.status.busy": "2022-04-18T21:28:31.687456Z",
     "iopub.status.idle": "2022-04-18T21:28:33.913657Z",
     "shell.execute_reply": "2022-04-18T21:28:33.912673Z"
    },
    "papermill": {
     "duration": 2.259613,
     "end_time": "2022-04-18T21:28:33.916115",
     "exception": false,
     "start_time": "2022-04-18T21:28:31.656502",
     "status": "completed"
    },
    "tags": []
   },
   "outputs": [],
   "source": [
    "train_score =[dr.score(xtrain,ytrain) for dr in cls]\n",
    "test_score =[dr.score(xtest,ytest) for dr in cls]"
   ]
  },
  {
   "cell_type": "code",
   "execution_count": 23,
   "id": "3e1e44cc",
   "metadata": {
    "execution": {
     "iopub.execute_input": "2022-04-18T21:28:33.977454Z",
     "iopub.status.busy": "2022-04-18T21:28:33.976899Z",
     "iopub.status.idle": "2022-04-18T21:28:34.222733Z",
     "shell.execute_reply": "2022-04-18T21:28:34.221675Z"
    },
    "papermill": {
     "duration": 0.278832,
     "end_time": "2022-04-18T21:28:34.225057",
     "exception": false,
     "start_time": "2022-04-18T21:28:33.946225",
     "status": "completed"
    },
    "tags": []
   },
   "outputs": [
    {
     "data": {
      "text/plain": [
       "[<matplotlib.lines.Line2D at 0x7fe682303ad0>]"
      ]
     },
     "execution_count": 23,
     "metadata": {},
     "output_type": "execute_result"
    },
    {
     "data": {
      "image/png": "[encoded data removed]",
      "text/plain": [
       "<Figure size 432x288 with 1 Axes>"
      ]
     },
     "metadata": {
      "needs_background": "light"
     },
     "output_type": "display_data"
    }
   ],
   "source": [
    "plt.plot(train_score)\n",
    "plt.plot(test_score)"
   ]
  },
  {
   "cell_type": "code",
   "execution_count": null,
   "id": "e2bba0b2",
   "metadata": {
    "papermill": {
     "duration": 0.030766,
     "end_time": "2022-04-18T21:28:34.286874",
     "exception": false,
     "start_time": "2022-04-18T21:28:34.256108",
     "status": "completed"
    },
    "tags": []
   },
   "outputs": [],
   "source": []
  }
 ],
 "metadata": {
  "kernelspec": {
   "display_name": "Python 3",
   "language": "python",
   "name": "python3"
  },
  "language_info": {
   "codemirror_mode": {
    "name": "ipython",
    "version": 3
   },
   "file_extension": ".py",
   "mimetype": "text/x-python",
   "name": "python",
   "nbconvert_exporter": "python",
   "pygments_lexer": "ipython3",
   "version": "3.7.12"
  },
  "papermill": {
   "default_parameters": {},
   "duration": 65.216405,
   "end_time": "2022-04-18T21:28:35.038362",
   "environment_variables": {},
   "exception": null,
   "input_path": "__notebook__.ipynb",
   "output_path": "__notebook__.ipynb",
   "parameters": {},
   "start_time": "2022-04-18T21:27:29.821957",
   "version": "2.3.4"
  }
 },
 "nbformat": 4,
 "nbformat_minor": 5
}
