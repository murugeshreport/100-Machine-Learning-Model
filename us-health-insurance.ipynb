{
 "cells": [
  {
   "cell_type": "code",
   "execution_count": 1,
   "id": "f62bedc8",
   "metadata": {
    "execution": {
     "iopub.execute_input": "2022-04-03T22:14:40.965187Z",
     "iopub.status.busy": "2022-04-03T22:14:40.963868Z",
     "iopub.status.idle": "2022-04-03T22:14:42.072508Z",
     "shell.execute_reply": "2022-04-03T22:14:42.071273Z",
     "shell.execute_reply.started": "2022-04-03T19:55:07.916810Z"
    },
    "papermill": {
     "duration": 1.153631,
     "end_time": "2022-04-03T22:14:42.072722",
     "exception": false,
     "start_time": "2022-04-03T22:14:40.919091",
     "status": "completed"
    },
    "tags": []
   },
   "outputs": [],
   "source": [
    "import pandas as pd\n",
    "import numpy as np\n",
    "import matplotlib.pyplot as plt\n",
    "import seaborn  as sns"
   ]
  },
  {
   "cell_type": "code",
   "execution_count": 2,
   "id": "6b654310",
   "metadata": {
    "execution": {
     "iopub.execute_input": "2022-04-03T22:14:42.148525Z",
     "iopub.status.busy": "2022-04-03T22:14:42.147533Z",
     "iopub.status.idle": "2022-04-03T22:14:42.169504Z",
     "shell.execute_reply": "2022-04-03T22:14:42.170008Z",
     "shell.execute_reply.started": "2022-04-03T19:55:42.963821Z"
    },
    "papermill": {
     "duration": 0.060841,
     "end_time": "2022-04-03T22:14:42.170196",
     "exception": false,
     "start_time": "2022-04-03T22:14:42.109355",
     "status": "completed"
    },
    "tags": []
   },
   "outputs": [],
   "source": [
    "data  = pd.read_csv('../input/ushealthinsurancedataset/insurance.csv')"
   ]
  },
  {
   "cell_type": "code",
   "execution_count": 3,
   "id": "3a746aaa",
   "metadata": {
    "execution": {
     "iopub.execute_input": "2022-04-03T22:14:42.244572Z",
     "iopub.status.busy": "2022-04-03T22:14:42.243570Z",
     "iopub.status.idle": "2022-04-03T22:14:42.264434Z",
     "shell.execute_reply": "2022-04-03T22:14:42.264932Z",
     "shell.execute_reply.started": "2022-04-03T19:55:45.460799Z"
    },
    "papermill": {
     "duration": 0.060009,
     "end_time": "2022-04-03T22:14:42.265101",
     "exception": false,
     "start_time": "2022-04-03T22:14:42.205092",
     "status": "completed"
    },
    "tags": []
   },
   "outputs": [
    {
     "data": {
      "text/html": [
       "<div>\n",
       "<style scoped>\n",
       "    .dataframe tbody tr th:only-of-type {\n",
       "        vertical-align: middle;\n",
       "    }\n",
       "\n",
       "    .dataframe tbody tr th {\n",
       "        vertical-align: top;\n",
       "    }\n",
       "\n",
       "    .dataframe thead th {\n",
       "        text-align: right;\n",
       "    }\n",
       "</style>\n",
       "<table border=\"1\" class=\"dataframe\">\n",
       "  <thead>\n",
       "    <tr style=\"text-align: right;\">\n",
       "      <th></th>\n",
       "      <th>age</th>\n",
       "      <th>sex</th>\n",
       "      <th>bmi</th>\n",
       "      <th>children</th>\n",
       "      <th>smoker</th>\n",
       "      <th>region</th>\n",
       "      <th>charges</th>\n",
       "    </tr>\n",
       "  </thead>\n",
       "  <tbody>\n",
       "    <tr>\n",
       "      <th>0</th>\n",
       "      <td>19</td>\n",
       "      <td>female</td>\n",
       "      <td>27.900</td>\n",
       "      <td>0</td>\n",
       "      <td>yes</td>\n",
       "      <td>southwest</td>\n",
       "      <td>16884.92400</td>\n",
       "    </tr>\n",
       "    <tr>\n",
       "      <th>1</th>\n",
       "      <td>18</td>\n",
       "      <td>male</td>\n",
       "      <td>33.770</td>\n",
       "      <td>1</td>\n",
       "      <td>no</td>\n",
       "      <td>southeast</td>\n",
       "      <td>1725.55230</td>\n",
       "    </tr>\n",
       "    <tr>\n",
       "      <th>2</th>\n",
       "      <td>28</td>\n",
       "      <td>male</td>\n",
       "      <td>33.000</td>\n",
       "      <td>3</td>\n",
       "      <td>no</td>\n",
       "      <td>southeast</td>\n",
       "      <td>4449.46200</td>\n",
       "    </tr>\n",
       "    <tr>\n",
       "      <th>3</th>\n",
       "      <td>33</td>\n",
       "      <td>male</td>\n",
       "      <td>22.705</td>\n",
       "      <td>0</td>\n",
       "      <td>no</td>\n",
       "      <td>northwest</td>\n",
       "      <td>21984.47061</td>\n",
       "    </tr>\n",
       "    <tr>\n",
       "      <th>4</th>\n",
       "      <td>32</td>\n",
       "      <td>male</td>\n",
       "      <td>28.880</td>\n",
       "      <td>0</td>\n",
       "      <td>no</td>\n",
       "      <td>northwest</td>\n",
       "      <td>3866.85520</td>\n",
       "    </tr>\n",
       "  </tbody>\n",
       "</table>\n",
       "</div>"
      ],
      "text/plain": [
       "   age     sex     bmi  children smoker     region      charges\n",
       "0   19  female  27.900         0    yes  southwest  16884.92400\n",
       "1   18    male  33.770         1     no  southeast   1725.55230\n",
       "2   28    male  33.000         3     no  southeast   4449.46200\n",
       "3   33    male  22.705         0     no  northwest  21984.47061\n",
       "4   32    male  28.880         0     no  northwest   3866.85520"
      ]
     },
     "execution_count": 3,
     "metadata": {},
     "output_type": "execute_result"
    }
   ],
   "source": [
    "data.head()"
   ]
  },
  {
   "cell_type": "code",
   "execution_count": 4,
   "id": "9774e18b",
   "metadata": {
    "execution": {
     "iopub.execute_input": "2022-04-03T22:14:42.359179Z",
     "iopub.status.busy": "2022-04-03T22:14:42.358513Z",
     "iopub.status.idle": "2022-04-03T22:14:42.361490Z",
     "shell.execute_reply": "2022-04-03T22:14:42.362118Z",
     "shell.execute_reply.started": "2022-04-03T19:56:10.407595Z"
    },
    "papermill": {
     "duration": 0.061996,
     "end_time": "2022-04-03T22:14:42.362285",
     "exception": false,
     "start_time": "2022-04-03T22:14:42.300289",
     "status": "completed"
    },
    "tags": []
   },
   "outputs": [
    {
     "name": "stdout",
     "output_type": "stream",
     "text": [
      "<class 'pandas.core.frame.DataFrame'>\n",
      "RangeIndex: 1338 entries, 0 to 1337\n",
      "Data columns (total 7 columns):\n",
      " #   Column    Non-Null Count  Dtype  \n",
      "---  ------    --------------  -----  \n",
      " 0   age       1338 non-null   int64  \n",
      " 1   sex       1338 non-null   object \n",
      " 2   bmi       1338 non-null   float64\n",
      " 3   children  1338 non-null   int64  \n",
      " 4   smoker    1338 non-null   object \n",
      " 5   region    1338 non-null   object \n",
      " 6   charges   1338 non-null   float64\n",
      "dtypes: float64(2), int64(2), object(3)\n",
      "memory usage: 73.3+ KB\n"
     ]
    }
   ],
   "source": [
    "data.info()"
   ]
  },
  {
   "cell_type": "code",
   "execution_count": 5,
   "id": "91bd12be",
   "metadata": {
    "execution": {
     "iopub.execute_input": "2022-04-03T22:14:42.438668Z",
     "iopub.status.busy": "2022-04-03T22:14:42.438045Z",
     "iopub.status.idle": "2022-04-03T22:14:42.445773Z",
     "shell.execute_reply": "2022-04-03T22:14:42.446247Z",
     "shell.execute_reply.started": "2022-04-03T19:56:23.421971Z"
    },
    "papermill": {
     "duration": 0.048265,
     "end_time": "2022-04-03T22:14:42.446434",
     "exception": false,
     "start_time": "2022-04-03T22:14:42.398169",
     "status": "completed"
    },
    "tags": []
   },
   "outputs": [
    {
     "data": {
      "text/plain": [
       "age         0\n",
       "sex         0\n",
       "bmi         0\n",
       "children    0\n",
       "smoker      0\n",
       "region      0\n",
       "charges     0\n",
       "dtype: int64"
      ]
     },
     "execution_count": 5,
     "metadata": {},
     "output_type": "execute_result"
    }
   ],
   "source": [
    "data.isnull().sum()"
   ]
  },
  {
   "cell_type": "code",
   "execution_count": null,
   "id": "e6143c67",
   "metadata": {
    "papermill": {
     "duration": 0.037517,
     "end_time": "2022-04-03T22:14:42.520317",
     "exception": false,
     "start_time": "2022-04-03T22:14:42.482800",
     "status": "completed"
    },
    "tags": []
   },
   "outputs": [],
   "source": []
  },
  {
   "cell_type": "code",
   "execution_count": 6,
   "id": "c2513617",
   "metadata": {
    "execution": {
     "iopub.execute_input": "2022-04-03T22:14:42.600827Z",
     "iopub.status.busy": "2022-04-03T22:14:42.600131Z",
     "iopub.status.idle": "2022-04-03T22:14:42.604074Z",
     "shell.execute_reply": "2022-04-03T22:14:42.603551Z",
     "shell.execute_reply.started": "2022-04-03T19:56:42.452543Z"
    },
    "papermill": {
     "duration": 0.047606,
     "end_time": "2022-04-03T22:14:42.604213",
     "exception": false,
     "start_time": "2022-04-03T22:14:42.556607",
     "status": "completed"
    },
    "tags": []
   },
   "outputs": [
    {
     "data": {
      "text/plain": [
       "18    69\n",
       "19    68\n",
       "50    29\n",
       "51    29\n",
       "47    29\n",
       "46    29\n",
       "45    29\n",
       "20    29\n",
       "48    29\n",
       "52    29\n",
       "22    28\n",
       "49    28\n",
       "54    28\n",
       "53    28\n",
       "21    28\n",
       "26    28\n",
       "24    28\n",
       "25    28\n",
       "28    28\n",
       "27    28\n",
       "23    28\n",
       "43    27\n",
       "29    27\n",
       "30    27\n",
       "41    27\n",
       "42    27\n",
       "44    27\n",
       "31    27\n",
       "40    27\n",
       "32    26\n",
       "33    26\n",
       "56    26\n",
       "34    26\n",
       "55    26\n",
       "57    26\n",
       "37    25\n",
       "59    25\n",
       "58    25\n",
       "36    25\n",
       "38    25\n",
       "35    25\n",
       "39    25\n",
       "61    23\n",
       "60    23\n",
       "63    23\n",
       "62    23\n",
       "64    22\n",
       "Name: age, dtype: int64"
      ]
     },
     "execution_count": 6,
     "metadata": {},
     "output_type": "execute_result"
    }
   ],
   "source": [
    "data['age'].value_counts()"
   ]
  },
  {
   "cell_type": "code",
   "execution_count": 7,
   "id": "25f032a0",
   "metadata": {
    "execution": {
     "iopub.execute_input": "2022-04-03T22:14:42.680403Z",
     "iopub.status.busy": "2022-04-03T22:14:42.679741Z",
     "iopub.status.idle": "2022-04-03T22:14:42.687448Z",
     "shell.execute_reply": "2022-04-03T22:14:42.686911Z",
     "shell.execute_reply.started": "2022-04-03T19:57:12.259968Z"
    },
    "papermill": {
     "duration": 0.046992,
     "end_time": "2022-04-03T22:14:42.687592",
     "exception": false,
     "start_time": "2022-04-03T22:14:42.640600",
     "status": "completed"
    },
    "tags": []
   },
   "outputs": [
    {
     "data": {
      "text/plain": [
       "male      676\n",
       "female    662\n",
       "Name: sex, dtype: int64"
      ]
     },
     "execution_count": 7,
     "metadata": {},
     "output_type": "execute_result"
    }
   ],
   "source": [
    "data['sex'].value_counts()"
   ]
  },
  {
   "cell_type": "code",
   "execution_count": 8,
   "id": "45a59235",
   "metadata": {
    "execution": {
     "iopub.execute_input": "2022-04-03T22:14:42.769944Z",
     "iopub.status.busy": "2022-04-03T22:14:42.769113Z",
     "iopub.status.idle": "2022-04-03T22:14:42.772704Z",
     "shell.execute_reply": "2022-04-03T22:14:42.772126Z",
     "shell.execute_reply.started": "2022-04-03T19:57:45.718504Z"
    },
    "papermill": {
     "duration": 0.047856,
     "end_time": "2022-04-03T22:14:42.772847",
     "exception": false,
     "start_time": "2022-04-03T22:14:42.724991",
     "status": "completed"
    },
    "tags": []
   },
   "outputs": [],
   "source": [
    "sex= pd.get_dummies(data['sex'])"
   ]
  },
  {
   "cell_type": "code",
   "execution_count": 9,
   "id": "1f6711f7",
   "metadata": {
    "execution": {
     "iopub.execute_input": "2022-04-03T22:14:42.854031Z",
     "iopub.status.busy": "2022-04-03T22:14:42.853342Z",
     "iopub.status.idle": "2022-04-03T22:14:42.858351Z",
     "shell.execute_reply": "2022-04-03T22:14:42.858827Z",
     "shell.execute_reply.started": "2022-04-03T19:58:12.496895Z"
    },
    "papermill": {
     "duration": 0.049068,
     "end_time": "2022-04-03T22:14:42.859006",
     "exception": false,
     "start_time": "2022-04-03T22:14:42.809938",
     "status": "completed"
    },
    "tags": []
   },
   "outputs": [
    {
     "data": {
      "text/plain": [
       "no     1064\n",
       "yes     274\n",
       "Name: smoker, dtype: int64"
      ]
     },
     "execution_count": 9,
     "metadata": {},
     "output_type": "execute_result"
    }
   ],
   "source": [
    "data['smoker'].value_counts()"
   ]
  },
  {
   "cell_type": "code",
   "execution_count": 10,
   "id": "d9c75bd7",
   "metadata": {
    "execution": {
     "iopub.execute_input": "2022-04-03T22:14:42.940020Z",
     "iopub.status.busy": "2022-04-03T22:14:42.939301Z",
     "iopub.status.idle": "2022-04-03T22:14:42.943958Z",
     "shell.execute_reply": "2022-04-03T22:14:42.944427Z",
     "shell.execute_reply.started": "2022-04-03T19:58:59.454995Z"
    },
    "papermill": {
     "duration": 0.046898,
     "end_time": "2022-04-03T22:14:42.944621",
     "exception": false,
     "start_time": "2022-04-03T22:14:42.897723",
     "status": "completed"
    },
    "tags": []
   },
   "outputs": [],
   "source": [
    "smoker = pd.get_dummies(data['smoker'])"
   ]
  },
  {
   "cell_type": "code",
   "execution_count": 11,
   "id": "57f5bdbd",
   "metadata": {
    "execution": {
     "iopub.execute_input": "2022-04-03T22:14:43.025098Z",
     "iopub.status.busy": "2022-04-03T22:14:43.024460Z",
     "iopub.status.idle": "2022-04-03T22:14:43.031496Z",
     "shell.execute_reply": "2022-04-03T22:14:43.030967Z",
     "shell.execute_reply.started": "2022-04-03T19:59:45.248768Z"
    },
    "papermill": {
     "duration": 0.048389,
     "end_time": "2022-04-03T22:14:43.031641",
     "exception": false,
     "start_time": "2022-04-03T22:14:42.983252",
     "status": "completed"
    },
    "tags": []
   },
   "outputs": [],
   "source": [
    "corr =data.corr()"
   ]
  },
  {
   "cell_type": "code",
   "execution_count": 12,
   "id": "b194f379",
   "metadata": {
    "execution": {
     "iopub.execute_input": "2022-04-03T22:14:43.113536Z",
     "iopub.status.busy": "2022-04-03T22:14:43.112485Z",
     "iopub.status.idle": "2022-04-03T22:14:43.119356Z",
     "shell.execute_reply": "2022-04-03T22:14:43.119987Z",
     "shell.execute_reply.started": "2022-04-03T20:00:05.419542Z"
    },
    "papermill": {
     "duration": 0.049586,
     "end_time": "2022-04-03T22:14:43.120165",
     "exception": false,
     "start_time": "2022-04-03T22:14:43.070579",
     "status": "completed"
    },
    "tags": []
   },
   "outputs": [
    {
     "data": {
      "text/plain": [
       "age         0.299008\n",
       "bmi         0.198341\n",
       "children    0.067998\n",
       "charges     1.000000\n",
       "Name: charges, dtype: float64"
      ]
     },
     "execution_count": 12,
     "metadata": {},
     "output_type": "execute_result"
    }
   ],
   "source": [
    "corr['charges']"
   ]
  },
  {
   "cell_type": "code",
   "execution_count": 13,
   "id": "486944c9",
   "metadata": {
    "execution": {
     "iopub.execute_input": "2022-04-03T22:14:43.199774Z",
     "iopub.status.busy": "2022-04-03T22:14:43.198768Z",
     "iopub.status.idle": "2022-04-03T22:14:43.203088Z",
     "shell.execute_reply": "2022-04-03T22:14:43.203554Z",
     "shell.execute_reply.started": "2022-04-03T20:01:34.835210Z"
    },
    "papermill": {
     "duration": 0.045823,
     "end_time": "2022-04-03T22:14:43.203754",
     "exception": false,
     "start_time": "2022-04-03T22:14:43.157931",
     "status": "completed"
    },
    "tags": []
   },
   "outputs": [],
   "source": [
    "d = pd.concat([sex,smoker],axis =1)"
   ]
  },
  {
   "cell_type": "code",
   "execution_count": 14,
   "id": "a2b2554a",
   "metadata": {
    "execution": {
     "iopub.execute_input": "2022-04-03T22:14:43.283303Z",
     "iopub.status.busy": "2022-04-03T22:14:43.282344Z",
     "iopub.status.idle": "2022-04-03T22:14:43.288218Z",
     "shell.execute_reply": "2022-04-03T22:14:43.288753Z",
     "shell.execute_reply.started": "2022-04-03T20:02:03.807170Z"
    },
    "papermill": {
     "duration": 0.047391,
     "end_time": "2022-04-03T22:14:43.288930",
     "exception": false,
     "start_time": "2022-04-03T22:14:43.241539",
     "status": "completed"
    },
    "tags": []
   },
   "outputs": [],
   "source": [
    "df = data[['age','bmi','children']]"
   ]
  },
  {
   "cell_type": "code",
   "execution_count": 15,
   "id": "9b3983b7",
   "metadata": {
    "execution": {
     "iopub.execute_input": "2022-04-03T22:14:43.371816Z",
     "iopub.status.busy": "2022-04-03T22:14:43.371084Z",
     "iopub.status.idle": "2022-04-03T22:14:43.372803Z",
     "shell.execute_reply": "2022-04-03T22:14:43.373282Z",
     "shell.execute_reply.started": "2022-04-03T20:02:28.873534Z"
    },
    "papermill": {
     "duration": 0.046048,
     "end_time": "2022-04-03T22:14:43.373453",
     "exception": false,
     "start_time": "2022-04-03T22:14:43.327405",
     "status": "completed"
    },
    "tags": []
   },
   "outputs": [],
   "source": [
    "x = pd.concat([d,df],axis = 1)"
   ]
  },
  {
   "cell_type": "code",
   "execution_count": 16,
   "id": "84c1bbbd",
   "metadata": {
    "execution": {
     "iopub.execute_input": "2022-04-03T22:14:43.464893Z",
     "iopub.status.busy": "2022-04-03T22:14:43.464034Z",
     "iopub.status.idle": "2022-04-03T22:14:43.467584Z",
     "shell.execute_reply": "2022-04-03T22:14:43.468141Z",
     "shell.execute_reply.started": "2022-04-03T20:02:31.823089Z"
    },
    "papermill": {
     "duration": 0.0569,
     "end_time": "2022-04-03T22:14:43.468337",
     "exception": false,
     "start_time": "2022-04-03T22:14:43.411437",
     "status": "completed"
    },
    "tags": []
   },
   "outputs": [
    {
     "data": {
      "text/html": [
       "<div>\n",
       "<style scoped>\n",
       "    .dataframe tbody tr th:only-of-type {\n",
       "        vertical-align: middle;\n",
       "    }\n",
       "\n",
       "    .dataframe tbody tr th {\n",
       "        vertical-align: top;\n",
       "    }\n",
       "\n",
       "    .dataframe thead th {\n",
       "        text-align: right;\n",
       "    }\n",
       "</style>\n",
       "<table border=\"1\" class=\"dataframe\">\n",
       "  <thead>\n",
       "    <tr style=\"text-align: right;\">\n",
       "      <th></th>\n",
       "      <th>female</th>\n",
       "      <th>male</th>\n",
       "      <th>no</th>\n",
       "      <th>yes</th>\n",
       "      <th>age</th>\n",
       "      <th>bmi</th>\n",
       "      <th>children</th>\n",
       "    </tr>\n",
       "  </thead>\n",
       "  <tbody>\n",
       "    <tr>\n",
       "      <th>0</th>\n",
       "      <td>1</td>\n",
       "      <td>0</td>\n",
       "      <td>0</td>\n",
       "      <td>1</td>\n",
       "      <td>19</td>\n",
       "      <td>27.900</td>\n",
       "      <td>0</td>\n",
       "    </tr>\n",
       "    <tr>\n",
       "      <th>1</th>\n",
       "      <td>0</td>\n",
       "      <td>1</td>\n",
       "      <td>1</td>\n",
       "      <td>0</td>\n",
       "      <td>18</td>\n",
       "      <td>33.770</td>\n",
       "      <td>1</td>\n",
       "    </tr>\n",
       "    <tr>\n",
       "      <th>2</th>\n",
       "      <td>0</td>\n",
       "      <td>1</td>\n",
       "      <td>1</td>\n",
       "      <td>0</td>\n",
       "      <td>28</td>\n",
       "      <td>33.000</td>\n",
       "      <td>3</td>\n",
       "    </tr>\n",
       "    <tr>\n",
       "      <th>3</th>\n",
       "      <td>0</td>\n",
       "      <td>1</td>\n",
       "      <td>1</td>\n",
       "      <td>0</td>\n",
       "      <td>33</td>\n",
       "      <td>22.705</td>\n",
       "      <td>0</td>\n",
       "    </tr>\n",
       "    <tr>\n",
       "      <th>4</th>\n",
       "      <td>0</td>\n",
       "      <td>1</td>\n",
       "      <td>1</td>\n",
       "      <td>0</td>\n",
       "      <td>32</td>\n",
       "      <td>28.880</td>\n",
       "      <td>0</td>\n",
       "    </tr>\n",
       "    <tr>\n",
       "      <th>...</th>\n",
       "      <td>...</td>\n",
       "      <td>...</td>\n",
       "      <td>...</td>\n",
       "      <td>...</td>\n",
       "      <td>...</td>\n",
       "      <td>...</td>\n",
       "      <td>...</td>\n",
       "    </tr>\n",
       "    <tr>\n",
       "      <th>1333</th>\n",
       "      <td>0</td>\n",
       "      <td>1</td>\n",
       "      <td>1</td>\n",
       "      <td>0</td>\n",
       "      <td>50</td>\n",
       "      <td>30.970</td>\n",
       "      <td>3</td>\n",
       "    </tr>\n",
       "    <tr>\n",
       "      <th>1334</th>\n",
       "      <td>1</td>\n",
       "      <td>0</td>\n",
       "      <td>1</td>\n",
       "      <td>0</td>\n",
       "      <td>18</td>\n",
       "      <td>31.920</td>\n",
       "      <td>0</td>\n",
       "    </tr>\n",
       "    <tr>\n",
       "      <th>1335</th>\n",
       "      <td>1</td>\n",
       "      <td>0</td>\n",
       "      <td>1</td>\n",
       "      <td>0</td>\n",
       "      <td>18</td>\n",
       "      <td>36.850</td>\n",
       "      <td>0</td>\n",
       "    </tr>\n",
       "    <tr>\n",
       "      <th>1336</th>\n",
       "      <td>1</td>\n",
       "      <td>0</td>\n",
       "      <td>1</td>\n",
       "      <td>0</td>\n",
       "      <td>21</td>\n",
       "      <td>25.800</td>\n",
       "      <td>0</td>\n",
       "    </tr>\n",
       "    <tr>\n",
       "      <th>1337</th>\n",
       "      <td>1</td>\n",
       "      <td>0</td>\n",
       "      <td>0</td>\n",
       "      <td>1</td>\n",
       "      <td>61</td>\n",
       "      <td>29.070</td>\n",
       "      <td>0</td>\n",
       "    </tr>\n",
       "  </tbody>\n",
       "</table>\n",
       "<p>1338 rows × 7 columns</p>\n",
       "</div>"
      ],
      "text/plain": [
       "      female  male  no  yes  age     bmi  children\n",
       "0          1     0   0    1   19  27.900         0\n",
       "1          0     1   1    0   18  33.770         1\n",
       "2          0     1   1    0   28  33.000         3\n",
       "3          0     1   1    0   33  22.705         0\n",
       "4          0     1   1    0   32  28.880         0\n",
       "...      ...   ...  ..  ...  ...     ...       ...\n",
       "1333       0     1   1    0   50  30.970         3\n",
       "1334       1     0   1    0   18  31.920         0\n",
       "1335       1     0   1    0   18  36.850         0\n",
       "1336       1     0   1    0   21  25.800         0\n",
       "1337       1     0   0    1   61  29.070         0\n",
       "\n",
       "[1338 rows x 7 columns]"
      ]
     },
     "execution_count": 16,
     "metadata": {},
     "output_type": "execute_result"
    }
   ],
   "source": [
    "x"
   ]
  },
  {
   "cell_type": "code",
   "execution_count": 17,
   "id": "dc189e1b",
   "metadata": {
    "execution": {
     "iopub.execute_input": "2022-04-03T22:14:43.552807Z",
     "iopub.status.busy": "2022-04-03T22:14:43.552086Z",
     "iopub.status.idle": "2022-04-03T22:14:43.554774Z",
     "shell.execute_reply": "2022-04-03T22:14:43.555283Z",
     "shell.execute_reply.started": "2022-04-03T20:02:46.013816Z"
    },
    "papermill": {
     "duration": 0.048605,
     "end_time": "2022-04-03T22:14:43.555455",
     "exception": false,
     "start_time": "2022-04-03T22:14:43.506850",
     "status": "completed"
    },
    "tags": []
   },
   "outputs": [
    {
     "data": {
      "text/plain": [
       "0       16884.92400\n",
       "1        1725.55230\n",
       "2        4449.46200\n",
       "3       21984.47061\n",
       "4        3866.85520\n",
       "           ...     \n",
       "1333    10600.54830\n",
       "1334     2205.98080\n",
       "1335     1629.83350\n",
       "1336     2007.94500\n",
       "1337    29141.36030\n",
       "Name: charges, Length: 1338, dtype: float64"
      ]
     },
     "execution_count": 17,
     "metadata": {},
     "output_type": "execute_result"
    }
   ],
   "source": [
    "y = data['charges']\n",
    "y"
   ]
  },
  {
   "cell_type": "code",
   "execution_count": 18,
   "id": "d29bc377",
   "metadata": {
    "execution": {
     "iopub.execute_input": "2022-04-03T22:14:43.636970Z",
     "iopub.status.busy": "2022-04-03T22:14:43.636265Z",
     "iopub.status.idle": "2022-04-03T22:14:43.924837Z",
     "shell.execute_reply": "2022-04-03T22:14:43.925355Z",
     "shell.execute_reply.started": "2022-04-03T20:03:17.435062Z"
    },
    "papermill": {
     "duration": 0.331245,
     "end_time": "2022-04-03T22:14:43.925545",
     "exception": false,
     "start_time": "2022-04-03T22:14:43.594300",
     "status": "completed"
    },
    "tags": []
   },
   "outputs": [],
   "source": [
    "from xgboost import XGBRegressor"
   ]
  },
  {
   "cell_type": "code",
   "execution_count": 19,
   "id": "401196bd",
   "metadata": {
    "execution": {
     "iopub.execute_input": "2022-04-03T22:14:44.007327Z",
     "iopub.status.busy": "2022-04-03T22:14:44.006593Z",
     "iopub.status.idle": "2022-04-03T22:14:44.009753Z",
     "shell.execute_reply": "2022-04-03T22:14:44.010257Z",
     "shell.execute_reply.started": "2022-04-03T20:03:38.306119Z"
    },
    "papermill": {
     "duration": 0.046081,
     "end_time": "2022-04-03T22:14:44.010439",
     "exception": false,
     "start_time": "2022-04-03T22:14:43.964358",
     "status": "completed"
    },
    "tags": []
   },
   "outputs": [],
   "source": [
    "model = XGBRegressor()"
   ]
  },
  {
   "cell_type": "code",
   "execution_count": 20,
   "id": "0f180784",
   "metadata": {
    "execution": {
     "iopub.execute_input": "2022-04-03T22:14:44.092275Z",
     "iopub.status.busy": "2022-04-03T22:14:44.091229Z",
     "iopub.status.idle": "2022-04-03T22:14:44.096547Z",
     "shell.execute_reply": "2022-04-03T22:14:44.095885Z",
     "shell.execute_reply.started": "2022-04-03T20:04:04.966703Z"
    },
    "papermill": {
     "duration": 0.046987,
     "end_time": "2022-04-03T22:14:44.096731",
     "exception": false,
     "start_time": "2022-04-03T22:14:44.049744",
     "status": "completed"
    },
    "tags": []
   },
   "outputs": [],
   "source": [
    "from sklearn.model_selection import train_test_split"
   ]
  },
  {
   "cell_type": "code",
   "execution_count": 21,
   "id": "59f80d99",
   "metadata": {
    "execution": {
     "iopub.execute_input": "2022-04-03T22:14:44.181341Z",
     "iopub.status.busy": "2022-04-03T22:14:44.180302Z",
     "iopub.status.idle": "2022-04-03T22:14:44.185323Z",
     "shell.execute_reply": "2022-04-03T22:14:44.184624Z",
     "shell.execute_reply.started": "2022-04-03T20:04:35.435240Z"
    },
    "papermill": {
     "duration": 0.049701,
     "end_time": "2022-04-03T22:14:44.185489",
     "exception": false,
     "start_time": "2022-04-03T22:14:44.135788",
     "status": "completed"
    },
    "tags": []
   },
   "outputs": [],
   "source": [
    "xtrain,xtest,ytrain,ytest = train_test_split(x,y,test_size = 0.20)"
   ]
  },
  {
   "cell_type": "code",
   "execution_count": 22,
   "id": "1f1ec73d",
   "metadata": {
    "execution": {
     "iopub.execute_input": "2022-04-03T22:14:44.270400Z",
     "iopub.status.busy": "2022-04-03T22:14:44.268273Z",
     "iopub.status.idle": "2022-04-03T22:14:44.611573Z",
     "shell.execute_reply": "2022-04-03T22:14:44.610928Z",
     "shell.execute_reply.started": "2022-04-03T20:04:47.697648Z"
    },
    "papermill": {
     "duration": 0.387305,
     "end_time": "2022-04-03T22:14:44.611757",
     "exception": false,
     "start_time": "2022-04-03T22:14:44.224452",
     "status": "completed"
    },
    "tags": []
   },
   "outputs": [
    {
     "data": {
      "text/plain": [
       "XGBRegressor(base_score=0.5, booster='gbtree', colsample_bylevel=1,\n",
       "             colsample_bynode=1, colsample_bytree=1, enable_categorical=False,\n",
       "             gamma=0, gpu_id=-1, importance_type=None,\n",
       "             interaction_constraints='', learning_rate=0.300000012,\n",
       "             max_delta_step=0, max_depth=6, min_child_weight=1, missing=nan,\n",
       "             monotone_constraints='()', n_estimators=100, n_jobs=4,\n",
       "             num_parallel_tree=1, predictor='auto', random_state=0, reg_alpha=0,\n",
       "             reg_lambda=1, scale_pos_weight=1, subsample=1, tree_method='exact',\n",
       "             validate_parameters=1, verbosity=None)"
      ]
     },
     "execution_count": 22,
     "metadata": {},
     "output_type": "execute_result"
    }
   ],
   "source": [
    "model.fit(xtrain,ytrain)"
   ]
  },
  {
   "cell_type": "code",
   "execution_count": 23,
   "id": "40ce24ee",
   "metadata": {
    "execution": {
     "iopub.execute_input": "2022-04-03T22:14:44.696747Z",
     "iopub.status.busy": "2022-04-03T22:14:44.696065Z",
     "iopub.status.idle": "2022-04-03T22:14:44.717064Z",
     "shell.execute_reply": "2022-04-03T22:14:44.718984Z",
     "shell.execute_reply.started": "2022-04-03T20:05:07.319558Z"
    },
    "papermill": {
     "duration": 0.067505,
     "end_time": "2022-04-03T22:14:44.719393",
     "exception": false,
     "start_time": "2022-04-03T22:14:44.651888",
     "status": "completed"
    },
    "tags": []
   },
   "outputs": [
    {
     "data": {
      "text/plain": [
       "0.9929101129506436"
      ]
     },
     "execution_count": 23,
     "metadata": {},
     "output_type": "execute_result"
    }
   ],
   "source": [
    "model.score(xtrain,ytrain)"
   ]
  },
  {
   "cell_type": "code",
   "execution_count": 24,
   "id": "96c25c4e",
   "metadata": {
    "execution": {
     "iopub.execute_input": "2022-04-03T22:14:44.805375Z",
     "iopub.status.busy": "2022-04-03T22:14:44.804750Z",
     "iopub.status.idle": "2022-04-03T22:14:44.819742Z",
     "shell.execute_reply": "2022-04-03T22:14:44.820283Z",
     "shell.execute_reply.started": "2022-04-03T20:05:21.954703Z"
    },
    "papermill": {
     "duration": 0.061306,
     "end_time": "2022-04-03T22:14:44.820491",
     "exception": false,
     "start_time": "2022-04-03T22:14:44.759185",
     "status": "completed"
    },
    "tags": []
   },
   "outputs": [
    {
     "data": {
      "text/plain": [
       "0.8158776941161585"
      ]
     },
     "execution_count": 24,
     "metadata": {},
     "output_type": "execute_result"
    }
   ],
   "source": [
    "model.score(xtest,ytest)"
   ]
  },
  {
   "cell_type": "code",
   "execution_count": 25,
   "id": "242a9e8a",
   "metadata": {
    "execution": {
     "iopub.execute_input": "2022-04-03T22:14:44.906868Z",
     "iopub.status.busy": "2022-04-03T22:14:44.906035Z",
     "iopub.status.idle": "2022-04-03T22:14:44.908409Z",
     "shell.execute_reply": "2022-04-03T22:14:44.908902Z",
     "shell.execute_reply.started": "2022-04-03T20:06:39.902964Z"
    },
    "papermill": {
     "duration": 0.047544,
     "end_time": "2022-04-03T22:14:44.909083",
     "exception": false,
     "start_time": "2022-04-03T22:14:44.861539",
     "status": "completed"
    },
    "tags": []
   },
   "outputs": [],
   "source": [
    "from sklearn.model_selection import RandomizedSearchCV"
   ]
  },
  {
   "cell_type": "code",
   "execution_count": 26,
   "id": "462be290",
   "metadata": {
    "execution": {
     "iopub.execute_input": "2022-04-03T22:14:44.994493Z",
     "iopub.status.busy": "2022-04-03T22:14:44.991575Z",
     "iopub.status.idle": "2022-04-03T22:14:44.996362Z",
     "shell.execute_reply": "2022-04-03T22:14:44.996934Z",
     "shell.execute_reply.started": "2022-04-03T20:09:23.375511Z"
    },
    "papermill": {
     "duration": 0.048241,
     "end_time": "2022-04-03T22:14:44.997109",
     "exception": false,
     "start_time": "2022-04-03T22:14:44.948868",
     "status": "completed"
    },
    "tags": []
   },
   "outputs": [],
   "source": [
    "param = {'gamma' :[0.5,1,1.5,2,5],\n",
    "         'min_child_weight':[1,5,6,7,10],\n",
    "         'subsample':[0.3,0.4,0.5,0.8,1.0],\n",
    "         'colsample_bytree':[0.6,0.7,0.8,0.9],\n",
    "         'max_depth':[2,3,4,5]\n",
    "    \n",
    "    \n",
    "    \n",
    "}"
   ]
  },
  {
   "cell_type": "code",
   "execution_count": 27,
   "id": "359462ae",
   "metadata": {
    "execution": {
     "iopub.execute_input": "2022-04-03T22:14:45.082784Z",
     "iopub.status.busy": "2022-04-03T22:14:45.081806Z",
     "iopub.status.idle": "2022-04-03T22:14:45.086472Z",
     "shell.execute_reply": "2022-04-03T22:14:45.086998Z",
     "shell.execute_reply.started": "2022-04-03T20:13:31.807600Z"
    },
    "papermill": {
     "duration": 0.050412,
     "end_time": "2022-04-03T22:14:45.087175",
     "exception": false,
     "start_time": "2022-04-03T22:14:45.036763",
     "status": "completed"
    },
    "tags": []
   },
   "outputs": [],
   "source": [
    "randomcv =  RandomizedSearchCV(estimator = model,param_distributions= param,cv = 5,n_iter = 5,\n",
    "                              scoring = 'roc_auc',n_jobs = 1,verbose = 3,return_train_score = True,\n",
    "                              random_state = 121)"
   ]
  },
  {
   "cell_type": "code",
   "execution_count": 28,
   "id": "737c5ccd",
   "metadata": {
    "execution": {
     "iopub.execute_input": "2022-04-03T22:14:45.170484Z",
     "iopub.status.busy": "2022-04-03T22:14:45.169525Z",
     "iopub.status.idle": "2022-04-03T22:14:52.281262Z",
     "shell.execute_reply": "2022-04-03T22:14:52.281745Z",
     "shell.execute_reply.started": "2022-04-03T20:13:34.207152Z"
    },
    "papermill": {
     "duration": 7.154746,
     "end_time": "2022-04-03T22:14:52.281921",
     "exception": false,
     "start_time": "2022-04-03T22:14:45.127175",
     "status": "completed"
    },
    "tags": []
   },
   "outputs": [
    {
     "name": "stdout",
     "output_type": "stream",
     "text": [
      "Fitting 5 folds for each of 5 candidates, totalling 25 fits\n"
     ]
    },
    {
     "name": "stderr",
     "output_type": "stream",
     "text": [
      "/opt/conda/lib/python3.7/site-packages/sklearn/model_selection/_validation.py:775: UserWarning: Scoring failed. The score on this train-test partition for these parameters will be set to nan. Details: \n",
      "Traceback (most recent call last):\n",
      "  File \"/opt/conda/lib/python3.7/site-packages/sklearn/model_selection/_validation.py\", line 762, in _score\n",
      "    scores = scorer(estimator, X_test, y_test)\n",
      "  File \"/opt/conda/lib/python3.7/site-packages/sklearn/metrics/_scorer.py\", line 221, in __call__\n",
      "    sample_weight=sample_weight,\n",
      "  File \"/opt/conda/lib/python3.7/site-packages/sklearn/metrics/_scorer.py\", line 349, in _score\n",
      "    raise ValueError(\"{0} format is not supported\".format(y_type))\n",
      "ValueError: continuous format is not supported\n",
      "\n",
      "  UserWarning,\n",
      "/opt/conda/lib/python3.7/site-packages/sklearn/model_selection/_validation.py:775: UserWarning: Scoring failed. The score on this train-test partition for these parameters will be set to nan. Details: \n",
      "Traceback (most recent call last):\n",
      "  File \"/opt/conda/lib/python3.7/site-packages/sklearn/model_selection/_validation.py\", line 762, in _score\n",
      "    scores = scorer(estimator, X_test, y_test)\n",
      "  File \"/opt/conda/lib/python3.7/site-packages/sklearn/metrics/_scorer.py\", line 221, in __call__\n",
      "    sample_weight=sample_weight,\n",
      "  File \"/opt/conda/lib/python3.7/site-packages/sklearn/metrics/_scorer.py\", line 349, in _score\n",
      "    raise ValueError(\"{0} format is not supported\".format(y_type))\n",
      "ValueError: continuous format is not supported\n",
      "\n",
      "  UserWarning,\n"
     ]
    },
    {
     "name": "stdout",
     "output_type": "stream",
     "text": [
      "[CV 1/5] END colsample_bytree=0.8, gamma=2, max_depth=3, min_child_weight=10, subsample=0.4;, score=(train=nan, test=nan) total time=   0.3s\n"
     ]
    },
    {
     "name": "stderr",
     "output_type": "stream",
     "text": [
      "/opt/conda/lib/python3.7/site-packages/sklearn/model_selection/_validation.py:775: UserWarning: Scoring failed. The score on this train-test partition for these parameters will be set to nan. Details: \n",
      "Traceback (most recent call last):\n",
      "  File \"/opt/conda/lib/python3.7/site-packages/sklearn/model_selection/_validation.py\", line 762, in _score\n",
      "    scores = scorer(estimator, X_test, y_test)\n",
      "  File \"/opt/conda/lib/python3.7/site-packages/sklearn/metrics/_scorer.py\", line 221, in __call__\n",
      "    sample_weight=sample_weight,\n",
      "  File \"/opt/conda/lib/python3.7/site-packages/sklearn/metrics/_scorer.py\", line 349, in _score\n",
      "    raise ValueError(\"{0} format is not supported\".format(y_type))\n",
      "ValueError: continuous format is not supported\n",
      "\n",
      "  UserWarning,\n",
      "/opt/conda/lib/python3.7/site-packages/sklearn/model_selection/_validation.py:775: UserWarning: Scoring failed. The score on this train-test partition for these parameters will be set to nan. Details: \n",
      "Traceback (most recent call last):\n",
      "  File \"/opt/conda/lib/python3.7/site-packages/sklearn/model_selection/_validation.py\", line 762, in _score\n",
      "    scores = scorer(estimator, X_test, y_test)\n",
      "  File \"/opt/conda/lib/python3.7/site-packages/sklearn/metrics/_scorer.py\", line 221, in __call__\n",
      "    sample_weight=sample_weight,\n",
      "  File \"/opt/conda/lib/python3.7/site-packages/sklearn/metrics/_scorer.py\", line 349, in _score\n",
      "    raise ValueError(\"{0} format is not supported\".format(y_type))\n",
      "ValueError: continuous format is not supported\n",
      "\n",
      "  UserWarning,\n"
     ]
    },
    {
     "name": "stdout",
     "output_type": "stream",
     "text": [
      "[CV 2/5] END colsample_bytree=0.8, gamma=2, max_depth=3, min_child_weight=10, subsample=0.4;, score=(train=nan, test=nan) total time=   0.3s\n"
     ]
    },
    {
     "name": "stderr",
     "output_type": "stream",
     "text": [
      "/opt/conda/lib/python3.7/site-packages/sklearn/model_selection/_validation.py:775: UserWarning: Scoring failed. The score on this train-test partition for these parameters will be set to nan. Details: \n",
      "Traceback (most recent call last):\n",
      "  File \"/opt/conda/lib/python3.7/site-packages/sklearn/model_selection/_validation.py\", line 762, in _score\n",
      "    scores = scorer(estimator, X_test, y_test)\n",
      "  File \"/opt/conda/lib/python3.7/site-packages/sklearn/metrics/_scorer.py\", line 221, in __call__\n",
      "    sample_weight=sample_weight,\n",
      "  File \"/opt/conda/lib/python3.7/site-packages/sklearn/metrics/_scorer.py\", line 349, in _score\n",
      "    raise ValueError(\"{0} format is not supported\".format(y_type))\n",
      "ValueError: continuous format is not supported\n",
      "\n",
      "  UserWarning,\n",
      "/opt/conda/lib/python3.7/site-packages/sklearn/model_selection/_validation.py:775: UserWarning: Scoring failed. The score on this train-test partition for these parameters will be set to nan. Details: \n",
      "Traceback (most recent call last):\n",
      "  File \"/opt/conda/lib/python3.7/site-packages/sklearn/model_selection/_validation.py\", line 762, in _score\n",
      "    scores = scorer(estimator, X_test, y_test)\n",
      "  File \"/opt/conda/lib/python3.7/site-packages/sklearn/metrics/_scorer.py\", line 221, in __call__\n",
      "    sample_weight=sample_weight,\n",
      "  File \"/opt/conda/lib/python3.7/site-packages/sklearn/metrics/_scorer.py\", line 349, in _score\n",
      "    raise ValueError(\"{0} format is not supported\".format(y_type))\n",
      "ValueError: continuous format is not supported\n",
      "\n",
      "  UserWarning,\n"
     ]
    },
    {
     "name": "stdout",
     "output_type": "stream",
     "text": [
      "[CV 3/5] END colsample_bytree=0.8, gamma=2, max_depth=3, min_child_weight=10, subsample=0.4;, score=(train=nan, test=nan) total time=   0.3s\n"
     ]
    },
    {
     "name": "stderr",
     "output_type": "stream",
     "text": [
      "/opt/conda/lib/python3.7/site-packages/sklearn/model_selection/_validation.py:775: UserWarning: Scoring failed. The score on this train-test partition for these parameters will be set to nan. Details: \n",
      "Traceback (most recent call last):\n",
      "  File \"/opt/conda/lib/python3.7/site-packages/sklearn/model_selection/_validation.py\", line 762, in _score\n",
      "    scores = scorer(estimator, X_test, y_test)\n",
      "  File \"/opt/conda/lib/python3.7/site-packages/sklearn/metrics/_scorer.py\", line 221, in __call__\n",
      "    sample_weight=sample_weight,\n",
      "  File \"/opt/conda/lib/python3.7/site-packages/sklearn/metrics/_scorer.py\", line 349, in _score\n",
      "    raise ValueError(\"{0} format is not supported\".format(y_type))\n",
      "ValueError: continuous format is not supported\n",
      "\n",
      "  UserWarning,\n",
      "/opt/conda/lib/python3.7/site-packages/sklearn/model_selection/_validation.py:775: UserWarning: Scoring failed. The score on this train-test partition for these parameters will be set to nan. Details: \n",
      "Traceback (most recent call last):\n",
      "  File \"/opt/conda/lib/python3.7/site-packages/sklearn/model_selection/_validation.py\", line 762, in _score\n",
      "    scores = scorer(estimator, X_test, y_test)\n",
      "  File \"/opt/conda/lib/python3.7/site-packages/sklearn/metrics/_scorer.py\", line 221, in __call__\n",
      "    sample_weight=sample_weight,\n",
      "  File \"/opt/conda/lib/python3.7/site-packages/sklearn/metrics/_scorer.py\", line 349, in _score\n",
      "    raise ValueError(\"{0} format is not supported\".format(y_type))\n",
      "ValueError: continuous format is not supported\n",
      "\n",
      "  UserWarning,\n"
     ]
    },
    {
     "name": "stdout",
     "output_type": "stream",
     "text": [
      "[CV 4/5] END colsample_bytree=0.8, gamma=2, max_depth=3, min_child_weight=10, subsample=0.4;, score=(train=nan, test=nan) total time=   0.3s\n"
     ]
    },
    {
     "name": "stderr",
     "output_type": "stream",
     "text": [
      "/opt/conda/lib/python3.7/site-packages/sklearn/model_selection/_validation.py:775: UserWarning: Scoring failed. The score on this train-test partition for these parameters will be set to nan. Details: \n",
      "Traceback (most recent call last):\n",
      "  File \"/opt/conda/lib/python3.7/site-packages/sklearn/model_selection/_validation.py\", line 762, in _score\n",
      "    scores = scorer(estimator, X_test, y_test)\n",
      "  File \"/opt/conda/lib/python3.7/site-packages/sklearn/metrics/_scorer.py\", line 221, in __call__\n",
      "    sample_weight=sample_weight,\n",
      "  File \"/opt/conda/lib/python3.7/site-packages/sklearn/metrics/_scorer.py\", line 349, in _score\n",
      "    raise ValueError(\"{0} format is not supported\".format(y_type))\n",
      "ValueError: continuous format is not supported\n",
      "\n",
      "  UserWarning,\n",
      "/opt/conda/lib/python3.7/site-packages/sklearn/model_selection/_validation.py:775: UserWarning: Scoring failed. The score on this train-test partition for these parameters will be set to nan. Details: \n",
      "Traceback (most recent call last):\n",
      "  File \"/opt/conda/lib/python3.7/site-packages/sklearn/model_selection/_validation.py\", line 762, in _score\n",
      "    scores = scorer(estimator, X_test, y_test)\n",
      "  File \"/opt/conda/lib/python3.7/site-packages/sklearn/metrics/_scorer.py\", line 221, in __call__\n",
      "    sample_weight=sample_weight,\n",
      "  File \"/opt/conda/lib/python3.7/site-packages/sklearn/metrics/_scorer.py\", line 349, in _score\n",
      "    raise ValueError(\"{0} format is not supported\".format(y_type))\n",
      "ValueError: continuous format is not supported\n",
      "\n",
      "  UserWarning,\n"
     ]
    },
    {
     "name": "stdout",
     "output_type": "stream",
     "text": [
      "[CV 5/5] END colsample_bytree=0.8, gamma=2, max_depth=3, min_child_weight=10, subsample=0.4;, score=(train=nan, test=nan) total time=   0.3s\n"
     ]
    },
    {
     "name": "stderr",
     "output_type": "stream",
     "text": [
      "/opt/conda/lib/python3.7/site-packages/sklearn/model_selection/_validation.py:775: UserWarning: Scoring failed. The score on this train-test partition for these parameters will be set to nan. Details: \n",
      "Traceback (most recent call last):\n",
      "  File \"/opt/conda/lib/python3.7/site-packages/sklearn/model_selection/_validation.py\", line 762, in _score\n",
      "    scores = scorer(estimator, X_test, y_test)\n",
      "  File \"/opt/conda/lib/python3.7/site-packages/sklearn/metrics/_scorer.py\", line 221, in __call__\n",
      "    sample_weight=sample_weight,\n",
      "  File \"/opt/conda/lib/python3.7/site-packages/sklearn/metrics/_scorer.py\", line 349, in _score\n",
      "    raise ValueError(\"{0} format is not supported\".format(y_type))\n",
      "ValueError: continuous format is not supported\n",
      "\n",
      "  UserWarning,\n",
      "/opt/conda/lib/python3.7/site-packages/sklearn/model_selection/_validation.py:775: UserWarning: Scoring failed. The score on this train-test partition for these parameters will be set to nan. Details: \n",
      "Traceback (most recent call last):\n",
      "  File \"/opt/conda/lib/python3.7/site-packages/sklearn/model_selection/_validation.py\", line 762, in _score\n",
      "    scores = scorer(estimator, X_test, y_test)\n",
      "  File \"/opt/conda/lib/python3.7/site-packages/sklearn/metrics/_scorer.py\", line 221, in __call__\n",
      "    sample_weight=sample_weight,\n",
      "  File \"/opt/conda/lib/python3.7/site-packages/sklearn/metrics/_scorer.py\", line 349, in _score\n",
      "    raise ValueError(\"{0} format is not supported\".format(y_type))\n",
      "ValueError: continuous format is not supported\n",
      "\n",
      "  UserWarning,\n"
     ]
    },
    {
     "name": "stdout",
     "output_type": "stream",
     "text": [
      "[CV 1/5] END colsample_bytree=0.6, gamma=5, max_depth=4, min_child_weight=7, subsample=1.0;, score=(train=nan, test=nan) total time=   0.3s\n"
     ]
    },
    {
     "name": "stderr",
     "output_type": "stream",
     "text": [
      "/opt/conda/lib/python3.7/site-packages/sklearn/model_selection/_validation.py:775: UserWarning: Scoring failed. The score on this train-test partition for these parameters will be set to nan. Details: \n",
      "Traceback (most recent call last):\n",
      "  File \"/opt/conda/lib/python3.7/site-packages/sklearn/model_selection/_validation.py\", line 762, in _score\n",
      "    scores = scorer(estimator, X_test, y_test)\n",
      "  File \"/opt/conda/lib/python3.7/site-packages/sklearn/metrics/_scorer.py\", line 221, in __call__\n",
      "    sample_weight=sample_weight,\n",
      "  File \"/opt/conda/lib/python3.7/site-packages/sklearn/metrics/_scorer.py\", line 349, in _score\n",
      "    raise ValueError(\"{0} format is not supported\".format(y_type))\n",
      "ValueError: continuous format is not supported\n",
      "\n",
      "  UserWarning,\n",
      "/opt/conda/lib/python3.7/site-packages/sklearn/model_selection/_validation.py:775: UserWarning: Scoring failed. The score on this train-test partition for these parameters will be set to nan. Details: \n",
      "Traceback (most recent call last):\n",
      "  File \"/opt/conda/lib/python3.7/site-packages/sklearn/model_selection/_validation.py\", line 762, in _score\n",
      "    scores = scorer(estimator, X_test, y_test)\n",
      "  File \"/opt/conda/lib/python3.7/site-packages/sklearn/metrics/_scorer.py\", line 221, in __call__\n",
      "    sample_weight=sample_weight,\n",
      "  File \"/opt/conda/lib/python3.7/site-packages/sklearn/metrics/_scorer.py\", line 349, in _score\n",
      "    raise ValueError(\"{0} format is not supported\".format(y_type))\n",
      "ValueError: continuous format is not supported\n",
      "\n",
      "  UserWarning,\n"
     ]
    },
    {
     "name": "stdout",
     "output_type": "stream",
     "text": [
      "[CV 2/5] END colsample_bytree=0.6, gamma=5, max_depth=4, min_child_weight=7, subsample=1.0;, score=(train=nan, test=nan) total time=   0.3s\n"
     ]
    },
    {
     "name": "stderr",
     "output_type": "stream",
     "text": [
      "/opt/conda/lib/python3.7/site-packages/sklearn/model_selection/_validation.py:775: UserWarning: Scoring failed. The score on this train-test partition for these parameters will be set to nan. Details: \n",
      "Traceback (most recent call last):\n",
      "  File \"/opt/conda/lib/python3.7/site-packages/sklearn/model_selection/_validation.py\", line 762, in _score\n",
      "    scores = scorer(estimator, X_test, y_test)\n",
      "  File \"/opt/conda/lib/python3.7/site-packages/sklearn/metrics/_scorer.py\", line 221, in __call__\n",
      "    sample_weight=sample_weight,\n",
      "  File \"/opt/conda/lib/python3.7/site-packages/sklearn/metrics/_scorer.py\", line 349, in _score\n",
      "    raise ValueError(\"{0} format is not supported\".format(y_type))\n",
      "ValueError: continuous format is not supported\n",
      "\n",
      "  UserWarning,\n",
      "/opt/conda/lib/python3.7/site-packages/sklearn/model_selection/_validation.py:775: UserWarning: Scoring failed. The score on this train-test partition for these parameters will be set to nan. Details: \n",
      "Traceback (most recent call last):\n",
      "  File \"/opt/conda/lib/python3.7/site-packages/sklearn/model_selection/_validation.py\", line 762, in _score\n",
      "    scores = scorer(estimator, X_test, y_test)\n",
      "  File \"/opt/conda/lib/python3.7/site-packages/sklearn/metrics/_scorer.py\", line 221, in __call__\n",
      "    sample_weight=sample_weight,\n",
      "  File \"/opt/conda/lib/python3.7/site-packages/sklearn/metrics/_scorer.py\", line 349, in _score\n",
      "    raise ValueError(\"{0} format is not supported\".format(y_type))\n",
      "ValueError: continuous format is not supported\n",
      "\n",
      "  UserWarning,\n"
     ]
    },
    {
     "name": "stdout",
     "output_type": "stream",
     "text": [
      "[CV 3/5] END colsample_bytree=0.6, gamma=5, max_depth=4, min_child_weight=7, subsample=1.0;, score=(train=nan, test=nan) total time=   0.3s\n"
     ]
    },
    {
     "name": "stderr",
     "output_type": "stream",
     "text": [
      "/opt/conda/lib/python3.7/site-packages/sklearn/model_selection/_validation.py:775: UserWarning: Scoring failed. The score on this train-test partition for these parameters will be set to nan. Details: \n",
      "Traceback (most recent call last):\n",
      "  File \"/opt/conda/lib/python3.7/site-packages/sklearn/model_selection/_validation.py\", line 762, in _score\n",
      "    scores = scorer(estimator, X_test, y_test)\n",
      "  File \"/opt/conda/lib/python3.7/site-packages/sklearn/metrics/_scorer.py\", line 221, in __call__\n",
      "    sample_weight=sample_weight,\n",
      "  File \"/opt/conda/lib/python3.7/site-packages/sklearn/metrics/_scorer.py\", line 349, in _score\n",
      "    raise ValueError(\"{0} format is not supported\".format(y_type))\n",
      "ValueError: continuous format is not supported\n",
      "\n",
      "  UserWarning,\n",
      "/opt/conda/lib/python3.7/site-packages/sklearn/model_selection/_validation.py:775: UserWarning: Scoring failed. The score on this train-test partition for these parameters will be set to nan. Details: \n",
      "Traceback (most recent call last):\n",
      "  File \"/opt/conda/lib/python3.7/site-packages/sklearn/model_selection/_validation.py\", line 762, in _score\n",
      "    scores = scorer(estimator, X_test, y_test)\n",
      "  File \"/opt/conda/lib/python3.7/site-packages/sklearn/metrics/_scorer.py\", line 221, in __call__\n",
      "    sample_weight=sample_weight,\n",
      "  File \"/opt/conda/lib/python3.7/site-packages/sklearn/metrics/_scorer.py\", line 349, in _score\n",
      "    raise ValueError(\"{0} format is not supported\".format(y_type))\n",
      "ValueError: continuous format is not supported\n",
      "\n",
      "  UserWarning,\n"
     ]
    },
    {
     "name": "stdout",
     "output_type": "stream",
     "text": [
      "[CV 4/5] END colsample_bytree=0.6, gamma=5, max_depth=4, min_child_weight=7, subsample=1.0;, score=(train=nan, test=nan) total time=   0.3s\n"
     ]
    },
    {
     "name": "stderr",
     "output_type": "stream",
     "text": [
      "/opt/conda/lib/python3.7/site-packages/sklearn/model_selection/_validation.py:775: UserWarning: Scoring failed. The score on this train-test partition for these parameters will be set to nan. Details: \n",
      "Traceback (most recent call last):\n",
      "  File \"/opt/conda/lib/python3.7/site-packages/sklearn/model_selection/_validation.py\", line 762, in _score\n",
      "    scores = scorer(estimator, X_test, y_test)\n",
      "  File \"/opt/conda/lib/python3.7/site-packages/sklearn/metrics/_scorer.py\", line 221, in __call__\n",
      "    sample_weight=sample_weight,\n",
      "  File \"/opt/conda/lib/python3.7/site-packages/sklearn/metrics/_scorer.py\", line 349, in _score\n",
      "    raise ValueError(\"{0} format is not supported\".format(y_type))\n",
      "ValueError: continuous format is not supported\n",
      "\n",
      "  UserWarning,\n",
      "/opt/conda/lib/python3.7/site-packages/sklearn/model_selection/_validation.py:775: UserWarning: Scoring failed. The score on this train-test partition for these parameters will be set to nan. Details: \n",
      "Traceback (most recent call last):\n",
      "  File \"/opt/conda/lib/python3.7/site-packages/sklearn/model_selection/_validation.py\", line 762, in _score\n",
      "    scores = scorer(estimator, X_test, y_test)\n",
      "  File \"/opt/conda/lib/python3.7/site-packages/sklearn/metrics/_scorer.py\", line 221, in __call__\n",
      "    sample_weight=sample_weight,\n",
      "  File \"/opt/conda/lib/python3.7/site-packages/sklearn/metrics/_scorer.py\", line 349, in _score\n",
      "    raise ValueError(\"{0} format is not supported\".format(y_type))\n",
      "ValueError: continuous format is not supported\n",
      "\n",
      "  UserWarning,\n"
     ]
    },
    {
     "name": "stdout",
     "output_type": "stream",
     "text": [
      "[CV 5/5] END colsample_bytree=0.6, gamma=5, max_depth=4, min_child_weight=7, subsample=1.0;, score=(train=nan, test=nan) total time=   0.3s\n"
     ]
    },
    {
     "name": "stderr",
     "output_type": "stream",
     "text": [
      "/opt/conda/lib/python3.7/site-packages/sklearn/model_selection/_validation.py:775: UserWarning: Scoring failed. The score on this train-test partition for these parameters will be set to nan. Details: \n",
      "Traceback (most recent call last):\n",
      "  File \"/opt/conda/lib/python3.7/site-packages/sklearn/model_selection/_validation.py\", line 762, in _score\n",
      "    scores = scorer(estimator, X_test, y_test)\n",
      "  File \"/opt/conda/lib/python3.7/site-packages/sklearn/metrics/_scorer.py\", line 221, in __call__\n",
      "    sample_weight=sample_weight,\n",
      "  File \"/opt/conda/lib/python3.7/site-packages/sklearn/metrics/_scorer.py\", line 349, in _score\n",
      "    raise ValueError(\"{0} format is not supported\".format(y_type))\n",
      "ValueError: continuous format is not supported\n",
      "\n",
      "  UserWarning,\n",
      "/opt/conda/lib/python3.7/site-packages/sklearn/model_selection/_validation.py:775: UserWarning: Scoring failed. The score on this train-test partition for these parameters will be set to nan. Details: \n",
      "Traceback (most recent call last):\n",
      "  File \"/opt/conda/lib/python3.7/site-packages/sklearn/model_selection/_validation.py\", line 762, in _score\n",
      "    scores = scorer(estimator, X_test, y_test)\n",
      "  File \"/opt/conda/lib/python3.7/site-packages/sklearn/metrics/_scorer.py\", line 221, in __call__\n",
      "    sample_weight=sample_weight,\n",
      "  File \"/opt/conda/lib/python3.7/site-packages/sklearn/metrics/_scorer.py\", line 349, in _score\n",
      "    raise ValueError(\"{0} format is not supported\".format(y_type))\n",
      "ValueError: continuous format is not supported\n",
      "\n",
      "  UserWarning,\n"
     ]
    },
    {
     "name": "stdout",
     "output_type": "stream",
     "text": [
      "[CV 1/5] END colsample_bytree=0.8, gamma=1.5, max_depth=5, min_child_weight=6, subsample=0.8;, score=(train=nan, test=nan) total time=   0.3s\n"
     ]
    },
    {
     "name": "stderr",
     "output_type": "stream",
     "text": [
      "/opt/conda/lib/python3.7/site-packages/sklearn/model_selection/_validation.py:775: UserWarning: Scoring failed. The score on this train-test partition for these parameters will be set to nan. Details: \n",
      "Traceback (most recent call last):\n",
      "  File \"/opt/conda/lib/python3.7/site-packages/sklearn/model_selection/_validation.py\", line 762, in _score\n",
      "    scores = scorer(estimator, X_test, y_test)\n",
      "  File \"/opt/conda/lib/python3.7/site-packages/sklearn/metrics/_scorer.py\", line 221, in __call__\n",
      "    sample_weight=sample_weight,\n",
      "  File \"/opt/conda/lib/python3.7/site-packages/sklearn/metrics/_scorer.py\", line 349, in _score\n",
      "    raise ValueError(\"{0} format is not supported\".format(y_type))\n",
      "ValueError: continuous format is not supported\n",
      "\n",
      "  UserWarning,\n",
      "/opt/conda/lib/python3.7/site-packages/sklearn/model_selection/_validation.py:775: UserWarning: Scoring failed. The score on this train-test partition for these parameters will be set to nan. Details: \n",
      "Traceback (most recent call last):\n",
      "  File \"/opt/conda/lib/python3.7/site-packages/sklearn/model_selection/_validation.py\", line 762, in _score\n",
      "    scores = scorer(estimator, X_test, y_test)\n",
      "  File \"/opt/conda/lib/python3.7/site-packages/sklearn/metrics/_scorer.py\", line 221, in __call__\n",
      "    sample_weight=sample_weight,\n",
      "  File \"/opt/conda/lib/python3.7/site-packages/sklearn/metrics/_scorer.py\", line 349, in _score\n",
      "    raise ValueError(\"{0} format is not supported\".format(y_type))\n",
      "ValueError: continuous format is not supported\n",
      "\n",
      "  UserWarning,\n"
     ]
    },
    {
     "name": "stdout",
     "output_type": "stream",
     "text": [
      "[CV 2/5] END colsample_bytree=0.8, gamma=1.5, max_depth=5, min_child_weight=6, subsample=0.8;, score=(train=nan, test=nan) total time=   0.3s\n"
     ]
    },
    {
     "name": "stderr",
     "output_type": "stream",
     "text": [
      "/opt/conda/lib/python3.7/site-packages/sklearn/model_selection/_validation.py:775: UserWarning: Scoring failed. The score on this train-test partition for these parameters will be set to nan. Details: \n",
      "Traceback (most recent call last):\n",
      "  File \"/opt/conda/lib/python3.7/site-packages/sklearn/model_selection/_validation.py\", line 762, in _score\n",
      "    scores = scorer(estimator, X_test, y_test)\n",
      "  File \"/opt/conda/lib/python3.7/site-packages/sklearn/metrics/_scorer.py\", line 221, in __call__\n",
      "    sample_weight=sample_weight,\n",
      "  File \"/opt/conda/lib/python3.7/site-packages/sklearn/metrics/_scorer.py\", line 349, in _score\n",
      "    raise ValueError(\"{0} format is not supported\".format(y_type))\n",
      "ValueError: continuous format is not supported\n",
      "\n",
      "  UserWarning,\n",
      "/opt/conda/lib/python3.7/site-packages/sklearn/model_selection/_validation.py:775: UserWarning: Scoring failed. The score on this train-test partition for these parameters will be set to nan. Details: \n",
      "Traceback (most recent call last):\n",
      "  File \"/opt/conda/lib/python3.7/site-packages/sklearn/model_selection/_validation.py\", line 762, in _score\n",
      "    scores = scorer(estimator, X_test, y_test)\n",
      "  File \"/opt/conda/lib/python3.7/site-packages/sklearn/metrics/_scorer.py\", line 221, in __call__\n",
      "    sample_weight=sample_weight,\n",
      "  File \"/opt/conda/lib/python3.7/site-packages/sklearn/metrics/_scorer.py\", line 349, in _score\n",
      "    raise ValueError(\"{0} format is not supported\".format(y_type))\n",
      "ValueError: continuous format is not supported\n",
      "\n",
      "  UserWarning,\n"
     ]
    },
    {
     "name": "stdout",
     "output_type": "stream",
     "text": [
      "[CV 3/5] END colsample_bytree=0.8, gamma=1.5, max_depth=5, min_child_weight=6, subsample=0.8;, score=(train=nan, test=nan) total time=   0.3s\n"
     ]
    },
    {
     "name": "stderr",
     "output_type": "stream",
     "text": [
      "/opt/conda/lib/python3.7/site-packages/sklearn/model_selection/_validation.py:775: UserWarning: Scoring failed. The score on this train-test partition for these parameters will be set to nan. Details: \n",
      "Traceback (most recent call last):\n",
      "  File \"/opt/conda/lib/python3.7/site-packages/sklearn/model_selection/_validation.py\", line 762, in _score\n",
      "    scores = scorer(estimator, X_test, y_test)\n",
      "  File \"/opt/conda/lib/python3.7/site-packages/sklearn/metrics/_scorer.py\", line 221, in __call__\n",
      "    sample_weight=sample_weight,\n",
      "  File \"/opt/conda/lib/python3.7/site-packages/sklearn/metrics/_scorer.py\", line 349, in _score\n",
      "    raise ValueError(\"{0} format is not supported\".format(y_type))\n",
      "ValueError: continuous format is not supported\n",
      "\n",
      "  UserWarning,\n",
      "/opt/conda/lib/python3.7/site-packages/sklearn/model_selection/_validation.py:775: UserWarning: Scoring failed. The score on this train-test partition for these parameters will be set to nan. Details: \n",
      "Traceback (most recent call last):\n",
      "  File \"/opt/conda/lib/python3.7/site-packages/sklearn/model_selection/_validation.py\", line 762, in _score\n",
      "    scores = scorer(estimator, X_test, y_test)\n",
      "  File \"/opt/conda/lib/python3.7/site-packages/sklearn/metrics/_scorer.py\", line 221, in __call__\n",
      "    sample_weight=sample_weight,\n",
      "  File \"/opt/conda/lib/python3.7/site-packages/sklearn/metrics/_scorer.py\", line 349, in _score\n",
      "    raise ValueError(\"{0} format is not supported\".format(y_type))\n",
      "ValueError: continuous format is not supported\n",
      "\n",
      "  UserWarning,\n"
     ]
    },
    {
     "name": "stdout",
     "output_type": "stream",
     "text": [
      "[CV 4/5] END colsample_bytree=0.8, gamma=1.5, max_depth=5, min_child_weight=6, subsample=0.8;, score=(train=nan, test=nan) total time=   0.3s\n"
     ]
    },
    {
     "name": "stderr",
     "output_type": "stream",
     "text": [
      "/opt/conda/lib/python3.7/site-packages/sklearn/model_selection/_validation.py:775: UserWarning: Scoring failed. The score on this train-test partition for these parameters will be set to nan. Details: \n",
      "Traceback (most recent call last):\n",
      "  File \"/opt/conda/lib/python3.7/site-packages/sklearn/model_selection/_validation.py\", line 762, in _score\n",
      "    scores = scorer(estimator, X_test, y_test)\n",
      "  File \"/opt/conda/lib/python3.7/site-packages/sklearn/metrics/_scorer.py\", line 221, in __call__\n",
      "    sample_weight=sample_weight,\n",
      "  File \"/opt/conda/lib/python3.7/site-packages/sklearn/metrics/_scorer.py\", line 349, in _score\n",
      "    raise ValueError(\"{0} format is not supported\".format(y_type))\n",
      "ValueError: continuous format is not supported\n",
      "\n",
      "  UserWarning,\n",
      "/opt/conda/lib/python3.7/site-packages/sklearn/model_selection/_validation.py:775: UserWarning: Scoring failed. The score on this train-test partition for these parameters will be set to nan. Details: \n",
      "Traceback (most recent call last):\n",
      "  File \"/opt/conda/lib/python3.7/site-packages/sklearn/model_selection/_validation.py\", line 762, in _score\n",
      "    scores = scorer(estimator, X_test, y_test)\n",
      "  File \"/opt/conda/lib/python3.7/site-packages/sklearn/metrics/_scorer.py\", line 221, in __call__\n",
      "    sample_weight=sample_weight,\n",
      "  File \"/opt/conda/lib/python3.7/site-packages/sklearn/metrics/_scorer.py\", line 349, in _score\n",
      "    raise ValueError(\"{0} format is not supported\".format(y_type))\n",
      "ValueError: continuous format is not supported\n",
      "\n",
      "  UserWarning,\n"
     ]
    },
    {
     "name": "stdout",
     "output_type": "stream",
     "text": [
      "[CV 5/5] END colsample_bytree=0.8, gamma=1.5, max_depth=5, min_child_weight=6, subsample=0.8;, score=(train=nan, test=nan) total time=   0.3s\n"
     ]
    },
    {
     "name": "stderr",
     "output_type": "stream",
     "text": [
      "/opt/conda/lib/python3.7/site-packages/sklearn/model_selection/_validation.py:775: UserWarning: Scoring failed. The score on this train-test partition for these parameters will be set to nan. Details: \n",
      "Traceback (most recent call last):\n",
      "  File \"/opt/conda/lib/python3.7/site-packages/sklearn/model_selection/_validation.py\", line 762, in _score\n",
      "    scores = scorer(estimator, X_test, y_test)\n",
      "  File \"/opt/conda/lib/python3.7/site-packages/sklearn/metrics/_scorer.py\", line 221, in __call__\n",
      "    sample_weight=sample_weight,\n",
      "  File \"/opt/conda/lib/python3.7/site-packages/sklearn/metrics/_scorer.py\", line 349, in _score\n",
      "    raise ValueError(\"{0} format is not supported\".format(y_type))\n",
      "ValueError: continuous format is not supported\n",
      "\n",
      "  UserWarning,\n",
      "/opt/conda/lib/python3.7/site-packages/sklearn/model_selection/_validation.py:775: UserWarning: Scoring failed. The score on this train-test partition for these parameters will be set to nan. Details: \n",
      "Traceback (most recent call last):\n",
      "  File \"/opt/conda/lib/python3.7/site-packages/sklearn/model_selection/_validation.py\", line 762, in _score\n",
      "    scores = scorer(estimator, X_test, y_test)\n",
      "  File \"/opt/conda/lib/python3.7/site-packages/sklearn/metrics/_scorer.py\", line 221, in __call__\n",
      "    sample_weight=sample_weight,\n",
      "  File \"/opt/conda/lib/python3.7/site-packages/sklearn/metrics/_scorer.py\", line 349, in _score\n",
      "    raise ValueError(\"{0} format is not supported\".format(y_type))\n",
      "ValueError: continuous format is not supported\n",
      "\n",
      "  UserWarning,\n"
     ]
    },
    {
     "name": "stdout",
     "output_type": "stream",
     "text": [
      "[CV 1/5] END colsample_bytree=0.9, gamma=1, max_depth=3, min_child_weight=5, subsample=0.4;, score=(train=nan, test=nan) total time=   0.3s\n"
     ]
    },
    {
     "name": "stderr",
     "output_type": "stream",
     "text": [
      "/opt/conda/lib/python3.7/site-packages/sklearn/model_selection/_validation.py:775: UserWarning: Scoring failed. The score on this train-test partition for these parameters will be set to nan. Details: \n",
      "Traceback (most recent call last):\n",
      "  File \"/opt/conda/lib/python3.7/site-packages/sklearn/model_selection/_validation.py\", line 762, in _score\n",
      "    scores = scorer(estimator, X_test, y_test)\n",
      "  File \"/opt/conda/lib/python3.7/site-packages/sklearn/metrics/_scorer.py\", line 221, in __call__\n",
      "    sample_weight=sample_weight,\n",
      "  File \"/opt/conda/lib/python3.7/site-packages/sklearn/metrics/_scorer.py\", line 349, in _score\n",
      "    raise ValueError(\"{0} format is not supported\".format(y_type))\n",
      "ValueError: continuous format is not supported\n",
      "\n",
      "  UserWarning,\n",
      "/opt/conda/lib/python3.7/site-packages/sklearn/model_selection/_validation.py:775: UserWarning: Scoring failed. The score on this train-test partition for these parameters will be set to nan. Details: \n",
      "Traceback (most recent call last):\n",
      "  File \"/opt/conda/lib/python3.7/site-packages/sklearn/model_selection/_validation.py\", line 762, in _score\n",
      "    scores = scorer(estimator, X_test, y_test)\n",
      "  File \"/opt/conda/lib/python3.7/site-packages/sklearn/metrics/_scorer.py\", line 221, in __call__\n",
      "    sample_weight=sample_weight,\n",
      "  File \"/opt/conda/lib/python3.7/site-packages/sklearn/metrics/_scorer.py\", line 349, in _score\n",
      "    raise ValueError(\"{0} format is not supported\".format(y_type))\n",
      "ValueError: continuous format is not supported\n",
      "\n",
      "  UserWarning,\n"
     ]
    },
    {
     "name": "stdout",
     "output_type": "stream",
     "text": [
      "[CV 2/5] END colsample_bytree=0.9, gamma=1, max_depth=3, min_child_weight=5, subsample=0.4;, score=(train=nan, test=nan) total time=   0.3s\n"
     ]
    },
    {
     "name": "stderr",
     "output_type": "stream",
     "text": [
      "/opt/conda/lib/python3.7/site-packages/sklearn/model_selection/_validation.py:775: UserWarning: Scoring failed. The score on this train-test partition for these parameters will be set to nan. Details: \n",
      "Traceback (most recent call last):\n",
      "  File \"/opt/conda/lib/python3.7/site-packages/sklearn/model_selection/_validation.py\", line 762, in _score\n",
      "    scores = scorer(estimator, X_test, y_test)\n",
      "  File \"/opt/conda/lib/python3.7/site-packages/sklearn/metrics/_scorer.py\", line 221, in __call__\n",
      "    sample_weight=sample_weight,\n",
      "  File \"/opt/conda/lib/python3.7/site-packages/sklearn/metrics/_scorer.py\", line 349, in _score\n",
      "    raise ValueError(\"{0} format is not supported\".format(y_type))\n",
      "ValueError: continuous format is not supported\n",
      "\n",
      "  UserWarning,\n",
      "/opt/conda/lib/python3.7/site-packages/sklearn/model_selection/_validation.py:775: UserWarning: Scoring failed. The score on this train-test partition for these parameters will be set to nan. Details: \n",
      "Traceback (most recent call last):\n",
      "  File \"/opt/conda/lib/python3.7/site-packages/sklearn/model_selection/_validation.py\", line 762, in _score\n",
      "    scores = scorer(estimator, X_test, y_test)\n",
      "  File \"/opt/conda/lib/python3.7/site-packages/sklearn/metrics/_scorer.py\", line 221, in __call__\n",
      "    sample_weight=sample_weight,\n",
      "  File \"/opt/conda/lib/python3.7/site-packages/sklearn/metrics/_scorer.py\", line 349, in _score\n",
      "    raise ValueError(\"{0} format is not supported\".format(y_type))\n",
      "ValueError: continuous format is not supported\n",
      "\n",
      "  UserWarning,\n"
     ]
    },
    {
     "name": "stdout",
     "output_type": "stream",
     "text": [
      "[CV 3/5] END colsample_bytree=0.9, gamma=1, max_depth=3, min_child_weight=5, subsample=0.4;, score=(train=nan, test=nan) total time=   0.3s\n"
     ]
    },
    {
     "name": "stderr",
     "output_type": "stream",
     "text": [
      "/opt/conda/lib/python3.7/site-packages/sklearn/model_selection/_validation.py:775: UserWarning: Scoring failed. The score on this train-test partition for these parameters will be set to nan. Details: \n",
      "Traceback (most recent call last):\n",
      "  File \"/opt/conda/lib/python3.7/site-packages/sklearn/model_selection/_validation.py\", line 762, in _score\n",
      "    scores = scorer(estimator, X_test, y_test)\n",
      "  File \"/opt/conda/lib/python3.7/site-packages/sklearn/metrics/_scorer.py\", line 221, in __call__\n",
      "    sample_weight=sample_weight,\n",
      "  File \"/opt/conda/lib/python3.7/site-packages/sklearn/metrics/_scorer.py\", line 349, in _score\n",
      "    raise ValueError(\"{0} format is not supported\".format(y_type))\n",
      "ValueError: continuous format is not supported\n",
      "\n",
      "  UserWarning,\n",
      "/opt/conda/lib/python3.7/site-packages/sklearn/model_selection/_validation.py:775: UserWarning: Scoring failed. The score on this train-test partition for these parameters will be set to nan. Details: \n",
      "Traceback (most recent call last):\n",
      "  File \"/opt/conda/lib/python3.7/site-packages/sklearn/model_selection/_validation.py\", line 762, in _score\n",
      "    scores = scorer(estimator, X_test, y_test)\n",
      "  File \"/opt/conda/lib/python3.7/site-packages/sklearn/metrics/_scorer.py\", line 221, in __call__\n",
      "    sample_weight=sample_weight,\n",
      "  File \"/opt/conda/lib/python3.7/site-packages/sklearn/metrics/_scorer.py\", line 349, in _score\n",
      "    raise ValueError(\"{0} format is not supported\".format(y_type))\n",
      "ValueError: continuous format is not supported\n",
      "\n",
      "  UserWarning,\n"
     ]
    },
    {
     "name": "stdout",
     "output_type": "stream",
     "text": [
      "[CV 4/5] END colsample_bytree=0.9, gamma=1, max_depth=3, min_child_weight=5, subsample=0.4;, score=(train=nan, test=nan) total time=   0.3s\n"
     ]
    },
    {
     "name": "stderr",
     "output_type": "stream",
     "text": [
      "/opt/conda/lib/python3.7/site-packages/sklearn/model_selection/_validation.py:775: UserWarning: Scoring failed. The score on this train-test partition for these parameters will be set to nan. Details: \n",
      "Traceback (most recent call last):\n",
      "  File \"/opt/conda/lib/python3.7/site-packages/sklearn/model_selection/_validation.py\", line 762, in _score\n",
      "    scores = scorer(estimator, X_test, y_test)\n",
      "  File \"/opt/conda/lib/python3.7/site-packages/sklearn/metrics/_scorer.py\", line 221, in __call__\n",
      "    sample_weight=sample_weight,\n",
      "  File \"/opt/conda/lib/python3.7/site-packages/sklearn/metrics/_scorer.py\", line 349, in _score\n",
      "    raise ValueError(\"{0} format is not supported\".format(y_type))\n",
      "ValueError: continuous format is not supported\n",
      "\n",
      "  UserWarning,\n",
      "/opt/conda/lib/python3.7/site-packages/sklearn/model_selection/_validation.py:775: UserWarning: Scoring failed. The score on this train-test partition for these parameters will be set to nan. Details: \n",
      "Traceback (most recent call last):\n",
      "  File \"/opt/conda/lib/python3.7/site-packages/sklearn/model_selection/_validation.py\", line 762, in _score\n",
      "    scores = scorer(estimator, X_test, y_test)\n",
      "  File \"/opt/conda/lib/python3.7/site-packages/sklearn/metrics/_scorer.py\", line 221, in __call__\n",
      "    sample_weight=sample_weight,\n",
      "  File \"/opt/conda/lib/python3.7/site-packages/sklearn/metrics/_scorer.py\", line 349, in _score\n",
      "    raise ValueError(\"{0} format is not supported\".format(y_type))\n",
      "ValueError: continuous format is not supported\n",
      "\n",
      "  UserWarning,\n"
     ]
    },
    {
     "name": "stdout",
     "output_type": "stream",
     "text": [
      "[CV 5/5] END colsample_bytree=0.9, gamma=1, max_depth=3, min_child_weight=5, subsample=0.4;, score=(train=nan, test=nan) total time=   0.3s\n"
     ]
    },
    {
     "name": "stderr",
     "output_type": "stream",
     "text": [
      "/opt/conda/lib/python3.7/site-packages/sklearn/model_selection/_validation.py:775: UserWarning: Scoring failed. The score on this train-test partition for these parameters will be set to nan. Details: \n",
      "Traceback (most recent call last):\n",
      "  File \"/opt/conda/lib/python3.7/site-packages/sklearn/model_selection/_validation.py\", line 762, in _score\n",
      "    scores = scorer(estimator, X_test, y_test)\n",
      "  File \"/opt/conda/lib/python3.7/site-packages/sklearn/metrics/_scorer.py\", line 221, in __call__\n",
      "    sample_weight=sample_weight,\n",
      "  File \"/opt/conda/lib/python3.7/site-packages/sklearn/metrics/_scorer.py\", line 349, in _score\n",
      "    raise ValueError(\"{0} format is not supported\".format(y_type))\n",
      "ValueError: continuous format is not supported\n",
      "\n",
      "  UserWarning,\n",
      "/opt/conda/lib/python3.7/site-packages/sklearn/model_selection/_validation.py:775: UserWarning: Scoring failed. The score on this train-test partition for these parameters will be set to nan. Details: \n",
      "Traceback (most recent call last):\n",
      "  File \"/opt/conda/lib/python3.7/site-packages/sklearn/model_selection/_validation.py\", line 762, in _score\n",
      "    scores = scorer(estimator, X_test, y_test)\n",
      "  File \"/opt/conda/lib/python3.7/site-packages/sklearn/metrics/_scorer.py\", line 221, in __call__\n",
      "    sample_weight=sample_weight,\n",
      "  File \"/opt/conda/lib/python3.7/site-packages/sklearn/metrics/_scorer.py\", line 349, in _score\n",
      "    raise ValueError(\"{0} format is not supported\".format(y_type))\n",
      "ValueError: continuous format is not supported\n",
      "\n",
      "  UserWarning,\n"
     ]
    },
    {
     "name": "stdout",
     "output_type": "stream",
     "text": [
      "[CV 1/5] END colsample_bytree=0.9, gamma=0.5, max_depth=2, min_child_weight=10, subsample=1.0;, score=(train=nan, test=nan) total time=   0.3s\n"
     ]
    },
    {
     "name": "stderr",
     "output_type": "stream",
     "text": [
      "/opt/conda/lib/python3.7/site-packages/sklearn/model_selection/_validation.py:775: UserWarning: Scoring failed. The score on this train-test partition for these parameters will be set to nan. Details: \n",
      "Traceback (most recent call last):\n",
      "  File \"/opt/conda/lib/python3.7/site-packages/sklearn/model_selection/_validation.py\", line 762, in _score\n",
      "    scores = scorer(estimator, X_test, y_test)\n",
      "  File \"/opt/conda/lib/python3.7/site-packages/sklearn/metrics/_scorer.py\", line 221, in __call__\n",
      "    sample_weight=sample_weight,\n",
      "  File \"/opt/conda/lib/python3.7/site-packages/sklearn/metrics/_scorer.py\", line 349, in _score\n",
      "    raise ValueError(\"{0} format is not supported\".format(y_type))\n",
      "ValueError: continuous format is not supported\n",
      "\n",
      "  UserWarning,\n",
      "/opt/conda/lib/python3.7/site-packages/sklearn/model_selection/_validation.py:775: UserWarning: Scoring failed. The score on this train-test partition for these parameters will be set to nan. Details: \n",
      "Traceback (most recent call last):\n",
      "  File \"/opt/conda/lib/python3.7/site-packages/sklearn/model_selection/_validation.py\", line 762, in _score\n",
      "    scores = scorer(estimator, X_test, y_test)\n",
      "  File \"/opt/conda/lib/python3.7/site-packages/sklearn/metrics/_scorer.py\", line 221, in __call__\n",
      "    sample_weight=sample_weight,\n",
      "  File \"/opt/conda/lib/python3.7/site-packages/sklearn/metrics/_scorer.py\", line 349, in _score\n",
      "    raise ValueError(\"{0} format is not supported\".format(y_type))\n",
      "ValueError: continuous format is not supported\n",
      "\n",
      "  UserWarning,\n"
     ]
    },
    {
     "name": "stdout",
     "output_type": "stream",
     "text": [
      "[CV 2/5] END colsample_bytree=0.9, gamma=0.5, max_depth=2, min_child_weight=10, subsample=1.0;, score=(train=nan, test=nan) total time=   0.3s\n"
     ]
    },
    {
     "name": "stderr",
     "output_type": "stream",
     "text": [
      "/opt/conda/lib/python3.7/site-packages/sklearn/model_selection/_validation.py:775: UserWarning: Scoring failed. The score on this train-test partition for these parameters will be set to nan. Details: \n",
      "Traceback (most recent call last):\n",
      "  File \"/opt/conda/lib/python3.7/site-packages/sklearn/model_selection/_validation.py\", line 762, in _score\n",
      "    scores = scorer(estimator, X_test, y_test)\n",
      "  File \"/opt/conda/lib/python3.7/site-packages/sklearn/metrics/_scorer.py\", line 221, in __call__\n",
      "    sample_weight=sample_weight,\n",
      "  File \"/opt/conda/lib/python3.7/site-packages/sklearn/metrics/_scorer.py\", line 349, in _score\n",
      "    raise ValueError(\"{0} format is not supported\".format(y_type))\n",
      "ValueError: continuous format is not supported\n",
      "\n",
      "  UserWarning,\n",
      "/opt/conda/lib/python3.7/site-packages/sklearn/model_selection/_validation.py:775: UserWarning: Scoring failed. The score on this train-test partition for these parameters will be set to nan. Details: \n",
      "Traceback (most recent call last):\n",
      "  File \"/opt/conda/lib/python3.7/site-packages/sklearn/model_selection/_validation.py\", line 762, in _score\n",
      "    scores = scorer(estimator, X_test, y_test)\n",
      "  File \"/opt/conda/lib/python3.7/site-packages/sklearn/metrics/_scorer.py\", line 221, in __call__\n",
      "    sample_weight=sample_weight,\n",
      "  File \"/opt/conda/lib/python3.7/site-packages/sklearn/metrics/_scorer.py\", line 349, in _score\n",
      "    raise ValueError(\"{0} format is not supported\".format(y_type))\n",
      "ValueError: continuous format is not supported\n",
      "\n",
      "  UserWarning,\n"
     ]
    },
    {
     "name": "stdout",
     "output_type": "stream",
     "text": [
      "[CV 3/5] END colsample_bytree=0.9, gamma=0.5, max_depth=2, min_child_weight=10, subsample=1.0;, score=(train=nan, test=nan) total time=   0.3s\n"
     ]
    },
    {
     "name": "stderr",
     "output_type": "stream",
     "text": [
      "/opt/conda/lib/python3.7/site-packages/sklearn/model_selection/_validation.py:775: UserWarning: Scoring failed. The score on this train-test partition for these parameters will be set to nan. Details: \n",
      "Traceback (most recent call last):\n",
      "  File \"/opt/conda/lib/python3.7/site-packages/sklearn/model_selection/_validation.py\", line 762, in _score\n",
      "    scores = scorer(estimator, X_test, y_test)\n",
      "  File \"/opt/conda/lib/python3.7/site-packages/sklearn/metrics/_scorer.py\", line 221, in __call__\n",
      "    sample_weight=sample_weight,\n",
      "  File \"/opt/conda/lib/python3.7/site-packages/sklearn/metrics/_scorer.py\", line 349, in _score\n",
      "    raise ValueError(\"{0} format is not supported\".format(y_type))\n",
      "ValueError: continuous format is not supported\n",
      "\n",
      "  UserWarning,\n",
      "/opt/conda/lib/python3.7/site-packages/sklearn/model_selection/_validation.py:775: UserWarning: Scoring failed. The score on this train-test partition for these parameters will be set to nan. Details: \n",
      "Traceback (most recent call last):\n",
      "  File \"/opt/conda/lib/python3.7/site-packages/sklearn/model_selection/_validation.py\", line 762, in _score\n",
      "    scores = scorer(estimator, X_test, y_test)\n",
      "  File \"/opt/conda/lib/python3.7/site-packages/sklearn/metrics/_scorer.py\", line 221, in __call__\n",
      "    sample_weight=sample_weight,\n",
      "  File \"/opt/conda/lib/python3.7/site-packages/sklearn/metrics/_scorer.py\", line 349, in _score\n",
      "    raise ValueError(\"{0} format is not supported\".format(y_type))\n",
      "ValueError: continuous format is not supported\n",
      "\n",
      "  UserWarning,\n"
     ]
    },
    {
     "name": "stdout",
     "output_type": "stream",
     "text": [
      "[CV 4/5] END colsample_bytree=0.9, gamma=0.5, max_depth=2, min_child_weight=10, subsample=1.0;, score=(train=nan, test=nan) total time=   0.3s\n"
     ]
    },
    {
     "name": "stderr",
     "output_type": "stream",
     "text": [
      "/opt/conda/lib/python3.7/site-packages/sklearn/model_selection/_validation.py:775: UserWarning: Scoring failed. The score on this train-test partition for these parameters will be set to nan. Details: \n",
      "Traceback (most recent call last):\n",
      "  File \"/opt/conda/lib/python3.7/site-packages/sklearn/model_selection/_validation.py\", line 762, in _score\n",
      "    scores = scorer(estimator, X_test, y_test)\n",
      "  File \"/opt/conda/lib/python3.7/site-packages/sklearn/metrics/_scorer.py\", line 221, in __call__\n",
      "    sample_weight=sample_weight,\n",
      "  File \"/opt/conda/lib/python3.7/site-packages/sklearn/metrics/_scorer.py\", line 349, in _score\n",
      "    raise ValueError(\"{0} format is not supported\".format(y_type))\n",
      "ValueError: continuous format is not supported\n",
      "\n",
      "  UserWarning,\n",
      "/opt/conda/lib/python3.7/site-packages/sklearn/model_selection/_validation.py:775: UserWarning: Scoring failed. The score on this train-test partition for these parameters will be set to nan. Details: \n",
      "Traceback (most recent call last):\n",
      "  File \"/opt/conda/lib/python3.7/site-packages/sklearn/model_selection/_validation.py\", line 762, in _score\n",
      "    scores = scorer(estimator, X_test, y_test)\n",
      "  File \"/opt/conda/lib/python3.7/site-packages/sklearn/metrics/_scorer.py\", line 221, in __call__\n",
      "    sample_weight=sample_weight,\n",
      "  File \"/opt/conda/lib/python3.7/site-packages/sklearn/metrics/_scorer.py\", line 349, in _score\n",
      "    raise ValueError(\"{0} format is not supported\".format(y_type))\n",
      "ValueError: continuous format is not supported\n",
      "\n",
      "  UserWarning,\n",
      "/opt/conda/lib/python3.7/site-packages/sklearn/model_selection/_search.py:972: UserWarning: One or more of the test scores are non-finite: [nan nan nan nan nan]\n",
      "  category=UserWarning,\n",
      "/opt/conda/lib/python3.7/site-packages/sklearn/model_selection/_search.py:972: UserWarning: One or more of the train scores are non-finite: [nan nan nan nan nan]\n",
      "  category=UserWarning,\n"
     ]
    },
    {
     "name": "stdout",
     "output_type": "stream",
     "text": [
      "[CV 5/5] END colsample_bytree=0.9, gamma=0.5, max_depth=2, min_child_weight=10, subsample=1.0;, score=(train=nan, test=nan) total time=   0.3s\n"
     ]
    },
    {
     "data": {
      "text/plain": [
       "RandomizedSearchCV(cv=5,\n",
       "                   estimator=XGBRegressor(base_score=0.5, booster='gbtree',\n",
       "                                          colsample_bylevel=1,\n",
       "                                          colsample_bynode=1,\n",
       "                                          colsample_bytree=1,\n",
       "                                          enable_categorical=False, gamma=0,\n",
       "                                          gpu_id=-1, importance_type=None,\n",
       "                                          interaction_constraints='',\n",
       "                                          learning_rate=0.300000012,\n",
       "                                          max_delta_step=0, max_depth=6,\n",
       "                                          min_child_weight=1, missing=nan,\n",
       "                                          monotone_constraints='()',\n",
       "                                          n_estimato...\n",
       "                                          reg_lambda=1, scale_pos_weight=1,\n",
       "                                          subsample=1, tree_method='exact',\n",
       "                                          validate_parameters=1,\n",
       "                                          verbosity=None),\n",
       "                   n_iter=5, n_jobs=1,\n",
       "                   param_distributions={'colsample_bytree': [0.6, 0.7, 0.8,\n",
       "                                                             0.9],\n",
       "                                        'gamma': [0.5, 1, 1.5, 2, 5],\n",
       "                                        'max_depth': [2, 3, 4, 5],\n",
       "                                        'min_child_weight': [1, 5, 6, 7, 10],\n",
       "                                        'subsample': [0.3, 0.4, 0.5, 0.8, 1.0]},\n",
       "                   random_state=121, return_train_score=True, scoring='roc_auc',\n",
       "                   verbose=3)"
      ]
     },
     "execution_count": 28,
     "metadata": {},
     "output_type": "execute_result"
    }
   ],
   "source": [
    "randomcv.fit(xtrain,ytrain)"
   ]
  },
  {
   "cell_type": "code",
   "execution_count": 29,
   "id": "c61534c6",
   "metadata": {
    "execution": {
     "iopub.execute_input": "2022-04-03T22:14:52.405647Z",
     "iopub.status.busy": "2022-04-03T22:14:52.404705Z",
     "iopub.status.idle": "2022-04-03T22:14:52.410392Z",
     "shell.execute_reply": "2022-04-03T22:14:52.410992Z",
     "shell.execute_reply.started": "2022-04-03T20:14:30.768418Z"
    },
    "papermill": {
     "duration": 0.069087,
     "end_time": "2022-04-03T22:14:52.411158",
     "exception": false,
     "start_time": "2022-04-03T22:14:52.342071",
     "status": "completed"
    },
    "tags": []
   },
   "outputs": [
    {
     "data": {
      "text/plain": [
       "{'subsample': 0.4,\n",
       " 'min_child_weight': 10,\n",
       " 'max_depth': 3,\n",
       " 'gamma': 2,\n",
       " 'colsample_bytree': 0.8}"
      ]
     },
     "execution_count": 29,
     "metadata": {},
     "output_type": "execute_result"
    }
   ],
   "source": [
    "randomcv.best_params_"
   ]
  },
  {
   "cell_type": "code",
   "execution_count": 30,
   "id": "fc7a73eb",
   "metadata": {
    "execution": {
     "iopub.execute_input": "2022-04-03T22:14:52.536154Z",
     "iopub.status.busy": "2022-04-03T22:14:52.535098Z",
     "iopub.status.idle": "2022-04-03T22:14:52.539299Z",
     "shell.execute_reply": "2022-04-03T22:14:52.539955Z",
     "shell.execute_reply.started": "2022-04-03T20:15:27.753198Z"
    },
    "papermill": {
     "duration": 0.068991,
     "end_time": "2022-04-03T22:14:52.540144",
     "exception": false,
     "start_time": "2022-04-03T22:14:52.471153",
     "status": "completed"
    },
    "tags": []
   },
   "outputs": [],
   "source": [
    "model1 = XGBRegressor(subsample = 0.4,\n",
    " min_child_weight = 10,\n",
    " max_depth =  3,\n",
    "  gamma = 2,\n",
    " colsample_bytree = 0.8)"
   ]
  },
  {
   "cell_type": "code",
   "execution_count": 31,
   "id": "349b895c",
   "metadata": {
    "execution": {
     "iopub.execute_input": "2022-04-03T22:14:52.664105Z",
     "iopub.status.busy": "2022-04-03T22:14:52.663092Z",
     "iopub.status.idle": "2022-04-03T22:14:52.927080Z",
     "shell.execute_reply": "2022-04-03T22:14:52.927571Z",
     "shell.execute_reply.started": "2022-04-03T20:15:46.284272Z"
    },
    "papermill": {
     "duration": 0.327514,
     "end_time": "2022-04-03T22:14:52.927760",
     "exception": false,
     "start_time": "2022-04-03T22:14:52.600246",
     "status": "completed"
    },
    "tags": []
   },
   "outputs": [
    {
     "data": {
      "text/plain": [
       "XGBRegressor(base_score=0.5, booster='gbtree', colsample_bylevel=1,\n",
       "             colsample_bynode=1, colsample_bytree=0.8, enable_categorical=False,\n",
       "             gamma=2, gpu_id=-1, importance_type=None,\n",
       "             interaction_constraints='', learning_rate=0.300000012,\n",
       "             max_delta_step=0, max_depth=3, min_child_weight=10, missing=nan,\n",
       "             monotone_constraints='()', n_estimators=100, n_jobs=4,\n",
       "             num_parallel_tree=1, predictor='auto', random_state=0, reg_alpha=0,\n",
       "             reg_lambda=1, scale_pos_weight=1, subsample=0.4,\n",
       "             tree_method='exact', validate_parameters=1, verbosity=None)"
      ]
     },
     "execution_count": 31,
     "metadata": {},
     "output_type": "execute_result"
    }
   ],
   "source": [
    "model1.fit(xtrain,ytrain)"
   ]
  },
  {
   "cell_type": "code",
   "execution_count": 32,
   "id": "760c1cd6",
   "metadata": {
    "execution": {
     "iopub.execute_input": "2022-04-03T22:14:53.053135Z",
     "iopub.status.busy": "2022-04-03T22:14:53.052106Z",
     "iopub.status.idle": "2022-04-03T22:14:53.065853Z",
     "shell.execute_reply": "2022-04-03T22:14:53.066818Z",
     "shell.execute_reply.started": "2022-04-03T20:15:59.657621Z"
    },
    "papermill": {
     "duration": 0.078874,
     "end_time": "2022-04-03T22:14:53.067020",
     "exception": false,
     "start_time": "2022-04-03T22:14:52.988146",
     "status": "completed"
    },
    "tags": []
   },
   "outputs": [
    {
     "data": {
      "text/plain": [
       "0.8969398402950768"
      ]
     },
     "execution_count": 32,
     "metadata": {},
     "output_type": "execute_result"
    }
   ],
   "source": [
    "model1.score(xtrain,ytrain)"
   ]
  },
  {
   "cell_type": "code",
   "execution_count": 33,
   "id": "f2693ff4",
   "metadata": {
    "execution": {
     "iopub.execute_input": "2022-04-03T22:14:53.196001Z",
     "iopub.status.busy": "2022-04-03T22:14:53.195301Z",
     "iopub.status.idle": "2022-04-03T22:14:53.207935Z",
     "shell.execute_reply": "2022-04-03T22:14:53.208941Z",
     "shell.execute_reply.started": "2022-04-03T20:16:14.416764Z"
    },
    "papermill": {
     "duration": 0.079841,
     "end_time": "2022-04-03T22:14:53.209145",
     "exception": false,
     "start_time": "2022-04-03T22:14:53.129304",
     "status": "completed"
    },
    "tags": []
   },
   "outputs": [
    {
     "data": {
      "text/plain": [
       "0.8284525457923667"
      ]
     },
     "execution_count": 33,
     "metadata": {},
     "output_type": "execute_result"
    }
   ],
   "source": [
    "model1.score(xtest,ytest)"
   ]
  },
  {
   "cell_type": "code",
   "execution_count": null,
   "id": "322af63c",
   "metadata": {
    "papermill": {
     "duration": 0.061894,
     "end_time": "2022-04-03T22:14:53.335384",
     "exception": false,
     "start_time": "2022-04-03T22:14:53.273490",
     "status": "completed"
    },
    "tags": []
   },
   "outputs": [],
   "source": []
  }
 ],
 "metadata": {
  "kernelspec": {
   "display_name": "Python 3",
   "language": "python",
   "name": "python3"
  },
  "language_info": {
   "codemirror_mode": {
    "name": "ipython",
    "version": 3
   },
   "file_extension": ".py",
   "mimetype": "text/x-python",
   "name": "python",
   "nbconvert_exporter": "python",
   "pygments_lexer": "ipython3",
   "version": "3.7.12"
  },
  "papermill": {
   "default_parameters": {},
   "duration": 23.538468,
   "end_time": "2022-04-03T22:14:54.107630",
   "environment_variables": {},
   "exception": null,
   "input_path": "__notebook__.ipynb",
   "output_path": "__notebook__.ipynb",
   "parameters": {},
   "start_time": "2022-04-03T22:14:30.569162",
   "version": "2.3.3"
  }
 },
 "nbformat": 4,
 "nbformat_minor": 5
}
