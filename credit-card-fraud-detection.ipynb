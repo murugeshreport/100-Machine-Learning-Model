{
 "cells": [
  {
   "cell_type": "markdown",
   "id": "0801c3d4",
   "metadata": {
    "papermill": {
     "duration": 0.049119,
     "end_time": "2022-03-31T14:29:48.437260",
     "exception": false,
     "start_time": "2022-03-31T14:29:48.388141",
     "status": "completed"
    },
    "tags": []
   },
   "source": [
    "# 1.Check Distripution\n",
    "# 2.correlation\n",
    "# 3.Handling imbelance data\n",
    "# 4.Feature Importance\n",
    "# 5.Resample\n",
    "# 6.Model Train and Prediction"
   ]
  },
  {
   "cell_type": "code",
   "execution_count": 1,
   "id": "28e5afca",
   "metadata": {
    "execution": {
     "iopub.execute_input": "2022-03-31T14:29:48.542244Z",
     "iopub.status.busy": "2022-03-31T14:29:48.540119Z",
     "iopub.status.idle": "2022-03-31T14:29:49.508265Z",
     "shell.execute_reply": "2022-03-31T14:29:49.507029Z",
     "shell.execute_reply.started": "2022-03-31T14:12:12.622616Z"
    },
    "papermill": {
     "duration": 1.021109,
     "end_time": "2022-03-31T14:29:49.508453",
     "exception": false,
     "start_time": "2022-03-31T14:29:48.487344",
     "status": "completed"
    },
    "tags": []
   },
   "outputs": [],
   "source": [
    "import pandas as pd\n",
    "import numpy as np\n",
    "import matplotlib.pyplot as plt\n",
    "import seaborn as sns"
   ]
  },
  {
   "cell_type": "code",
   "execution_count": 2,
   "id": "0e61abc7",
   "metadata": {
    "execution": {
     "iopub.execute_input": "2022-03-31T14:29:49.608109Z",
     "iopub.status.busy": "2022-03-31T14:29:49.607404Z",
     "iopub.status.idle": "2022-03-31T14:29:52.947367Z",
     "shell.execute_reply": "2022-03-31T14:29:52.946333Z",
     "shell.execute_reply.started": "2022-03-31T14:12:13.533691Z"
    },
    "papermill": {
     "duration": 3.392293,
     "end_time": "2022-03-31T14:29:52.947524",
     "exception": false,
     "start_time": "2022-03-31T14:29:49.555231",
     "status": "completed"
    },
    "tags": []
   },
   "outputs": [],
   "source": [
    "data = pd.read_csv('../input/creditcardfraud/creditcard.csv')"
   ]
  },
  {
   "cell_type": "code",
   "execution_count": 3,
   "id": "7749fb70",
   "metadata": {
    "execution": {
     "iopub.execute_input": "2022-03-31T14:29:53.065068Z",
     "iopub.status.busy": "2022-03-31T14:29:53.064346Z",
     "iopub.status.idle": "2022-03-31T14:29:53.147576Z",
     "shell.execute_reply": "2022-03-31T14:29:53.148163Z",
     "shell.execute_reply.started": "2022-03-31T14:12:16.656117Z"
    },
    "papermill": {
     "duration": 0.153537,
     "end_time": "2022-03-31T14:29:53.148347",
     "exception": false,
     "start_time": "2022-03-31T14:29:52.994810",
     "status": "completed"
    },
    "tags": []
   },
   "outputs": [
    {
     "data": {
      "text/html": [
       "<div>\n",
       "<style scoped>\n",
       "    .dataframe tbody tr th:only-of-type {\n",
       "        vertical-align: middle;\n",
       "    }\n",
       "\n",
       "    .dataframe tbody tr th {\n",
       "        vertical-align: top;\n",
       "    }\n",
       "\n",
       "    .dataframe thead th {\n",
       "        text-align: right;\n",
       "    }\n",
       "</style>\n",
       "<table border=\"1\" class=\"dataframe\">\n",
       "  <thead>\n",
       "    <tr style=\"text-align: right;\">\n",
       "      <th></th>\n",
       "      <th>Time</th>\n",
       "      <th>V1</th>\n",
       "      <th>V2</th>\n",
       "      <th>V3</th>\n",
       "      <th>V4</th>\n",
       "      <th>V5</th>\n",
       "      <th>V6</th>\n",
       "      <th>V7</th>\n",
       "      <th>V8</th>\n",
       "      <th>V9</th>\n",
       "      <th>...</th>\n",
       "      <th>V21</th>\n",
       "      <th>V22</th>\n",
       "      <th>V23</th>\n",
       "      <th>V24</th>\n",
       "      <th>V25</th>\n",
       "      <th>V26</th>\n",
       "      <th>V27</th>\n",
       "      <th>V28</th>\n",
       "      <th>Amount</th>\n",
       "      <th>Class</th>\n",
       "    </tr>\n",
       "  </thead>\n",
       "  <tbody>\n",
       "    <tr>\n",
       "      <th>0</th>\n",
       "      <td>0.0</td>\n",
       "      <td>-1.359807</td>\n",
       "      <td>-0.072781</td>\n",
       "      <td>2.536347</td>\n",
       "      <td>1.378155</td>\n",
       "      <td>-0.338321</td>\n",
       "      <td>0.462388</td>\n",
       "      <td>0.239599</td>\n",
       "      <td>0.098698</td>\n",
       "      <td>0.363787</td>\n",
       "      <td>...</td>\n",
       "      <td>-0.018307</td>\n",
       "      <td>0.277838</td>\n",
       "      <td>-0.110474</td>\n",
       "      <td>0.066928</td>\n",
       "      <td>0.128539</td>\n",
       "      <td>-0.189115</td>\n",
       "      <td>0.133558</td>\n",
       "      <td>-0.021053</td>\n",
       "      <td>149.62</td>\n",
       "      <td>0</td>\n",
       "    </tr>\n",
       "    <tr>\n",
       "      <th>1</th>\n",
       "      <td>0.0</td>\n",
       "      <td>1.191857</td>\n",
       "      <td>0.266151</td>\n",
       "      <td>0.166480</td>\n",
       "      <td>0.448154</td>\n",
       "      <td>0.060018</td>\n",
       "      <td>-0.082361</td>\n",
       "      <td>-0.078803</td>\n",
       "      <td>0.085102</td>\n",
       "      <td>-0.255425</td>\n",
       "      <td>...</td>\n",
       "      <td>-0.225775</td>\n",
       "      <td>-0.638672</td>\n",
       "      <td>0.101288</td>\n",
       "      <td>-0.339846</td>\n",
       "      <td>0.167170</td>\n",
       "      <td>0.125895</td>\n",
       "      <td>-0.008983</td>\n",
       "      <td>0.014724</td>\n",
       "      <td>2.69</td>\n",
       "      <td>0</td>\n",
       "    </tr>\n",
       "    <tr>\n",
       "      <th>2</th>\n",
       "      <td>1.0</td>\n",
       "      <td>-1.358354</td>\n",
       "      <td>-1.340163</td>\n",
       "      <td>1.773209</td>\n",
       "      <td>0.379780</td>\n",
       "      <td>-0.503198</td>\n",
       "      <td>1.800499</td>\n",
       "      <td>0.791461</td>\n",
       "      <td>0.247676</td>\n",
       "      <td>-1.514654</td>\n",
       "      <td>...</td>\n",
       "      <td>0.247998</td>\n",
       "      <td>0.771679</td>\n",
       "      <td>0.909412</td>\n",
       "      <td>-0.689281</td>\n",
       "      <td>-0.327642</td>\n",
       "      <td>-0.139097</td>\n",
       "      <td>-0.055353</td>\n",
       "      <td>-0.059752</td>\n",
       "      <td>378.66</td>\n",
       "      <td>0</td>\n",
       "    </tr>\n",
       "    <tr>\n",
       "      <th>3</th>\n",
       "      <td>1.0</td>\n",
       "      <td>-0.966272</td>\n",
       "      <td>-0.185226</td>\n",
       "      <td>1.792993</td>\n",
       "      <td>-0.863291</td>\n",
       "      <td>-0.010309</td>\n",
       "      <td>1.247203</td>\n",
       "      <td>0.237609</td>\n",
       "      <td>0.377436</td>\n",
       "      <td>-1.387024</td>\n",
       "      <td>...</td>\n",
       "      <td>-0.108300</td>\n",
       "      <td>0.005274</td>\n",
       "      <td>-0.190321</td>\n",
       "      <td>-1.175575</td>\n",
       "      <td>0.647376</td>\n",
       "      <td>-0.221929</td>\n",
       "      <td>0.062723</td>\n",
       "      <td>0.061458</td>\n",
       "      <td>123.50</td>\n",
       "      <td>0</td>\n",
       "    </tr>\n",
       "    <tr>\n",
       "      <th>4</th>\n",
       "      <td>2.0</td>\n",
       "      <td>-1.158233</td>\n",
       "      <td>0.877737</td>\n",
       "      <td>1.548718</td>\n",
       "      <td>0.403034</td>\n",
       "      <td>-0.407193</td>\n",
       "      <td>0.095921</td>\n",
       "      <td>0.592941</td>\n",
       "      <td>-0.270533</td>\n",
       "      <td>0.817739</td>\n",
       "      <td>...</td>\n",
       "      <td>-0.009431</td>\n",
       "      <td>0.798278</td>\n",
       "      <td>-0.137458</td>\n",
       "      <td>0.141267</td>\n",
       "      <td>-0.206010</td>\n",
       "      <td>0.502292</td>\n",
       "      <td>0.219422</td>\n",
       "      <td>0.215153</td>\n",
       "      <td>69.99</td>\n",
       "      <td>0</td>\n",
       "    </tr>\n",
       "    <tr>\n",
       "      <th>...</th>\n",
       "      <td>...</td>\n",
       "      <td>...</td>\n",
       "      <td>...</td>\n",
       "      <td>...</td>\n",
       "      <td>...</td>\n",
       "      <td>...</td>\n",
       "      <td>...</td>\n",
       "      <td>...</td>\n",
       "      <td>...</td>\n",
       "      <td>...</td>\n",
       "      <td>...</td>\n",
       "      <td>...</td>\n",
       "      <td>...</td>\n",
       "      <td>...</td>\n",
       "      <td>...</td>\n",
       "      <td>...</td>\n",
       "      <td>...</td>\n",
       "      <td>...</td>\n",
       "      <td>...</td>\n",
       "      <td>...</td>\n",
       "      <td>...</td>\n",
       "    </tr>\n",
       "    <tr>\n",
       "      <th>284802</th>\n",
       "      <td>172786.0</td>\n",
       "      <td>-11.881118</td>\n",
       "      <td>10.071785</td>\n",
       "      <td>-9.834783</td>\n",
       "      <td>-2.066656</td>\n",
       "      <td>-5.364473</td>\n",
       "      <td>-2.606837</td>\n",
       "      <td>-4.918215</td>\n",
       "      <td>7.305334</td>\n",
       "      <td>1.914428</td>\n",
       "      <td>...</td>\n",
       "      <td>0.213454</td>\n",
       "      <td>0.111864</td>\n",
       "      <td>1.014480</td>\n",
       "      <td>-0.509348</td>\n",
       "      <td>1.436807</td>\n",
       "      <td>0.250034</td>\n",
       "      <td>0.943651</td>\n",
       "      <td>0.823731</td>\n",
       "      <td>0.77</td>\n",
       "      <td>0</td>\n",
       "    </tr>\n",
       "    <tr>\n",
       "      <th>284803</th>\n",
       "      <td>172787.0</td>\n",
       "      <td>-0.732789</td>\n",
       "      <td>-0.055080</td>\n",
       "      <td>2.035030</td>\n",
       "      <td>-0.738589</td>\n",
       "      <td>0.868229</td>\n",
       "      <td>1.058415</td>\n",
       "      <td>0.024330</td>\n",
       "      <td>0.294869</td>\n",
       "      <td>0.584800</td>\n",
       "      <td>...</td>\n",
       "      <td>0.214205</td>\n",
       "      <td>0.924384</td>\n",
       "      <td>0.012463</td>\n",
       "      <td>-1.016226</td>\n",
       "      <td>-0.606624</td>\n",
       "      <td>-0.395255</td>\n",
       "      <td>0.068472</td>\n",
       "      <td>-0.053527</td>\n",
       "      <td>24.79</td>\n",
       "      <td>0</td>\n",
       "    </tr>\n",
       "    <tr>\n",
       "      <th>284804</th>\n",
       "      <td>172788.0</td>\n",
       "      <td>1.919565</td>\n",
       "      <td>-0.301254</td>\n",
       "      <td>-3.249640</td>\n",
       "      <td>-0.557828</td>\n",
       "      <td>2.630515</td>\n",
       "      <td>3.031260</td>\n",
       "      <td>-0.296827</td>\n",
       "      <td>0.708417</td>\n",
       "      <td>0.432454</td>\n",
       "      <td>...</td>\n",
       "      <td>0.232045</td>\n",
       "      <td>0.578229</td>\n",
       "      <td>-0.037501</td>\n",
       "      <td>0.640134</td>\n",
       "      <td>0.265745</td>\n",
       "      <td>-0.087371</td>\n",
       "      <td>0.004455</td>\n",
       "      <td>-0.026561</td>\n",
       "      <td>67.88</td>\n",
       "      <td>0</td>\n",
       "    </tr>\n",
       "    <tr>\n",
       "      <th>284805</th>\n",
       "      <td>172788.0</td>\n",
       "      <td>-0.240440</td>\n",
       "      <td>0.530483</td>\n",
       "      <td>0.702510</td>\n",
       "      <td>0.689799</td>\n",
       "      <td>-0.377961</td>\n",
       "      <td>0.623708</td>\n",
       "      <td>-0.686180</td>\n",
       "      <td>0.679145</td>\n",
       "      <td>0.392087</td>\n",
       "      <td>...</td>\n",
       "      <td>0.265245</td>\n",
       "      <td>0.800049</td>\n",
       "      <td>-0.163298</td>\n",
       "      <td>0.123205</td>\n",
       "      <td>-0.569159</td>\n",
       "      <td>0.546668</td>\n",
       "      <td>0.108821</td>\n",
       "      <td>0.104533</td>\n",
       "      <td>10.00</td>\n",
       "      <td>0</td>\n",
       "    </tr>\n",
       "    <tr>\n",
       "      <th>284806</th>\n",
       "      <td>172792.0</td>\n",
       "      <td>-0.533413</td>\n",
       "      <td>-0.189733</td>\n",
       "      <td>0.703337</td>\n",
       "      <td>-0.506271</td>\n",
       "      <td>-0.012546</td>\n",
       "      <td>-0.649617</td>\n",
       "      <td>1.577006</td>\n",
       "      <td>-0.414650</td>\n",
       "      <td>0.486180</td>\n",
       "      <td>...</td>\n",
       "      <td>0.261057</td>\n",
       "      <td>0.643078</td>\n",
       "      <td>0.376777</td>\n",
       "      <td>0.008797</td>\n",
       "      <td>-0.473649</td>\n",
       "      <td>-0.818267</td>\n",
       "      <td>-0.002415</td>\n",
       "      <td>0.013649</td>\n",
       "      <td>217.00</td>\n",
       "      <td>0</td>\n",
       "    </tr>\n",
       "  </tbody>\n",
       "</table>\n",
       "<p>284807 rows × 31 columns</p>\n",
       "</div>"
      ],
      "text/plain": [
       "            Time         V1         V2        V3        V4        V5  \\\n",
       "0            0.0  -1.359807  -0.072781  2.536347  1.378155 -0.338321   \n",
       "1            0.0   1.191857   0.266151  0.166480  0.448154  0.060018   \n",
       "2            1.0  -1.358354  -1.340163  1.773209  0.379780 -0.503198   \n",
       "3            1.0  -0.966272  -0.185226  1.792993 -0.863291 -0.010309   \n",
       "4            2.0  -1.158233   0.877737  1.548718  0.403034 -0.407193   \n",
       "...          ...        ...        ...       ...       ...       ...   \n",
       "284802  172786.0 -11.881118  10.071785 -9.834783 -2.066656 -5.364473   \n",
       "284803  172787.0  -0.732789  -0.055080  2.035030 -0.738589  0.868229   \n",
       "284804  172788.0   1.919565  -0.301254 -3.249640 -0.557828  2.630515   \n",
       "284805  172788.0  -0.240440   0.530483  0.702510  0.689799 -0.377961   \n",
       "284806  172792.0  -0.533413  -0.189733  0.703337 -0.506271 -0.012546   \n",
       "\n",
       "              V6        V7        V8        V9  ...       V21       V22  \\\n",
       "0       0.462388  0.239599  0.098698  0.363787  ... -0.018307  0.277838   \n",
       "1      -0.082361 -0.078803  0.085102 -0.255425  ... -0.225775 -0.638672   \n",
       "2       1.800499  0.791461  0.247676 -1.514654  ...  0.247998  0.771679   \n",
       "3       1.247203  0.237609  0.377436 -1.387024  ... -0.108300  0.005274   \n",
       "4       0.095921  0.592941 -0.270533  0.817739  ... -0.009431  0.798278   \n",
       "...          ...       ...       ...       ...  ...       ...       ...   \n",
       "284802 -2.606837 -4.918215  7.305334  1.914428  ...  0.213454  0.111864   \n",
       "284803  1.058415  0.024330  0.294869  0.584800  ...  0.214205  0.924384   \n",
       "284804  3.031260 -0.296827  0.708417  0.432454  ...  0.232045  0.578229   \n",
       "284805  0.623708 -0.686180  0.679145  0.392087  ...  0.265245  0.800049   \n",
       "284806 -0.649617  1.577006 -0.414650  0.486180  ...  0.261057  0.643078   \n",
       "\n",
       "             V23       V24       V25       V26       V27       V28  Amount  \\\n",
       "0      -0.110474  0.066928  0.128539 -0.189115  0.133558 -0.021053  149.62   \n",
       "1       0.101288 -0.339846  0.167170  0.125895 -0.008983  0.014724    2.69   \n",
       "2       0.909412 -0.689281 -0.327642 -0.139097 -0.055353 -0.059752  378.66   \n",
       "3      -0.190321 -1.175575  0.647376 -0.221929  0.062723  0.061458  123.50   \n",
       "4      -0.137458  0.141267 -0.206010  0.502292  0.219422  0.215153   69.99   \n",
       "...          ...       ...       ...       ...       ...       ...     ...   \n",
       "284802  1.014480 -0.509348  1.436807  0.250034  0.943651  0.823731    0.77   \n",
       "284803  0.012463 -1.016226 -0.606624 -0.395255  0.068472 -0.053527   24.79   \n",
       "284804 -0.037501  0.640134  0.265745 -0.087371  0.004455 -0.026561   67.88   \n",
       "284805 -0.163298  0.123205 -0.569159  0.546668  0.108821  0.104533   10.00   \n",
       "284806  0.376777  0.008797 -0.473649 -0.818267 -0.002415  0.013649  217.00   \n",
       "\n",
       "        Class  \n",
       "0           0  \n",
       "1           0  \n",
       "2           0  \n",
       "3           0  \n",
       "4           0  \n",
       "...       ...  \n",
       "284802      0  \n",
       "284803      0  \n",
       "284804      0  \n",
       "284805      0  \n",
       "284806      0  \n",
       "\n",
       "[284807 rows x 31 columns]"
      ]
     },
     "execution_count": 3,
     "metadata": {},
     "output_type": "execute_result"
    }
   ],
   "source": [
    "data"
   ]
  },
  {
   "cell_type": "code",
   "execution_count": 4,
   "id": "e2f97bea",
   "metadata": {
    "execution": {
     "iopub.execute_input": "2022-03-31T14:29:53.254407Z",
     "iopub.status.busy": "2022-03-31T14:29:53.253088Z",
     "iopub.status.idle": "2022-03-31T14:29:53.293779Z",
     "shell.execute_reply": "2022-03-31T14:29:53.294301Z",
     "shell.execute_reply.started": "2022-03-31T14:12:16.722229Z"
    },
    "papermill": {
     "duration": 0.096579,
     "end_time": "2022-03-31T14:29:53.294488",
     "exception": false,
     "start_time": "2022-03-31T14:29:53.197909",
     "status": "completed"
    },
    "tags": []
   },
   "outputs": [
    {
     "name": "stdout",
     "output_type": "stream",
     "text": [
      "<class 'pandas.core.frame.DataFrame'>\n",
      "RangeIndex: 284807 entries, 0 to 284806\n",
      "Data columns (total 31 columns):\n",
      " #   Column  Non-Null Count   Dtype  \n",
      "---  ------  --------------   -----  \n",
      " 0   Time    284807 non-null  float64\n",
      " 1   V1      284807 non-null  float64\n",
      " 2   V2      284807 non-null  float64\n",
      " 3   V3      284807 non-null  float64\n",
      " 4   V4      284807 non-null  float64\n",
      " 5   V5      284807 non-null  float64\n",
      " 6   V6      284807 non-null  float64\n",
      " 7   V7      284807 non-null  float64\n",
      " 8   V8      284807 non-null  float64\n",
      " 9   V9      284807 non-null  float64\n",
      " 10  V10     284807 non-null  float64\n",
      " 11  V11     284807 non-null  float64\n",
      " 12  V12     284807 non-null  float64\n",
      " 13  V13     284807 non-null  float64\n",
      " 14  V14     284807 non-null  float64\n",
      " 15  V15     284807 non-null  float64\n",
      " 16  V16     284807 non-null  float64\n",
      " 17  V17     284807 non-null  float64\n",
      " 18  V18     284807 non-null  float64\n",
      " 19  V19     284807 non-null  float64\n",
      " 20  V20     284807 non-null  float64\n",
      " 21  V21     284807 non-null  float64\n",
      " 22  V22     284807 non-null  float64\n",
      " 23  V23     284807 non-null  float64\n",
      " 24  V24     284807 non-null  float64\n",
      " 25  V25     284807 non-null  float64\n",
      " 26  V26     284807 non-null  float64\n",
      " 27  V27     284807 non-null  float64\n",
      " 28  V28     284807 non-null  float64\n",
      " 29  Amount  284807 non-null  float64\n",
      " 30  Class   284807 non-null  int64  \n",
      "dtypes: float64(30), int64(1)\n",
      "memory usage: 67.4 MB\n"
     ]
    }
   ],
   "source": [
    "data.info()"
   ]
  },
  {
   "cell_type": "code",
   "execution_count": 5,
   "id": "685c4eed",
   "metadata": {
    "execution": {
     "iopub.execute_input": "2022-03-31T14:29:53.397933Z",
     "iopub.status.busy": "2022-03-31T14:29:53.396674Z",
     "iopub.status.idle": "2022-03-31T14:29:53.421000Z",
     "shell.execute_reply": "2022-03-31T14:29:53.420328Z",
     "shell.execute_reply.started": "2022-03-31T14:12:16.757110Z"
    },
    "papermill": {
     "duration": 0.077885,
     "end_time": "2022-03-31T14:29:53.421145",
     "exception": false,
     "start_time": "2022-03-31T14:29:53.343260",
     "status": "completed"
    },
    "tags": []
   },
   "outputs": [
    {
     "data": {
      "text/plain": [
       "Time      0\n",
       "V1        0\n",
       "V2        0\n",
       "V3        0\n",
       "V4        0\n",
       "V5        0\n",
       "V6        0\n",
       "V7        0\n",
       "V8        0\n",
       "V9        0\n",
       "V10       0\n",
       "V11       0\n",
       "V12       0\n",
       "V13       0\n",
       "V14       0\n",
       "V15       0\n",
       "V16       0\n",
       "V17       0\n",
       "V18       0\n",
       "V19       0\n",
       "V20       0\n",
       "V21       0\n",
       "V22       0\n",
       "V23       0\n",
       "V24       0\n",
       "V25       0\n",
       "V26       0\n",
       "V27       0\n",
       "V28       0\n",
       "Amount    0\n",
       "Class     0\n",
       "dtype: int64"
      ]
     },
     "execution_count": 5,
     "metadata": {},
     "output_type": "execute_result"
    }
   ],
   "source": [
    "data.isnull().sum()"
   ]
  },
  {
   "cell_type": "code",
   "execution_count": 6,
   "id": "16f32d11",
   "metadata": {
    "execution": {
     "iopub.execute_input": "2022-03-31T14:29:53.527359Z",
     "iopub.status.busy": "2022-03-31T14:29:53.526408Z",
     "iopub.status.idle": "2022-03-31T14:29:53.530655Z",
     "shell.execute_reply": "2022-03-31T14:29:53.530007Z",
     "shell.execute_reply.started": "2022-03-31T14:12:16.777995Z"
    },
    "papermill": {
     "duration": 0.061367,
     "end_time": "2022-03-31T14:29:53.530819",
     "exception": false,
     "start_time": "2022-03-31T14:29:53.469452",
     "status": "completed"
    },
    "tags": []
   },
   "outputs": [
    {
     "data": {
      "text/plain": [
       "0    284315\n",
       "1       492\n",
       "Name: Class, dtype: int64"
      ]
     },
     "execution_count": 6,
     "metadata": {},
     "output_type": "execute_result"
    }
   ],
   "source": [
    "data['Class'].value_counts()"
   ]
  },
  {
   "cell_type": "code",
   "execution_count": 7,
   "id": "a7e72c3a",
   "metadata": {
    "execution": {
     "iopub.execute_input": "2022-03-31T14:29:53.676806Z",
     "iopub.status.busy": "2022-03-31T14:29:53.675662Z",
     "iopub.status.idle": "2022-03-31T14:30:14.039106Z",
     "shell.execute_reply": "2022-03-31T14:30:14.039663Z",
     "shell.execute_reply.started": "2022-03-31T14:12:16.788845Z"
    },
    "papermill": {
     "duration": 20.458999,
     "end_time": "2022-03-31T14:30:14.039875",
     "exception": false,
     "start_time": "2022-03-31T14:29:53.580876",
     "status": "completed"
    },
    "tags": []
   },
   "outputs": [
    {
     "data": {
      "image/png": "[encoded data removed]",
      "text/plain": [
       "<Figure size 1440x4320 with 30 Axes>"
      ]
     },
     "metadata": {
      "needs_background": "light"
     },
     "output_type": "display_data"
    }
   ],
   "source": [
    "notfraud = data.Class == 0\n",
    "fraud = data.Class == 1\n",
    "plt.figure(figsize = (20,60))\n",
    "for n,col in enumerate(data.drop('Class',axis =1).columns):\n",
    "    plt.subplot(10,3,n+1)\n",
    "    sns.histplot(data[col][data.Class == 1],bins = 50)\n",
    "    sns.histplot(data[col][data.Class == 0],bins = 50)\n",
    "plt.show()"
   ]
  },
  {
   "cell_type": "code",
   "execution_count": 8,
   "id": "34552e44",
   "metadata": {
    "execution": {
     "iopub.execute_input": "2022-03-31T14:30:14.151370Z",
     "iopub.status.busy": "2022-03-31T14:30:14.150685Z",
     "iopub.status.idle": "2022-03-31T14:30:14.225298Z",
     "shell.execute_reply": "2022-03-31T14:30:14.225814Z",
     "shell.execute_reply.started": "2022-03-31T14:12:30.912392Z"
    },
    "papermill": {
     "duration": 0.131245,
     "end_time": "2022-03-31T14:30:14.226015",
     "exception": false,
     "start_time": "2022-03-31T14:30:14.094770",
     "status": "completed"
    },
    "tags": []
   },
   "outputs": [
    {
     "data": {
      "text/html": [
       "<div>\n",
       "<style scoped>\n",
       "    .dataframe tbody tr th:only-of-type {\n",
       "        vertical-align: middle;\n",
       "    }\n",
       "\n",
       "    .dataframe tbody tr th {\n",
       "        vertical-align: top;\n",
       "    }\n",
       "\n",
       "    .dataframe thead tr th {\n",
       "        text-align: left;\n",
       "    }\n",
       "\n",
       "    .dataframe thead tr:last-of-type th {\n",
       "        text-align: right;\n",
       "    }\n",
       "</style>\n",
       "<table border=\"1\" class=\"dataframe\">\n",
       "  <thead>\n",
       "    <tr>\n",
       "      <th></th>\n",
       "      <th colspan=\"8\" halign=\"left\">Time</th>\n",
       "      <th colspan=\"8\" halign=\"left\">Amount</th>\n",
       "    </tr>\n",
       "    <tr>\n",
       "      <th></th>\n",
       "      <th>count</th>\n",
       "      <th>mean</th>\n",
       "      <th>std</th>\n",
       "      <th>min</th>\n",
       "      <th>25%</th>\n",
       "      <th>50%</th>\n",
       "      <th>75%</th>\n",
       "      <th>max</th>\n",
       "      <th>count</th>\n",
       "      <th>mean</th>\n",
       "      <th>std</th>\n",
       "      <th>min</th>\n",
       "      <th>25%</th>\n",
       "      <th>50%</th>\n",
       "      <th>75%</th>\n",
       "      <th>max</th>\n",
       "    </tr>\n",
       "    <tr>\n",
       "      <th>Class</th>\n",
       "      <th></th>\n",
       "      <th></th>\n",
       "      <th></th>\n",
       "      <th></th>\n",
       "      <th></th>\n",
       "      <th></th>\n",
       "      <th></th>\n",
       "      <th></th>\n",
       "      <th></th>\n",
       "      <th></th>\n",
       "      <th></th>\n",
       "      <th></th>\n",
       "      <th></th>\n",
       "      <th></th>\n",
       "      <th></th>\n",
       "      <th></th>\n",
       "    </tr>\n",
       "  </thead>\n",
       "  <tbody>\n",
       "    <tr>\n",
       "      <th>0</th>\n",
       "      <td>284315.0</td>\n",
       "      <td>94838.202258</td>\n",
       "      <td>47484.015786</td>\n",
       "      <td>0.0</td>\n",
       "      <td>54230.0</td>\n",
       "      <td>84711.0</td>\n",
       "      <td>139333.0</td>\n",
       "      <td>172792.0</td>\n",
       "      <td>284315.0</td>\n",
       "      <td>88.291022</td>\n",
       "      <td>250.105092</td>\n",
       "      <td>0.0</td>\n",
       "      <td>5.65</td>\n",
       "      <td>22.00</td>\n",
       "      <td>77.05</td>\n",
       "      <td>25691.16</td>\n",
       "    </tr>\n",
       "    <tr>\n",
       "      <th>1</th>\n",
       "      <td>492.0</td>\n",
       "      <td>80746.806911</td>\n",
       "      <td>47835.365138</td>\n",
       "      <td>406.0</td>\n",
       "      <td>41241.5</td>\n",
       "      <td>75568.5</td>\n",
       "      <td>128483.0</td>\n",
       "      <td>170348.0</td>\n",
       "      <td>492.0</td>\n",
       "      <td>122.211321</td>\n",
       "      <td>256.683288</td>\n",
       "      <td>0.0</td>\n",
       "      <td>1.00</td>\n",
       "      <td>9.25</td>\n",
       "      <td>105.89</td>\n",
       "      <td>2125.87</td>\n",
       "    </tr>\n",
       "  </tbody>\n",
       "</table>\n",
       "</div>"
      ],
      "text/plain": [
       "           Time                                                       \\\n",
       "          count          mean           std    min      25%      50%   \n",
       "Class                                                                  \n",
       "0      284315.0  94838.202258  47484.015786    0.0  54230.0  84711.0   \n",
       "1         492.0  80746.806911  47835.365138  406.0  41241.5  75568.5   \n",
       "\n",
       "                             Amount                                            \\\n",
       "            75%       max     count        mean         std  min   25%    50%   \n",
       "Class                                                                           \n",
       "0      139333.0  172792.0  284315.0   88.291022  250.105092  0.0  5.65  22.00   \n",
       "1      128483.0  170348.0     492.0  122.211321  256.683288  0.0  1.00   9.25   \n",
       "\n",
       "                         \n",
       "          75%       max  \n",
       "Class                    \n",
       "0       77.05  25691.16  \n",
       "1      105.89   2125.87  "
      ]
     },
     "execution_count": 8,
     "metadata": {},
     "output_type": "execute_result"
    }
   ],
   "source": [
    "data[['Time','Amount','Class']].groupby('Class').describe()"
   ]
  },
  {
   "cell_type": "code",
   "execution_count": 9,
   "id": "1892c6fe",
   "metadata": {
    "execution": {
     "iopub.execute_input": "2022-03-31T14:30:14.341593Z",
     "iopub.status.busy": "2022-03-31T14:30:14.340924Z",
     "iopub.status.idle": "2022-03-31T14:30:15.012810Z",
     "shell.execute_reply": "2022-03-31T14:30:15.013367Z",
     "shell.execute_reply.started": "2022-03-31T14:12:30.976650Z"
    },
    "papermill": {
     "duration": 0.732605,
     "end_time": "2022-03-31T14:30:15.013564",
     "exception": false,
     "start_time": "2022-03-31T14:30:14.280959",
     "status": "completed"
    },
    "tags": []
   },
   "outputs": [
    {
     "data": {
      "text/plain": [
       "<AxesSubplot:>"
      ]
     },
     "execution_count": 9,
     "metadata": {},
     "output_type": "execute_result"
    },
    {
     "data": {
      "image/png": "[encoded data removed]",
      "text/plain": [
       "<Figure size 432x288 with 1 Axes>"
      ]
     },
     "metadata": {
      "needs_background": "light"
     },
     "output_type": "display_data"
    }
   ],
   "source": [
    "data.boxplot('Amount')"
   ]
  },
  {
   "cell_type": "code",
   "execution_count": 10,
   "id": "cce1f7ab",
   "metadata": {
    "execution": {
     "iopub.execute_input": "2022-03-31T14:30:15.129299Z",
     "iopub.status.busy": "2022-03-31T14:30:15.128592Z",
     "iopub.status.idle": "2022-03-31T14:30:16.546881Z",
     "shell.execute_reply": "2022-03-31T14:30:16.547423Z",
     "shell.execute_reply.started": "2022-03-31T14:12:31.389532Z"
    },
    "papermill": {
     "duration": 1.47869,
     "end_time": "2022-03-31T14:30:16.547599",
     "exception": false,
     "start_time": "2022-03-31T14:30:15.068909",
     "status": "completed"
    },
    "tags": []
   },
   "outputs": [
    {
     "data": {
      "text/plain": [
       "<AxesSubplot:xlabel='Amount', ylabel='Time'>"
      ]
     },
     "execution_count": 10,
     "metadata": {},
     "output_type": "execute_result"
    },
    {
     "data": {
      "image/png": "[encoded data removed]",
      "text/plain": [
       "<Figure size 432x288 with 1 Axes>"
      ]
     },
     "metadata": {
      "needs_background": "light"
     },
     "output_type": "display_data"
    },
    {
     "data": {
      "image/png": "[encoded data removed]",
      "text/plain": [
       "<Figure size 432x288 with 1 Axes>"
      ]
     },
     "metadata": {
      "needs_background": "light"
     },
     "output_type": "display_data"
    }
   ],
   "source": [
    "data[data.Class == 0].plot.scatter('Amount','Time')\n",
    "data[data.Class == 1].plot.scatter('Amount','Time')"
   ]
  },
  {
   "cell_type": "markdown",
   "id": "ade2d3ef",
   "metadata": {
    "papermill": {
     "duration": 0.05812,
     "end_time": "2022-03-31T14:30:16.664529",
     "exception": false,
     "start_time": "2022-03-31T14:30:16.606409",
     "status": "completed"
    },
    "tags": []
   },
   "source": []
  },
  {
   "cell_type": "code",
   "execution_count": 11,
   "id": "e0709cfe",
   "metadata": {
    "execution": {
     "iopub.execute_input": "2022-03-31T14:30:16.783873Z",
     "iopub.status.busy": "2022-03-31T14:30:16.783166Z",
     "iopub.status.idle": "2022-03-31T14:30:16.789338Z",
     "shell.execute_reply": "2022-03-31T14:30:16.789997Z",
     "shell.execute_reply.started": "2022-03-31T14:12:32.501996Z"
    },
    "papermill": {
     "duration": 0.067377,
     "end_time": "2022-03-31T14:30:16.790176",
     "exception": false,
     "start_time": "2022-03-31T14:30:16.722799",
     "status": "completed"
    },
    "tags": []
   },
   "outputs": [
    {
     "data": {
      "text/plain": [
       "(7, 31)"
      ]
     },
     "execution_count": 11,
     "metadata": {},
     "output_type": "execute_result"
    }
   ],
   "source": [
    "data[data.Amount > 10000].shape"
   ]
  },
  {
   "cell_type": "code",
   "execution_count": 12,
   "id": "dc019516",
   "metadata": {
    "execution": {
     "iopub.execute_input": "2022-03-31T14:30:16.913821Z",
     "iopub.status.busy": "2022-03-31T14:30:16.911604Z",
     "iopub.status.idle": "2022-03-31T14:30:16.953942Z",
     "shell.execute_reply": "2022-03-31T14:30:16.954555Z",
     "shell.execute_reply.started": "2022-03-31T14:12:32.509453Z"
    },
    "papermill": {
     "duration": 0.105038,
     "end_time": "2022-03-31T14:30:16.954765",
     "exception": false,
     "start_time": "2022-03-31T14:30:16.849727",
     "status": "completed"
    },
    "tags": []
   },
   "outputs": [],
   "source": [
    "data = data.drop(data[data.Amount > 10000].index,axis = 0)"
   ]
  },
  {
   "cell_type": "markdown",
   "id": "5b2242ce",
   "metadata": {
    "papermill": {
     "duration": 0.059018,
     "end_time": "2022-03-31T14:30:17.072949",
     "exception": false,
     "start_time": "2022-03-31T14:30:17.013931",
     "status": "completed"
    },
    "tags": []
   },
   "source": [
    "# correlation"
   ]
  },
  {
   "cell_type": "code",
   "execution_count": 13,
   "id": "31b9172e",
   "metadata": {
    "execution": {
     "iopub.execute_input": "2022-03-31T14:30:17.195119Z",
     "iopub.status.busy": "2022-03-31T14:30:17.194396Z",
     "iopub.status.idle": "2022-03-31T14:30:17.878356Z",
     "shell.execute_reply": "2022-03-31T14:30:17.877711Z",
     "shell.execute_reply.started": "2022-03-31T14:12:32.564539Z"
    },
    "papermill": {
     "duration": 0.746729,
     "end_time": "2022-03-31T14:30:17.878524",
     "exception": false,
     "start_time": "2022-03-31T14:30:17.131795",
     "status": "completed"
    },
    "tags": []
   },
   "outputs": [],
   "source": [
    "corr = data.corr()"
   ]
  },
  {
   "cell_type": "code",
   "execution_count": 14,
   "id": "692c187e",
   "metadata": {
    "execution": {
     "iopub.execute_input": "2022-03-31T14:30:18.002427Z",
     "iopub.status.busy": "2022-03-31T14:30:18.001346Z",
     "iopub.status.idle": "2022-03-31T14:30:18.008997Z",
     "shell.execute_reply": "2022-03-31T14:30:18.008299Z",
     "shell.execute_reply.started": "2022-03-31T14:12:33.074372Z"
    },
    "papermill": {
     "duration": 0.071523,
     "end_time": "2022-03-31T14:30:18.009149",
     "exception": false,
     "start_time": "2022-03-31T14:30:17.937626",
     "status": "completed"
    },
    "tags": []
   },
   "outputs": [
    {
     "data": {
      "text/plain": [
       "Time     -0.012323\n",
       "V1       -0.101611\n",
       "V2        0.092067\n",
       "V3       -0.193567\n",
       "V4        0.133586\n",
       "V5       -0.096417\n",
       "V6       -0.043896\n",
       "V7       -0.191306\n",
       "V8        0.019890\n",
       "V9       -0.097741\n",
       "V10      -0.217033\n",
       "V11       0.154891\n",
       "V12      -0.260648\n",
       "V13      -0.004568\n",
       "V14      -0.302612\n",
       "V15      -0.004221\n",
       "V16      -0.196682\n",
       "V17      -0.326526\n",
       "V18      -0.111502\n",
       "V19       0.034796\n",
       "V20       0.020590\n",
       "V21       0.040536\n",
       "V22       0.000800\n",
       "V23      -0.002711\n",
       "V24      -0.007220\n",
       "V25       0.003306\n",
       "V26       0.004456\n",
       "V27       0.017790\n",
       "V28       0.009577\n",
       "Amount    0.006033\n",
       "Class     1.000000\n",
       "Name: Class, dtype: float64"
      ]
     },
     "execution_count": 14,
     "metadata": {},
     "output_type": "execute_result"
    }
   ],
   "source": [
    "corr['Class']"
   ]
  },
  {
   "cell_type": "markdown",
   "id": "27345c6a",
   "metadata": {
    "papermill": {
     "duration": 0.05952,
     "end_time": "2022-03-31T14:30:18.128649",
     "exception": false,
     "start_time": "2022-03-31T14:30:18.069129",
     "status": "completed"
    },
    "tags": []
   },
   "source": [
    "# check imbelance data"
   ]
  },
  {
   "cell_type": "code",
   "execution_count": 15,
   "id": "3f845de5",
   "metadata": {
    "execution": {
     "iopub.execute_input": "2022-03-31T14:30:18.253118Z",
     "iopub.status.busy": "2022-03-31T14:30:18.252048Z",
     "iopub.status.idle": "2022-03-31T14:30:18.260688Z",
     "shell.execute_reply": "2022-03-31T14:30:18.260016Z",
     "shell.execute_reply.started": "2022-03-31T14:12:33.084904Z"
    },
    "papermill": {
     "duration": 0.071441,
     "end_time": "2022-03-31T14:30:18.260884",
     "exception": false,
     "start_time": "2022-03-31T14:30:18.189443",
     "status": "completed"
    },
    "tags": []
   },
   "outputs": [
    {
     "name": "stdout",
     "output_type": "stream",
     "text": [
      "0    284308\n",
      "1       492\n",
      "Name: Class, dtype: int64\n"
     ]
    }
   ],
   "source": [
    "count = data.Class.value_counts()\n",
    "print(count)"
   ]
  },
  {
   "cell_type": "code",
   "execution_count": 16,
   "id": "ca90b74f",
   "metadata": {
    "execution": {
     "iopub.execute_input": "2022-03-31T14:30:18.386585Z",
     "iopub.status.busy": "2022-03-31T14:30:18.385890Z",
     "iopub.status.idle": "2022-03-31T14:30:18.390981Z",
     "shell.execute_reply": "2022-03-31T14:30:18.391535Z",
     "shell.execute_reply.started": "2022-03-31T14:12:33.097884Z"
    },
    "papermill": {
     "duration": 0.07021,
     "end_time": "2022-03-31T14:30:18.391728",
     "exception": false,
     "start_time": "2022-03-31T14:30:18.321518",
     "status": "completed"
    },
    "tags": []
   },
   "outputs": [
    {
     "data": {
      "text/plain": [
       "99.82724719101124"
      ]
     },
     "execution_count": 16,
     "metadata": {},
     "output_type": "execute_result"
    }
   ],
   "source": [
    "count[0]/sum(count)*100"
   ]
  },
  {
   "cell_type": "code",
   "execution_count": 17,
   "id": "d1f31768",
   "metadata": {
    "execution": {
     "iopub.execute_input": "2022-03-31T14:30:18.518302Z",
     "iopub.status.busy": "2022-03-31T14:30:18.517568Z",
     "iopub.status.idle": "2022-03-31T14:30:18.522991Z",
     "shell.execute_reply": "2022-03-31T14:30:18.523541Z",
     "shell.execute_reply.started": "2022-03-31T14:12:33.112451Z"
    },
    "papermill": {
     "duration": 0.069941,
     "end_time": "2022-03-31T14:30:18.523727",
     "exception": false,
     "start_time": "2022-03-31T14:30:18.453786",
     "status": "completed"
    },
    "tags": []
   },
   "outputs": [
    {
     "data": {
      "text/plain": [
       "0.17275280898876405"
      ]
     },
     "execution_count": 17,
     "metadata": {},
     "output_type": "execute_result"
    }
   ],
   "source": [
    "count[1]/sum(count)*100"
   ]
  },
  {
   "cell_type": "code",
   "execution_count": 18,
   "id": "eca136fd",
   "metadata": {
    "execution": {
     "iopub.execute_input": "2022-03-31T14:30:18.646907Z",
     "iopub.status.busy": "2022-03-31T14:30:18.646198Z",
     "iopub.status.idle": "2022-03-31T14:30:18.677367Z",
     "shell.execute_reply": "2022-03-31T14:30:18.677903Z",
     "shell.execute_reply.started": "2022-03-31T14:12:33.123632Z"
    },
    "papermill": {
     "duration": 0.094423,
     "end_time": "2022-03-31T14:30:18.678107",
     "exception": false,
     "start_time": "2022-03-31T14:30:18.583684",
     "status": "completed"
    },
    "tags": []
   },
   "outputs": [],
   "source": [
    "x = data.drop('Class',axis =1)\n",
    "y = data.Class.values"
   ]
  },
  {
   "cell_type": "markdown",
   "id": "2ff4b76e",
   "metadata": {
    "papermill": {
     "duration": 0.059222,
     "end_time": "2022-03-31T14:30:18.797145",
     "exception": false,
     "start_time": "2022-03-31T14:30:18.737923",
     "status": "completed"
    },
    "tags": []
   },
   "source": [
    "# Feature importance"
   ]
  },
  {
   "cell_type": "code",
   "execution_count": 19,
   "id": "9344027c",
   "metadata": {
    "execution": {
     "iopub.execute_input": "2022-03-31T14:30:18.919966Z",
     "iopub.status.busy": "2022-03-31T14:30:18.919205Z",
     "iopub.status.idle": "2022-03-31T14:30:19.151120Z",
     "shell.execute_reply": "2022-03-31T14:30:19.150506Z",
     "shell.execute_reply.started": "2022-03-31T14:12:33.146246Z"
    },
    "papermill": {
     "duration": 0.294349,
     "end_time": "2022-03-31T14:30:19.151284",
     "exception": false,
     "start_time": "2022-03-31T14:30:18.856935",
     "status": "completed"
    },
    "tags": []
   },
   "outputs": [],
   "source": [
    "from sklearn.linear_model import LogisticRegression"
   ]
  },
  {
   "cell_type": "code",
   "execution_count": 20,
   "id": "b79b61c3",
   "metadata": {
    "execution": {
     "iopub.execute_input": "2022-03-31T14:30:19.284283Z",
     "iopub.status.busy": "2022-03-31T14:30:19.283075Z",
     "iopub.status.idle": "2022-03-31T14:30:24.221578Z",
     "shell.execute_reply": "2022-03-31T14:30:24.220967Z",
     "shell.execute_reply.started": "2022-03-31T14:12:33.383711Z"
    },
    "papermill": {
     "duration": 5.00868,
     "end_time": "2022-03-31T14:30:24.221810",
     "exception": false,
     "start_time": "2022-03-31T14:30:19.213130",
     "status": "completed"
    },
    "tags": []
   },
   "outputs": [
    {
     "data": {
      "text/plain": [
       "LogisticRegression(max_iter=200, random_state=12, solver='liblinear')"
      ]
     },
     "execution_count": 20,
     "metadata": {},
     "output_type": "execute_result"
    }
   ],
   "source": [
    "model = LogisticRegression(max_iter = 200,random_state =12,solver = 'liblinear')\n",
    "model.fit(x,y)"
   ]
  },
  {
   "cell_type": "code",
   "execution_count": 21,
   "id": "49d044b9",
   "metadata": {
    "execution": {
     "iopub.execute_input": "2022-03-31T14:30:24.350714Z",
     "iopub.status.busy": "2022-03-31T14:30:24.350059Z",
     "iopub.status.idle": "2022-03-31T14:30:24.352805Z",
     "shell.execute_reply": "2022-03-31T14:30:24.352132Z",
     "shell.execute_reply.started": "2022-03-31T14:12:39.430721Z"
    },
    "papermill": {
     "duration": 0.070481,
     "end_time": "2022-03-31T14:30:24.352947",
     "exception": false,
     "start_time": "2022-03-31T14:30:24.282466",
     "status": "completed"
    },
    "tags": []
   },
   "outputs": [],
   "source": [
    "coff = pd.concat([pd.DataFrame(x.columns),pd.DataFrame(np.transpose(model.coef_))],axis =1)"
   ]
  },
  {
   "cell_type": "code",
   "execution_count": 22,
   "id": "8932ea30",
   "metadata": {
    "execution": {
     "iopub.execute_input": "2022-03-31T14:30:24.487258Z",
     "iopub.status.busy": "2022-03-31T14:30:24.486529Z",
     "iopub.status.idle": "2022-03-31T14:30:24.491195Z",
     "shell.execute_reply": "2022-03-31T14:30:24.490595Z",
     "shell.execute_reply.started": "2022-03-31T14:12:39.438294Z"
    },
    "papermill": {
     "duration": 0.07636,
     "end_time": "2022-03-31T14:30:24.491338",
     "exception": false,
     "start_time": "2022-03-31T14:30:24.414978",
     "status": "completed"
    },
    "tags": []
   },
   "outputs": [
    {
     "data": {
      "text/html": [
       "<div>\n",
       "<style scoped>\n",
       "    .dataframe tbody tr th:only-of-type {\n",
       "        vertical-align: middle;\n",
       "    }\n",
       "\n",
       "    .dataframe tbody tr th {\n",
       "        vertical-align: top;\n",
       "    }\n",
       "\n",
       "    .dataframe thead th {\n",
       "        text-align: right;\n",
       "    }\n",
       "</style>\n",
       "<table border=\"1\" class=\"dataframe\">\n",
       "  <thead>\n",
       "    <tr style=\"text-align: right;\">\n",
       "      <th></th>\n",
       "      <th>0</th>\n",
       "      <th>0</th>\n",
       "    </tr>\n",
       "  </thead>\n",
       "  <tbody>\n",
       "    <tr>\n",
       "      <th>0</th>\n",
       "      <td>Time</td>\n",
       "      <td>-0.000071</td>\n",
       "    </tr>\n",
       "    <tr>\n",
       "      <th>1</th>\n",
       "      <td>V1</td>\n",
       "      <td>0.318722</td>\n",
       "    </tr>\n",
       "    <tr>\n",
       "      <th>2</th>\n",
       "      <td>V2</td>\n",
       "      <td>-0.483859</td>\n",
       "    </tr>\n",
       "    <tr>\n",
       "      <th>3</th>\n",
       "      <td>V3</td>\n",
       "      <td>-0.793137</td>\n",
       "    </tr>\n",
       "    <tr>\n",
       "      <th>4</th>\n",
       "      <td>V4</td>\n",
       "      <td>0.120292</td>\n",
       "    </tr>\n",
       "    <tr>\n",
       "      <th>5</th>\n",
       "      <td>V5</td>\n",
       "      <td>0.057527</td>\n",
       "    </tr>\n",
       "    <tr>\n",
       "      <th>6</th>\n",
       "      <td>V6</td>\n",
       "      <td>-0.054039</td>\n",
       "    </tr>\n",
       "    <tr>\n",
       "      <th>7</th>\n",
       "      <td>V7</td>\n",
       "      <td>0.335279</td>\n",
       "    </tr>\n",
       "    <tr>\n",
       "      <th>8</th>\n",
       "      <td>V8</td>\n",
       "      <td>-0.374233</td>\n",
       "    </tr>\n",
       "    <tr>\n",
       "      <th>9</th>\n",
       "      <td>V9</td>\n",
       "      <td>-0.388334</td>\n",
       "    </tr>\n",
       "    <tr>\n",
       "      <th>10</th>\n",
       "      <td>V10</td>\n",
       "      <td>-0.207003</td>\n",
       "    </tr>\n",
       "    <tr>\n",
       "      <th>11</th>\n",
       "      <td>V11</td>\n",
       "      <td>-0.286547</td>\n",
       "    </tr>\n",
       "    <tr>\n",
       "      <th>12</th>\n",
       "      <td>V12</td>\n",
       "      <td>0.018517</td>\n",
       "    </tr>\n",
       "    <tr>\n",
       "      <th>13</th>\n",
       "      <td>V13</td>\n",
       "      <td>-0.306448</td>\n",
       "    </tr>\n",
       "    <tr>\n",
       "      <th>14</th>\n",
       "      <td>V14</td>\n",
       "      <td>-0.694218</td>\n",
       "    </tr>\n",
       "    <tr>\n",
       "      <th>15</th>\n",
       "      <td>V15</td>\n",
       "      <td>-0.427661</td>\n",
       "    </tr>\n",
       "    <tr>\n",
       "      <th>16</th>\n",
       "      <td>V16</td>\n",
       "      <td>-0.294582</td>\n",
       "    </tr>\n",
       "    <tr>\n",
       "      <th>17</th>\n",
       "      <td>V17</td>\n",
       "      <td>-0.439679</td>\n",
       "    </tr>\n",
       "    <tr>\n",
       "      <th>18</th>\n",
       "      <td>V18</td>\n",
       "      <td>0.031098</td>\n",
       "    </tr>\n",
       "    <tr>\n",
       "      <th>19</th>\n",
       "      <td>V19</td>\n",
       "      <td>0.026484</td>\n",
       "    </tr>\n",
       "    <tr>\n",
       "      <th>20</th>\n",
       "      <td>V20</td>\n",
       "      <td>0.091969</td>\n",
       "    </tr>\n",
       "    <tr>\n",
       "      <th>21</th>\n",
       "      <td>V21</td>\n",
       "      <td>0.248798</td>\n",
       "    </tr>\n",
       "    <tr>\n",
       "      <th>22</th>\n",
       "      <td>V22</td>\n",
       "      <td>0.350917</td>\n",
       "    </tr>\n",
       "    <tr>\n",
       "      <th>23</th>\n",
       "      <td>V23</td>\n",
       "      <td>0.067693</td>\n",
       "    </tr>\n",
       "    <tr>\n",
       "      <th>24</th>\n",
       "      <td>V24</td>\n",
       "      <td>-0.024425</td>\n",
       "    </tr>\n",
       "    <tr>\n",
       "      <th>25</th>\n",
       "      <td>V25</td>\n",
       "      <td>-0.356116</td>\n",
       "    </tr>\n",
       "    <tr>\n",
       "      <th>26</th>\n",
       "      <td>V26</td>\n",
       "      <td>0.060713</td>\n",
       "    </tr>\n",
       "    <tr>\n",
       "      <th>27</th>\n",
       "      <td>V27</td>\n",
       "      <td>-0.088803</td>\n",
       "    </tr>\n",
       "    <tr>\n",
       "      <th>28</th>\n",
       "      <td>V28</td>\n",
       "      <td>0.027774</td>\n",
       "    </tr>\n",
       "    <tr>\n",
       "      <th>29</th>\n",
       "      <td>Amount</td>\n",
       "      <td>-0.005582</td>\n",
       "    </tr>\n",
       "  </tbody>\n",
       "</table>\n",
       "</div>"
      ],
      "text/plain": [
       "         0         0\n",
       "0     Time -0.000071\n",
       "1       V1  0.318722\n",
       "2       V2 -0.483859\n",
       "3       V3 -0.793137\n",
       "4       V4  0.120292\n",
       "5       V5  0.057527\n",
       "6       V6 -0.054039\n",
       "7       V7  0.335279\n",
       "8       V8 -0.374233\n",
       "9       V9 -0.388334\n",
       "10     V10 -0.207003\n",
       "11     V11 -0.286547\n",
       "12     V12  0.018517\n",
       "13     V13 -0.306448\n",
       "14     V14 -0.694218\n",
       "15     V15 -0.427661\n",
       "16     V16 -0.294582\n",
       "17     V17 -0.439679\n",
       "18     V18  0.031098\n",
       "19     V19  0.026484\n",
       "20     V20  0.091969\n",
       "21     V21  0.248798\n",
       "22     V22  0.350917\n",
       "23     V23  0.067693\n",
       "24     V24 -0.024425\n",
       "25     V25 -0.356116\n",
       "26     V26  0.060713\n",
       "27     V27 -0.088803\n",
       "28     V28  0.027774\n",
       "29  Amount -0.005582"
      ]
     },
     "execution_count": 22,
     "metadata": {},
     "output_type": "execute_result"
    }
   ],
   "source": [
    "coff"
   ]
  },
  {
   "cell_type": "code",
   "execution_count": 23,
   "id": "d2c6f67a",
   "metadata": {
    "execution": {
     "iopub.execute_input": "2022-03-31T14:30:24.621362Z",
     "iopub.status.busy": "2022-03-31T14:30:24.620675Z",
     "iopub.status.idle": "2022-03-31T14:30:24.623456Z",
     "shell.execute_reply": "2022-03-31T14:30:24.622886Z",
     "shell.execute_reply.started": "2022-03-31T14:12:39.457703Z"
    },
    "papermill": {
     "duration": 0.070151,
     "end_time": "2022-03-31T14:30:24.623597",
     "exception": false,
     "start_time": "2022-03-31T14:30:24.553446",
     "status": "completed"
    },
    "tags": []
   },
   "outputs": [],
   "source": [
    "coff.columns = ['feature','imptancecoff']\n",
    "coff.sort_values(by='imptancecoff',inplace = True)"
   ]
  },
  {
   "cell_type": "code",
   "execution_count": 24,
   "id": "cf60dcef",
   "metadata": {
    "execution": {
     "iopub.execute_input": "2022-03-31T14:30:24.753838Z",
     "iopub.status.busy": "2022-03-31T14:30:24.753175Z",
     "iopub.status.idle": "2022-03-31T14:30:24.761035Z",
     "shell.execute_reply": "2022-03-31T14:30:24.761617Z",
     "shell.execute_reply.started": "2022-03-31T14:12:39.469274Z"
    },
    "papermill": {
     "duration": 0.075827,
     "end_time": "2022-03-31T14:30:24.761800",
     "exception": false,
     "start_time": "2022-03-31T14:30:24.685973",
     "status": "completed"
    },
    "tags": []
   },
   "outputs": [
    {
     "data": {
      "text/html": [
       "<div>\n",
       "<style scoped>\n",
       "    .dataframe tbody tr th:only-of-type {\n",
       "        vertical-align: middle;\n",
       "    }\n",
       "\n",
       "    .dataframe tbody tr th {\n",
       "        vertical-align: top;\n",
       "    }\n",
       "\n",
       "    .dataframe thead th {\n",
       "        text-align: right;\n",
       "    }\n",
       "</style>\n",
       "<table border=\"1\" class=\"dataframe\">\n",
       "  <thead>\n",
       "    <tr style=\"text-align: right;\">\n",
       "      <th></th>\n",
       "      <th>feature</th>\n",
       "      <th>imptancecoff</th>\n",
       "    </tr>\n",
       "  </thead>\n",
       "  <tbody>\n",
       "    <tr>\n",
       "      <th>3</th>\n",
       "      <td>V3</td>\n",
       "      <td>-0.793137</td>\n",
       "    </tr>\n",
       "    <tr>\n",
       "      <th>14</th>\n",
       "      <td>V14</td>\n",
       "      <td>-0.694218</td>\n",
       "    </tr>\n",
       "    <tr>\n",
       "      <th>2</th>\n",
       "      <td>V2</td>\n",
       "      <td>-0.483859</td>\n",
       "    </tr>\n",
       "    <tr>\n",
       "      <th>17</th>\n",
       "      <td>V17</td>\n",
       "      <td>-0.439679</td>\n",
       "    </tr>\n",
       "    <tr>\n",
       "      <th>15</th>\n",
       "      <td>V15</td>\n",
       "      <td>-0.427661</td>\n",
       "    </tr>\n",
       "    <tr>\n",
       "      <th>9</th>\n",
       "      <td>V9</td>\n",
       "      <td>-0.388334</td>\n",
       "    </tr>\n",
       "    <tr>\n",
       "      <th>8</th>\n",
       "      <td>V8</td>\n",
       "      <td>-0.374233</td>\n",
       "    </tr>\n",
       "    <tr>\n",
       "      <th>25</th>\n",
       "      <td>V25</td>\n",
       "      <td>-0.356116</td>\n",
       "    </tr>\n",
       "    <tr>\n",
       "      <th>13</th>\n",
       "      <td>V13</td>\n",
       "      <td>-0.306448</td>\n",
       "    </tr>\n",
       "    <tr>\n",
       "      <th>16</th>\n",
       "      <td>V16</td>\n",
       "      <td>-0.294582</td>\n",
       "    </tr>\n",
       "    <tr>\n",
       "      <th>11</th>\n",
       "      <td>V11</td>\n",
       "      <td>-0.286547</td>\n",
       "    </tr>\n",
       "    <tr>\n",
       "      <th>10</th>\n",
       "      <td>V10</td>\n",
       "      <td>-0.207003</td>\n",
       "    </tr>\n",
       "    <tr>\n",
       "      <th>27</th>\n",
       "      <td>V27</td>\n",
       "      <td>-0.088803</td>\n",
       "    </tr>\n",
       "    <tr>\n",
       "      <th>6</th>\n",
       "      <td>V6</td>\n",
       "      <td>-0.054039</td>\n",
       "    </tr>\n",
       "    <tr>\n",
       "      <th>24</th>\n",
       "      <td>V24</td>\n",
       "      <td>-0.024425</td>\n",
       "    </tr>\n",
       "    <tr>\n",
       "      <th>29</th>\n",
       "      <td>Amount</td>\n",
       "      <td>-0.005582</td>\n",
       "    </tr>\n",
       "    <tr>\n",
       "      <th>0</th>\n",
       "      <td>Time</td>\n",
       "      <td>-0.000071</td>\n",
       "    </tr>\n",
       "    <tr>\n",
       "      <th>12</th>\n",
       "      <td>V12</td>\n",
       "      <td>0.018517</td>\n",
       "    </tr>\n",
       "    <tr>\n",
       "      <th>19</th>\n",
       "      <td>V19</td>\n",
       "      <td>0.026484</td>\n",
       "    </tr>\n",
       "    <tr>\n",
       "      <th>28</th>\n",
       "      <td>V28</td>\n",
       "      <td>0.027774</td>\n",
       "    </tr>\n",
       "    <tr>\n",
       "      <th>18</th>\n",
       "      <td>V18</td>\n",
       "      <td>0.031098</td>\n",
       "    </tr>\n",
       "    <tr>\n",
       "      <th>5</th>\n",
       "      <td>V5</td>\n",
       "      <td>0.057527</td>\n",
       "    </tr>\n",
       "    <tr>\n",
       "      <th>26</th>\n",
       "      <td>V26</td>\n",
       "      <td>0.060713</td>\n",
       "    </tr>\n",
       "    <tr>\n",
       "      <th>23</th>\n",
       "      <td>V23</td>\n",
       "      <td>0.067693</td>\n",
       "    </tr>\n",
       "    <tr>\n",
       "      <th>20</th>\n",
       "      <td>V20</td>\n",
       "      <td>0.091969</td>\n",
       "    </tr>\n",
       "    <tr>\n",
       "      <th>4</th>\n",
       "      <td>V4</td>\n",
       "      <td>0.120292</td>\n",
       "    </tr>\n",
       "    <tr>\n",
       "      <th>21</th>\n",
       "      <td>V21</td>\n",
       "      <td>0.248798</td>\n",
       "    </tr>\n",
       "    <tr>\n",
       "      <th>1</th>\n",
       "      <td>V1</td>\n",
       "      <td>0.318722</td>\n",
       "    </tr>\n",
       "    <tr>\n",
       "      <th>7</th>\n",
       "      <td>V7</td>\n",
       "      <td>0.335279</td>\n",
       "    </tr>\n",
       "    <tr>\n",
       "      <th>22</th>\n",
       "      <td>V22</td>\n",
       "      <td>0.350917</td>\n",
       "    </tr>\n",
       "  </tbody>\n",
       "</table>\n",
       "</div>"
      ],
      "text/plain": [
       "   feature  imptancecoff\n",
       "3       V3     -0.793137\n",
       "14     V14     -0.694218\n",
       "2       V2     -0.483859\n",
       "17     V17     -0.439679\n",
       "15     V15     -0.427661\n",
       "9       V9     -0.388334\n",
       "8       V8     -0.374233\n",
       "25     V25     -0.356116\n",
       "13     V13     -0.306448\n",
       "16     V16     -0.294582\n",
       "11     V11     -0.286547\n",
       "10     V10     -0.207003\n",
       "27     V27     -0.088803\n",
       "6       V6     -0.054039\n",
       "24     V24     -0.024425\n",
       "29  Amount     -0.005582\n",
       "0     Time     -0.000071\n",
       "12     V12      0.018517\n",
       "19     V19      0.026484\n",
       "28     V28      0.027774\n",
       "18     V18      0.031098\n",
       "5       V5      0.057527\n",
       "26     V26      0.060713\n",
       "23     V23      0.067693\n",
       "20     V20      0.091969\n",
       "4       V4      0.120292\n",
       "21     V21      0.248798\n",
       "1       V1      0.318722\n",
       "7       V7      0.335279\n",
       "22     V22      0.350917"
      ]
     },
     "execution_count": 24,
     "metadata": {},
     "output_type": "execute_result"
    }
   ],
   "source": [
    "coff"
   ]
  },
  {
   "cell_type": "code",
   "execution_count": 25,
   "id": "8e6288fe",
   "metadata": {
    "execution": {
     "iopub.execute_input": "2022-03-31T14:30:24.897769Z",
     "iopub.status.busy": "2022-03-31T14:30:24.897072Z",
     "iopub.status.idle": "2022-03-31T14:30:25.366339Z",
     "shell.execute_reply": "2022-03-31T14:30:25.365654Z",
     "shell.execute_reply.started": "2022-03-31T14:12:39.485975Z"
    },
    "papermill": {
     "duration": 0.542353,
     "end_time": "2022-03-31T14:30:25.366494",
     "exception": false,
     "start_time": "2022-03-31T14:30:24.824141",
     "status": "completed"
    },
    "tags": []
   },
   "outputs": [
    {
     "data": {
      "image/png": "[encoded data removed]",
      "text/plain": [
       "<Figure size 1440x1080 with 1 Axes>"
      ]
     },
     "metadata": {
      "needs_background": "light"
     },
     "output_type": "display_data"
    }
   ],
   "source": [
    "plt.figure(figsize=(20,15))\n",
    "sns.barplot(x ='feature',y='imptancecoff',data =coff)\n",
    "plt.show()"
   ]
  },
  {
   "cell_type": "markdown",
   "id": "52c5760a",
   "metadata": {
    "papermill": {
     "duration": 0.062259,
     "end_time": "2022-03-31T14:30:25.492287",
     "exception": false,
     "start_time": "2022-03-31T14:30:25.430028",
     "status": "completed"
    },
    "tags": []
   },
   "source": [
    "# Resampling"
   ]
  },
  {
   "cell_type": "code",
   "execution_count": 26,
   "id": "6c70b9eb",
   "metadata": {
    "execution": {
     "iopub.execute_input": "2022-03-31T14:30:25.622901Z",
     "iopub.status.busy": "2022-03-31T14:30:25.622221Z",
     "iopub.status.idle": "2022-03-31T14:30:25.658001Z",
     "shell.execute_reply": "2022-03-31T14:30:25.658517Z",
     "shell.execute_reply.started": "2022-03-31T14:14:59.093884Z"
    },
    "papermill": {
     "duration": 0.10367,
     "end_time": "2022-03-31T14:30:25.658701",
     "exception": false,
     "start_time": "2022-03-31T14:30:25.555031",
     "status": "completed"
    },
    "tags": []
   },
   "outputs": [],
   "source": [
    "notfraud  =data[data.Class == 0]\n",
    "fraud = data[data.Class ==1]\n",
    "\n",
    "no_of_sample = round(notfraud.shape[0] *0.05)\n"
   ]
  },
  {
   "cell_type": "code",
   "execution_count": 27,
   "id": "b4c7da4e",
   "metadata": {
    "execution": {
     "iopub.execute_input": "2022-03-31T14:30:25.786790Z",
     "iopub.status.busy": "2022-03-31T14:30:25.786143Z",
     "iopub.status.idle": "2022-03-31T14:30:26.020726Z",
     "shell.execute_reply": "2022-03-31T14:30:26.020150Z",
     "shell.execute_reply.started": "2022-03-31T14:15:52.877654Z"
    },
    "papermill": {
     "duration": 0.299593,
     "end_time": "2022-03-31T14:30:26.020908",
     "exception": false,
     "start_time": "2022-03-31T14:30:25.721315",
     "status": "completed"
    },
    "tags": []
   },
   "outputs": [],
   "source": [
    "from imblearn.over_sampling import RandomOverSampler\n",
    "from sklearn.utils import resample"
   ]
  },
  {
   "cell_type": "code",
   "execution_count": 28,
   "id": "9f64b1e5",
   "metadata": {
    "execution": {
     "iopub.execute_input": "2022-03-31T14:30:26.151566Z",
     "iopub.status.busy": "2022-03-31T14:30:26.150891Z",
     "iopub.status.idle": "2022-03-31T14:30:26.161527Z",
     "shell.execute_reply": "2022-03-31T14:30:26.160971Z",
     "shell.execute_reply.started": "2022-03-31T14:17:11.828635Z"
    },
    "papermill": {
     "duration": 0.078087,
     "end_time": "2022-03-31T14:30:26.161679",
     "exception": false,
     "start_time": "2022-03-31T14:30:26.083592",
     "status": "completed"
    },
    "tags": []
   },
   "outputs": [],
   "source": [
    "nofraud2 =  resample(notfraud,n_samples =no_of_sample,random_state = 15 )"
   ]
  },
  {
   "cell_type": "code",
   "execution_count": 29,
   "id": "94779c39",
   "metadata": {
    "execution": {
     "iopub.execute_input": "2022-03-31T14:30:26.292850Z",
     "iopub.status.busy": "2022-03-31T14:30:26.291405Z",
     "iopub.status.idle": "2022-03-31T14:30:26.295570Z",
     "shell.execute_reply": "2022-03-31T14:30:26.296221Z",
     "shell.execute_reply.started": "2022-03-31T14:18:23.879379Z"
    },
    "papermill": {
     "duration": 0.072031,
     "end_time": "2022-03-31T14:30:26.296384",
     "exception": false,
     "start_time": "2022-03-31T14:30:26.224353",
     "status": "completed"
    },
    "tags": []
   },
   "outputs": [],
   "source": [
    "data_sample = pd.concat([nofraud2,fraud],axis= 0)"
   ]
  },
  {
   "cell_type": "code",
   "execution_count": 30,
   "id": "7fa3903b",
   "metadata": {
    "execution": {
     "iopub.execute_input": "2022-03-31T14:30:26.425355Z",
     "iopub.status.busy": "2022-03-31T14:30:26.424640Z",
     "iopub.status.idle": "2022-03-31T14:30:26.431585Z",
     "shell.execute_reply": "2022-03-31T14:30:26.430953Z",
     "shell.execute_reply.started": "2022-03-31T14:19:28.022829Z"
    },
    "papermill": {
     "duration": 0.072319,
     "end_time": "2022-03-31T14:30:26.431723",
     "exception": false,
     "start_time": "2022-03-31T14:30:26.359404",
     "status": "completed"
    },
    "tags": []
   },
   "outputs": [],
   "source": [
    "x_sample = data_sample.drop('Class',axis =1)\n",
    "y_sample = data_sample.Class"
   ]
  },
  {
   "cell_type": "code",
   "execution_count": 31,
   "id": "55f6b51c",
   "metadata": {
    "execution": {
     "iopub.execute_input": "2022-03-31T14:30:26.562588Z",
     "iopub.status.busy": "2022-03-31T14:30:26.561912Z",
     "iopub.status.idle": "2022-03-31T14:30:26.586914Z",
     "shell.execute_reply": "2022-03-31T14:30:26.586289Z",
     "shell.execute_reply.started": "2022-03-31T14:20:46.974267Z"
    },
    "papermill": {
     "duration": 0.092478,
     "end_time": "2022-03-31T14:30:26.587072",
     "exception": false,
     "start_time": "2022-03-31T14:30:26.494594",
     "status": "completed"
    },
    "tags": []
   },
   "outputs": [
    {
     "data": {
      "text/plain": [
       "0    14215\n",
       "1    14215\n",
       "Name: Class, dtype: int64"
      ]
     },
     "execution_count": 31,
     "metadata": {},
     "output_type": "execute_result"
    }
   ],
   "source": [
    "res =RandomOverSampler()\n",
    "x,y = res.fit_resample(x_sample,y_sample)\n",
    "y.value_counts()\n"
   ]
  },
  {
   "cell_type": "code",
   "execution_count": null,
   "id": "dace52ac",
   "metadata": {
    "papermill": {
     "duration": 0.06307,
     "end_time": "2022-03-31T14:30:26.712874",
     "exception": false,
     "start_time": "2022-03-31T14:30:26.649804",
     "status": "completed"
    },
    "tags": []
   },
   "outputs": [],
   "source": []
  },
  {
   "cell_type": "markdown",
   "id": "f2ef17ac",
   "metadata": {
    "papermill": {
     "duration": 0.062864,
     "end_time": "2022-03-31T14:30:26.839028",
     "exception": false,
     "start_time": "2022-03-31T14:30:26.776164",
     "status": "completed"
    },
    "tags": []
   },
   "source": [
    "# Model build"
   ]
  },
  {
   "cell_type": "raw",
   "id": "2e0a5c96",
   "metadata": {
    "papermill": {
     "duration": 0.062593,
     "end_time": "2022-03-31T14:30:26.965026",
     "exception": false,
     "start_time": "2022-03-31T14:30:26.902433",
     "status": "completed"
    },
    "tags": []
   },
   "source": []
  },
  {
   "cell_type": "code",
   "execution_count": 32,
   "id": "a6ddce50",
   "metadata": {
    "execution": {
     "iopub.execute_input": "2022-03-31T14:30:27.096577Z",
     "iopub.status.busy": "2022-03-31T14:30:27.095438Z",
     "iopub.status.idle": "2022-03-31T14:30:27.099024Z",
     "shell.execute_reply": "2022-03-31T14:30:27.099569Z",
     "shell.execute_reply.started": "2022-03-31T14:23:26.341808Z"
    },
    "papermill": {
     "duration": 0.071813,
     "end_time": "2022-03-31T14:30:27.099757",
     "exception": false,
     "start_time": "2022-03-31T14:30:27.027944",
     "status": "completed"
    },
    "tags": []
   },
   "outputs": [],
   "source": [
    "from sklearn.model_selection import train_test_split"
   ]
  },
  {
   "cell_type": "code",
   "execution_count": 33,
   "id": "e9381b60",
   "metadata": {
    "execution": {
     "iopub.execute_input": "2022-03-31T14:30:27.234640Z",
     "iopub.status.busy": "2022-03-31T14:30:27.233352Z",
     "iopub.status.idle": "2022-03-31T14:30:27.245644Z",
     "shell.execute_reply": "2022-03-31T14:30:27.245029Z",
     "shell.execute_reply.started": "2022-03-31T14:24:36.235881Z"
    },
    "papermill": {
     "duration": 0.081973,
     "end_time": "2022-03-31T14:30:27.245817",
     "exception": false,
     "start_time": "2022-03-31T14:30:27.163844",
     "status": "completed"
    },
    "tags": []
   },
   "outputs": [],
   "source": [
    "xtrain,xtest,ytrain,ytest = train_test_split(x,y,test_size =0.20)"
   ]
  },
  {
   "cell_type": "code",
   "execution_count": 34,
   "id": "eabbe03e",
   "metadata": {
    "execution": {
     "iopub.execute_input": "2022-03-31T14:30:27.377891Z",
     "iopub.status.busy": "2022-03-31T14:30:27.376996Z",
     "iopub.status.idle": "2022-03-31T14:30:27.380277Z",
     "shell.execute_reply": "2022-03-31T14:30:27.379700Z",
     "shell.execute_reply.started": "2022-03-31T14:25:07.363432Z"
    },
    "papermill": {
     "duration": 0.071009,
     "end_time": "2022-03-31T14:30:27.380424",
     "exception": false,
     "start_time": "2022-03-31T14:30:27.309415",
     "status": "completed"
    },
    "tags": []
   },
   "outputs": [],
   "source": [
    "lr_model = LogisticRegression()"
   ]
  },
  {
   "cell_type": "code",
   "execution_count": 35,
   "id": "52002a71",
   "metadata": {
    "execution": {
     "iopub.execute_input": "2022-03-31T14:30:27.514121Z",
     "iopub.status.busy": "2022-03-31T14:30:27.513080Z",
     "iopub.status.idle": "2022-03-31T14:30:27.919189Z",
     "shell.execute_reply": "2022-03-31T14:30:27.920657Z",
     "shell.execute_reply.started": "2022-03-31T14:25:20.643030Z"
    },
    "papermill": {
     "duration": 0.477396,
     "end_time": "2022-03-31T14:30:27.920970",
     "exception": false,
     "start_time": "2022-03-31T14:30:27.443574",
     "status": "completed"
    },
    "tags": []
   },
   "outputs": [
    {
     "name": "stderr",
     "output_type": "stream",
     "text": [
      "/opt/conda/lib/python3.7/site-packages/sklearn/linear_model/_logistic.py:818: ConvergenceWarning: lbfgs failed to converge (status=1):\n",
      "STOP: TOTAL NO. of ITERATIONS REACHED LIMIT.\n",
      "\n",
      "Increase the number of iterations (max_iter) or scale the data as shown in:\n",
      "    https://scikit-learn.org/stable/modules/preprocessing.html\n",
      "Please also refer to the documentation for alternative solver options:\n",
      "    https://scikit-learn.org/stable/modules/linear_model.html#logistic-regression\n",
      "  extra_warning_msg=_LOGISTIC_SOLVER_CONVERGENCE_MSG,\n"
     ]
    },
    {
     "data": {
      "text/plain": [
       "LogisticRegression()"
      ]
     },
     "execution_count": 35,
     "metadata": {},
     "output_type": "execute_result"
    }
   ],
   "source": [
    "lr_model.fit(xtrain,ytrain)"
   ]
  },
  {
   "cell_type": "code",
   "execution_count": 36,
   "id": "05f8d272",
   "metadata": {
    "execution": {
     "iopub.execute_input": "2022-03-31T14:30:28.109218Z",
     "iopub.status.busy": "2022-03-31T14:30:28.107981Z",
     "iopub.status.idle": "2022-03-31T14:30:28.120416Z",
     "shell.execute_reply": "2022-03-31T14:30:28.121615Z",
     "shell.execute_reply.started": "2022-03-31T14:25:48.863965Z"
    },
    "papermill": {
     "duration": 0.086326,
     "end_time": "2022-03-31T14:30:28.121941",
     "exception": false,
     "start_time": "2022-03-31T14:30:28.035615",
     "status": "completed"
    },
    "tags": []
   },
   "outputs": [
    {
     "data": {
      "text/plain": [
       "0.9449525149489976"
      ]
     },
     "execution_count": 36,
     "metadata": {},
     "output_type": "execute_result"
    }
   ],
   "source": [
    "lr_model.score(xtrain,ytrain)"
   ]
  },
  {
   "cell_type": "code",
   "execution_count": 37,
   "id": "b4c1c1d1",
   "metadata": {
    "execution": {
     "iopub.execute_input": "2022-03-31T14:30:28.315182Z",
     "iopub.status.busy": "2022-03-31T14:30:28.314029Z",
     "iopub.status.idle": "2022-03-31T14:30:28.322392Z",
     "shell.execute_reply": "2022-03-31T14:30:28.323574Z",
     "shell.execute_reply.started": "2022-03-31T14:26:09.513791Z"
    },
    "papermill": {
     "duration": 0.08299,
     "end_time": "2022-03-31T14:30:28.323911",
     "exception": false,
     "start_time": "2022-03-31T14:30:28.240921",
     "status": "completed"
    },
    "tags": []
   },
   "outputs": [
    {
     "data": {
      "text/plain": [
       "0.9444249032711924"
      ]
     },
     "execution_count": 37,
     "metadata": {},
     "output_type": "execute_result"
    }
   ],
   "source": [
    "lr_model.score(xtest,ytest)"
   ]
  },
  {
   "cell_type": "code",
   "execution_count": null,
   "id": "4b68df63",
   "metadata": {
    "papermill": {
     "duration": 0.064181,
     "end_time": "2022-03-31T14:30:28.509331",
     "exception": false,
     "start_time": "2022-03-31T14:30:28.445150",
     "status": "completed"
    },
    "tags": []
   },
   "outputs": [],
   "source": []
  }
 ],
 "metadata": {
  "kernelspec": {
   "display_name": "Python 3",
   "language": "python",
   "name": "python3"
  },
  "language_info": {
   "codemirror_mode": {
    "name": "ipython",
    "version": 3
   },
   "file_extension": ".py",
   "mimetype": "text/x-python",
   "name": "python",
   "nbconvert_exporter": "python",
   "pygments_lexer": "ipython3",
   "version": "3.7.12"
  },
  "papermill": {
   "default_parameters": {},
   "duration": 50.763938,
   "end_time": "2022-03-31T14:30:29.487507",
   "environment_variables": {},
   "exception": null,
   "input_path": "__notebook__.ipynb",
   "output_path": "__notebook__.ipynb",
   "parameters": {},
   "start_time": "2022-03-31T14:29:38.723569",
   "version": "2.3.3"
  }
 },
 "nbformat": 4,
 "nbformat_minor": 5
}
