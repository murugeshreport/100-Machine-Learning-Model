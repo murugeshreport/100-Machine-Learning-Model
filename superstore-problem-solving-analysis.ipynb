{
 "cells": [
  {
   "cell_type": "markdown",
   "id": "41a09923",
   "metadata": {
    "papermill": {
     "duration": 0.064704,
     "end_time": "2022-04-11T20:03:45.156134",
     "exception": false,
     "start_time": "2022-04-11T20:03:45.091430",
     "status": "completed"
    },
    "tags": []
   },
   "source": [
    "# Superstore Problem Solving Analysis "
   ]
  },
  {
   "cell_type": "code",
   "execution_count": 1,
   "id": "8071ea05",
   "metadata": {
    "execution": {
     "iopub.execute_input": "2022-04-11T20:03:45.295954Z",
     "iopub.status.busy": "2022-04-11T20:03:45.294068Z",
     "iopub.status.idle": "2022-04-11T20:03:46.469238Z",
     "shell.execute_reply": "2022-04-11T20:03:46.468413Z",
     "shell.execute_reply.started": "2022-04-11T18:29:46.529727Z"
    },
    "papermill": {
     "duration": 1.245578,
     "end_time": "2022-04-11T20:03:46.469440",
     "exception": false,
     "start_time": "2022-04-11T20:03:45.223862",
     "status": "completed"
    },
    "tags": []
   },
   "outputs": [],
   "source": [
    "import pandas as pd\n",
    "import numpy as np\n",
    "import matplotlib.pyplot as plt\n",
    "import seaborn as sns"
   ]
  },
  {
   "cell_type": "code",
   "execution_count": 2,
   "id": "79781c81",
   "metadata": {
    "execution": {
     "iopub.execute_input": "2022-04-11T20:03:46.596836Z",
     "iopub.status.busy": "2022-04-11T20:03:46.596140Z",
     "iopub.status.idle": "2022-04-11T20:03:46.599485Z",
     "shell.execute_reply": "2022-04-11T20:03:46.600178Z",
     "shell.execute_reply.started": "2022-04-11T19:02:15.223482Z"
    },
    "papermill": {
     "duration": 0.067092,
     "end_time": "2022-04-11T20:03:46.600373",
     "exception": false,
     "start_time": "2022-04-11T20:03:46.533281",
     "status": "completed"
    },
    "tags": []
   },
   "outputs": [],
   "source": [
    "color = ['#808080','#800000','#808000']"
   ]
  },
  {
   "cell_type": "code",
   "execution_count": 3,
   "id": "ebc3e1f4",
   "metadata": {
    "execution": {
     "iopub.execute_input": "2022-04-11T20:03:46.726582Z",
     "iopub.status.busy": "2022-04-11T20:03:46.725897Z",
     "iopub.status.idle": "2022-04-11T20:03:46.840715Z",
     "shell.execute_reply": "2022-04-11T20:03:46.841307Z",
     "shell.execute_reply.started": "2022-04-11T18:29:48.399844Z"
    },
    "papermill": {
     "duration": 0.180459,
     "end_time": "2022-04-11T20:03:46.841544",
     "exception": false,
     "start_time": "2022-04-11T20:03:46.661085",
     "status": "completed"
    },
    "tags": []
   },
   "outputs": [],
   "source": [
    "df = pd.read_csv('../input/superstore-dataset-final/Sample - Superstore.csv',encoding = 'windows-1252')"
   ]
  },
  {
   "cell_type": "code",
   "execution_count": 4,
   "id": "e0c075a9",
   "metadata": {
    "execution": {
     "iopub.execute_input": "2022-04-11T20:03:46.966588Z",
     "iopub.status.busy": "2022-04-11T20:03:46.965896Z",
     "iopub.status.idle": "2022-04-11T20:03:47.002942Z",
     "shell.execute_reply": "2022-04-11T20:03:47.003482Z",
     "shell.execute_reply.started": "2022-04-11T18:29:49.979941Z"
    },
    "papermill": {
     "duration": 0.101166,
     "end_time": "2022-04-11T20:03:47.003707",
     "exception": false,
     "start_time": "2022-04-11T20:03:46.902541",
     "status": "completed"
    },
    "tags": []
   },
   "outputs": [
    {
     "data": {
      "text/html": [
       "<div>\n",
       "<style scoped>\n",
       "    .dataframe tbody tr th:only-of-type {\n",
       "        vertical-align: middle;\n",
       "    }\n",
       "\n",
       "    .dataframe tbody tr th {\n",
       "        vertical-align: top;\n",
       "    }\n",
       "\n",
       "    .dataframe thead th {\n",
       "        text-align: right;\n",
       "    }\n",
       "</style>\n",
       "<table border=\"1\" class=\"dataframe\">\n",
       "  <thead>\n",
       "    <tr style=\"text-align: right;\">\n",
       "      <th></th>\n",
       "      <th>Row ID</th>\n",
       "      <th>Order ID</th>\n",
       "      <th>Order Date</th>\n",
       "      <th>Ship Date</th>\n",
       "      <th>Ship Mode</th>\n",
       "      <th>Customer ID</th>\n",
       "      <th>Customer Name</th>\n",
       "      <th>Segment</th>\n",
       "      <th>Country</th>\n",
       "      <th>City</th>\n",
       "      <th>...</th>\n",
       "      <th>Postal Code</th>\n",
       "      <th>Region</th>\n",
       "      <th>Product ID</th>\n",
       "      <th>Category</th>\n",
       "      <th>Sub-Category</th>\n",
       "      <th>Product Name</th>\n",
       "      <th>Sales</th>\n",
       "      <th>Quantity</th>\n",
       "      <th>Discount</th>\n",
       "      <th>Profit</th>\n",
       "    </tr>\n",
       "  </thead>\n",
       "  <tbody>\n",
       "    <tr>\n",
       "      <th>0</th>\n",
       "      <td>1</td>\n",
       "      <td>CA-2016-152156</td>\n",
       "      <td>11/8/2016</td>\n",
       "      <td>11/11/2016</td>\n",
       "      <td>Second Class</td>\n",
       "      <td>CG-12520</td>\n",
       "      <td>Claire Gute</td>\n",
       "      <td>Consumer</td>\n",
       "      <td>United States</td>\n",
       "      <td>Henderson</td>\n",
       "      <td>...</td>\n",
       "      <td>42420</td>\n",
       "      <td>South</td>\n",
       "      <td>FUR-BO-10001798</td>\n",
       "      <td>Furniture</td>\n",
       "      <td>Bookcases</td>\n",
       "      <td>Bush Somerset Collection Bookcase</td>\n",
       "      <td>261.96</td>\n",
       "      <td>2</td>\n",
       "      <td>0.0</td>\n",
       "      <td>41.9136</td>\n",
       "    </tr>\n",
       "    <tr>\n",
       "      <th>1</th>\n",
       "      <td>2</td>\n",
       "      <td>CA-2016-152156</td>\n",
       "      <td>11/8/2016</td>\n",
       "      <td>11/11/2016</td>\n",
       "      <td>Second Class</td>\n",
       "      <td>CG-12520</td>\n",
       "      <td>Claire Gute</td>\n",
       "      <td>Consumer</td>\n",
       "      <td>United States</td>\n",
       "      <td>Henderson</td>\n",
       "      <td>...</td>\n",
       "      <td>42420</td>\n",
       "      <td>South</td>\n",
       "      <td>FUR-CH-10000454</td>\n",
       "      <td>Furniture</td>\n",
       "      <td>Chairs</td>\n",
       "      <td>Hon Deluxe Fabric Upholstered Stacking Chairs,...</td>\n",
       "      <td>731.94</td>\n",
       "      <td>3</td>\n",
       "      <td>0.0</td>\n",
       "      <td>219.5820</td>\n",
       "    </tr>\n",
       "  </tbody>\n",
       "</table>\n",
       "<p>2 rows × 21 columns</p>\n",
       "</div>"
      ],
      "text/plain": [
       "   Row ID        Order ID Order Date   Ship Date     Ship Mode Customer ID  \\\n",
       "0       1  CA-2016-152156  11/8/2016  11/11/2016  Second Class    CG-12520   \n",
       "1       2  CA-2016-152156  11/8/2016  11/11/2016  Second Class    CG-12520   \n",
       "\n",
       "  Customer Name   Segment        Country       City  ... Postal Code  Region  \\\n",
       "0   Claire Gute  Consumer  United States  Henderson  ...       42420   South   \n",
       "1   Claire Gute  Consumer  United States  Henderson  ...       42420   South   \n",
       "\n",
       "        Product ID   Category Sub-Category  \\\n",
       "0  FUR-BO-10001798  Furniture    Bookcases   \n",
       "1  FUR-CH-10000454  Furniture       Chairs   \n",
       "\n",
       "                                        Product Name   Sales  Quantity  \\\n",
       "0                  Bush Somerset Collection Bookcase  261.96         2   \n",
       "1  Hon Deluxe Fabric Upholstered Stacking Chairs,...  731.94         3   \n",
       "\n",
       "   Discount    Profit  \n",
       "0       0.0   41.9136  \n",
       "1       0.0  219.5820  \n",
       "\n",
       "[2 rows x 21 columns]"
      ]
     },
     "execution_count": 4,
     "metadata": {},
     "output_type": "execute_result"
    }
   ],
   "source": [
    "df.head(2)"
   ]
  },
  {
   "cell_type": "code",
   "execution_count": 5,
   "id": "bd8a1b66",
   "metadata": {
    "execution": {
     "iopub.execute_input": "2022-04-11T20:03:47.133431Z",
     "iopub.status.busy": "2022-04-11T20:03:47.132684Z",
     "iopub.status.idle": "2022-04-11T20:03:47.135517Z",
     "shell.execute_reply": "2022-04-11T20:03:47.136034Z",
     "shell.execute_reply.started": "2022-04-11T18:29:51.069741Z"
    },
    "papermill": {
     "duration": 0.07111,
     "end_time": "2022-04-11T20:03:47.136227",
     "exception": false,
     "start_time": "2022-04-11T20:03:47.065117",
     "status": "completed"
    },
    "tags": []
   },
   "outputs": [
    {
     "data": {
      "text/plain": [
       "Index(['Row ID', 'Order ID', 'Order Date', 'Ship Date', 'Ship Mode',\n",
       "       'Customer ID', 'Customer Name', 'Segment', 'Country', 'City', 'State',\n",
       "       'Postal Code', 'Region', 'Product ID', 'Category', 'Sub-Category',\n",
       "       'Product Name', 'Sales', 'Quantity', 'Discount', 'Profit'],\n",
       "      dtype='object')"
      ]
     },
     "execution_count": 5,
     "metadata": {},
     "output_type": "execute_result"
    }
   ],
   "source": [
    "df.columns"
   ]
  },
  {
   "cell_type": "code",
   "execution_count": 6,
   "id": "e31c83e4",
   "metadata": {
    "execution": {
     "iopub.execute_input": "2022-04-11T20:03:47.263862Z",
     "iopub.status.busy": "2022-04-11T20:03:47.263138Z",
     "iopub.status.idle": "2022-04-11T20:03:47.288015Z",
     "shell.execute_reply": "2022-04-11T20:03:47.288549Z",
     "shell.execute_reply.started": "2022-04-11T18:29:52.120805Z"
    },
    "papermill": {
     "duration": 0.090559,
     "end_time": "2022-04-11T20:03:47.288778",
     "exception": false,
     "start_time": "2022-04-11T20:03:47.198219",
     "status": "completed"
    },
    "tags": []
   },
   "outputs": [
    {
     "data": {
      "text/plain": [
       "Row ID           0\n",
       "Order ID         0\n",
       "Order Date       0\n",
       "Ship Date        0\n",
       "Ship Mode        0\n",
       "Customer ID      0\n",
       "Customer Name    0\n",
       "Segment          0\n",
       "Country          0\n",
       "City             0\n",
       "State            0\n",
       "Postal Code      0\n",
       "Region           0\n",
       "Product ID       0\n",
       "Category         0\n",
       "Sub-Category     0\n",
       "Product Name     0\n",
       "Sales            0\n",
       "Quantity         0\n",
       "Discount         0\n",
       "Profit           0\n",
       "dtype: int64"
      ]
     },
     "execution_count": 6,
     "metadata": {},
     "output_type": "execute_result"
    }
   ],
   "source": [
    "df.isnull().sum()"
   ]
  },
  {
   "cell_type": "code",
   "execution_count": 7,
   "id": "91400243",
   "metadata": {
    "execution": {
     "iopub.execute_input": "2022-04-11T20:03:47.420835Z",
     "iopub.status.busy": "2022-04-11T20:03:47.420068Z",
     "iopub.status.idle": "2022-04-11T20:03:47.515724Z",
     "shell.execute_reply": "2022-04-11T20:03:47.516229Z",
     "shell.execute_reply.started": "2022-04-11T18:29:53.399595Z"
    },
    "papermill": {
     "duration": 0.166411,
     "end_time": "2022-04-11T20:03:47.516445",
     "exception": false,
     "start_time": "2022-04-11T20:03:47.350034",
     "status": "completed"
    },
    "tags": []
   },
   "outputs": [],
   "source": [
    "df['Ship Date'] = pd.to_datetime(df['Ship Date'])"
   ]
  },
  {
   "cell_type": "code",
   "execution_count": 8,
   "id": "0889067f",
   "metadata": {
    "execution": {
     "iopub.execute_input": "2022-04-11T20:03:47.643284Z",
     "iopub.status.busy": "2022-04-11T20:03:47.642621Z",
     "iopub.status.idle": "2022-04-11T20:03:47.727046Z",
     "shell.execute_reply": "2022-04-11T20:03:47.726439Z",
     "shell.execute_reply.started": "2022-04-11T18:29:53.970203Z"
    },
    "papermill": {
     "duration": 0.149002,
     "end_time": "2022-04-11T20:03:47.727213",
     "exception": false,
     "start_time": "2022-04-11T20:03:47.578211",
     "status": "completed"
    },
    "tags": []
   },
   "outputs": [],
   "source": [
    "df['Order Date'] = pd.to_datetime(df['Order Date'])"
   ]
  },
  {
   "cell_type": "code",
   "execution_count": 9,
   "id": "d644c52c",
   "metadata": {
    "execution": {
     "iopub.execute_input": "2022-04-11T20:03:47.858337Z",
     "iopub.status.busy": "2022-04-11T20:03:47.857339Z",
     "iopub.status.idle": "2022-04-11T20:03:47.880372Z",
     "shell.execute_reply": "2022-04-11T20:03:47.879675Z",
     "shell.execute_reply.started": "2022-04-11T18:29:54.429845Z"
    },
    "papermill": {
     "duration": 0.091485,
     "end_time": "2022-04-11T20:03:47.880517",
     "exception": false,
     "start_time": "2022-04-11T20:03:47.789032",
     "status": "completed"
    },
    "tags": []
   },
   "outputs": [
    {
     "data": {
      "text/html": [
       "<div>\n",
       "<style scoped>\n",
       "    .dataframe tbody tr th:only-of-type {\n",
       "        vertical-align: middle;\n",
       "    }\n",
       "\n",
       "    .dataframe tbody tr th {\n",
       "        vertical-align: top;\n",
       "    }\n",
       "\n",
       "    .dataframe thead th {\n",
       "        text-align: right;\n",
       "    }\n",
       "</style>\n",
       "<table border=\"1\" class=\"dataframe\">\n",
       "  <thead>\n",
       "    <tr style=\"text-align: right;\">\n",
       "      <th></th>\n",
       "      <th>Row ID</th>\n",
       "      <th>Order ID</th>\n",
       "      <th>Order Date</th>\n",
       "      <th>Ship Date</th>\n",
       "      <th>Ship Mode</th>\n",
       "      <th>Customer ID</th>\n",
       "      <th>Customer Name</th>\n",
       "      <th>Segment</th>\n",
       "      <th>Country</th>\n",
       "      <th>City</th>\n",
       "      <th>...</th>\n",
       "      <th>Postal Code</th>\n",
       "      <th>Region</th>\n",
       "      <th>Product ID</th>\n",
       "      <th>Category</th>\n",
       "      <th>Sub-Category</th>\n",
       "      <th>Product Name</th>\n",
       "      <th>Sales</th>\n",
       "      <th>Quantity</th>\n",
       "      <th>Discount</th>\n",
       "      <th>Profit</th>\n",
       "    </tr>\n",
       "  </thead>\n",
       "  <tbody>\n",
       "    <tr>\n",
       "      <th>0</th>\n",
       "      <td>1</td>\n",
       "      <td>CA-2016-152156</td>\n",
       "      <td>2016-11-08</td>\n",
       "      <td>2016-11-11</td>\n",
       "      <td>Second Class</td>\n",
       "      <td>CG-12520</td>\n",
       "      <td>Claire Gute</td>\n",
       "      <td>Consumer</td>\n",
       "      <td>United States</td>\n",
       "      <td>Henderson</td>\n",
       "      <td>...</td>\n",
       "      <td>42420</td>\n",
       "      <td>South</td>\n",
       "      <td>FUR-BO-10001798</td>\n",
       "      <td>Furniture</td>\n",
       "      <td>Bookcases</td>\n",
       "      <td>Bush Somerset Collection Bookcase</td>\n",
       "      <td>261.96</td>\n",
       "      <td>2</td>\n",
       "      <td>0.0</td>\n",
       "      <td>41.9136</td>\n",
       "    </tr>\n",
       "    <tr>\n",
       "      <th>1</th>\n",
       "      <td>2</td>\n",
       "      <td>CA-2016-152156</td>\n",
       "      <td>2016-11-08</td>\n",
       "      <td>2016-11-11</td>\n",
       "      <td>Second Class</td>\n",
       "      <td>CG-12520</td>\n",
       "      <td>Claire Gute</td>\n",
       "      <td>Consumer</td>\n",
       "      <td>United States</td>\n",
       "      <td>Henderson</td>\n",
       "      <td>...</td>\n",
       "      <td>42420</td>\n",
       "      <td>South</td>\n",
       "      <td>FUR-CH-10000454</td>\n",
       "      <td>Furniture</td>\n",
       "      <td>Chairs</td>\n",
       "      <td>Hon Deluxe Fabric Upholstered Stacking Chairs,...</td>\n",
       "      <td>731.94</td>\n",
       "      <td>3</td>\n",
       "      <td>0.0</td>\n",
       "      <td>219.5820</td>\n",
       "    </tr>\n",
       "  </tbody>\n",
       "</table>\n",
       "<p>2 rows × 21 columns</p>\n",
       "</div>"
      ],
      "text/plain": [
       "   Row ID        Order ID Order Date  Ship Date     Ship Mode Customer ID  \\\n",
       "0       1  CA-2016-152156 2016-11-08 2016-11-11  Second Class    CG-12520   \n",
       "1       2  CA-2016-152156 2016-11-08 2016-11-11  Second Class    CG-12520   \n",
       "\n",
       "  Customer Name   Segment        Country       City  ... Postal Code  Region  \\\n",
       "0   Claire Gute  Consumer  United States  Henderson  ...       42420   South   \n",
       "1   Claire Gute  Consumer  United States  Henderson  ...       42420   South   \n",
       "\n",
       "        Product ID   Category Sub-Category  \\\n",
       "0  FUR-BO-10001798  Furniture    Bookcases   \n",
       "1  FUR-CH-10000454  Furniture       Chairs   \n",
       "\n",
       "                                        Product Name   Sales  Quantity  \\\n",
       "0                  Bush Somerset Collection Bookcase  261.96         2   \n",
       "1  Hon Deluxe Fabric Upholstered Stacking Chairs,...  731.94         3   \n",
       "\n",
       "   Discount    Profit  \n",
       "0       0.0   41.9136  \n",
       "1       0.0  219.5820  \n",
       "\n",
       "[2 rows x 21 columns]"
      ]
     },
     "execution_count": 9,
     "metadata": {},
     "output_type": "execute_result"
    }
   ],
   "source": [
    "df.head(2)"
   ]
  },
  {
   "cell_type": "code",
   "execution_count": 10,
   "id": "a00b90d7",
   "metadata": {
    "execution": {
     "iopub.execute_input": "2022-04-11T20:03:48.014790Z",
     "iopub.status.busy": "2022-04-11T20:03:48.013799Z",
     "iopub.status.idle": "2022-04-11T20:03:48.021767Z",
     "shell.execute_reply": "2022-04-11T20:03:48.021074Z",
     "shell.execute_reply.started": "2022-04-11T18:29:54.890468Z"
    },
    "papermill": {
     "duration": 0.077638,
     "end_time": "2022-04-11T20:03:48.021926",
     "exception": false,
     "start_time": "2022-04-11T20:03:47.944288",
     "status": "completed"
    },
    "tags": []
   },
   "outputs": [],
   "source": [
    "df['Month'] = df['Ship Date'].dt.month\n",
    "df['Year'] = df['Ship Date'].dt.year"
   ]
  },
  {
   "cell_type": "code",
   "execution_count": 11,
   "id": "f4138935",
   "metadata": {
    "execution": {
     "iopub.execute_input": "2022-04-11T20:03:48.176326Z",
     "iopub.status.busy": "2022-04-11T20:03:48.175614Z",
     "iopub.status.idle": "2022-04-11T20:03:48.179623Z",
     "shell.execute_reply": "2022-04-11T20:03:48.180105Z",
     "shell.execute_reply.started": "2022-04-11T18:29:55.750573Z"
    },
    "papermill": {
     "duration": 0.094584,
     "end_time": "2022-04-11T20:03:48.180288",
     "exception": false,
     "start_time": "2022-04-11T20:03:48.085704",
     "status": "completed"
    },
    "tags": []
   },
   "outputs": [
    {
     "data": {
      "text/html": [
       "<div>\n",
       "<style scoped>\n",
       "    .dataframe tbody tr th:only-of-type {\n",
       "        vertical-align: middle;\n",
       "    }\n",
       "\n",
       "    .dataframe tbody tr th {\n",
       "        vertical-align: top;\n",
       "    }\n",
       "\n",
       "    .dataframe thead th {\n",
       "        text-align: right;\n",
       "    }\n",
       "</style>\n",
       "<table border=\"1\" class=\"dataframe\">\n",
       "  <thead>\n",
       "    <tr style=\"text-align: right;\">\n",
       "      <th></th>\n",
       "      <th>Row ID</th>\n",
       "      <th>Order ID</th>\n",
       "      <th>Order Date</th>\n",
       "      <th>Ship Date</th>\n",
       "      <th>Ship Mode</th>\n",
       "      <th>Customer ID</th>\n",
       "      <th>Customer Name</th>\n",
       "      <th>Segment</th>\n",
       "      <th>Country</th>\n",
       "      <th>City</th>\n",
       "      <th>...</th>\n",
       "      <th>Product ID</th>\n",
       "      <th>Category</th>\n",
       "      <th>Sub-Category</th>\n",
       "      <th>Product Name</th>\n",
       "      <th>Sales</th>\n",
       "      <th>Quantity</th>\n",
       "      <th>Discount</th>\n",
       "      <th>Profit</th>\n",
       "      <th>Month</th>\n",
       "      <th>Year</th>\n",
       "    </tr>\n",
       "  </thead>\n",
       "  <tbody>\n",
       "    <tr>\n",
       "      <th>0</th>\n",
       "      <td>1</td>\n",
       "      <td>CA-2016-152156</td>\n",
       "      <td>2016-11-08</td>\n",
       "      <td>2016-11-11</td>\n",
       "      <td>Second Class</td>\n",
       "      <td>CG-12520</td>\n",
       "      <td>Claire Gute</td>\n",
       "      <td>Consumer</td>\n",
       "      <td>United States</td>\n",
       "      <td>Henderson</td>\n",
       "      <td>...</td>\n",
       "      <td>FUR-BO-10001798</td>\n",
       "      <td>Furniture</td>\n",
       "      <td>Bookcases</td>\n",
       "      <td>Bush Somerset Collection Bookcase</td>\n",
       "      <td>261.96</td>\n",
       "      <td>2</td>\n",
       "      <td>0.0</td>\n",
       "      <td>41.9136</td>\n",
       "      <td>11</td>\n",
       "      <td>2016</td>\n",
       "    </tr>\n",
       "  </tbody>\n",
       "</table>\n",
       "<p>1 rows × 23 columns</p>\n",
       "</div>"
      ],
      "text/plain": [
       "   Row ID        Order ID Order Date  Ship Date     Ship Mode Customer ID  \\\n",
       "0       1  CA-2016-152156 2016-11-08 2016-11-11  Second Class    CG-12520   \n",
       "\n",
       "  Customer Name   Segment        Country       City  ...       Product ID  \\\n",
       "0   Claire Gute  Consumer  United States  Henderson  ...  FUR-BO-10001798   \n",
       "\n",
       "    Category Sub-Category                       Product Name   Sales Quantity  \\\n",
       "0  Furniture    Bookcases  Bush Somerset Collection Bookcase  261.96        2   \n",
       "\n",
       "  Discount   Profit  Month  Year  \n",
       "0      0.0  41.9136     11  2016  \n",
       "\n",
       "[1 rows x 23 columns]"
      ]
     },
     "execution_count": 11,
     "metadata": {},
     "output_type": "execute_result"
    }
   ],
   "source": [
    "df.head(1)"
   ]
  },
  {
   "cell_type": "markdown",
   "id": "821fe72d",
   "metadata": {
    "papermill": {
     "duration": 0.063359,
     "end_time": "2022-04-11T20:03:48.306762",
     "exception": false,
     "start_time": "2022-04-11T20:03:48.243403",
     "status": "completed"
    },
    "tags": []
   },
   "source": [
    "# Duration of Delay days Shipping"
   ]
  },
  {
   "cell_type": "code",
   "execution_count": 12,
   "id": "e9f2bf44",
   "metadata": {
    "execution": {
     "iopub.execute_input": "2022-04-11T20:03:48.439478Z",
     "iopub.status.busy": "2022-04-11T20:03:48.438804Z",
     "iopub.status.idle": "2022-04-11T20:03:48.441971Z",
     "shell.execute_reply": "2022-04-11T20:03:48.441404Z",
     "shell.execute_reply.started": "2022-04-11T18:29:55.909501Z"
    },
    "papermill": {
     "duration": 0.07227,
     "end_time": "2022-04-11T20:03:48.442130",
     "exception": false,
     "start_time": "2022-04-11T20:03:48.369860",
     "status": "completed"
    },
    "tags": []
   },
   "outputs": [],
   "source": [
    "df['Delay ship days'] = df['Ship Date']  - df['Order Date']"
   ]
  },
  {
   "cell_type": "code",
   "execution_count": 13,
   "id": "726a82a5",
   "metadata": {
    "execution": {
     "iopub.execute_input": "2022-04-11T20:03:48.581364Z",
     "iopub.status.busy": "2022-04-11T20:03:48.580318Z",
     "iopub.status.idle": "2022-04-11T20:03:48.583925Z",
     "shell.execute_reply": "2022-04-11T20:03:48.583186Z",
     "shell.execute_reply.started": "2022-04-11T18:29:56.150103Z"
    },
    "papermill": {
     "duration": 0.077938,
     "end_time": "2022-04-11T20:03:48.584090",
     "exception": false,
     "start_time": "2022-04-11T20:03:48.506152",
     "status": "completed"
    },
    "tags": []
   },
   "outputs": [],
   "source": [
    "delay = df['Delay ship days'].value_counts().reset_index()"
   ]
  },
  {
   "cell_type": "code",
   "execution_count": 14,
   "id": "fab43b51",
   "metadata": {
    "execution": {
     "iopub.execute_input": "2022-04-11T20:03:48.714514Z",
     "iopub.status.busy": "2022-04-11T20:03:48.713817Z",
     "iopub.status.idle": "2022-04-11T20:03:48.716861Z",
     "shell.execute_reply": "2022-04-11T20:03:48.717316Z",
     "shell.execute_reply.started": "2022-04-11T18:29:56.362307Z"
    },
    "papermill": {
     "duration": 0.071243,
     "end_time": "2022-04-11T20:03:48.717527",
     "exception": false,
     "start_time": "2022-04-11T20:03:48.646284",
     "status": "completed"
    },
    "tags": []
   },
   "outputs": [],
   "source": [
    "delay = pd.DataFrame(delay)\n",
    "delay.columns=['days','Delay ship Days']"
   ]
  },
  {
   "cell_type": "code",
   "execution_count": 15,
   "id": "398d67a0",
   "metadata": {
    "execution": {
     "iopub.execute_input": "2022-04-11T20:03:48.855756Z",
     "iopub.status.busy": "2022-04-11T20:03:48.855050Z",
     "iopub.status.idle": "2022-04-11T20:03:48.857876Z",
     "shell.execute_reply": "2022-04-11T20:03:48.858365Z",
     "shell.execute_reply.started": "2022-04-11T18:29:56.499538Z"
    },
    "papermill": {
     "duration": 0.0762,
     "end_time": "2022-04-11T20:03:48.858575",
     "exception": false,
     "start_time": "2022-04-11T20:03:48.782375",
     "status": "completed"
    },
    "tags": []
   },
   "outputs": [
    {
     "data": {
      "text/html": [
       "<div>\n",
       "<style scoped>\n",
       "    .dataframe tbody tr th:only-of-type {\n",
       "        vertical-align: middle;\n",
       "    }\n",
       "\n",
       "    .dataframe tbody tr th {\n",
       "        vertical-align: top;\n",
       "    }\n",
       "\n",
       "    .dataframe thead th {\n",
       "        text-align: right;\n",
       "    }\n",
       "</style>\n",
       "<table border=\"1\" class=\"dataframe\">\n",
       "  <thead>\n",
       "    <tr style=\"text-align: right;\">\n",
       "      <th></th>\n",
       "      <th>days</th>\n",
       "      <th>Delay ship Days</th>\n",
       "    </tr>\n",
       "  </thead>\n",
       "  <tbody>\n",
       "    <tr>\n",
       "      <th>0</th>\n",
       "      <td>4 days</td>\n",
       "      <td>2774</td>\n",
       "    </tr>\n",
       "    <tr>\n",
       "      <th>1</th>\n",
       "      <td>5 days</td>\n",
       "      <td>2169</td>\n",
       "    </tr>\n",
       "    <tr>\n",
       "      <th>2</th>\n",
       "      <td>2 days</td>\n",
       "      <td>1334</td>\n",
       "    </tr>\n",
       "    <tr>\n",
       "      <th>3</th>\n",
       "      <td>6 days</td>\n",
       "      <td>1203</td>\n",
       "    </tr>\n",
       "    <tr>\n",
       "      <th>4</th>\n",
       "      <td>3 days</td>\n",
       "      <td>1005</td>\n",
       "    </tr>\n",
       "    <tr>\n",
       "      <th>5</th>\n",
       "      <td>7 days</td>\n",
       "      <td>621</td>\n",
       "    </tr>\n",
       "    <tr>\n",
       "      <th>6</th>\n",
       "      <td>0 days</td>\n",
       "      <td>519</td>\n",
       "    </tr>\n",
       "    <tr>\n",
       "      <th>7</th>\n",
       "      <td>1 days</td>\n",
       "      <td>369</td>\n",
       "    </tr>\n",
       "  </tbody>\n",
       "</table>\n",
       "</div>"
      ],
      "text/plain": [
       "    days  Delay ship Days\n",
       "0 4 days             2774\n",
       "1 5 days             2169\n",
       "2 2 days             1334\n",
       "3 6 days             1203\n",
       "4 3 days             1005\n",
       "5 7 days              621\n",
       "6 0 days              519\n",
       "7 1 days              369"
      ]
     },
     "execution_count": 15,
     "metadata": {},
     "output_type": "execute_result"
    }
   ],
   "source": [
    "delay"
   ]
  },
  {
   "cell_type": "markdown",
   "id": "7b90c28c",
   "metadata": {
    "papermill": {
     "duration": 0.063256,
     "end_time": "2022-04-11T20:03:48.985668",
     "exception": false,
     "start_time": "2022-04-11T20:03:48.922412",
     "status": "completed"
    },
    "tags": []
   },
   "source": [
    "****7 days late shpping 621 times****"
   ]
  },
  {
   "cell_type": "markdown",
   "id": "930c5f31",
   "metadata": {
    "papermill": {
     "duration": 0.06292,
     "end_time": "2022-04-11T20:03:49.112044",
     "exception": false,
     "start_time": "2022-04-11T20:03:49.049124",
     "status": "completed"
    },
    "tags": []
   },
   "source": [
    "# Each year  How much shpping delay?"
   ]
  },
  {
   "cell_type": "code",
   "execution_count": 16,
   "id": "e432dbff",
   "metadata": {
    "execution": {
     "iopub.execute_input": "2022-04-11T20:03:49.243776Z",
     "iopub.status.busy": "2022-04-11T20:03:49.243008Z",
     "iopub.status.idle": "2022-04-11T20:03:49.249248Z",
     "shell.execute_reply": "2022-04-11T20:03:49.249770Z",
     "shell.execute_reply.started": "2022-04-11T18:33:15.070680Z"
    },
    "papermill": {
     "duration": 0.07471,
     "end_time": "2022-04-11T20:03:49.249966",
     "exception": false,
     "start_time": "2022-04-11T20:03:49.175256",
     "status": "completed"
    },
    "tags": []
   },
   "outputs": [],
   "source": [
    "latedays = df[df['Delay ship days'] == '7 days']"
   ]
  },
  {
   "cell_type": "code",
   "execution_count": 17,
   "id": "43e0b3c6",
   "metadata": {
    "execution": {
     "iopub.execute_input": "2022-04-11T20:03:49.380089Z",
     "iopub.status.busy": "2022-04-11T20:03:49.379447Z",
     "iopub.status.idle": "2022-04-11T20:03:49.385723Z",
     "shell.execute_reply": "2022-04-11T20:03:49.386291Z",
     "shell.execute_reply.started": "2022-04-11T18:41:48.898951Z"
    },
    "papermill": {
     "duration": 0.073009,
     "end_time": "2022-04-11T20:03:49.386491",
     "exception": false,
     "start_time": "2022-04-11T20:03:49.313482",
     "status": "completed"
    },
    "tags": []
   },
   "outputs": [
    {
     "data": {
      "text/plain": [
       "2017    210\n",
       "2016    155\n",
       "2015    142\n",
       "2014    104\n",
       "2018     10\n",
       "Name: Year, dtype: int64"
      ]
     },
     "execution_count": 17,
     "metadata": {},
     "output_type": "execute_result"
    }
   ],
   "source": [
    "latedays['Year'].value_counts()"
   ]
  },
  {
   "cell_type": "code",
   "execution_count": 18,
   "id": "80e1ee06",
   "metadata": {
    "execution": {
     "iopub.execute_input": "2022-04-11T20:03:49.517790Z",
     "iopub.status.busy": "2022-04-11T20:03:49.517069Z",
     "iopub.status.idle": "2022-04-11T20:03:49.798222Z",
     "shell.execute_reply": "2022-04-11T20:03:49.797420Z",
     "shell.execute_reply.started": "2022-04-11T19:03:16.791276Z"
    },
    "papermill": {
     "duration": 0.348179,
     "end_time": "2022-04-11T20:03:49.798390",
     "exception": false,
     "start_time": "2022-04-11T20:03:49.450211",
     "status": "completed"
    },
    "tags": []
   },
   "outputs": [
    {
     "data": {
      "text/plain": [
       "Text(0.5, 1.0, 'Each year shpping delay distripution')"
      ]
     },
     "execution_count": 18,
     "metadata": {},
     "output_type": "execute_result"
    },
    {
     "data": {
      "image/png": "[encoded data removed]",
      "text/plain": [
       "<Figure size 720x648 with 1 Axes>"
      ]
     },
     "metadata": {
      "needs_background": "light"
     },
     "output_type": "display_data"
    }
   ],
   "source": [
    "fig = plt.figure(figsize=(10,9))\n",
    "sns.barplot(x = latedays['Year'].value_counts().index,y = latedays['Year'].value_counts().values,\n",
    "           palette = color)\n",
    "plt.title('Each year shpping delay distripution')"
   ]
  },
  {
   "cell_type": "markdown",
   "id": "82a1f990",
   "metadata": {
    "papermill": {
     "duration": 0.064219,
     "end_time": "2022-04-11T20:03:49.929816",
     "exception": false,
     "start_time": "2022-04-11T20:03:49.865597",
     "status": "completed"
    },
    "tags": []
   },
   "source": [
    "****2017 very high delay shpping****"
   ]
  },
  {
   "cell_type": "code",
   "execution_count": 19,
   "id": "d11854e6",
   "metadata": {
    "execution": {
     "iopub.execute_input": "2022-04-11T20:03:50.067541Z",
     "iopub.status.busy": "2022-04-11T20:03:50.066857Z",
     "iopub.status.idle": "2022-04-11T20:03:50.100605Z",
     "shell.execute_reply": "2022-04-11T20:03:50.101123Z",
     "shell.execute_reply.started": "2022-04-11T18:46:07.640094Z"
    },
    "papermill": {
     "duration": 0.105601,
     "end_time": "2022-04-11T20:03:50.101320",
     "exception": false,
     "start_time": "2022-04-11T20:03:49.995719",
     "status": "completed"
    },
    "tags": []
   },
   "outputs": [
    {
     "data": {
      "text/html": [
       "<div>\n",
       "<style scoped>\n",
       "    .dataframe tbody tr th:only-of-type {\n",
       "        vertical-align: middle;\n",
       "    }\n",
       "\n",
       "    .dataframe tbody tr th {\n",
       "        vertical-align: top;\n",
       "    }\n",
       "\n",
       "    .dataframe thead th {\n",
       "        text-align: right;\n",
       "    }\n",
       "</style>\n",
       "<table border=\"1\" class=\"dataframe\">\n",
       "  <thead>\n",
       "    <tr style=\"text-align: right;\">\n",
       "      <th></th>\n",
       "      <th>Row ID</th>\n",
       "      <th>Order ID</th>\n",
       "      <th>Order Date</th>\n",
       "      <th>Ship Date</th>\n",
       "      <th>Ship Mode</th>\n",
       "      <th>Customer ID</th>\n",
       "      <th>Customer Name</th>\n",
       "      <th>Segment</th>\n",
       "      <th>Country</th>\n",
       "      <th>City</th>\n",
       "      <th>...</th>\n",
       "      <th>Category</th>\n",
       "      <th>Sub-Category</th>\n",
       "      <th>Product Name</th>\n",
       "      <th>Sales</th>\n",
       "      <th>Quantity</th>\n",
       "      <th>Discount</th>\n",
       "      <th>Profit</th>\n",
       "      <th>Month</th>\n",
       "      <th>Year</th>\n",
       "      <th>Delay ship days</th>\n",
       "    </tr>\n",
       "  </thead>\n",
       "  <tbody>\n",
       "    <tr>\n",
       "      <th>3</th>\n",
       "      <td>4</td>\n",
       "      <td>US-2015-108966</td>\n",
       "      <td>2015-10-11</td>\n",
       "      <td>2015-10-18</td>\n",
       "      <td>Standard Class</td>\n",
       "      <td>SO-20335</td>\n",
       "      <td>Sean O'Donnell</td>\n",
       "      <td>Consumer</td>\n",
       "      <td>United States</td>\n",
       "      <td>Fort Lauderdale</td>\n",
       "      <td>...</td>\n",
       "      <td>Furniture</td>\n",
       "      <td>Tables</td>\n",
       "      <td>Bretford CR4500 Series Slim Rectangular Table</td>\n",
       "      <td>957.5775</td>\n",
       "      <td>5</td>\n",
       "      <td>0.45</td>\n",
       "      <td>-383.0310</td>\n",
       "      <td>10</td>\n",
       "      <td>2015</td>\n",
       "      <td>7 days</td>\n",
       "    </tr>\n",
       "    <tr>\n",
       "      <th>4</th>\n",
       "      <td>5</td>\n",
       "      <td>US-2015-108966</td>\n",
       "      <td>2015-10-11</td>\n",
       "      <td>2015-10-18</td>\n",
       "      <td>Standard Class</td>\n",
       "      <td>SO-20335</td>\n",
       "      <td>Sean O'Donnell</td>\n",
       "      <td>Consumer</td>\n",
       "      <td>United States</td>\n",
       "      <td>Fort Lauderdale</td>\n",
       "      <td>...</td>\n",
       "      <td>Office Supplies</td>\n",
       "      <td>Storage</td>\n",
       "      <td>Eldon Fold 'N Roll Cart System</td>\n",
       "      <td>22.3680</td>\n",
       "      <td>2</td>\n",
       "      <td>0.20</td>\n",
       "      <td>2.5164</td>\n",
       "      <td>10</td>\n",
       "      <td>2015</td>\n",
       "      <td>7 days</td>\n",
       "    </tr>\n",
       "    <tr>\n",
       "      <th>16</th>\n",
       "      <td>17</td>\n",
       "      <td>CA-2014-105893</td>\n",
       "      <td>2014-11-11</td>\n",
       "      <td>2014-11-18</td>\n",
       "      <td>Standard Class</td>\n",
       "      <td>PK-19075</td>\n",
       "      <td>Pete Kriz</td>\n",
       "      <td>Consumer</td>\n",
       "      <td>United States</td>\n",
       "      <td>Madison</td>\n",
       "      <td>...</td>\n",
       "      <td>Office Supplies</td>\n",
       "      <td>Storage</td>\n",
       "      <td>Stur-D-Stor Shelving, Vertical 5-Shelf: 72\"H x...</td>\n",
       "      <td>665.8800</td>\n",
       "      <td>6</td>\n",
       "      <td>0.00</td>\n",
       "      <td>13.3176</td>\n",
       "      <td>11</td>\n",
       "      <td>2014</td>\n",
       "      <td>7 days</td>\n",
       "    </tr>\n",
       "    <tr>\n",
       "      <th>86</th>\n",
       "      <td>87</td>\n",
       "      <td>CA-2017-155558</td>\n",
       "      <td>2017-10-26</td>\n",
       "      <td>2017-11-02</td>\n",
       "      <td>Standard Class</td>\n",
       "      <td>PG-18895</td>\n",
       "      <td>Paul Gonzalez</td>\n",
       "      <td>Consumer</td>\n",
       "      <td>United States</td>\n",
       "      <td>Rochester</td>\n",
       "      <td>...</td>\n",
       "      <td>Technology</td>\n",
       "      <td>Accessories</td>\n",
       "      <td>Logitech LS21 Speaker System - PC Multimedia -...</td>\n",
       "      <td>19.9900</td>\n",
       "      <td>1</td>\n",
       "      <td>0.00</td>\n",
       "      <td>6.7966</td>\n",
       "      <td>11</td>\n",
       "      <td>2017</td>\n",
       "      <td>7 days</td>\n",
       "    </tr>\n",
       "    <tr>\n",
       "      <th>87</th>\n",
       "      <td>88</td>\n",
       "      <td>CA-2017-155558</td>\n",
       "      <td>2017-10-26</td>\n",
       "      <td>2017-11-02</td>\n",
       "      <td>Standard Class</td>\n",
       "      <td>PG-18895</td>\n",
       "      <td>Paul Gonzalez</td>\n",
       "      <td>Consumer</td>\n",
       "      <td>United States</td>\n",
       "      <td>Rochester</td>\n",
       "      <td>...</td>\n",
       "      <td>Office Supplies</td>\n",
       "      <td>Labels</td>\n",
       "      <td>Avery 511</td>\n",
       "      <td>6.1600</td>\n",
       "      <td>2</td>\n",
       "      <td>0.00</td>\n",
       "      <td>2.9568</td>\n",
       "      <td>11</td>\n",
       "      <td>2017</td>\n",
       "      <td>7 days</td>\n",
       "    </tr>\n",
       "    <tr>\n",
       "      <th>...</th>\n",
       "      <td>...</td>\n",
       "      <td>...</td>\n",
       "      <td>...</td>\n",
       "      <td>...</td>\n",
       "      <td>...</td>\n",
       "      <td>...</td>\n",
       "      <td>...</td>\n",
       "      <td>...</td>\n",
       "      <td>...</td>\n",
       "      <td>...</td>\n",
       "      <td>...</td>\n",
       "      <td>...</td>\n",
       "      <td>...</td>\n",
       "      <td>...</td>\n",
       "      <td>...</td>\n",
       "      <td>...</td>\n",
       "      <td>...</td>\n",
       "      <td>...</td>\n",
       "      <td>...</td>\n",
       "      <td>...</td>\n",
       "      <td>...</td>\n",
       "    </tr>\n",
       "    <tr>\n",
       "      <th>9801</th>\n",
       "      <td>9802</td>\n",
       "      <td>CA-2017-137918</td>\n",
       "      <td>2017-09-29</td>\n",
       "      <td>2017-10-06</td>\n",
       "      <td>Standard Class</td>\n",
       "      <td>JK-15730</td>\n",
       "      <td>Joe Kamberova</td>\n",
       "      <td>Consumer</td>\n",
       "      <td>United States</td>\n",
       "      <td>Lodi</td>\n",
       "      <td>...</td>\n",
       "      <td>Office Supplies</td>\n",
       "      <td>Supplies</td>\n",
       "      <td>Acme Hot Forged Carbon Steel Scissors with Nic...</td>\n",
       "      <td>97.3000</td>\n",
       "      <td>7</td>\n",
       "      <td>0.00</td>\n",
       "      <td>28.2170</td>\n",
       "      <td>10</td>\n",
       "      <td>2017</td>\n",
       "      <td>7 days</td>\n",
       "    </tr>\n",
       "    <tr>\n",
       "      <th>9827</th>\n",
       "      <td>9828</td>\n",
       "      <td>CA-2017-169999</td>\n",
       "      <td>2017-06-19</td>\n",
       "      <td>2017-06-26</td>\n",
       "      <td>Standard Class</td>\n",
       "      <td>JS-15685</td>\n",
       "      <td>Jim Sink</td>\n",
       "      <td>Corporate</td>\n",
       "      <td>United States</td>\n",
       "      <td>New York City</td>\n",
       "      <td>...</td>\n",
       "      <td>Office Supplies</td>\n",
       "      <td>Storage</td>\n",
       "      <td>Space Solutions Commercial Steel Shelving</td>\n",
       "      <td>129.3000</td>\n",
       "      <td>2</td>\n",
       "      <td>0.00</td>\n",
       "      <td>6.4650</td>\n",
       "      <td>6</td>\n",
       "      <td>2017</td>\n",
       "      <td>7 days</td>\n",
       "    </tr>\n",
       "    <tr>\n",
       "      <th>9828</th>\n",
       "      <td>9829</td>\n",
       "      <td>CA-2017-169999</td>\n",
       "      <td>2017-06-19</td>\n",
       "      <td>2017-06-26</td>\n",
       "      <td>Standard Class</td>\n",
       "      <td>JS-15685</td>\n",
       "      <td>Jim Sink</td>\n",
       "      <td>Corporate</td>\n",
       "      <td>United States</td>\n",
       "      <td>New York City</td>\n",
       "      <td>...</td>\n",
       "      <td>Office Supplies</td>\n",
       "      <td>Binders</td>\n",
       "      <td>Wilson Jones Turn Tabs Binder Tool for Ring Bi...</td>\n",
       "      <td>11.5680</td>\n",
       "      <td>3</td>\n",
       "      <td>0.20</td>\n",
       "      <td>3.7596</td>\n",
       "      <td>6</td>\n",
       "      <td>2017</td>\n",
       "      <td>7 days</td>\n",
       "    </tr>\n",
       "    <tr>\n",
       "      <th>9829</th>\n",
       "      <td>9830</td>\n",
       "      <td>US-2017-152842</td>\n",
       "      <td>2017-07-16</td>\n",
       "      <td>2017-07-23</td>\n",
       "      <td>Standard Class</td>\n",
       "      <td>NF-18385</td>\n",
       "      <td>Natalie Fritzler</td>\n",
       "      <td>Consumer</td>\n",
       "      <td>United States</td>\n",
       "      <td>Charlotte</td>\n",
       "      <td>...</td>\n",
       "      <td>Furniture</td>\n",
       "      <td>Chairs</td>\n",
       "      <td>Global Fabric Manager's Chair, Dark Gray</td>\n",
       "      <td>242.3520</td>\n",
       "      <td>3</td>\n",
       "      <td>0.20</td>\n",
       "      <td>15.1470</td>\n",
       "      <td>7</td>\n",
       "      <td>2017</td>\n",
       "      <td>7 days</td>\n",
       "    </tr>\n",
       "    <tr>\n",
       "      <th>9875</th>\n",
       "      <td>9876</td>\n",
       "      <td>CA-2015-130855</td>\n",
       "      <td>2015-12-29</td>\n",
       "      <td>2016-01-05</td>\n",
       "      <td>Standard Class</td>\n",
       "      <td>RF-19840</td>\n",
       "      <td>Roy Französisch</td>\n",
       "      <td>Consumer</td>\n",
       "      <td>United States</td>\n",
       "      <td>New York City</td>\n",
       "      <td>...</td>\n",
       "      <td>Office Supplies</td>\n",
       "      <td>Supplies</td>\n",
       "      <td>Acme Serrated Blade Letter Opener</td>\n",
       "      <td>6.3600</td>\n",
       "      <td>2</td>\n",
       "      <td>0.00</td>\n",
       "      <td>0.0636</td>\n",
       "      <td>1</td>\n",
       "      <td>2016</td>\n",
       "      <td>7 days</td>\n",
       "    </tr>\n",
       "  </tbody>\n",
       "</table>\n",
       "<p>621 rows × 24 columns</p>\n",
       "</div>"
      ],
      "text/plain": [
       "      Row ID        Order ID Order Date  Ship Date       Ship Mode  \\\n",
       "3          4  US-2015-108966 2015-10-11 2015-10-18  Standard Class   \n",
       "4          5  US-2015-108966 2015-10-11 2015-10-18  Standard Class   \n",
       "16        17  CA-2014-105893 2014-11-11 2014-11-18  Standard Class   \n",
       "86        87  CA-2017-155558 2017-10-26 2017-11-02  Standard Class   \n",
       "87        88  CA-2017-155558 2017-10-26 2017-11-02  Standard Class   \n",
       "...      ...             ...        ...        ...             ...   \n",
       "9801    9802  CA-2017-137918 2017-09-29 2017-10-06  Standard Class   \n",
       "9827    9828  CA-2017-169999 2017-06-19 2017-06-26  Standard Class   \n",
       "9828    9829  CA-2017-169999 2017-06-19 2017-06-26  Standard Class   \n",
       "9829    9830  US-2017-152842 2017-07-16 2017-07-23  Standard Class   \n",
       "9875    9876  CA-2015-130855 2015-12-29 2016-01-05  Standard Class   \n",
       "\n",
       "     Customer ID     Customer Name    Segment        Country             City  \\\n",
       "3       SO-20335    Sean O'Donnell   Consumer  United States  Fort Lauderdale   \n",
       "4       SO-20335    Sean O'Donnell   Consumer  United States  Fort Lauderdale   \n",
       "16      PK-19075         Pete Kriz   Consumer  United States          Madison   \n",
       "86      PG-18895     Paul Gonzalez   Consumer  United States        Rochester   \n",
       "87      PG-18895     Paul Gonzalez   Consumer  United States        Rochester   \n",
       "...          ...               ...        ...            ...              ...   \n",
       "9801    JK-15730     Joe Kamberova   Consumer  United States             Lodi   \n",
       "9827    JS-15685          Jim Sink  Corporate  United States    New York City   \n",
       "9828    JS-15685          Jim Sink  Corporate  United States    New York City   \n",
       "9829    NF-18385  Natalie Fritzler   Consumer  United States        Charlotte   \n",
       "9875    RF-19840   Roy Französisch   Consumer  United States    New York City   \n",
       "\n",
       "      ...         Category  Sub-Category  \\\n",
       "3     ...        Furniture        Tables   \n",
       "4     ...  Office Supplies       Storage   \n",
       "16    ...  Office Supplies       Storage   \n",
       "86    ...       Technology   Accessories   \n",
       "87    ...  Office Supplies        Labels   \n",
       "...   ...              ...           ...   \n",
       "9801  ...  Office Supplies      Supplies   \n",
       "9827  ...  Office Supplies       Storage   \n",
       "9828  ...  Office Supplies       Binders   \n",
       "9829  ...        Furniture        Chairs   \n",
       "9875  ...  Office Supplies      Supplies   \n",
       "\n",
       "                                           Product Name     Sales Quantity  \\\n",
       "3         Bretford CR4500 Series Slim Rectangular Table  957.5775        5   \n",
       "4                        Eldon Fold 'N Roll Cart System   22.3680        2   \n",
       "16    Stur-D-Stor Shelving, Vertical 5-Shelf: 72\"H x...  665.8800        6   \n",
       "86    Logitech LS21 Speaker System - PC Multimedia -...   19.9900        1   \n",
       "87                                            Avery 511    6.1600        2   \n",
       "...                                                 ...       ...      ...   \n",
       "9801  Acme Hot Forged Carbon Steel Scissors with Nic...   97.3000        7   \n",
       "9827          Space Solutions Commercial Steel Shelving  129.3000        2   \n",
       "9828  Wilson Jones Turn Tabs Binder Tool for Ring Bi...   11.5680        3   \n",
       "9829           Global Fabric Manager's Chair, Dark Gray  242.3520        3   \n",
       "9875                  Acme Serrated Blade Letter Opener    6.3600        2   \n",
       "\n",
       "     Discount    Profit  Month  Year  Delay ship days  \n",
       "3        0.45 -383.0310     10  2015           7 days  \n",
       "4        0.20    2.5164     10  2015           7 days  \n",
       "16       0.00   13.3176     11  2014           7 days  \n",
       "86       0.00    6.7966     11  2017           7 days  \n",
       "87       0.00    2.9568     11  2017           7 days  \n",
       "...       ...       ...    ...   ...              ...  \n",
       "9801     0.00   28.2170     10  2017           7 days  \n",
       "9827     0.00    6.4650      6  2017           7 days  \n",
       "9828     0.20    3.7596      6  2017           7 days  \n",
       "9829     0.20   15.1470      7  2017           7 days  \n",
       "9875     0.00    0.0636      1  2016           7 days  \n",
       "\n",
       "[621 rows x 24 columns]"
      ]
     },
     "execution_count": 19,
     "metadata": {},
     "output_type": "execute_result"
    }
   ],
   "source": [
    "latedays"
   ]
  },
  {
   "cell_type": "markdown",
   "id": "9e39edac",
   "metadata": {
    "papermill": {
     "duration": 0.067116,
     "end_time": "2022-04-11T20:03:50.235140",
     "exception": false,
     "start_time": "2022-04-11T20:03:50.168024",
     "status": "completed"
    },
    "tags": []
   },
   "source": [
    "# #each  Month Shpping Delay"
   ]
  },
  {
   "cell_type": "code",
   "execution_count": 20,
   "id": "0d067bf8",
   "metadata": {
    "execution": {
     "iopub.execute_input": "2022-04-11T20:03:50.372609Z",
     "iopub.status.busy": "2022-04-11T20:03:50.371947Z",
     "iopub.status.idle": "2022-04-11T20:03:50.378811Z",
     "shell.execute_reply": "2022-04-11T20:03:50.379295Z",
     "shell.execute_reply.started": "2022-04-11T18:47:49.305581Z"
    },
    "papermill": {
     "duration": 0.078076,
     "end_time": "2022-04-11T20:03:50.379479",
     "exception": false,
     "start_time": "2022-04-11T20:03:50.301403",
     "status": "completed"
    },
    "tags": []
   },
   "outputs": [
    {
     "data": {
      "text/plain": [
       "12    85\n",
       "8     77\n",
       "11    75\n",
       "9     66\n",
       "10    50\n",
       "4     46\n",
       "1     44\n",
       "6     44\n",
       "7     40\n",
       "2     39\n",
       "5     33\n",
       "3     22\n",
       "Name: Month, dtype: int64"
      ]
     },
     "execution_count": 20,
     "metadata": {},
     "output_type": "execute_result"
    }
   ],
   "source": [
    "latedays['Month'].value_counts()"
   ]
  },
  {
   "cell_type": "code",
   "execution_count": 21,
   "id": "4bece165",
   "metadata": {
    "execution": {
     "iopub.execute_input": "2022-04-11T20:03:50.517783Z",
     "iopub.status.busy": "2022-04-11T20:03:50.516846Z",
     "iopub.status.idle": "2022-04-11T20:03:50.807142Z",
     "shell.execute_reply": "2022-04-11T20:03:50.806598Z",
     "shell.execute_reply.started": "2022-04-11T19:02:23.832078Z"
    },
    "papermill": {
     "duration": 0.360751,
     "end_time": "2022-04-11T20:03:50.807290",
     "exception": false,
     "start_time": "2022-04-11T20:03:50.446539",
     "status": "completed"
    },
    "tags": []
   },
   "outputs": [
    {
     "data": {
      "text/plain": [
       "Text(0.5, 1.0, 'Each month delay shpping distripution')"
      ]
     },
     "execution_count": 21,
     "metadata": {},
     "output_type": "execute_result"
    },
    {
     "data": {
      "image/png": "[encoded data removed]",
      "text/plain": [
       "<Figure size 720x504 with 1 Axes>"
      ]
     },
     "metadata": {
      "needs_background": "light"
     },
     "output_type": "display_data"
    }
   ],
   "source": [
    "fig = plt.figure(figsize=(10,7))\n",
    "sns.barplot(x = latedays['Month'].value_counts().index,y=latedays['Month'].value_counts().values,palette = color)\n",
    "plt.title('Each month delay shpping distripution')"
   ]
  },
  {
   "cell_type": "markdown",
   "id": "2cfca9d7",
   "metadata": {
    "papermill": {
     "duration": 0.066788,
     "end_time": "2022-04-11T20:03:50.943821",
     "exception": false,
     "start_time": "2022-04-11T20:03:50.877033",
     "status": "completed"
    },
    "tags": []
   },
   "source": [
    "****12,11,8 month high delay shpping****"
   ]
  },
  {
   "cell_type": "code",
   "execution_count": null,
   "id": "78d58276",
   "metadata": {
    "papermill": {
     "duration": 0.068268,
     "end_time": "2022-04-11T20:03:51.079249",
     "exception": false,
     "start_time": "2022-04-11T20:03:51.010981",
     "status": "completed"
    },
    "tags": []
   },
   "outputs": [],
   "source": []
  },
  {
   "cell_type": "markdown",
   "id": "f55889b3",
   "metadata": {
    "papermill": {
     "duration": 0.067383,
     "end_time": "2022-04-11T20:03:51.214241",
     "exception": false,
     "start_time": "2022-04-11T20:03:51.146858",
     "status": "completed"
    },
    "tags": []
   },
   "source": [
    "# How much Total sales"
   ]
  },
  {
   "cell_type": "code",
   "execution_count": 22,
   "id": "842bf5b7",
   "metadata": {
    "execution": {
     "iopub.execute_input": "2022-04-11T20:03:51.357200Z",
     "iopub.status.busy": "2022-04-11T20:03:51.356308Z",
     "iopub.status.idle": "2022-04-11T20:03:51.360921Z",
     "shell.execute_reply": "2022-04-11T20:03:51.360265Z",
     "shell.execute_reply.started": "2022-04-11T19:12:38.045316Z"
    },
    "papermill": {
     "duration": 0.078573,
     "end_time": "2022-04-11T20:03:51.361061",
     "exception": false,
     "start_time": "2022-04-11T20:03:51.282488",
     "status": "completed"
    },
    "tags": []
   },
   "outputs": [
    {
     "data": {
      "text/plain": [
       "2297200.8603000003"
      ]
     },
     "execution_count": 22,
     "metadata": {},
     "output_type": "execute_result"
    }
   ],
   "source": [
    "df['Sales'].sum()"
   ]
  },
  {
   "cell_type": "markdown",
   "id": "57973c47",
   "metadata": {
    "papermill": {
     "duration": 0.06721,
     "end_time": "2022-04-11T20:03:51.496268",
     "exception": false,
     "start_time": "2022-04-11T20:03:51.429058",
     "status": "completed"
    },
    "tags": []
   },
   "source": [
    "# How much each yearly sales?"
   ]
  },
  {
   "cell_type": "code",
   "execution_count": 23,
   "id": "43e9c5b1",
   "metadata": {
    "execution": {
     "iopub.execute_input": "2022-04-11T20:03:51.639538Z",
     "iopub.status.busy": "2022-04-11T20:03:51.638906Z",
     "iopub.status.idle": "2022-04-11T20:03:51.646764Z",
     "shell.execute_reply": "2022-04-11T20:03:51.647328Z",
     "shell.execute_reply.started": "2022-04-11T19:14:04.728162Z"
    },
    "papermill": {
     "duration": 0.083488,
     "end_time": "2022-04-11T20:03:51.647506",
     "exception": false,
     "start_time": "2022-04-11T20:03:51.564018",
     "status": "completed"
    },
    "tags": []
   },
   "outputs": [],
   "source": [
    "yearlysales = df.groupby(['Year'])['Sales'].sum().reset_index()"
   ]
  },
  {
   "cell_type": "code",
   "execution_count": 24,
   "id": "07a8f5a6",
   "metadata": {
    "execution": {
     "iopub.execute_input": "2022-04-11T20:03:51.788223Z",
     "iopub.status.busy": "2022-04-11T20:03:51.787550Z",
     "iopub.status.idle": "2022-04-11T20:03:52.021459Z",
     "shell.execute_reply": "2022-04-11T20:03:52.020944Z",
     "shell.execute_reply.started": "2022-04-11T19:15:02.627622Z"
    },
    "papermill": {
     "duration": 0.306254,
     "end_time": "2022-04-11T20:03:52.021622",
     "exception": false,
     "start_time": "2022-04-11T20:03:51.715368",
     "status": "completed"
    },
    "tags": []
   },
   "outputs": [
    {
     "data": {
      "text/plain": [
       "Text(0.5, 1.0, 'Each year sales distripution')"
      ]
     },
     "execution_count": 24,
     "metadata": {},
     "output_type": "execute_result"
    },
    {
     "data": {
      "image/png": "[encoded data removed]",
      "text/plain": [
       "<Figure size 720x504 with 1 Axes>"
      ]
     },
     "metadata": {
      "needs_background": "light"
     },
     "output_type": "display_data"
    }
   ],
   "source": [
    "fig = plt.figure(figsize=(10,7))\n",
    "sns.barplot(x = yearlysales['Year'],y=yearlysales['Sales'],palette = color)\n",
    "plt.title('Each year sales distripution')"
   ]
  },
  {
   "cell_type": "markdown",
   "id": "15ce2132",
   "metadata": {
    "papermill": {
     "duration": 0.069151,
     "end_time": "2022-04-11T20:03:52.161679",
     "exception": false,
     "start_time": "2022-04-11T20:03:52.092528",
     "status": "completed"
    },
    "tags": []
   },
   "source": [
    "****2017 good sales,and 2018 is very low sales****"
   ]
  },
  {
   "cell_type": "markdown",
   "id": "270bdafd",
   "metadata": {
    "papermill": {
     "duration": 0.06914,
     "end_time": "2022-04-11T20:03:52.300527",
     "exception": false,
     "start_time": "2022-04-11T20:03:52.231387",
     "status": "completed"
    },
    "tags": []
   },
   "source": [
    "# Each Month Sales"
   ]
  },
  {
   "cell_type": "code",
   "execution_count": 25,
   "id": "70ef7d2e",
   "metadata": {
    "execution": {
     "iopub.execute_input": "2022-04-11T20:03:52.447350Z",
     "iopub.status.busy": "2022-04-11T20:03:52.446526Z",
     "iopub.status.idle": "2022-04-11T20:03:52.452314Z",
     "shell.execute_reply": "2022-04-11T20:03:52.451649Z",
     "shell.execute_reply.started": "2022-04-11T19:16:46.109320Z"
    },
    "papermill": {
     "duration": 0.081952,
     "end_time": "2022-04-11T20:03:52.452454",
     "exception": false,
     "start_time": "2022-04-11T20:03:52.370502",
     "status": "completed"
    },
    "tags": []
   },
   "outputs": [],
   "source": [
    "monthsales = df.groupby(['Month'])['Sales'].sum().reset_index()"
   ]
  },
  {
   "cell_type": "code",
   "execution_count": 26,
   "id": "5e70cc9d",
   "metadata": {
    "execution": {
     "iopub.execute_input": "2022-04-11T20:03:52.616532Z",
     "iopub.status.busy": "2022-04-11T20:03:52.602638Z",
     "iopub.status.idle": "2022-04-11T20:03:52.892662Z",
     "shell.execute_reply": "2022-04-11T20:03:52.891980Z",
     "shell.execute_reply.started": "2022-04-11T19:17:16.798577Z"
    },
    "papermill": {
     "duration": 0.37117,
     "end_time": "2022-04-11T20:03:52.892817",
     "exception": false,
     "start_time": "2022-04-11T20:03:52.521647",
     "status": "completed"
    },
    "tags": []
   },
   "outputs": [
    {
     "data": {
      "text/plain": [
       "Text(0.5, 1.0, 'Each Month sales distripution')"
      ]
     },
     "execution_count": 26,
     "metadata": {},
     "output_type": "execute_result"
    },
    {
     "data": {
      "image/png": "[encoded data removed]",
      "text/plain": [
       "<Figure size 720x504 with 1 Axes>"
      ]
     },
     "metadata": {
      "needs_background": "light"
     },
     "output_type": "display_data"
    }
   ],
   "source": [
    "fig = plt.figure(figsize=(10,7))\n",
    "sns.barplot(x = monthsales['Month'],y=monthsales['Sales'],palette = color)\n",
    "plt.title('Each Month sales distripution')"
   ]
  },
  {
   "cell_type": "markdown",
   "id": "f90294c9",
   "metadata": {
    "papermill": {
     "duration": 0.070852,
     "end_time": "2022-04-11T20:03:53.034990",
     "exception": false,
     "start_time": "2022-04-11T20:03:52.964138",
     "status": "completed"
    },
    "tags": []
   },
   "source": [
    "****10,11,12 month sales is good,and 2 month sales is low****"
   ]
  },
  {
   "cell_type": "markdown",
   "id": "34e598e1",
   "metadata": {
    "papermill": {
     "duration": 0.070203,
     "end_time": "2022-04-11T20:03:53.175605",
     "exception": false,
     "start_time": "2022-04-11T20:03:53.105402",
     "status": "completed"
    },
    "tags": []
   },
   "source": [
    "# Whitch year more shiping?"
   ]
  },
  {
   "cell_type": "code",
   "execution_count": 27,
   "id": "44c7e45f",
   "metadata": {
    "execution": {
     "iopub.execute_input": "2022-04-11T20:03:53.323446Z",
     "iopub.status.busy": "2022-04-11T20:03:53.322401Z",
     "iopub.status.idle": "2022-04-11T20:03:53.328379Z",
     "shell.execute_reply": "2022-04-11T20:03:53.328892Z",
     "shell.execute_reply.started": "2022-04-11T19:21:00.875223Z"
    },
    "papermill": {
     "duration": 0.082696,
     "end_time": "2022-04-11T20:03:53.329090",
     "exception": false,
     "start_time": "2022-04-11T20:03:53.246394",
     "status": "completed"
    },
    "tags": []
   },
   "outputs": [],
   "source": [
    "yearlyquant = df.groupby(['Year'])['Quantity'].sum().reset_index()"
   ]
  },
  {
   "cell_type": "code",
   "execution_count": 28,
   "id": "2d9ebb59",
   "metadata": {
    "execution": {
     "iopub.execute_input": "2022-04-11T20:03:53.478621Z",
     "iopub.status.busy": "2022-04-11T20:03:53.472972Z",
     "iopub.status.idle": "2022-04-11T20:03:53.718968Z",
     "shell.execute_reply": "2022-04-11T20:03:53.719471Z",
     "shell.execute_reply.started": "2022-04-11T19:21:59.105622Z"
    },
    "papermill": {
     "duration": 0.320247,
     "end_time": "2022-04-11T20:03:53.719660",
     "exception": false,
     "start_time": "2022-04-11T20:03:53.399413",
     "status": "completed"
    },
    "tags": []
   },
   "outputs": [
    {
     "data": {
      "text/plain": [
       "Text(0.5, 1.0, 'Each year shipping distripution')"
      ]
     },
     "execution_count": 28,
     "metadata": {},
     "output_type": "execute_result"
    },
    {
     "data": {
      "image/png": "[encoded data removed]",
      "text/plain": [
       "<Figure size 720x504 with 1 Axes>"
      ]
     },
     "metadata": {
      "needs_background": "light"
     },
     "output_type": "display_data"
    }
   ],
   "source": [
    "fig = plt.figure(figsize=(10,7))\n",
    "sns.barplot(x = yearlyquant['Year'],y=yearlyquant['Quantity'],palette = color)\n",
    "plt.title('Each year shipping distripution')"
   ]
  },
  {
   "cell_type": "markdown",
   "id": "51490723",
   "metadata": {
    "papermill": {
     "duration": 0.073417,
     "end_time": "2022-04-11T20:03:53.864659",
     "exception": false,
     "start_time": "2022-04-11T20:03:53.791242",
     "status": "completed"
    },
    "tags": []
   },
   "source": [
    "**2017 more shipping and 2018 very low**"
   ]
  },
  {
   "cell_type": "markdown",
   "id": "4d46d653",
   "metadata": {
    "papermill": {
     "duration": 0.074205,
     "end_time": "2022-04-11T20:03:54.011141",
     "exception": false,
     "start_time": "2022-04-11T20:03:53.936936",
     "status": "completed"
    },
    "tags": []
   },
   "source": [
    "# Which State more sales?"
   ]
  },
  {
   "cell_type": "code",
   "execution_count": 29,
   "id": "4e51de8f",
   "metadata": {
    "execution": {
     "iopub.execute_input": "2022-04-11T20:03:54.158951Z",
     "iopub.status.busy": "2022-04-11T20:03:54.158231Z",
     "iopub.status.idle": "2022-04-11T20:03:54.166444Z",
     "shell.execute_reply": "2022-04-11T20:03:54.166997Z",
     "shell.execute_reply.started": "2022-04-11T19:25:14.536207Z"
    },
    "papermill": {
     "duration": 0.084869,
     "end_time": "2022-04-11T20:03:54.167182",
     "exception": false,
     "start_time": "2022-04-11T20:03:54.082313",
     "status": "completed"
    },
    "tags": []
   },
   "outputs": [],
   "source": [
    "statessales = df.groupby(['State'])['Sales'].sum().reset_index()"
   ]
  },
  {
   "cell_type": "code",
   "execution_count": 30,
   "id": "be0b64d4",
   "metadata": {
    "execution": {
     "iopub.execute_input": "2022-04-11T20:03:54.316194Z",
     "iopub.status.busy": "2022-04-11T20:03:54.315427Z",
     "iopub.status.idle": "2022-04-11T20:03:55.096473Z",
     "shell.execute_reply": "2022-04-11T20:03:55.095947Z",
     "shell.execute_reply.started": "2022-04-11T19:26:53.088151Z"
    },
    "papermill": {
     "duration": 0.858011,
     "end_time": "2022-04-11T20:03:55.096633",
     "exception": false,
     "start_time": "2022-04-11T20:03:54.238622",
     "status": "completed"
    },
    "tags": []
   },
   "outputs": [
    {
     "data": {
      "text/plain": [
       "Text(0.5, 1.0, 'Each State sales distripution')"
      ]
     },
     "execution_count": 30,
     "metadata": {},
     "output_type": "execute_result"
    },
    {
     "data": {
      "image/png": "[encoded data removed]",
      "text/plain": [
       "<Figure size 1080x720 with 1 Axes>"
      ]
     },
     "metadata": {
      "needs_background": "light"
     },
     "output_type": "display_data"
    }
   ],
   "source": [
    "fig = plt.figure(figsize=(15,10))\n",
    "sns.barplot(x = statessales['State'],y=statessales['Sales'],palette = color)\n",
    "plt.tick_params(axis ='x',rotation = 90)\n",
    "plt.title('Each State sales distripution')"
   ]
  },
  {
   "cell_type": "markdown",
   "id": "837d512b",
   "metadata": {
    "papermill": {
     "duration": 0.078741,
     "end_time": "2022-04-11T20:03:55.249259",
     "exception": false,
     "start_time": "2022-04-11T20:03:55.170518",
     "status": "completed"
    },
    "tags": []
   },
   "source": [
    "****Califomia and new yeark is more sales****"
   ]
  },
  {
   "cell_type": "markdown",
   "id": "25f3bf76",
   "metadata": {
    "papermill": {
     "duration": 0.074918,
     "end_time": "2022-04-11T20:03:55.397896",
     "exception": false,
     "start_time": "2022-04-11T20:03:55.322978",
     "status": "completed"
    },
    "tags": []
   },
   "source": [
    "# Each States shipping delay"
   ]
  },
  {
   "cell_type": "code",
   "execution_count": 31,
   "id": "55521470",
   "metadata": {
    "execution": {
     "iopub.execute_input": "2022-04-11T20:03:55.555520Z",
     "iopub.status.busy": "2022-04-11T20:03:55.554815Z",
     "iopub.status.idle": "2022-04-11T20:03:55.557597Z",
     "shell.execute_reply": "2022-04-11T20:03:55.558254Z",
     "shell.execute_reply.started": "2022-04-11T19:30:29.325056Z"
    },
    "papermill": {
     "duration": 0.087169,
     "end_time": "2022-04-11T20:03:55.558429",
     "exception": false,
     "start_time": "2022-04-11T20:03:55.471260",
     "status": "completed"
    },
    "tags": []
   },
   "outputs": [
    {
     "data": {
      "text/plain": [
       "California        127\n",
       "New York           67\n",
       "Washington         59\n",
       "Texas              47\n",
       "Arizona            31\n",
       "Florida            30\n",
       "Illinois           28\n",
       "Pennsylvania       25\n",
       "Ohio               22\n",
       "Tennessee          16\n",
       "North Carolina     16\n",
       "Michigan           16\n",
       "New Jersey         13\n",
       "Minnesota          12\n",
       "Georgia            11\n",
       "Kentucky            9\n",
       "Indiana             9\n",
       "Massachusetts       8\n",
       "Arkansas            8\n",
       "Colorado            7\n",
       "Nevada              7\n",
       "Rhode Island        6\n",
       "Oklahoma            6\n",
       "Virginia            6\n",
       "Alabama             6\n",
       "Kansas              4\n",
       "Oregon              3\n",
       "Maryland            3\n",
       "Delaware            3\n",
       "Montana             3\n",
       "Connecticut         3\n",
       "Iowa                2\n",
       "Mississippi         2\n",
       "Wisconsin           2\n",
       "Nebraska            1\n",
       "New Mexico          1\n",
       "New Hampshire       1\n",
       "Missouri            1\n",
       "Name: State, dtype: int64"
      ]
     },
     "execution_count": 31,
     "metadata": {},
     "output_type": "execute_result"
    }
   ],
   "source": [
    "latedays['State'].value_counts()"
   ]
  },
  {
   "cell_type": "code",
   "execution_count": 32,
   "id": "2738eaca",
   "metadata": {
    "execution": {
     "iopub.execute_input": "2022-04-11T20:03:55.711912Z",
     "iopub.status.busy": "2022-04-11T20:03:55.711158Z",
     "iopub.status.idle": "2022-04-11T20:03:56.472194Z",
     "shell.execute_reply": "2022-04-11T20:03:56.472885Z",
     "shell.execute_reply.started": "2022-04-11T19:31:37.771640Z"
    },
    "papermill": {
     "duration": 0.840688,
     "end_time": "2022-04-11T20:03:56.473066",
     "exception": false,
     "start_time": "2022-04-11T20:03:55.632378",
     "status": "completed"
    },
    "tags": []
   },
   "outputs": [
    {
     "data": {
      "text/plain": [
       "Text(0.5, 1.0, 'Each State shipping delay distripution')"
      ]
     },
     "execution_count": 32,
     "metadata": {},
     "output_type": "execute_result"
    },
    {
     "data": {
      "image/png": "[encoded data removed]",
      "text/plain": [
       "<Figure size 1080x720 with 1 Axes>"
      ]
     },
     "metadata": {
      "needs_background": "light"
     },
     "output_type": "display_data"
    }
   ],
   "source": [
    "fig = plt.figure(figsize=(15,10))\n",
    "sns.barplot(x = latedays['State'].value_counts().index,y=latedays['State'].value_counts().values, palette = color)\n",
    "plt.tick_params(axis ='x',rotation = 90)\n",
    "plt.title('Each State shipping delay distripution')"
   ]
  },
  {
   "cell_type": "markdown",
   "id": "8f7209a2",
   "metadata": {
    "papermill": {
     "duration": 0.079764,
     "end_time": "2022-04-11T20:03:56.629620",
     "exception": false,
     "start_time": "2022-04-11T20:03:56.549856",
     "status": "completed"
    },
    "tags": []
   },
   "source": [
    "****Califormia and newyear shpping delay very high****"
   ]
  },
  {
   "cell_type": "markdown",
   "id": "9dc6c941",
   "metadata": {
    "papermill": {
     "duration": 0.076868,
     "end_time": "2022-04-11T20:03:56.785381",
     "exception": false,
     "start_time": "2022-04-11T20:03:56.708513",
     "status": "completed"
    },
    "tags": []
   },
   "source": [
    "# TOP 10  Product Quantity of Shipping"
   ]
  },
  {
   "cell_type": "code",
   "execution_count": 33,
   "id": "550cec37",
   "metadata": {
    "execution": {
     "iopub.execute_input": "2022-04-11T20:03:56.945097Z",
     "iopub.status.busy": "2022-04-11T20:03:56.944077Z",
     "iopub.status.idle": "2022-04-11T20:03:56.956435Z",
     "shell.execute_reply": "2022-04-11T20:03:56.957056Z",
     "shell.execute_reply.started": "2022-04-11T19:36:30.031143Z"
    },
    "papermill": {
     "duration": 0.094713,
     "end_time": "2022-04-11T20:03:56.957261",
     "exception": false,
     "start_time": "2022-04-11T20:03:56.862548",
     "status": "completed"
    },
    "tags": []
   },
   "outputs": [],
   "source": [
    "TOPQUNT = df.groupby(df['Product Name'])['Quantity'].sum().reset_index().sort_values('Quantity',ascending  =False).head(10)"
   ]
  },
  {
   "cell_type": "code",
   "execution_count": 34,
   "id": "c059ea72",
   "metadata": {
    "execution": {
     "iopub.execute_input": "2022-04-11T20:03:57.116530Z",
     "iopub.status.busy": "2022-04-11T20:03:57.115283Z",
     "iopub.status.idle": "2022-04-11T20:03:57.456239Z",
     "shell.execute_reply": "2022-04-11T20:03:57.456764Z",
     "shell.execute_reply.started": "2022-04-11T19:38:04.590902Z"
    },
    "papermill": {
     "duration": 0.422668,
     "end_time": "2022-04-11T20:03:57.456965",
     "exception": false,
     "start_time": "2022-04-11T20:03:57.034297",
     "status": "completed"
    },
    "tags": []
   },
   "outputs": [
    {
     "data": {
      "text/plain": [
       "Text(0.5, 1.0, 'top 10 product quantity of shipping Distripution')"
      ]
     },
     "execution_count": 34,
     "metadata": {},
     "output_type": "execute_result"
    },
    {
     "data": {
      "image/png": "[encoded data removed]",
      "text/plain": [
       "<Figure size 1080x720 with 1 Axes>"
      ]
     },
     "metadata": {
      "needs_background": "light"
     },
     "output_type": "display_data"
    }
   ],
   "source": [
    "fig = plt.figure(figsize=(15,10))\n",
    "sns.barplot(x = TOPQUNT['Product Name'],y=TOPQUNT['Quantity'], palette = color)\n",
    "plt.tick_params(axis ='x',rotation = 90)\n",
    "plt.title('top 10 product quantity of shipping Distripution')"
   ]
  },
  {
   "cell_type": "markdown",
   "id": "812c3a5c",
   "metadata": {
    "papermill": {
     "duration": 0.078025,
     "end_time": "2022-04-11T20:03:57.614654",
     "exception": false,
     "start_time": "2022-04-11T20:03:57.536629",
     "status": "completed"
    },
    "tags": []
   },
   "source": [
    "****Staples very high quantity of shippine****"
   ]
  },
  {
   "cell_type": "markdown",
   "id": "c43ad823",
   "metadata": {
    "papermill": {
     "duration": 0.078094,
     "end_time": "2022-04-11T20:03:57.770538",
     "exception": false,
     "start_time": "2022-04-11T20:03:57.692444",
     "status": "completed"
    },
    "tags": []
   },
   "source": [
    "# #Top 10 product is more Sales"
   ]
  },
  {
   "cell_type": "code",
   "execution_count": 35,
   "id": "8c6ff0d5",
   "metadata": {
    "execution": {
     "iopub.execute_input": "2022-04-11T20:03:57.936438Z",
     "iopub.status.busy": "2022-04-11T20:03:57.935469Z",
     "iopub.status.idle": "2022-04-11T20:03:57.947015Z",
     "shell.execute_reply": "2022-04-11T20:03:57.947543Z",
     "shell.execute_reply.started": "2022-04-11T19:40:38.596456Z"
    },
    "papermill": {
     "duration": 0.096472,
     "end_time": "2022-04-11T20:03:57.947736",
     "exception": false,
     "start_time": "2022-04-11T20:03:57.851264",
     "status": "completed"
    },
    "tags": []
   },
   "outputs": [],
   "source": [
    "topsales = df.groupby(df['Product Name'])['Sales'].sum().reset_index().sort_values('Sales',ascending  =False).head(10)"
   ]
  },
  {
   "cell_type": "code",
   "execution_count": 36,
   "id": "c5397544",
   "metadata": {
    "execution": {
     "iopub.execute_input": "2022-04-11T20:03:58.108592Z",
     "iopub.status.busy": "2022-04-11T20:03:58.107621Z",
     "iopub.status.idle": "2022-04-11T20:03:58.486158Z",
     "shell.execute_reply": "2022-04-11T20:03:58.486706Z",
     "shell.execute_reply.started": "2022-04-11T19:41:05.853458Z"
    },
    "papermill": {
     "duration": 0.459977,
     "end_time": "2022-04-11T20:03:58.486895",
     "exception": false,
     "start_time": "2022-04-11T20:03:58.026918",
     "status": "completed"
    },
    "tags": []
   },
   "outputs": [
    {
     "data": {
      "text/plain": [
       "Text(0.5, 1.0, 'top 10 product Sales Distripution')"
      ]
     },
     "execution_count": 36,
     "metadata": {},
     "output_type": "execute_result"
    },
    {
     "data": {
      "image/png": "[encoded data removed]",
      "text/plain": [
       "<Figure size 1080x720 with 1 Axes>"
      ]
     },
     "metadata": {
      "needs_background": "light"
     },
     "output_type": "display_data"
    }
   ],
   "source": [
    "fig = plt.figure(figsize=(15,10))\n",
    "sns.barplot(x = topsales['Product Name'],y=topsales['Sales'], palette = color)\n",
    "plt.tick_params(axis ='x',rotation = 90)\n",
    "plt.title('top 10 product Sales Distripution')"
   ]
  },
  {
   "cell_type": "markdown",
   "id": "a1e6510a",
   "metadata": {
    "papermill": {
     "duration": 0.079942,
     "end_time": "2022-04-11T20:03:58.647983",
     "exception": false,
     "start_time": "2022-04-11T20:03:58.568041",
     "status": "completed"
    },
    "tags": []
   },
   "source": [
    "# Each Category of Sales"
   ]
  },
  {
   "cell_type": "code",
   "execution_count": 37,
   "id": "28e36f2f",
   "metadata": {
    "execution": {
     "iopub.execute_input": "2022-04-11T20:03:58.814251Z",
     "iopub.status.busy": "2022-04-11T20:03:58.813235Z",
     "iopub.status.idle": "2022-04-11T20:03:58.822073Z",
     "shell.execute_reply": "2022-04-11T20:03:58.822730Z",
     "shell.execute_reply.started": "2022-04-11T19:43:30.653955Z"
    },
    "papermill": {
     "duration": 0.093876,
     "end_time": "2022-04-11T20:03:58.822932",
     "exception": false,
     "start_time": "2022-04-11T20:03:58.729056",
     "status": "completed"
    },
    "tags": []
   },
   "outputs": [],
   "source": [
    "Categorysales = df.groupby(['Category'])['Sales'].sum().reset_index()"
   ]
  },
  {
   "cell_type": "code",
   "execution_count": 38,
   "id": "29943ccf",
   "metadata": {
    "execution": {
     "iopub.execute_input": "2022-04-11T20:03:58.989720Z",
     "iopub.status.busy": "2022-04-11T20:03:58.988667Z",
     "iopub.status.idle": "2022-04-11T20:03:59.236628Z",
     "shell.execute_reply": "2022-04-11T20:03:59.237155Z",
     "shell.execute_reply.started": "2022-04-11T19:44:59.079140Z"
    },
    "papermill": {
     "duration": 0.333107,
     "end_time": "2022-04-11T20:03:59.237358",
     "exception": false,
     "start_time": "2022-04-11T20:03:58.904251",
     "status": "completed"
    },
    "tags": []
   },
   "outputs": [
    {
     "data": {
      "text/plain": [
       "Text(0.5, 1.0, 'Each Category  Sales Distripution')"
      ]
     },
     "execution_count": 38,
     "metadata": {},
     "output_type": "execute_result"
    },
    {
     "data": {
      "image/png": "[encoded data removed]",
      "text/plain": [
       "<Figure size 1080x720 with 1 Axes>"
      ]
     },
     "metadata": {
      "needs_background": "light"
     },
     "output_type": "display_data"
    }
   ],
   "source": [
    "fig = plt.figure(figsize=(15,10))\n",
    "sns.barplot(x=Categorysales['Category'],y =Categorysales['Sales'],palette = color)\n",
    "plt.tick_params(axis ='x',rotation = 90)\n",
    "plt.title('Each Category  Sales Distripution')"
   ]
  },
  {
   "cell_type": "markdown",
   "id": "20f56cd6",
   "metadata": {
    "papermill": {
     "duration": 0.081942,
     "end_time": "2022-04-11T20:03:59.401295",
     "exception": false,
     "start_time": "2022-04-11T20:03:59.319353",
     "status": "completed"
    },
    "tags": []
   },
   "source": [
    "**very high seles tech**"
   ]
  },
  {
   "cell_type": "markdown",
   "id": "03575de5",
   "metadata": {
    "papermill": {
     "duration": 0.081622,
     "end_time": "2022-04-11T20:03:59.564994",
     "exception": false,
     "start_time": "2022-04-11T20:03:59.483372",
     "status": "completed"
    },
    "tags": []
   },
   "source": [
    "# Why 2018 is very low sales?"
   ]
  },
  {
   "cell_type": "code",
   "execution_count": 39,
   "id": "a3d12d92",
   "metadata": {
    "execution": {
     "iopub.execute_input": "2022-04-11T20:03:59.732622Z",
     "iopub.status.busy": "2022-04-11T20:03:59.731644Z",
     "iopub.status.idle": "2022-04-11T20:03:59.743290Z",
     "shell.execute_reply": "2022-04-11T20:03:59.743832Z",
     "shell.execute_reply.started": "2022-04-11T19:50:58.251247Z"
    },
    "papermill": {
     "duration": 0.097295,
     "end_time": "2022-04-11T20:03:59.744040",
     "exception": false,
     "start_time": "2022-04-11T20:03:59.646745",
     "status": "completed"
    },
    "tags": []
   },
   "outputs": [],
   "source": [
    "dis = df.groupby(['Category'])['Discount'].sum().reset_index()\n",
    "salesy = df.groupby(['Category'])['Sales'].sum().reset_index()"
   ]
  },
  {
   "cell_type": "code",
   "execution_count": 40,
   "id": "adb64729",
   "metadata": {
    "execution": {
     "iopub.execute_input": "2022-04-11T20:03:59.913101Z",
     "iopub.status.busy": "2022-04-11T20:03:59.912134Z",
     "iopub.status.idle": "2022-04-11T20:04:00.123233Z",
     "shell.execute_reply": "2022-04-11T20:04:00.122502Z",
     "shell.execute_reply.started": "2022-04-11T19:54:38.705719Z"
    },
    "papermill": {
     "duration": 0.296976,
     "end_time": "2022-04-11T20:04:00.123391",
     "exception": false,
     "start_time": "2022-04-11T20:03:59.826415",
     "status": "completed"
    },
    "tags": []
   },
   "outputs": [
    {
     "data": {
      "text/plain": [
       "Text(0.5, 1.0, 'Discount Category')"
      ]
     },
     "execution_count": 40,
     "metadata": {},
     "output_type": "execute_result"
    },
    {
     "data": {
      "image/png": "[encoded data removed]",
      "text/plain": [
       "<Figure size 432x288 with 1 Axes>"
      ]
     },
     "metadata": {
      "needs_background": "light"
     },
     "output_type": "display_data"
    }
   ],
   "source": [
    "sns.lineplot(x = dis['Category'],y = dis['Discount'])\n",
    "plt.title('Discount Category')"
   ]
  },
  {
   "cell_type": "code",
   "execution_count": 41,
   "id": "164a105c",
   "metadata": {
    "execution": {
     "iopub.execute_input": "2022-04-11T20:04:00.305352Z",
     "iopub.status.busy": "2022-04-11T20:04:00.304668Z",
     "iopub.status.idle": "2022-04-11T20:04:00.505390Z",
     "shell.execute_reply": "2022-04-11T20:04:00.504740Z",
     "shell.execute_reply.started": "2022-04-11T19:54:58.235649Z"
    },
    "papermill": {
     "duration": 0.297252,
     "end_time": "2022-04-11T20:04:00.505527",
     "exception": false,
     "start_time": "2022-04-11T20:04:00.208275",
     "status": "completed"
    },
    "tags": []
   },
   "outputs": [
    {
     "data": {
      "text/plain": [
       "Text(0.5, 1.0, 'Sales of Category')"
      ]
     },
     "execution_count": 41,
     "metadata": {},
     "output_type": "execute_result"
    },
    {
     "data": {
      "image/png": "[encoded data removed]",
      "text/plain": [
       "<Figure size 432x288 with 1 Axes>"
      ]
     },
     "metadata": {
      "needs_background": "light"
     },
     "output_type": "display_data"
    }
   ],
   "source": [
    "sns.lineplot(x = salesy['Category'],y =salesy['Sales'])\n",
    "plt.title('Sales of Category')"
   ]
  },
  {
   "cell_type": "markdown",
   "id": "f3569203",
   "metadata": {
    "papermill": {
     "duration": 0.085813,
     "end_time": "2022-04-11T20:04:00.681014",
     "exception": false,
     "start_time": "2022-04-11T20:04:00.595201",
     "status": "completed"
    },
    "tags": []
   },
   "source": [
    "****More Discount in Office Supplies but your sales is very low,\n",
    "but very low discount of tech but sales is very good\n",
    "you inverst technology very sales is very high****"
   ]
  },
  {
   "cell_type": "code",
   "execution_count": 42,
   "id": "78d194f5",
   "metadata": {
    "execution": {
     "iopub.execute_input": "2022-04-11T20:04:00.856953Z",
     "iopub.status.busy": "2022-04-11T20:04:00.854885Z",
     "iopub.status.idle": "2022-04-11T20:04:00.859635Z",
     "shell.execute_reply": "2022-04-11T20:04:00.860094Z",
     "shell.execute_reply.started": "2022-04-11T19:58:08.810296Z"
    },
    "papermill": {
     "duration": 0.094741,
     "end_time": "2022-04-11T20:04:00.860271",
     "exception": false,
     "start_time": "2022-04-11T20:04:00.765530",
     "status": "completed"
    },
    "tags": []
   },
   "outputs": [],
   "source": [
    "df2018= df[df['Year'] == 2018]"
   ]
  },
  {
   "cell_type": "code",
   "execution_count": 43,
   "id": "0bc378a5",
   "metadata": {
    "execution": {
     "iopub.execute_input": "2022-04-11T20:04:01.043204Z",
     "iopub.status.busy": "2022-04-11T20:04:01.042503Z",
     "iopub.status.idle": "2022-04-11T20:04:01.046870Z",
     "shell.execute_reply": "2022-04-11T20:04:01.046269Z",
     "shell.execute_reply.started": "2022-04-11T19:58:48.447882Z"
    },
    "papermill": {
     "duration": 0.099559,
     "end_time": "2022-04-11T20:04:01.047018",
     "exception": false,
     "start_time": "2022-04-11T20:04:00.947459",
     "status": "completed"
    },
    "tags": []
   },
   "outputs": [
    {
     "data": {
      "text/plain": [
       "Category\n",
       "Furniture          2864.4068\n",
       "Office Supplies    1887.1340\n",
       "Technology          408.1560\n",
       "Name: Sales, dtype: float64"
      ]
     },
     "execution_count": 43,
     "metadata": {},
     "output_type": "execute_result"
    }
   ],
   "source": [
    "df2018.groupby(['Category'])['Sales'].sum()"
   ]
  },
  {
   "cell_type": "code",
   "execution_count": 44,
   "id": "52146e39",
   "metadata": {
    "execution": {
     "iopub.execute_input": "2022-04-11T20:04:01.231111Z",
     "iopub.status.busy": "2022-04-11T20:04:01.225104Z",
     "iopub.status.idle": "2022-04-11T20:04:01.234979Z",
     "shell.execute_reply": "2022-04-11T20:04:01.234313Z",
     "shell.execute_reply.started": "2022-04-11T19:59:14.595468Z"
    },
    "papermill": {
     "duration": 0.102167,
     "end_time": "2022-04-11T20:04:01.235126",
     "exception": false,
     "start_time": "2022-04-11T20:04:01.132959",
     "status": "completed"
    },
    "tags": []
   },
   "outputs": [
    {
     "data": {
      "text/plain": [
       "Category\n",
       "Furniture          2.22\n",
       "Office Supplies    5.20\n",
       "Technology         0.20\n",
       "Name: Discount, dtype: float64"
      ]
     },
     "execution_count": 44,
     "metadata": {},
     "output_type": "execute_result"
    }
   ],
   "source": [
    "df2018.groupby(['Category'])['Discount'].sum()"
   ]
  },
  {
   "cell_type": "markdown",
   "id": "00ce558a",
   "metadata": {
    "papermill": {
     "duration": 0.087216,
     "end_time": "2022-04-11T20:04:01.408013",
     "exception": false,
     "start_time": "2022-04-11T20:04:01.320797",
     "status": "completed"
    },
    "tags": []
   },
   "source": [
    "****Your discount of 2018 category of technology very low\n",
    "that why your sales very low 2018****"
   ]
  },
  {
   "cell_type": "code",
   "execution_count": null,
   "id": "bbb9d91f",
   "metadata": {
    "papermill": {
     "duration": 0.084938,
     "end_time": "2022-04-11T20:04:01.578415",
     "exception": false,
     "start_time": "2022-04-11T20:04:01.493477",
     "status": "completed"
    },
    "tags": []
   },
   "outputs": [],
   "source": []
  },
  {
   "cell_type": "code",
   "execution_count": null,
   "id": "fd787371",
   "metadata": {
    "papermill": {
     "duration": 0.085763,
     "end_time": "2022-04-11T20:04:01.751489",
     "exception": false,
     "start_time": "2022-04-11T20:04:01.665726",
     "status": "completed"
    },
    "tags": []
   },
   "outputs": [],
   "source": []
  }
 ],
 "metadata": {
  "kernelspec": {
   "display_name": "Python 3",
   "language": "python",
   "name": "python3"
  },
  "language_info": {
   "codemirror_mode": {
    "name": "ipython",
    "version": 3
   },
   "file_extension": ".py",
   "mimetype": "text/x-python",
   "name": "python",
   "nbconvert_exporter": "python",
   "pygments_lexer": "ipython3",
   "version": "3.7.12"
  },
  "papermill": {
   "default_parameters": {},
   "duration": 28.993874,
   "end_time": "2022-04-11T20:04:02.953171",
   "environment_variables": {},
   "exception": null,
   "input_path": "__notebook__.ipynb",
   "output_path": "__notebook__.ipynb",
   "parameters": {},
   "start_time": "2022-04-11T20:03:33.959297",
   "version": "2.3.3"
  }
 },
 "nbformat": 4,
 "nbformat_minor": 5
}
