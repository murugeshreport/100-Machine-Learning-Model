{
 "cells": [
  {
   "cell_type": "code",
   "execution_count": 1,
   "id": "4c92d711",
   "metadata": {
    "execution": {
     "iopub.execute_input": "2022-04-04T14:37:56.027477Z",
     "iopub.status.busy": "2022-04-04T14:37:56.026405Z",
     "iopub.status.idle": "2022-04-04T14:37:56.033759Z",
     "shell.execute_reply": "2022-04-04T14:37:56.034298Z",
     "shell.execute_reply.started": "2022-04-04T14:35:19.040006Z"
    },
    "papermill": {
     "duration": 0.027052,
     "end_time": "2022-04-04T14:37:56.034602",
     "exception": false,
     "start_time": "2022-04-04T14:37:56.007550",
     "status": "completed"
    },
    "tags": []
   },
   "outputs": [],
   "source": [
    "import pandas as pd\n",
    "import numpy as np"
   ]
  },
  {
   "cell_type": "code",
   "execution_count": 2,
   "id": "c972036a",
   "metadata": {
    "execution": {
     "iopub.execute_input": "2022-04-04T14:37:56.065517Z",
     "iopub.status.busy": "2022-04-04T14:37:56.064896Z",
     "iopub.status.idle": "2022-04-04T14:37:56.135178Z",
     "shell.execute_reply": "2022-04-04T14:37:56.135680Z",
     "shell.execute_reply.started": "2022-04-04T14:35:19.070957Z"
    },
    "papermill": {
     "duration": 0.086735,
     "end_time": "2022-04-04T14:37:56.135884",
     "exception": false,
     "start_time": "2022-04-04T14:37:56.049149",
     "status": "completed"
    },
    "tags": []
   },
   "outputs": [],
   "source": [
    "df = pd.read_csv('../input/language-detection/Language Detection.csv')"
   ]
  },
  {
   "cell_type": "code",
   "execution_count": 3,
   "id": "bb9a9254",
   "metadata": {
    "execution": {
     "iopub.execute_input": "2022-04-04T14:37:56.166923Z",
     "iopub.status.busy": "2022-04-04T14:37:56.166080Z",
     "iopub.status.idle": "2022-04-04T14:37:56.184083Z",
     "shell.execute_reply": "2022-04-04T14:37:56.184549Z",
     "shell.execute_reply.started": "2022-04-04T14:35:19.150772Z"
    },
    "papermill": {
     "duration": 0.034677,
     "end_time": "2022-04-04T14:37:56.184715",
     "exception": false,
     "start_time": "2022-04-04T14:37:56.150038",
     "status": "completed"
    },
    "tags": []
   },
   "outputs": [
    {
     "data": {
      "text/html": [
       "<div>\n",
       "<style scoped>\n",
       "    .dataframe tbody tr th:only-of-type {\n",
       "        vertical-align: middle;\n",
       "    }\n",
       "\n",
       "    .dataframe tbody tr th {\n",
       "        vertical-align: top;\n",
       "    }\n",
       "\n",
       "    .dataframe thead th {\n",
       "        text-align: right;\n",
       "    }\n",
       "</style>\n",
       "<table border=\"1\" class=\"dataframe\">\n",
       "  <thead>\n",
       "    <tr style=\"text-align: right;\">\n",
       "      <th></th>\n",
       "      <th>Text</th>\n",
       "      <th>Language</th>\n",
       "    </tr>\n",
       "  </thead>\n",
       "  <tbody>\n",
       "    <tr>\n",
       "      <th>0</th>\n",
       "      <td>Nature, in the broadest sense, is the natural...</td>\n",
       "      <td>English</td>\n",
       "    </tr>\n",
       "    <tr>\n",
       "      <th>1</th>\n",
       "      <td>\"Nature\" can refer to the phenomena of the phy...</td>\n",
       "      <td>English</td>\n",
       "    </tr>\n",
       "    <tr>\n",
       "      <th>2</th>\n",
       "      <td>The study of nature is a large, if not the onl...</td>\n",
       "      <td>English</td>\n",
       "    </tr>\n",
       "    <tr>\n",
       "      <th>3</th>\n",
       "      <td>Although humans are part of nature, human acti...</td>\n",
       "      <td>English</td>\n",
       "    </tr>\n",
       "    <tr>\n",
       "      <th>4</th>\n",
       "      <td>[1] The word nature is borrowed from the Old F...</td>\n",
       "      <td>English</td>\n",
       "    </tr>\n",
       "    <tr>\n",
       "      <th>...</th>\n",
       "      <td>...</td>\n",
       "      <td>...</td>\n",
       "    </tr>\n",
       "    <tr>\n",
       "      <th>10332</th>\n",
       "      <td>ನಿಮ್ಮ ತಪ್ಪು ಏನು ಬಂದಿದೆಯೆಂದರೆ ಆ ದಿನದಿಂದ ನಿಮಗೆ ಒ...</td>\n",
       "      <td>Kannada</td>\n",
       "    </tr>\n",
       "    <tr>\n",
       "      <th>10333</th>\n",
       "      <td>ನಾರ್ಸಿಸಾ ತಾನು ಮೊದಲಿಗೆ ಹೆಣಗಾಡುತ್ತಿದ್ದ ಮಾರ್ಗಗಳನ್...</td>\n",
       "      <td>Kannada</td>\n",
       "    </tr>\n",
       "    <tr>\n",
       "      <th>10334</th>\n",
       "      <td>ಹೇಗೆ ' ನಾರ್ಸಿಸಿಸಮ್ ಈಗ ಮರಿಯನ್ ಅವರಿಗೆ ಸಂಭವಿಸಿದ ಎ...</td>\n",
       "      <td>Kannada</td>\n",
       "    </tr>\n",
       "    <tr>\n",
       "      <th>10335</th>\n",
       "      <td>ಅವಳು ಈಗ ಹೆಚ್ಚು ಚಿನ್ನದ ಬ್ರೆಡ್ ಬಯಸುವುದಿಲ್ಲ ಎಂದು ...</td>\n",
       "      <td>Kannada</td>\n",
       "    </tr>\n",
       "    <tr>\n",
       "      <th>10336</th>\n",
       "      <td>ಟೆರ್ರಿ ನೀವು ನಿಜವಾಗಿಯೂ ಆ ದೇವದೂತನಂತೆ ಸ್ವಲ್ಪ ಕಾಣು...</td>\n",
       "      <td>Kannada</td>\n",
       "    </tr>\n",
       "  </tbody>\n",
       "</table>\n",
       "<p>10337 rows × 2 columns</p>\n",
       "</div>"
      ],
      "text/plain": [
       "                                                    Text Language\n",
       "0       Nature, in the broadest sense, is the natural...  English\n",
       "1      \"Nature\" can refer to the phenomena of the phy...  English\n",
       "2      The study of nature is a large, if not the onl...  English\n",
       "3      Although humans are part of nature, human acti...  English\n",
       "4      [1] The word nature is borrowed from the Old F...  English\n",
       "...                                                  ...      ...\n",
       "10332  ನಿಮ್ಮ ತಪ್ಪು ಏನು ಬಂದಿದೆಯೆಂದರೆ ಆ ದಿನದಿಂದ ನಿಮಗೆ ಒ...  Kannada\n",
       "10333  ನಾರ್ಸಿಸಾ ತಾನು ಮೊದಲಿಗೆ ಹೆಣಗಾಡುತ್ತಿದ್ದ ಮಾರ್ಗಗಳನ್...  Kannada\n",
       "10334  ಹೇಗೆ ' ನಾರ್ಸಿಸಿಸಮ್ ಈಗ ಮರಿಯನ್ ಅವರಿಗೆ ಸಂಭವಿಸಿದ ಎ...  Kannada\n",
       "10335  ಅವಳು ಈಗ ಹೆಚ್ಚು ಚಿನ್ನದ ಬ್ರೆಡ್ ಬಯಸುವುದಿಲ್ಲ ಎಂದು ...  Kannada\n",
       "10336  ಟೆರ್ರಿ ನೀವು ನಿಜವಾಗಿಯೂ ಆ ದೇವದೂತನಂತೆ ಸ್ವಲ್ಪ ಕಾಣು...  Kannada\n",
       "\n",
       "[10337 rows x 2 columns]"
      ]
     },
     "execution_count": 3,
     "metadata": {},
     "output_type": "execute_result"
    }
   ],
   "source": [
    "\n",
    "df"
   ]
  },
  {
   "cell_type": "code",
   "execution_count": 4,
   "id": "36c424d5",
   "metadata": {
    "execution": {
     "iopub.execute_input": "2022-04-04T14:37:56.224258Z",
     "iopub.status.busy": "2022-04-04T14:37:56.223177Z",
     "iopub.status.idle": "2022-04-04T14:37:56.230633Z",
     "shell.execute_reply": "2022-04-04T14:37:56.230117Z",
     "shell.execute_reply.started": "2022-04-04T14:35:19.17346Z"
    },
    "papermill": {
     "duration": 0.031529,
     "end_time": "2022-04-04T14:37:56.230776",
     "exception": false,
     "start_time": "2022-04-04T14:37:56.199247",
     "status": "completed"
    },
    "tags": []
   },
   "outputs": [
    {
     "data": {
      "text/plain": [
       "English       1385\n",
       "French        1014\n",
       "Spanish        819\n",
       "Portugeese     739\n",
       "Italian        698\n",
       "Russian        692\n",
       "Sweedish       676\n",
       "Malayalam      594\n",
       "Dutch          546\n",
       "Arabic         536\n",
       "Turkish        474\n",
       "German         470\n",
       "Tamil          469\n",
       "Danish         428\n",
       "Kannada        369\n",
       "Greek          365\n",
       "Hindi           63\n",
       "Name: Language, dtype: int64"
      ]
     },
     "execution_count": 4,
     "metadata": {},
     "output_type": "execute_result"
    }
   ],
   "source": [
    "df['Language'].value_counts()"
   ]
  },
  {
   "cell_type": "code",
   "execution_count": 5,
   "id": "61a18061",
   "metadata": {
    "execution": {
     "iopub.execute_input": "2022-04-04T14:37:56.268982Z",
     "iopub.status.busy": "2022-04-04T14:37:56.268185Z",
     "iopub.status.idle": "2022-04-04T14:37:56.271295Z",
     "shell.execute_reply": "2022-04-04T14:37:56.271737Z",
     "shell.execute_reply.started": "2022-04-04T14:35:19.223788Z"
    },
    "papermill": {
     "duration": 0.026502,
     "end_time": "2022-04-04T14:37:56.271918",
     "exception": false,
     "start_time": "2022-04-04T14:37:56.245416",
     "status": "completed"
    },
    "tags": []
   },
   "outputs": [
    {
     "data": {
      "text/plain": [
       "Text        0\n",
       "Language    0\n",
       "dtype: int64"
      ]
     },
     "execution_count": 5,
     "metadata": {},
     "output_type": "execute_result"
    }
   ],
   "source": [
    "df.isnull().sum()"
   ]
  },
  {
   "cell_type": "code",
   "execution_count": 6,
   "id": "4cc93c53",
   "metadata": {
    "execution": {
     "iopub.execute_input": "2022-04-04T14:37:56.308157Z",
     "iopub.status.busy": "2022-04-04T14:37:56.307360Z",
     "iopub.status.idle": "2022-04-04T14:37:56.310199Z",
     "shell.execute_reply": "2022-04-04T14:37:56.309686Z",
     "shell.execute_reply.started": "2022-04-04T14:35:26.462483Z"
    },
    "papermill": {
     "duration": 0.022828,
     "end_time": "2022-04-04T14:37:56.310340",
     "exception": false,
     "start_time": "2022-04-04T14:37:56.287512",
     "status": "completed"
    },
    "tags": []
   },
   "outputs": [],
   "source": [
    "x =np.array(df['Text'])\n",
    "y= np.array(df['Language'])"
   ]
  },
  {
   "cell_type": "code",
   "execution_count": 7,
   "id": "9b1dd976",
   "metadata": {
    "execution": {
     "iopub.execute_input": "2022-04-04T14:37:56.344484Z",
     "iopub.status.busy": "2022-04-04T14:37:56.343516Z",
     "iopub.status.idle": "2022-04-04T14:37:57.558212Z",
     "shell.execute_reply": "2022-04-04T14:37:57.557481Z",
     "shell.execute_reply.started": "2022-04-04T14:35:26.469493Z"
    },
    "papermill": {
     "duration": 1.233034,
     "end_time": "2022-04-04T14:37:57.558359",
     "exception": false,
     "start_time": "2022-04-04T14:37:56.325325",
     "status": "completed"
    },
    "tags": []
   },
   "outputs": [],
   "source": [
    "from sklearn.feature_extraction.text import CountVectorizer\n",
    "from sklearn.model_selection import train_test_split"
   ]
  },
  {
   "cell_type": "code",
   "execution_count": 8,
   "id": "dc882756",
   "metadata": {
    "execution": {
     "iopub.execute_input": "2022-04-04T14:37:57.592716Z",
     "iopub.status.busy": "2022-04-04T14:37:57.592108Z",
     "iopub.status.idle": "2022-04-04T14:37:57.905206Z",
     "shell.execute_reply": "2022-04-04T14:37:57.904638Z",
     "shell.execute_reply.started": "2022-04-04T14:35:27.366752Z"
    },
    "papermill": {
     "duration": 0.33128,
     "end_time": "2022-04-04T14:37:57.905364",
     "exception": false,
     "start_time": "2022-04-04T14:37:57.574084",
     "status": "completed"
    },
    "tags": []
   },
   "outputs": [],
   "source": [
    "c = CountVectorizer()\n",
    "x = c.fit_transform(x)"
   ]
  },
  {
   "cell_type": "code",
   "execution_count": 9,
   "id": "abab51bb",
   "metadata": {
    "execution": {
     "iopub.execute_input": "2022-04-04T14:37:57.940627Z",
     "iopub.status.busy": "2022-04-04T14:37:57.939985Z",
     "iopub.status.idle": "2022-04-04T14:37:57.943722Z",
     "shell.execute_reply": "2022-04-04T14:37:57.944295Z",
     "shell.execute_reply.started": "2022-04-04T14:35:27.729633Z"
    },
    "papermill": {
     "duration": 0.024483,
     "end_time": "2022-04-04T14:37:57.944512",
     "exception": false,
     "start_time": "2022-04-04T14:37:57.920029",
     "status": "completed"
    },
    "tags": []
   },
   "outputs": [],
   "source": [
    "xtrain,xtest,ytrain,ytest = train_test_split(x,y,test_size = 0.20)"
   ]
  },
  {
   "cell_type": "code",
   "execution_count": 10,
   "id": "cc3395b9",
   "metadata": {
    "execution": {
     "iopub.execute_input": "2022-04-04T14:37:57.978189Z",
     "iopub.status.busy": "2022-04-04T14:37:57.977501Z",
     "iopub.status.idle": "2022-04-04T14:37:57.983795Z",
     "shell.execute_reply": "2022-04-04T14:37:57.984313Z",
     "shell.execute_reply.started": "2022-04-04T14:35:27.740649Z"
    },
    "papermill": {
     "duration": 0.024568,
     "end_time": "2022-04-04T14:37:57.984483",
     "exception": false,
     "start_time": "2022-04-04T14:37:57.959915",
     "status": "completed"
    },
    "tags": []
   },
   "outputs": [],
   "source": [
    "from sklearn.naive_bayes import MultinomialNB"
   ]
  },
  {
   "cell_type": "code",
   "execution_count": 11,
   "id": "e40b084a",
   "metadata": {
    "execution": {
     "iopub.execute_input": "2022-04-04T14:37:58.019170Z",
     "iopub.status.busy": "2022-04-04T14:37:58.018465Z",
     "iopub.status.idle": "2022-04-04T14:37:58.022434Z",
     "shell.execute_reply": "2022-04-04T14:37:58.023398Z",
     "shell.execute_reply.started": "2022-04-04T14:35:27.749Z"
    },
    "papermill": {
     "duration": 0.024341,
     "end_time": "2022-04-04T14:37:58.023659",
     "exception": false,
     "start_time": "2022-04-04T14:37:57.999318",
     "status": "completed"
    },
    "tags": []
   },
   "outputs": [],
   "source": [
    "model = MultinomialNB()"
   ]
  },
  {
   "cell_type": "code",
   "execution_count": 12,
   "id": "3f6bc245",
   "metadata": {
    "execution": {
     "iopub.execute_input": "2022-04-04T14:37:58.056965Z",
     "iopub.status.busy": "2022-04-04T14:37:58.056337Z",
     "iopub.status.idle": "2022-04-04T14:37:58.121653Z",
     "shell.execute_reply": "2022-04-04T14:37:58.122208Z",
     "shell.execute_reply.started": "2022-04-04T14:35:27.755645Z"
    },
    "papermill": {
     "duration": 0.083823,
     "end_time": "2022-04-04T14:37:58.122385",
     "exception": false,
     "start_time": "2022-04-04T14:37:58.038562",
     "status": "completed"
    },
    "tags": []
   },
   "outputs": [
    {
     "data": {
      "text/plain": [
       "MultinomialNB()"
      ]
     },
     "execution_count": 12,
     "metadata": {},
     "output_type": "execute_result"
    }
   ],
   "source": [
    "model.fit(xtrain,ytrain)"
   ]
  },
  {
   "cell_type": "code",
   "execution_count": 13,
   "id": "4bec0061",
   "metadata": {
    "execution": {
     "iopub.execute_input": "2022-04-04T14:37:58.156520Z",
     "iopub.status.busy": "2022-04-04T14:37:58.155950Z",
     "iopub.status.idle": "2022-04-04T14:37:58.176273Z",
     "shell.execute_reply": "2022-04-04T14:37:58.175704Z",
     "shell.execute_reply.started": "2022-04-04T14:35:27.841599Z"
    },
    "papermill": {
     "duration": 0.038395,
     "end_time": "2022-04-04T14:37:58.176417",
     "exception": false,
     "start_time": "2022-04-04T14:37:58.138022",
     "status": "completed"
    },
    "tags": []
   },
   "outputs": [
    {
     "data": {
      "text/plain": [
       "0.9927439835530294"
      ]
     },
     "execution_count": 13,
     "metadata": {},
     "output_type": "execute_result"
    }
   ],
   "source": [
    "model.score(xtrain,ytrain)"
   ]
  },
  {
   "cell_type": "code",
   "execution_count": 14,
   "id": "f2c1f776",
   "metadata": {
    "execution": {
     "iopub.execute_input": "2022-04-04T14:37:58.213336Z",
     "iopub.status.busy": "2022-04-04T14:37:58.212679Z",
     "iopub.status.idle": "2022-04-04T14:37:58.224028Z",
     "shell.execute_reply": "2022-04-04T14:37:58.223414Z",
     "shell.execute_reply.started": "2022-04-04T14:35:27.861217Z"
    },
    "papermill": {
     "duration": 0.030594,
     "end_time": "2022-04-04T14:37:58.224188",
     "exception": false,
     "start_time": "2022-04-04T14:37:58.193594",
     "status": "completed"
    },
    "tags": []
   },
   "outputs": [
    {
     "data": {
      "text/plain": [
       "0.9777562862669246"
      ]
     },
     "execution_count": 14,
     "metadata": {},
     "output_type": "execute_result"
    }
   ],
   "source": [
    "model.score(xtest,ytest)"
   ]
  },
  {
   "cell_type": "code",
   "execution_count": 15,
   "id": "f088f996",
   "metadata": {
    "execution": {
     "iopub.execute_input": "2022-04-04T14:37:58.268429Z",
     "iopub.status.busy": "2022-04-04T14:37:58.261079Z",
     "iopub.status.idle": "2022-04-04T14:37:58.275178Z",
     "shell.execute_reply": "2022-04-04T14:37:58.275851Z",
     "shell.execute_reply.started": "2022-04-04T14:35:27.871843Z"
    },
    "papermill": {
     "duration": 0.036143,
     "end_time": "2022-04-04T14:37:58.276101",
     "exception": false,
     "start_time": "2022-04-04T14:37:58.239958",
     "status": "completed"
    },
    "tags": []
   },
   "outputs": [
    {
     "data": {
      "text/plain": [
       "array(['English'], dtype='<U10')"
      ]
     },
     "execution_count": 15,
     "metadata": {},
     "output_type": "execute_result"
    }
   ],
   "source": [
    "text = ('How are you')\n",
    "data = c.transform([text]).toarray()\n",
    "model.predict(data)"
   ]
  },
  {
   "cell_type": "code",
   "execution_count": null,
   "id": "4c798c21",
   "metadata": {
    "papermill": {
     "duration": 0.030681,
     "end_time": "2022-04-04T14:37:58.335547",
     "exception": false,
     "start_time": "2022-04-04T14:37:58.304866",
     "status": "completed"
    },
    "tags": []
   },
   "outputs": [],
   "source": []
  },
  {
   "cell_type": "code",
   "execution_count": null,
   "id": "8dc79178",
   "metadata": {
    "papermill": {
     "duration": 0.023953,
     "end_time": "2022-04-04T14:37:58.391238",
     "exception": false,
     "start_time": "2022-04-04T14:37:58.367285",
     "status": "completed"
    },
    "tags": []
   },
   "outputs": [],
   "source": []
  },
  {
   "cell_type": "code",
   "execution_count": null,
   "id": "c6ec5942",
   "metadata": {
    "papermill": {
     "duration": 0.015266,
     "end_time": "2022-04-04T14:37:58.424486",
     "exception": false,
     "start_time": "2022-04-04T14:37:58.409220",
     "status": "completed"
    },
    "tags": []
   },
   "outputs": [],
   "source": []
  }
 ],
 "metadata": {
  "kernelspec": {
   "display_name": "Python 3",
   "language": "python",
   "name": "python3"
  },
  "language_info": {
   "codemirror_mode": {
    "name": "ipython",
    "version": 3
   },
   "file_extension": ".py",
   "mimetype": "text/x-python",
   "name": "python",
   "nbconvert_exporter": "python",
   "pygments_lexer": "ipython3",
   "version": "3.7.12"
  },
  "papermill": {
   "default_parameters": {},
   "duration": 12.327905,
   "end_time": "2022-04-04T14:37:59.152051",
   "environment_variables": {},
   "exception": null,
   "input_path": "__notebook__.ipynb",
   "output_path": "__notebook__.ipynb",
   "parameters": {},
   "start_time": "2022-04-04T14:37:46.824146",
   "version": "2.3.3"
  }
 },
 "nbformat": 4,
 "nbformat_minor": 5
}
