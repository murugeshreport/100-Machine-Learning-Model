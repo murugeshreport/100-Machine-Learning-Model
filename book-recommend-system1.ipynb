{
 "cells": [
  {
   "cell_type": "markdown",
   "id": "e18d7eb2",
   "metadata": {
    "papermill": {
     "duration": 0.021887,
     "end_time": "2022-04-02T11:35:10.904797",
     "exception": false,
     "start_time": "2022-04-02T11:35:10.882910",
     "status": "completed"
    },
    "tags": []
   },
   "source": [
    "# Book Recommend System"
   ]
  },
  {
   "cell_type": "code",
   "execution_count": 1,
   "id": "eddd9dab",
   "metadata": {
    "execution": {
     "iopub.execute_input": "2022-04-02T11:35:10.958833Z",
     "iopub.status.busy": "2022-04-02T11:35:10.957929Z",
     "iopub.status.idle": "2022-04-02T11:35:10.961872Z",
     "shell.execute_reply": "2022-04-02T11:35:10.962520Z",
     "shell.execute_reply.started": "2022-04-02T11:34:08.220344Z"
    },
    "papermill": {
     "duration": 0.03675,
     "end_time": "2022-04-02T11:35:10.962811",
     "exception": false,
     "start_time": "2022-04-02T11:35:10.926061",
     "status": "completed"
    },
    "tags": []
   },
   "outputs": [],
   "source": [
    "import pandas as pd\n",
    "import numpy as np\n",
    "import matplotlib.pyplot as plt"
   ]
  },
  {
   "cell_type": "code",
   "execution_count": 2,
   "id": "ed35bdee",
   "metadata": {
    "execution": {
     "iopub.execute_input": "2022-04-02T11:35:11.008772Z",
     "iopub.status.busy": "2022-04-02T11:35:11.007781Z",
     "iopub.status.idle": "2022-04-02T11:35:14.750794Z",
     "shell.execute_reply": "2022-04-02T11:35:14.751554Z",
     "shell.execute_reply.started": "2022-04-02T11:34:08.246346Z"
    },
    "papermill": {
     "duration": 3.767758,
     "end_time": "2022-04-02T11:35:14.751781",
     "exception": false,
     "start_time": "2022-04-02T11:35:10.984023",
     "status": "completed"
    },
    "tags": []
   },
   "outputs": [
    {
     "name": "stderr",
     "output_type": "stream",
     "text": [
      "/opt/conda/lib/python3.7/site-packages/IPython/core/interactiveshell.py:3457: DtypeWarning: Columns (3) have mixed types.Specify dtype option on import or set low_memory=False.\n",
      "  exec(code_obj, self.user_global_ns, self.user_ns)\n"
     ]
    }
   ],
   "source": [
    "data = pd.read_csv('../input/book-recommendation-dataset/Books.csv')"
   ]
  },
  {
   "cell_type": "code",
   "execution_count": null,
   "id": "bb4a2bc9",
   "metadata": {
    "papermill": {
     "duration": 0.020695,
     "end_time": "2022-04-02T11:35:14.794867",
     "exception": false,
     "start_time": "2022-04-02T11:35:14.774172",
     "status": "completed"
    },
    "tags": []
   },
   "outputs": [],
   "source": []
  },
  {
   "cell_type": "code",
   "execution_count": 3,
   "id": "fa97117b",
   "metadata": {
    "execution": {
     "iopub.execute_input": "2022-04-02T11:35:14.845747Z",
     "iopub.status.busy": "2022-04-02T11:35:14.844859Z",
     "iopub.status.idle": "2022-04-02T11:35:14.861707Z",
     "shell.execute_reply": "2022-04-02T11:35:14.862244Z",
     "shell.execute_reply.started": "2022-04-02T11:34:10.803850Z"
    },
    "papermill": {
     "duration": 0.046452,
     "end_time": "2022-04-02T11:35:14.862447",
     "exception": false,
     "start_time": "2022-04-02T11:35:14.815995",
     "status": "completed"
    },
    "tags": []
   },
   "outputs": [
    {
     "data": {
      "text/html": [
       "<div>\n",
       "<style scoped>\n",
       "    .dataframe tbody tr th:only-of-type {\n",
       "        vertical-align: middle;\n",
       "    }\n",
       "\n",
       "    .dataframe tbody tr th {\n",
       "        vertical-align: top;\n",
       "    }\n",
       "\n",
       "    .dataframe thead th {\n",
       "        text-align: right;\n",
       "    }\n",
       "</style>\n",
       "<table border=\"1\" class=\"dataframe\">\n",
       "  <thead>\n",
       "    <tr style=\"text-align: right;\">\n",
       "      <th></th>\n",
       "      <th>ISBN</th>\n",
       "      <th>Book-Title</th>\n",
       "      <th>Book-Author</th>\n",
       "      <th>Year-Of-Publication</th>\n",
       "      <th>Publisher</th>\n",
       "      <th>Image-URL-S</th>\n",
       "      <th>Image-URL-M</th>\n",
       "      <th>Image-URL-L</th>\n",
       "    </tr>\n",
       "  </thead>\n",
       "  <tbody>\n",
       "    <tr>\n",
       "      <th>0</th>\n",
       "      <td>0195153448</td>\n",
       "      <td>Classical Mythology</td>\n",
       "      <td>Mark P. O. Morford</td>\n",
       "      <td>2002</td>\n",
       "      <td>Oxford University Press</td>\n",
       "      <td>http://images.amazon.com/images/P/0195153448.0...</td>\n",
       "      <td>http://images.amazon.com/images/P/0195153448.0...</td>\n",
       "      <td>http://images.amazon.com/images/P/0195153448.0...</td>\n",
       "    </tr>\n",
       "    <tr>\n",
       "      <th>1</th>\n",
       "      <td>0002005018</td>\n",
       "      <td>Clara Callan</td>\n",
       "      <td>Richard Bruce Wright</td>\n",
       "      <td>2001</td>\n",
       "      <td>HarperFlamingo Canada</td>\n",
       "      <td>http://images.amazon.com/images/P/0002005018.0...</td>\n",
       "      <td>http://images.amazon.com/images/P/0002005018.0...</td>\n",
       "      <td>http://images.amazon.com/images/P/0002005018.0...</td>\n",
       "    </tr>\n",
       "    <tr>\n",
       "      <th>2</th>\n",
       "      <td>0060973129</td>\n",
       "      <td>Decision in Normandy</td>\n",
       "      <td>Carlo D'Este</td>\n",
       "      <td>1991</td>\n",
       "      <td>HarperPerennial</td>\n",
       "      <td>http://images.amazon.com/images/P/0060973129.0...</td>\n",
       "      <td>http://images.amazon.com/images/P/0060973129.0...</td>\n",
       "      <td>http://images.amazon.com/images/P/0060973129.0...</td>\n",
       "    </tr>\n",
       "    <tr>\n",
       "      <th>3</th>\n",
       "      <td>0374157065</td>\n",
       "      <td>Flu: The Story of the Great Influenza Pandemic...</td>\n",
       "      <td>Gina Bari Kolata</td>\n",
       "      <td>1999</td>\n",
       "      <td>Farrar Straus Giroux</td>\n",
       "      <td>http://images.amazon.com/images/P/0374157065.0...</td>\n",
       "      <td>http://images.amazon.com/images/P/0374157065.0...</td>\n",
       "      <td>http://images.amazon.com/images/P/0374157065.0...</td>\n",
       "    </tr>\n",
       "    <tr>\n",
       "      <th>4</th>\n",
       "      <td>0393045218</td>\n",
       "      <td>The Mummies of Urumchi</td>\n",
       "      <td>E. J. W. Barber</td>\n",
       "      <td>1999</td>\n",
       "      <td>W. W. Norton &amp;amp; Company</td>\n",
       "      <td>http://images.amazon.com/images/P/0393045218.0...</td>\n",
       "      <td>http://images.amazon.com/images/P/0393045218.0...</td>\n",
       "      <td>http://images.amazon.com/images/P/0393045218.0...</td>\n",
       "    </tr>\n",
       "  </tbody>\n",
       "</table>\n",
       "</div>"
      ],
      "text/plain": [
       "         ISBN                                         Book-Title  \\\n",
       "0  0195153448                                Classical Mythology   \n",
       "1  0002005018                                       Clara Callan   \n",
       "2  0060973129                               Decision in Normandy   \n",
       "3  0374157065  Flu: The Story of the Great Influenza Pandemic...   \n",
       "4  0393045218                             The Mummies of Urumchi   \n",
       "\n",
       "            Book-Author Year-Of-Publication                   Publisher  \\\n",
       "0    Mark P. O. Morford                2002     Oxford University Press   \n",
       "1  Richard Bruce Wright                2001       HarperFlamingo Canada   \n",
       "2          Carlo D'Este                1991             HarperPerennial   \n",
       "3      Gina Bari Kolata                1999        Farrar Straus Giroux   \n",
       "4       E. J. W. Barber                1999  W. W. Norton &amp; Company   \n",
       "\n",
       "                                         Image-URL-S  \\\n",
       "0  http://images.amazon.com/images/P/0195153448.0...   \n",
       "1  http://images.amazon.com/images/P/0002005018.0...   \n",
       "2  http://images.amazon.com/images/P/0060973129.0...   \n",
       "3  http://images.amazon.com/images/P/0374157065.0...   \n",
       "4  http://images.amazon.com/images/P/0393045218.0...   \n",
       "\n",
       "                                         Image-URL-M  \\\n",
       "0  http://images.amazon.com/images/P/0195153448.0...   \n",
       "1  http://images.amazon.com/images/P/0002005018.0...   \n",
       "2  http://images.amazon.com/images/P/0060973129.0...   \n",
       "3  http://images.amazon.com/images/P/0374157065.0...   \n",
       "4  http://images.amazon.com/images/P/0393045218.0...   \n",
       "\n",
       "                                         Image-URL-L  \n",
       "0  http://images.amazon.com/images/P/0195153448.0...  \n",
       "1  http://images.amazon.com/images/P/0002005018.0...  \n",
       "2  http://images.amazon.com/images/P/0060973129.0...  \n",
       "3  http://images.amazon.com/images/P/0374157065.0...  \n",
       "4  http://images.amazon.com/images/P/0393045218.0...  "
      ]
     },
     "execution_count": 3,
     "metadata": {},
     "output_type": "execute_result"
    }
   ],
   "source": [
    "data.head()"
   ]
  },
  {
   "cell_type": "code",
   "execution_count": 4,
   "id": "1a581fe4",
   "metadata": {
    "execution": {
     "iopub.execute_input": "2022-04-02T11:35:14.910859Z",
     "iopub.status.busy": "2022-04-02T11:35:14.909991Z",
     "iopub.status.idle": "2022-04-02T11:35:15.950114Z",
     "shell.execute_reply": "2022-04-02T11:35:15.950647Z",
     "shell.execute_reply.started": "2022-04-02T11:34:10.830592Z"
    },
    "papermill": {
     "duration": 1.065922,
     "end_time": "2022-04-02T11:35:15.950836",
     "exception": false,
     "start_time": "2022-04-02T11:35:14.884914",
     "status": "completed"
    },
    "tags": []
   },
   "outputs": [],
   "source": [
    "data1 = pd.read_csv('../input/book-recommendation-dataset/Ratings.csv')"
   ]
  },
  {
   "cell_type": "code",
   "execution_count": 5,
   "id": "963752e3",
   "metadata": {
    "execution": {
     "iopub.execute_input": "2022-04-02T11:35:16.002827Z",
     "iopub.status.busy": "2022-04-02T11:35:16.001806Z",
     "iopub.status.idle": "2022-04-02T11:35:16.008106Z",
     "shell.execute_reply": "2022-04-02T11:35:16.008604Z",
     "shell.execute_reply.started": "2022-04-02T11:34:11.757417Z"
    },
    "papermill": {
     "duration": 0.035543,
     "end_time": "2022-04-02T11:35:16.008778",
     "exception": false,
     "start_time": "2022-04-02T11:35:15.973235",
     "status": "completed"
    },
    "tags": []
   },
   "outputs": [
    {
     "data": {
      "text/html": [
       "<div>\n",
       "<style scoped>\n",
       "    .dataframe tbody tr th:only-of-type {\n",
       "        vertical-align: middle;\n",
       "    }\n",
       "\n",
       "    .dataframe tbody tr th {\n",
       "        vertical-align: top;\n",
       "    }\n",
       "\n",
       "    .dataframe thead th {\n",
       "        text-align: right;\n",
       "    }\n",
       "</style>\n",
       "<table border=\"1\" class=\"dataframe\">\n",
       "  <thead>\n",
       "    <tr style=\"text-align: right;\">\n",
       "      <th></th>\n",
       "      <th>User-ID</th>\n",
       "      <th>ISBN</th>\n",
       "      <th>Book-Rating</th>\n",
       "    </tr>\n",
       "  </thead>\n",
       "  <tbody>\n",
       "    <tr>\n",
       "      <th>0</th>\n",
       "      <td>276725</td>\n",
       "      <td>034545104X</td>\n",
       "      <td>0</td>\n",
       "    </tr>\n",
       "    <tr>\n",
       "      <th>1</th>\n",
       "      <td>276726</td>\n",
       "      <td>0155061224</td>\n",
       "      <td>5</td>\n",
       "    </tr>\n",
       "    <tr>\n",
       "      <th>2</th>\n",
       "      <td>276727</td>\n",
       "      <td>0446520802</td>\n",
       "      <td>0</td>\n",
       "    </tr>\n",
       "    <tr>\n",
       "      <th>3</th>\n",
       "      <td>276729</td>\n",
       "      <td>052165615X</td>\n",
       "      <td>3</td>\n",
       "    </tr>\n",
       "    <tr>\n",
       "      <th>4</th>\n",
       "      <td>276729</td>\n",
       "      <td>0521795028</td>\n",
       "      <td>6</td>\n",
       "    </tr>\n",
       "  </tbody>\n",
       "</table>\n",
       "</div>"
      ],
      "text/plain": [
       "   User-ID        ISBN  Book-Rating\n",
       "0   276725  034545104X            0\n",
       "1   276726  0155061224            5\n",
       "2   276727  0446520802            0\n",
       "3   276729  052165615X            3\n",
       "4   276729  0521795028            6"
      ]
     },
     "execution_count": 5,
     "metadata": {},
     "output_type": "execute_result"
    }
   ],
   "source": [
    "data1.head()"
   ]
  },
  {
   "cell_type": "code",
   "execution_count": 6,
   "id": "3c8f2a6b",
   "metadata": {
    "execution": {
     "iopub.execute_input": "2022-04-02T11:35:16.057834Z",
     "iopub.status.busy": "2022-04-02T11:35:16.056851Z",
     "iopub.status.idle": "2022-04-02T11:35:16.075622Z",
     "shell.execute_reply": "2022-04-02T11:35:16.075043Z",
     "shell.execute_reply.started": "2022-04-02T11:34:11.771964Z"
    },
    "papermill": {
     "duration": 0.044326,
     "end_time": "2022-04-02T11:35:16.075772",
     "exception": false,
     "start_time": "2022-04-02T11:35:16.031446",
     "status": "completed"
    },
    "tags": []
   },
   "outputs": [
    {
     "data": {
      "text/plain": [
       "array([ 0,  5,  3,  6,  8,  7, 10,  9,  4,  1,  2])"
      ]
     },
     "execution_count": 6,
     "metadata": {},
     "output_type": "execute_result"
    }
   ],
   "source": [
    "data1['Book-Rating'].unique()"
   ]
  },
  {
   "cell_type": "code",
   "execution_count": 7,
   "id": "46a1c9d8",
   "metadata": {
    "execution": {
     "iopub.execute_input": "2022-04-02T11:35:16.124839Z",
     "iopub.status.busy": "2022-04-02T11:35:16.124139Z",
     "iopub.status.idle": "2022-04-02T11:35:16.629043Z",
     "shell.execute_reply": "2022-04-02T11:35:16.629545Z",
     "shell.execute_reply.started": "2022-04-02T11:34:11.793672Z"
    },
    "papermill": {
     "duration": 0.531185,
     "end_time": "2022-04-02T11:35:16.629727",
     "exception": false,
     "start_time": "2022-04-02T11:35:16.098542",
     "status": "completed"
    },
    "tags": []
   },
   "outputs": [],
   "source": [
    "data1.loc[(data1['Book-Rating'] >=0) & (data1['Book-Rating'] >=1),'Rating between'] = 'between 0 and 1'\n",
    "data1.loc[(data1['Book-Rating'] >=1) & (data1['Book-Rating'] >=2),'Rating between'] = 'between 1 and 2'\n",
    "data1.loc[(data1['Book-Rating'] >=2) & (data1['Book-Rating'] >=3),'Rating between'] = 'between 2 and 3'\n",
    "data1.loc[(data1['Book-Rating'] >=3) & (data1['Book-Rating'] >=4),'Rating between'] = 'between 3 and 4'\n",
    "data1.loc[(data1['Book-Rating'] >=4) & (data1['Book-Rating'] >=5),'Rating between'] = 'between 4 and 5'\n",
    "data1.loc[(data1['Book-Rating'] >=5) & (data1['Book-Rating'] >=6),'Rating between'] = 'between 5 and 6'\n",
    "data1.loc[(data1['Book-Rating'] >=6) & (data1['Book-Rating'] >=7),'Rating between'] = 'between 6 and 7'\n",
    "data1.loc[(data1['Book-Rating'] >=7) & (data1['Book-Rating'] >=8),'Rating between'] = 'between 7 and 8'\n",
    "data1.loc[(data1['Book-Rating'] >=8) & (data1['Book-Rating'] >=9),'Rating between'] = 'between 8 and 9'\n",
    "data1.loc[(data1['Book-Rating'] >=9) & (data1['Book-Rating'] >=10),'Rating between'] = 'between 9 and 10'"
   ]
  },
  {
   "cell_type": "code",
   "execution_count": 8,
   "id": "26b70b38",
   "metadata": {
    "execution": {
     "iopub.execute_input": "2022-04-02T11:35:16.686734Z",
     "iopub.status.busy": "2022-04-02T11:35:16.686000Z",
     "iopub.status.idle": "2022-04-02T11:35:16.695703Z",
     "shell.execute_reply": "2022-04-02T11:35:16.695048Z",
     "shell.execute_reply.started": "2022-04-02T11:34:12.303245Z"
    },
    "papermill": {
     "duration": 0.04325,
     "end_time": "2022-04-02T11:35:16.695852",
     "exception": false,
     "start_time": "2022-04-02T11:35:16.652602",
     "status": "completed"
    },
    "tags": []
   },
   "outputs": [
    {
     "data": {
      "text/html": [
       "<div>\n",
       "<style scoped>\n",
       "    .dataframe tbody tr th:only-of-type {\n",
       "        vertical-align: middle;\n",
       "    }\n",
       "\n",
       "    .dataframe tbody tr th {\n",
       "        vertical-align: top;\n",
       "    }\n",
       "\n",
       "    .dataframe thead th {\n",
       "        text-align: right;\n",
       "    }\n",
       "</style>\n",
       "<table border=\"1\" class=\"dataframe\">\n",
       "  <thead>\n",
       "    <tr style=\"text-align: right;\">\n",
       "      <th></th>\n",
       "      <th>User-ID</th>\n",
       "      <th>ISBN</th>\n",
       "      <th>Book-Rating</th>\n",
       "      <th>Rating between</th>\n",
       "    </tr>\n",
       "  </thead>\n",
       "  <tbody>\n",
       "    <tr>\n",
       "      <th>0</th>\n",
       "      <td>276725</td>\n",
       "      <td>034545104X</td>\n",
       "      <td>0</td>\n",
       "      <td>NaN</td>\n",
       "    </tr>\n",
       "    <tr>\n",
       "      <th>1</th>\n",
       "      <td>276726</td>\n",
       "      <td>0155061224</td>\n",
       "      <td>5</td>\n",
       "      <td>between 4 and 5</td>\n",
       "    </tr>\n",
       "    <tr>\n",
       "      <th>2</th>\n",
       "      <td>276727</td>\n",
       "      <td>0446520802</td>\n",
       "      <td>0</td>\n",
       "      <td>NaN</td>\n",
       "    </tr>\n",
       "    <tr>\n",
       "      <th>3</th>\n",
       "      <td>276729</td>\n",
       "      <td>052165615X</td>\n",
       "      <td>3</td>\n",
       "      <td>between 2 and 3</td>\n",
       "    </tr>\n",
       "    <tr>\n",
       "      <th>4</th>\n",
       "      <td>276729</td>\n",
       "      <td>0521795028</td>\n",
       "      <td>6</td>\n",
       "      <td>between 5 and 6</td>\n",
       "    </tr>\n",
       "    <tr>\n",
       "      <th>...</th>\n",
       "      <td>...</td>\n",
       "      <td>...</td>\n",
       "      <td>...</td>\n",
       "      <td>...</td>\n",
       "    </tr>\n",
       "    <tr>\n",
       "      <th>1149775</th>\n",
       "      <td>276704</td>\n",
       "      <td>1563526298</td>\n",
       "      <td>9</td>\n",
       "      <td>between 8 and 9</td>\n",
       "    </tr>\n",
       "    <tr>\n",
       "      <th>1149776</th>\n",
       "      <td>276706</td>\n",
       "      <td>0679447156</td>\n",
       "      <td>0</td>\n",
       "      <td>NaN</td>\n",
       "    </tr>\n",
       "    <tr>\n",
       "      <th>1149777</th>\n",
       "      <td>276709</td>\n",
       "      <td>0515107662</td>\n",
       "      <td>10</td>\n",
       "      <td>between 9 and 10</td>\n",
       "    </tr>\n",
       "    <tr>\n",
       "      <th>1149778</th>\n",
       "      <td>276721</td>\n",
       "      <td>0590442449</td>\n",
       "      <td>10</td>\n",
       "      <td>between 9 and 10</td>\n",
       "    </tr>\n",
       "    <tr>\n",
       "      <th>1149779</th>\n",
       "      <td>276723</td>\n",
       "      <td>05162443314</td>\n",
       "      <td>8</td>\n",
       "      <td>between 7 and 8</td>\n",
       "    </tr>\n",
       "  </tbody>\n",
       "</table>\n",
       "<p>1149780 rows × 4 columns</p>\n",
       "</div>"
      ],
      "text/plain": [
       "         User-ID         ISBN  Book-Rating    Rating between\n",
       "0         276725   034545104X            0               NaN\n",
       "1         276726   0155061224            5   between 4 and 5\n",
       "2         276727   0446520802            0               NaN\n",
       "3         276729   052165615X            3   between 2 and 3\n",
       "4         276729   0521795028            6   between 5 and 6\n",
       "...          ...          ...          ...               ...\n",
       "1149775   276704   1563526298            9   between 8 and 9\n",
       "1149776   276706   0679447156            0               NaN\n",
       "1149777   276709   0515107662           10  between 9 and 10\n",
       "1149778   276721   0590442449           10  between 9 and 10\n",
       "1149779   276723  05162443314            8   between 7 and 8\n",
       "\n",
       "[1149780 rows x 4 columns]"
      ]
     },
     "execution_count": 8,
     "metadata": {},
     "output_type": "execute_result"
    }
   ],
   "source": [
    "data1"
   ]
  },
  {
   "cell_type": "code",
   "execution_count": 9,
   "id": "0f47a56d",
   "metadata": {
    "execution": {
     "iopub.execute_input": "2022-04-02T11:35:16.749888Z",
     "iopub.status.busy": "2022-04-02T11:35:16.749169Z",
     "iopub.status.idle": "2022-04-02T11:35:16.752273Z",
     "shell.execute_reply": "2022-04-02T11:35:16.751766Z",
     "shell.execute_reply.started": "2022-04-02T11:34:12.323657Z"
    },
    "papermill": {
     "duration": 0.030873,
     "end_time": "2022-04-02T11:35:16.752426",
     "exception": false,
     "start_time": "2022-04-02T11:35:16.721553",
     "status": "completed"
    },
    "tags": []
   },
   "outputs": [],
   "source": [
    "df = data1.head(10000)"
   ]
  },
  {
   "cell_type": "code",
   "execution_count": 10,
   "id": "2e4174e3",
   "metadata": {
    "execution": {
     "iopub.execute_input": "2022-04-02T11:35:16.805763Z",
     "iopub.status.busy": "2022-04-02T11:35:16.805112Z",
     "iopub.status.idle": "2022-04-02T11:35:16.809830Z",
     "shell.execute_reply": "2022-04-02T11:35:16.810366Z",
     "shell.execute_reply.started": "2022-04-02T11:34:12.331022Z"
    },
    "papermill": {
     "duration": 0.03478,
     "end_time": "2022-04-02T11:35:16.810535",
     "exception": false,
     "start_time": "2022-04-02T11:35:16.775755",
     "status": "completed"
    },
    "tags": []
   },
   "outputs": [],
   "source": [
    "feature = pd.get_dummies(df['Rating between'])"
   ]
  },
  {
   "cell_type": "code",
   "execution_count": 11,
   "id": "9d53db33",
   "metadata": {
    "execution": {
     "iopub.execute_input": "2022-04-02T11:35:16.860920Z",
     "iopub.status.busy": "2022-04-02T11:35:16.860275Z",
     "iopub.status.idle": "2022-04-02T11:35:17.895918Z",
     "shell.execute_reply": "2022-04-02T11:35:17.894907Z",
     "shell.execute_reply.started": "2022-04-02T11:34:12.347522Z"
    },
    "papermill": {
     "duration": 1.06161,
     "end_time": "2022-04-02T11:35:17.896090",
     "exception": false,
     "start_time": "2022-04-02T11:35:16.834480",
     "status": "completed"
    },
    "tags": []
   },
   "outputs": [],
   "source": [
    "from sklearn.preprocessing import MinMaxScaler"
   ]
  },
  {
   "cell_type": "code",
   "execution_count": 12,
   "id": "f0f68854",
   "metadata": {
    "execution": {
     "iopub.execute_input": "2022-04-02T11:35:17.947742Z",
     "iopub.status.busy": "2022-04-02T11:35:17.946764Z",
     "iopub.status.idle": "2022-04-02T11:35:17.949612Z",
     "shell.execute_reply": "2022-04-02T11:35:17.949052Z",
     "shell.execute_reply.started": "2022-04-02T11:34:13.332166Z"
    },
    "papermill": {
     "duration": 0.030249,
     "end_time": "2022-04-02T11:35:17.949754",
     "exception": false,
     "start_time": "2022-04-02T11:35:17.919505",
     "status": "completed"
    },
    "tags": []
   },
   "outputs": [],
   "source": [
    "MinMaxScaler = MinMaxScaler()"
   ]
  },
  {
   "cell_type": "code",
   "execution_count": 13,
   "id": "52ef0feb",
   "metadata": {
    "execution": {
     "iopub.execute_input": "2022-04-02T11:35:18.006472Z",
     "iopub.status.busy": "2022-04-02T11:35:18.004371Z",
     "iopub.status.idle": "2022-04-02T11:35:18.010150Z",
     "shell.execute_reply": "2022-04-02T11:35:18.009503Z",
     "shell.execute_reply.started": "2022-04-02T11:34:13.342499Z"
    },
    "papermill": {
     "duration": 0.036728,
     "end_time": "2022-04-02T11:35:18.010308",
     "exception": false,
     "start_time": "2022-04-02T11:35:17.973580",
     "status": "completed"
    },
    "tags": []
   },
   "outputs": [],
   "source": [
    "feature = MinMaxScaler.fit_transform(feature)"
   ]
  },
  {
   "cell_type": "code",
   "execution_count": 14,
   "id": "9aaf6c16",
   "metadata": {
    "execution": {
     "iopub.execute_input": "2022-04-02T11:35:18.061689Z",
     "iopub.status.busy": "2022-04-02T11:35:18.061020Z",
     "iopub.status.idle": "2022-04-02T11:35:18.227743Z",
     "shell.execute_reply": "2022-04-02T11:35:18.227003Z",
     "shell.execute_reply.started": "2022-04-02T11:34:13.354773Z"
    },
    "papermill": {
     "duration": 0.194255,
     "end_time": "2022-04-02T11:35:18.227892",
     "exception": false,
     "start_time": "2022-04-02T11:35:18.033637",
     "status": "completed"
    },
    "tags": []
   },
   "outputs": [],
   "source": [
    "from sklearn import neighbors"
   ]
  },
  {
   "cell_type": "code",
   "execution_count": 15,
   "id": "fa0803c9",
   "metadata": {
    "execution": {
     "iopub.execute_input": "2022-04-02T11:35:18.287544Z",
     "iopub.status.busy": "2022-04-02T11:35:18.279823Z",
     "iopub.status.idle": "2022-04-02T11:35:19.363957Z",
     "shell.execute_reply": "2022-04-02T11:35:19.364527Z",
     "shell.execute_reply.started": "2022-04-02T11:34:13.522124Z"
    },
    "papermill": {
     "duration": 1.113181,
     "end_time": "2022-04-02T11:35:19.364709",
     "exception": false,
     "start_time": "2022-04-02T11:35:18.251528",
     "status": "completed"
    },
    "tags": []
   },
   "outputs": [],
   "source": [
    "model = neighbors.NearestNeighbors(n_neighbors=5,algorithm = 'ball_tree')\n",
    "model.fit(feature)\n",
    "dist,islist = model.kneighbors(feature)"
   ]
  },
  {
   "cell_type": "code",
   "execution_count": 16,
   "id": "4ff098b4",
   "metadata": {
    "execution": {
     "iopub.execute_input": "2022-04-02T11:35:19.415437Z",
     "iopub.status.busy": "2022-04-02T11:35:19.414745Z",
     "iopub.status.idle": "2022-04-02T11:35:19.461521Z",
     "shell.execute_reply": "2022-04-02T11:35:19.460854Z",
     "shell.execute_reply.started": "2022-04-02T11:34:14.606005Z"
    },
    "papermill": {
     "duration": 0.073342,
     "end_time": "2022-04-02T11:35:19.461681",
     "exception": false,
     "start_time": "2022-04-02T11:35:19.388339",
     "status": "completed"
    },
    "tags": []
   },
   "outputs": [],
   "source": [
    "data = data.rename(columns={'Book-Title':'bookname'})"
   ]
  },
  {
   "cell_type": "code",
   "execution_count": 17,
   "id": "4ac539eb",
   "metadata": {
    "execution": {
     "iopub.execute_input": "2022-04-02T11:35:19.515865Z",
     "iopub.status.busy": "2022-04-02T11:35:19.514872Z",
     "iopub.status.idle": "2022-04-02T11:35:19.517103Z",
     "shell.execute_reply": "2022-04-02T11:35:19.517695Z",
     "shell.execute_reply.started": "2022-04-02T11:34:14.656207Z"
    },
    "papermill": {
     "duration": 0.032039,
     "end_time": "2022-04-02T11:35:19.517872",
     "exception": false,
     "start_time": "2022-04-02T11:35:19.485833",
     "status": "completed"
    },
    "tags": []
   },
   "outputs": [],
   "source": [
    "def recommend(bookname):\n",
    "    book_list_name = []\n",
    "    book_id  = data[data['bookname'] == bookname].index\n",
    "    book_id = book_id[0]\n",
    "    \n",
    "    for newid in islist[book_id]:\n",
    "        book_list_name.append(data.loc[newid].bookname)\n",
    "        \n",
    "        \n",
    "    return book_list_name   "
   ]
  },
  {
   "cell_type": "code",
   "execution_count": 18,
   "id": "43b36361",
   "metadata": {
    "execution": {
     "iopub.execute_input": "2022-04-02T11:35:19.568289Z",
     "iopub.status.busy": "2022-04-02T11:35:19.567324Z",
     "iopub.status.idle": "2022-04-02T11:35:19.617386Z",
     "shell.execute_reply": "2022-04-02T11:35:19.616761Z",
     "shell.execute_reply.started": "2022-04-02T11:34:14.665478Z"
    },
    "papermill": {
     "duration": 0.076373,
     "end_time": "2022-04-02T11:35:19.617537",
     "exception": false,
     "start_time": "2022-04-02T11:35:19.541164",
     "status": "completed"
    },
    "tags": []
   },
   "outputs": [
    {
     "data": {
      "text/plain": [
       "['The Four Agreements: A Practical Guide to Personal Freedom',\n",
       " 'New Perspectives: Runes',\n",
       " \"Santa Brought A Son : Marrying The Boss's Daughter (Silhouette Romance, 1698)\",\n",
       " 'Clara Callan',\n",
       " 'Moonlight Becomes You']"
      ]
     },
     "execution_count": 18,
     "metadata": {},
     "output_type": "execute_result"
    }
   ],
   "source": [
    "recommend('Clara Callan')"
   ]
  },
  {
   "cell_type": "code",
   "execution_count": null,
   "id": "2cf05946",
   "metadata": {
    "papermill": {
     "duration": 0.023576,
     "end_time": "2022-04-02T11:35:19.664952",
     "exception": false,
     "start_time": "2022-04-02T11:35:19.641376",
     "status": "completed"
    },
    "tags": []
   },
   "outputs": [],
   "source": []
  }
 ],
 "metadata": {
  "kernelspec": {
   "display_name": "Python 3",
   "language": "python",
   "name": "python3"
  },
  "language_info": {
   "codemirror_mode": {
    "name": "ipython",
    "version": 3
   },
   "file_extension": ".py",
   "mimetype": "text/x-python",
   "name": "python",
   "nbconvert_exporter": "python",
   "pygments_lexer": "ipython3",
   "version": "3.7.12"
  },
  "papermill": {
   "default_parameters": {},
   "duration": 19.407535,
   "end_time": "2022-04-02T11:35:20.500718",
   "environment_variables": {},
   "exception": null,
   "input_path": "__notebook__.ipynb",
   "output_path": "__notebook__.ipynb",
   "parameters": {},
   "start_time": "2022-04-02T11:35:01.093183",
   "version": "2.3.3"
  }
 },
 "nbformat": 4,
 "nbformat_minor": 5
}
