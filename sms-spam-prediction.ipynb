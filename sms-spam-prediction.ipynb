{
 "cells": [
  {
   "cell_type": "code",
   "execution_count": 1,
   "id": "9cff015c",
   "metadata": {
    "execution": {
     "iopub.execute_input": "2022-04-16T21:31:40.291382Z",
     "iopub.status.busy": "2022-04-16T21:31:40.290700Z",
     "iopub.status.idle": "2022-04-16T21:31:40.303567Z",
     "shell.execute_reply": "2022-04-16T21:31:40.302575Z"
    },
    "papermill": {
     "duration": 0.039147,
     "end_time": "2022-04-16T21:31:40.305837",
     "exception": false,
     "start_time": "2022-04-16T21:31:40.266690",
     "status": "completed"
    },
    "tags": []
   },
   "outputs": [],
   "source": [
    "import pandas as pd \n",
    "import numpy as np"
   ]
  },
  {
   "cell_type": "code",
   "execution_count": 2,
   "id": "4b5a4f98",
   "metadata": {
    "execution": {
     "iopub.execute_input": "2022-04-16T21:31:40.350499Z",
     "iopub.status.busy": "2022-04-16T21:31:40.349699Z",
     "iopub.status.idle": "2022-04-16T21:31:40.385767Z",
     "shell.execute_reply": "2022-04-16T21:31:40.385000Z"
    },
    "papermill": {
     "duration": 0.059993,
     "end_time": "2022-04-16T21:31:40.388105",
     "exception": false,
     "start_time": "2022-04-16T21:31:40.328112",
     "status": "completed"
    },
    "tags": []
   },
   "outputs": [],
   "source": [
    "df = pd.read_csv('../input/sms-spam-collection-dataset/spam.csv',encoding ='latin-1')"
   ]
  },
  {
   "cell_type": "code",
   "execution_count": 3,
   "id": "4c69e9dd",
   "metadata": {
    "execution": {
     "iopub.execute_input": "2022-04-16T21:31:40.431640Z",
     "iopub.status.busy": "2022-04-16T21:31:40.430844Z",
     "iopub.status.idle": "2022-04-16T21:31:40.454176Z",
     "shell.execute_reply": "2022-04-16T21:31:40.453596Z"
    },
    "papermill": {
     "duration": 0.04749,
     "end_time": "2022-04-16T21:31:40.456484",
     "exception": false,
     "start_time": "2022-04-16T21:31:40.408994",
     "status": "completed"
    },
    "tags": []
   },
   "outputs": [
    {
     "data": {
      "text/html": [
       "<div>\n",
       "<style scoped>\n",
       "    .dataframe tbody tr th:only-of-type {\n",
       "        vertical-align: middle;\n",
       "    }\n",
       "\n",
       "    .dataframe tbody tr th {\n",
       "        vertical-align: top;\n",
       "    }\n",
       "\n",
       "    .dataframe thead th {\n",
       "        text-align: right;\n",
       "    }\n",
       "</style>\n",
       "<table border=\"1\" class=\"dataframe\">\n",
       "  <thead>\n",
       "    <tr style=\"text-align: right;\">\n",
       "      <th></th>\n",
       "      <th>v1</th>\n",
       "      <th>v2</th>\n",
       "      <th>Unnamed: 2</th>\n",
       "      <th>Unnamed: 3</th>\n",
       "      <th>Unnamed: 4</th>\n",
       "    </tr>\n",
       "  </thead>\n",
       "  <tbody>\n",
       "    <tr>\n",
       "      <th>0</th>\n",
       "      <td>ham</td>\n",
       "      <td>Go until jurong point, crazy.. Available only ...</td>\n",
       "      <td>NaN</td>\n",
       "      <td>NaN</td>\n",
       "      <td>NaN</td>\n",
       "    </tr>\n",
       "    <tr>\n",
       "      <th>1</th>\n",
       "      <td>ham</td>\n",
       "      <td>Ok lar... Joking wif u oni...</td>\n",
       "      <td>NaN</td>\n",
       "      <td>NaN</td>\n",
       "      <td>NaN</td>\n",
       "    </tr>\n",
       "    <tr>\n",
       "      <th>2</th>\n",
       "      <td>spam</td>\n",
       "      <td>Free entry in 2 a wkly comp to win FA Cup fina...</td>\n",
       "      <td>NaN</td>\n",
       "      <td>NaN</td>\n",
       "      <td>NaN</td>\n",
       "    </tr>\n",
       "    <tr>\n",
       "      <th>3</th>\n",
       "      <td>ham</td>\n",
       "      <td>U dun say so early hor... U c already then say...</td>\n",
       "      <td>NaN</td>\n",
       "      <td>NaN</td>\n",
       "      <td>NaN</td>\n",
       "    </tr>\n",
       "    <tr>\n",
       "      <th>4</th>\n",
       "      <td>ham</td>\n",
       "      <td>Nah I don't think he goes to usf, he lives aro...</td>\n",
       "      <td>NaN</td>\n",
       "      <td>NaN</td>\n",
       "      <td>NaN</td>\n",
       "    </tr>\n",
       "    <tr>\n",
       "      <th>...</th>\n",
       "      <td>...</td>\n",
       "      <td>...</td>\n",
       "      <td>...</td>\n",
       "      <td>...</td>\n",
       "      <td>...</td>\n",
       "    </tr>\n",
       "    <tr>\n",
       "      <th>5567</th>\n",
       "      <td>spam</td>\n",
       "      <td>This is the 2nd time we have tried 2 contact u...</td>\n",
       "      <td>NaN</td>\n",
       "      <td>NaN</td>\n",
       "      <td>NaN</td>\n",
       "    </tr>\n",
       "    <tr>\n",
       "      <th>5568</th>\n",
       "      <td>ham</td>\n",
       "      <td>Will Ì_ b going to esplanade fr home?</td>\n",
       "      <td>NaN</td>\n",
       "      <td>NaN</td>\n",
       "      <td>NaN</td>\n",
       "    </tr>\n",
       "    <tr>\n",
       "      <th>5569</th>\n",
       "      <td>ham</td>\n",
       "      <td>Pity, * was in mood for that. So...any other s...</td>\n",
       "      <td>NaN</td>\n",
       "      <td>NaN</td>\n",
       "      <td>NaN</td>\n",
       "    </tr>\n",
       "    <tr>\n",
       "      <th>5570</th>\n",
       "      <td>ham</td>\n",
       "      <td>The guy did some bitching but I acted like i'd...</td>\n",
       "      <td>NaN</td>\n",
       "      <td>NaN</td>\n",
       "      <td>NaN</td>\n",
       "    </tr>\n",
       "    <tr>\n",
       "      <th>5571</th>\n",
       "      <td>ham</td>\n",
       "      <td>Rofl. Its true to its name</td>\n",
       "      <td>NaN</td>\n",
       "      <td>NaN</td>\n",
       "      <td>NaN</td>\n",
       "    </tr>\n",
       "  </tbody>\n",
       "</table>\n",
       "<p>5572 rows × 5 columns</p>\n",
       "</div>"
      ],
      "text/plain": [
       "        v1                                                 v2 Unnamed: 2  \\\n",
       "0      ham  Go until jurong point, crazy.. Available only ...        NaN   \n",
       "1      ham                      Ok lar... Joking wif u oni...        NaN   \n",
       "2     spam  Free entry in 2 a wkly comp to win FA Cup fina...        NaN   \n",
       "3      ham  U dun say so early hor... U c already then say...        NaN   \n",
       "4      ham  Nah I don't think he goes to usf, he lives aro...        NaN   \n",
       "...    ...                                                ...        ...   \n",
       "5567  spam  This is the 2nd time we have tried 2 contact u...        NaN   \n",
       "5568   ham              Will Ì_ b going to esplanade fr home?        NaN   \n",
       "5569   ham  Pity, * was in mood for that. So...any other s...        NaN   \n",
       "5570   ham  The guy did some bitching but I acted like i'd...        NaN   \n",
       "5571   ham                         Rofl. Its true to its name        NaN   \n",
       "\n",
       "     Unnamed: 3 Unnamed: 4  \n",
       "0           NaN        NaN  \n",
       "1           NaN        NaN  \n",
       "2           NaN        NaN  \n",
       "3           NaN        NaN  \n",
       "4           NaN        NaN  \n",
       "...         ...        ...  \n",
       "5567        NaN        NaN  \n",
       "5568        NaN        NaN  \n",
       "5569        NaN        NaN  \n",
       "5570        NaN        NaN  \n",
       "5571        NaN        NaN  \n",
       "\n",
       "[5572 rows x 5 columns]"
      ]
     },
     "execution_count": 3,
     "metadata": {},
     "output_type": "execute_result"
    }
   ],
   "source": [
    "df"
   ]
  },
  {
   "cell_type": "code",
   "execution_count": 4,
   "id": "7e9144dc",
   "metadata": {
    "execution": {
     "iopub.execute_input": "2022-04-16T21:31:40.500677Z",
     "iopub.status.busy": "2022-04-16T21:31:40.500153Z",
     "iopub.status.idle": "2022-04-16T21:31:40.509585Z",
     "shell.execute_reply": "2022-04-16T21:31:40.508645Z"
    },
    "papermill": {
     "duration": 0.034128,
     "end_time": "2022-04-16T21:31:40.511968",
     "exception": false,
     "start_time": "2022-04-16T21:31:40.477840",
     "status": "completed"
    },
    "tags": []
   },
   "outputs": [],
   "source": [
    "data = df[['v1','v2']]"
   ]
  },
  {
   "cell_type": "code",
   "execution_count": 5,
   "id": "dc103033",
   "metadata": {
    "execution": {
     "iopub.execute_input": "2022-04-16T21:31:40.556947Z",
     "iopub.status.busy": "2022-04-16T21:31:40.556660Z",
     "iopub.status.idle": "2022-04-16T21:31:40.560875Z",
     "shell.execute_reply": "2022-04-16T21:31:40.560119Z"
    },
    "papermill": {
     "duration": 0.028634,
     "end_time": "2022-04-16T21:31:40.562873",
     "exception": false,
     "start_time": "2022-04-16T21:31:40.534239",
     "status": "completed"
    },
    "tags": []
   },
   "outputs": [],
   "source": [
    "data.columns=['output','sms']"
   ]
  },
  {
   "cell_type": "code",
   "execution_count": 6,
   "id": "62482f3b",
   "metadata": {
    "execution": {
     "iopub.execute_input": "2022-04-16T21:31:40.609851Z",
     "iopub.status.busy": "2022-04-16T21:31:40.609549Z",
     "iopub.status.idle": "2022-04-16T21:31:40.621675Z",
     "shell.execute_reply": "2022-04-16T21:31:40.621148Z"
    },
    "papermill": {
     "duration": 0.036434,
     "end_time": "2022-04-16T21:31:40.623545",
     "exception": false,
     "start_time": "2022-04-16T21:31:40.587111",
     "status": "completed"
    },
    "tags": []
   },
   "outputs": [
    {
     "data": {
      "text/html": [
       "<div>\n",
       "<style scoped>\n",
       "    .dataframe tbody tr th:only-of-type {\n",
       "        vertical-align: middle;\n",
       "    }\n",
       "\n",
       "    .dataframe tbody tr th {\n",
       "        vertical-align: top;\n",
       "    }\n",
       "\n",
       "    .dataframe thead th {\n",
       "        text-align: right;\n",
       "    }\n",
       "</style>\n",
       "<table border=\"1\" class=\"dataframe\">\n",
       "  <thead>\n",
       "    <tr style=\"text-align: right;\">\n",
       "      <th></th>\n",
       "      <th>output</th>\n",
       "      <th>sms</th>\n",
       "    </tr>\n",
       "  </thead>\n",
       "  <tbody>\n",
       "    <tr>\n",
       "      <th>0</th>\n",
       "      <td>ham</td>\n",
       "      <td>Go until jurong point, crazy.. Available only ...</td>\n",
       "    </tr>\n",
       "    <tr>\n",
       "      <th>1</th>\n",
       "      <td>ham</td>\n",
       "      <td>Ok lar... Joking wif u oni...</td>\n",
       "    </tr>\n",
       "    <tr>\n",
       "      <th>2</th>\n",
       "      <td>spam</td>\n",
       "      <td>Free entry in 2 a wkly comp to win FA Cup fina...</td>\n",
       "    </tr>\n",
       "    <tr>\n",
       "      <th>3</th>\n",
       "      <td>ham</td>\n",
       "      <td>U dun say so early hor... U c already then say...</td>\n",
       "    </tr>\n",
       "    <tr>\n",
       "      <th>4</th>\n",
       "      <td>ham</td>\n",
       "      <td>Nah I don't think he goes to usf, he lives aro...</td>\n",
       "    </tr>\n",
       "    <tr>\n",
       "      <th>...</th>\n",
       "      <td>...</td>\n",
       "      <td>...</td>\n",
       "    </tr>\n",
       "    <tr>\n",
       "      <th>5567</th>\n",
       "      <td>spam</td>\n",
       "      <td>This is the 2nd time we have tried 2 contact u...</td>\n",
       "    </tr>\n",
       "    <tr>\n",
       "      <th>5568</th>\n",
       "      <td>ham</td>\n",
       "      <td>Will Ì_ b going to esplanade fr home?</td>\n",
       "    </tr>\n",
       "    <tr>\n",
       "      <th>5569</th>\n",
       "      <td>ham</td>\n",
       "      <td>Pity, * was in mood for that. So...any other s...</td>\n",
       "    </tr>\n",
       "    <tr>\n",
       "      <th>5570</th>\n",
       "      <td>ham</td>\n",
       "      <td>The guy did some bitching but I acted like i'd...</td>\n",
       "    </tr>\n",
       "    <tr>\n",
       "      <th>5571</th>\n",
       "      <td>ham</td>\n",
       "      <td>Rofl. Its true to its name</td>\n",
       "    </tr>\n",
       "  </tbody>\n",
       "</table>\n",
       "<p>5572 rows × 2 columns</p>\n",
       "</div>"
      ],
      "text/plain": [
       "     output                                                sms\n",
       "0       ham  Go until jurong point, crazy.. Available only ...\n",
       "1       ham                      Ok lar... Joking wif u oni...\n",
       "2      spam  Free entry in 2 a wkly comp to win FA Cup fina...\n",
       "3       ham  U dun say so early hor... U c already then say...\n",
       "4       ham  Nah I don't think he goes to usf, he lives aro...\n",
       "...     ...                                                ...\n",
       "5567   spam  This is the 2nd time we have tried 2 contact u...\n",
       "5568    ham              Will Ì_ b going to esplanade fr home?\n",
       "5569    ham  Pity, * was in mood for that. So...any other s...\n",
       "5570    ham  The guy did some bitching but I acted like i'd...\n",
       "5571    ham                         Rofl. Its true to its name\n",
       "\n",
       "[5572 rows x 2 columns]"
      ]
     },
     "execution_count": 6,
     "metadata": {},
     "output_type": "execute_result"
    }
   ],
   "source": [
    "data"
   ]
  },
  {
   "cell_type": "code",
   "execution_count": 7,
   "id": "f56d603b",
   "metadata": {
    "execution": {
     "iopub.execute_input": "2022-04-16T21:31:40.671373Z",
     "iopub.status.busy": "2022-04-16T21:31:40.670579Z",
     "iopub.status.idle": "2022-04-16T21:31:40.686197Z",
     "shell.execute_reply": "2022-04-16T21:31:40.685283Z"
    },
    "papermill": {
     "duration": 0.042473,
     "end_time": "2022-04-16T21:31:40.688601",
     "exception": false,
     "start_time": "2022-04-16T21:31:40.646128",
     "status": "completed"
    },
    "tags": []
   },
   "outputs": [
    {
     "name": "stderr",
     "output_type": "stream",
     "text": [
      "/opt/conda/lib/python3.7/site-packages/ipykernel_launcher.py:1: SettingWithCopyWarning: \n",
      "A value is trying to be set on a copy of a slice from a DataFrame.\n",
      "Try using .loc[row_indexer,col_indexer] = value instead\n",
      "\n",
      "See the caveats in the documentation: https://pandas.pydata.org/pandas-docs/stable/user_guide/indexing.html#returning-a-view-versus-a-copy\n",
      "  \"\"\"Entry point for launching an IPython kernel.\n"
     ]
    }
   ],
   "source": [
    "data['sms'] = data['sms'].str.lower()"
   ]
  },
  {
   "cell_type": "code",
   "execution_count": 8,
   "id": "883717e5",
   "metadata": {
    "execution": {
     "iopub.execute_input": "2022-04-16T21:31:40.743503Z",
     "iopub.status.busy": "2022-04-16T21:31:40.742537Z",
     "iopub.status.idle": "2022-04-16T21:31:40.747936Z",
     "shell.execute_reply": "2022-04-16T21:31:40.746924Z"
    },
    "papermill": {
     "duration": 0.033109,
     "end_time": "2022-04-16T21:31:40.750287",
     "exception": false,
     "start_time": "2022-04-16T21:31:40.717178",
     "status": "completed"
    },
    "tags": []
   },
   "outputs": [],
   "source": [
    "import string\n",
    "punc = string.punctuation"
   ]
  },
  {
   "cell_type": "code",
   "execution_count": 9,
   "id": "24f72e8c",
   "metadata": {
    "execution": {
     "iopub.execute_input": "2022-04-16T21:31:40.811459Z",
     "iopub.status.busy": "2022-04-16T21:31:40.810859Z",
     "iopub.status.idle": "2022-04-16T21:31:40.815807Z",
     "shell.execute_reply": "2022-04-16T21:31:40.815107Z"
    },
    "papermill": {
     "duration": 0.040638,
     "end_time": "2022-04-16T21:31:40.818013",
     "exception": false,
     "start_time": "2022-04-16T21:31:40.777375",
     "status": "completed"
    },
    "tags": []
   },
   "outputs": [],
   "source": [
    "def removepuch(text):\n",
    "    return text.translate(str.maketrans('','',punc))"
   ]
  },
  {
   "cell_type": "code",
   "execution_count": 10,
   "id": "1fdef7bf",
   "metadata": {
    "execution": {
     "iopub.execute_input": "2022-04-16T21:31:40.868234Z",
     "iopub.status.busy": "2022-04-16T21:31:40.867740Z",
     "iopub.status.idle": "2022-04-16T21:31:40.909517Z",
     "shell.execute_reply": "2022-04-16T21:31:40.908367Z"
    },
    "papermill": {
     "duration": 0.070184,
     "end_time": "2022-04-16T21:31:40.912524",
     "exception": false,
     "start_time": "2022-04-16T21:31:40.842340",
     "status": "completed"
    },
    "tags": []
   },
   "outputs": [
    {
     "name": "stderr",
     "output_type": "stream",
     "text": [
      "/opt/conda/lib/python3.7/site-packages/ipykernel_launcher.py:1: SettingWithCopyWarning: \n",
      "A value is trying to be set on a copy of a slice from a DataFrame.\n",
      "Try using .loc[row_indexer,col_indexer] = value instead\n",
      "\n",
      "See the caveats in the documentation: https://pandas.pydata.org/pandas-docs/stable/user_guide/indexing.html#returning-a-view-versus-a-copy\n",
      "  \"\"\"Entry point for launching an IPython kernel.\n"
     ]
    }
   ],
   "source": [
    "data['sms'] = data['sms'].apply(removepuch)"
   ]
  },
  {
   "cell_type": "code",
   "execution_count": 11,
   "id": "cedd505d",
   "metadata": {
    "execution": {
     "iopub.execute_input": "2022-04-16T21:31:40.966272Z",
     "iopub.status.busy": "2022-04-16T21:31:40.965647Z",
     "iopub.status.idle": "2022-04-16T21:31:42.085669Z",
     "shell.execute_reply": "2022-04-16T21:31:42.084949Z"
    },
    "papermill": {
     "duration": 1.147604,
     "end_time": "2022-04-16T21:31:42.087896",
     "exception": false,
     "start_time": "2022-04-16T21:31:40.940292",
     "status": "completed"
    },
    "tags": []
   },
   "outputs": [],
   "source": [
    "from sklearn.feature_extraction.text import CountVectorizer"
   ]
  },
  {
   "cell_type": "code",
   "execution_count": 12,
   "id": "decc828f",
   "metadata": {
    "execution": {
     "iopub.execute_input": "2022-04-16T21:31:42.136506Z",
     "iopub.status.busy": "2022-04-16T21:31:42.135718Z",
     "iopub.status.idle": "2022-04-16T21:31:42.139920Z",
     "shell.execute_reply": "2022-04-16T21:31:42.139250Z"
    },
    "papermill": {
     "duration": 0.029934,
     "end_time": "2022-04-16T21:31:42.141919",
     "exception": false,
     "start_time": "2022-04-16T21:31:42.111985",
     "status": "completed"
    },
    "tags": []
   },
   "outputs": [],
   "source": [
    "x = data['sms']\n",
    "y = data['output']"
   ]
  },
  {
   "cell_type": "code",
   "execution_count": 13,
   "id": "4691d7c1",
   "metadata": {
    "execution": {
     "iopub.execute_input": "2022-04-16T21:31:42.188561Z",
     "iopub.status.busy": "2022-04-16T21:31:42.188007Z",
     "iopub.status.idle": "2022-04-16T21:31:42.328999Z",
     "shell.execute_reply": "2022-04-16T21:31:42.328164Z"
    },
    "papermill": {
     "duration": 0.167063,
     "end_time": "2022-04-16T21:31:42.331408",
     "exception": false,
     "start_time": "2022-04-16T21:31:42.164345",
     "status": "completed"
    },
    "tags": []
   },
   "outputs": [],
   "source": [
    "vect = CountVectorizer()\n",
    "x = vect.fit_transform(x)"
   ]
  },
  {
   "cell_type": "code",
   "execution_count": 14,
   "id": "1228b955",
   "metadata": {
    "execution": {
     "iopub.execute_input": "2022-04-16T21:31:42.380741Z",
     "iopub.status.busy": "2022-04-16T21:31:42.380460Z",
     "iopub.status.idle": "2022-04-16T21:31:42.443987Z",
     "shell.execute_reply": "2022-04-16T21:31:42.443127Z"
    },
    "papermill": {
     "duration": 0.092611,
     "end_time": "2022-04-16T21:31:42.446502",
     "exception": false,
     "start_time": "2022-04-16T21:31:42.353891",
     "status": "completed"
    },
    "tags": []
   },
   "outputs": [],
   "source": [
    "from sklearn.model_selection import train_test_split"
   ]
  },
  {
   "cell_type": "code",
   "execution_count": 15,
   "id": "ebbf4a61",
   "metadata": {
    "execution": {
     "iopub.execute_input": "2022-04-16T21:31:42.493287Z",
     "iopub.status.busy": "2022-04-16T21:31:42.492861Z",
     "iopub.status.idle": "2022-04-16T21:31:42.500991Z",
     "shell.execute_reply": "2022-04-16T21:31:42.500328Z"
    },
    "papermill": {
     "duration": 0.033983,
     "end_time": "2022-04-16T21:31:42.502942",
     "exception": false,
     "start_time": "2022-04-16T21:31:42.468959",
     "status": "completed"
    },
    "tags": []
   },
   "outputs": [],
   "source": [
    "xtrain,xtest,ytrain,ytest = train_test_split(x,y,test_size = 0.20)"
   ]
  },
  {
   "cell_type": "code",
   "execution_count": 16,
   "id": "2afaa4a6",
   "metadata": {
    "execution": {
     "iopub.execute_input": "2022-04-16T21:31:42.549720Z",
     "iopub.status.busy": "2022-04-16T21:31:42.549247Z",
     "iopub.status.idle": "2022-04-16T21:31:42.555798Z",
     "shell.execute_reply": "2022-04-16T21:31:42.555027Z"
    },
    "papermill": {
     "duration": 0.032579,
     "end_time": "2022-04-16T21:31:42.557805",
     "exception": false,
     "start_time": "2022-04-16T21:31:42.525226",
     "status": "completed"
    },
    "tags": []
   },
   "outputs": [],
   "source": [
    "from sklearn.naive_bayes import MultinomialNB"
   ]
  },
  {
   "cell_type": "code",
   "execution_count": 17,
   "id": "aa2629fb",
   "metadata": {
    "execution": {
     "iopub.execute_input": "2022-04-16T21:31:42.604274Z",
     "iopub.status.busy": "2022-04-16T21:31:42.603955Z",
     "iopub.status.idle": "2022-04-16T21:31:42.631715Z",
     "shell.execute_reply": "2022-04-16T21:31:42.631139Z"
    },
    "papermill": {
     "duration": 0.053319,
     "end_time": "2022-04-16T21:31:42.633454",
     "exception": false,
     "start_time": "2022-04-16T21:31:42.580135",
     "status": "completed"
    },
    "tags": []
   },
   "outputs": [
    {
     "data": {
      "text/plain": [
       "MultinomialNB()"
      ]
     },
     "execution_count": 17,
     "metadata": {},
     "output_type": "execute_result"
    }
   ],
   "source": [
    "model = MultinomialNB()\n",
    "model.fit(xtrain,ytrain)"
   ]
  },
  {
   "cell_type": "code",
   "execution_count": 18,
   "id": "6058a115",
   "metadata": {
    "execution": {
     "iopub.execute_input": "2022-04-16T21:31:42.681089Z",
     "iopub.status.busy": "2022-04-16T21:31:42.680468Z",
     "iopub.status.idle": "2022-04-16T21:31:42.684676Z",
     "shell.execute_reply": "2022-04-16T21:31:42.684094Z"
    },
    "papermill": {
     "duration": 0.029938,
     "end_time": "2022-04-16T21:31:42.686538",
     "exception": false,
     "start_time": "2022-04-16T21:31:42.656600",
     "status": "completed"
    },
    "tags": []
   },
   "outputs": [],
   "source": [
    "pred = model.predict(xtest)"
   ]
  },
  {
   "cell_type": "code",
   "execution_count": 19,
   "id": "3efb6ff9",
   "metadata": {
    "execution": {
     "iopub.execute_input": "2022-04-16T21:31:42.734165Z",
     "iopub.status.busy": "2022-04-16T21:31:42.733831Z",
     "iopub.status.idle": "2022-04-16T21:31:42.759771Z",
     "shell.execute_reply": "2022-04-16T21:31:42.758540Z"
    },
    "papermill": {
     "duration": 0.052172,
     "end_time": "2022-04-16T21:31:42.761916",
     "exception": false,
     "start_time": "2022-04-16T21:31:42.709744",
     "status": "completed"
    },
    "tags": []
   },
   "outputs": [
    {
     "name": "stdout",
     "output_type": "stream",
     "text": [
      "train model 0.9923715503702042\n",
      "test model 0.9713004484304932\n"
     ]
    }
   ],
   "source": [
    "print('train model',model.score(xtrain,ytrain))\n",
    "print('test model',model.score(xtest,ytest))"
   ]
  },
  {
   "cell_type": "code",
   "execution_count": null,
   "id": "b8b23c8d",
   "metadata": {
    "papermill": {
     "duration": 0.022651,
     "end_time": "2022-04-16T21:31:42.807632",
     "exception": false,
     "start_time": "2022-04-16T21:31:42.784981",
     "status": "completed"
    },
    "tags": []
   },
   "outputs": [],
   "source": []
  }
 ],
 "metadata": {
  "kernelspec": {
   "display_name": "Python 3",
   "language": "python",
   "name": "python3"
  },
  "language_info": {
   "codemirror_mode": {
    "name": "ipython",
    "version": 3
   },
   "file_extension": ".py",
   "mimetype": "text/x-python",
   "name": "python",
   "nbconvert_exporter": "python",
   "pygments_lexer": "ipython3",
   "version": "3.7.12"
  },
  "papermill": {
   "default_parameters": {},
   "duration": 13.574393,
   "end_time": "2022-04-16T21:31:43.551499",
   "environment_variables": {},
   "exception": null,
   "input_path": "__notebook__.ipynb",
   "output_path": "__notebook__.ipynb",
   "parameters": {},
   "start_time": "2022-04-16T21:31:29.977106",
   "version": "2.3.4"
  }
 },
 "nbformat": 4,
 "nbformat_minor": 5
}
