{
 "cells": [
  {
   "cell_type": "code",
   "execution_count": null,
   "id": "f71af28a",
   "metadata": {
    "papermill": {
     "duration": 0.036759,
     "end_time": "2022-04-20T20:44:23.473205",
     "exception": false,
     "start_time": "2022-04-20T20:44:23.436446",
     "status": "completed"
    },
    "tags": []
   },
   "outputs": [],
   "source": []
  },
  {
   "cell_type": "markdown",
   "id": "c787adb4",
   "metadata": {
    "papermill": {
     "duration": 0.032591,
     "end_time": "2022-04-20T20:44:23.538627",
     "exception": false,
     "start_time": "2022-04-20T20:44:23.506036",
     "status": "completed"
    },
    "tags": []
   },
   "source": [
    "# Human Stress Detection"
   ]
  },
  {
   "cell_type": "markdown",
   "id": "c0d83732",
   "metadata": {
    "papermill": {
     "duration": 0.032056,
     "end_time": "2022-04-20T20:44:23.605284",
     "exception": false,
     "start_time": "2022-04-20T20:44:23.573228",
     "status": "completed"
    },
    "tags": []
   },
   "source": [
    "![](https://www.stress.org/wp-content/uploads/2020/02/anxiety-190723-1000x563-1.jpg)"
   ]
  },
  {
   "cell_type": "code",
   "execution_count": 1,
   "id": "107b5587",
   "metadata": {
    "execution": {
     "iopub.execute_input": "2022-04-20T20:44:23.671911Z",
     "iopub.status.busy": "2022-04-20T20:44:23.671369Z",
     "iopub.status.idle": "2022-04-20T20:44:23.678913Z",
     "shell.execute_reply": "2022-04-20T20:44:23.678340Z"
    },
    "papermill": {
     "duration": 0.043227,
     "end_time": "2022-04-20T20:44:23.680771",
     "exception": false,
     "start_time": "2022-04-20T20:44:23.637544",
     "status": "completed"
    },
    "tags": []
   },
   "outputs": [],
   "source": [
    "import pandas as pd\n",
    "import numpy as np\n",
    "import matplotlib.pyplot as plt"
   ]
  },
  {
   "cell_type": "code",
   "execution_count": 2,
   "id": "6c7435f9",
   "metadata": {
    "execution": {
     "iopub.execute_input": "2022-04-20T20:44:23.747719Z",
     "iopub.status.busy": "2022-04-20T20:44:23.747251Z",
     "iopub.status.idle": "2022-04-20T20:44:24.832531Z",
     "shell.execute_reply": "2022-04-20T20:44:24.831660Z"
    },
    "papermill": {
     "duration": 1.121574,
     "end_time": "2022-04-20T20:44:24.834858",
     "exception": false,
     "start_time": "2022-04-20T20:44:23.713284",
     "status": "completed"
    },
    "tags": []
   },
   "outputs": [],
   "source": [
    "import seaborn as sns"
   ]
  },
  {
   "cell_type": "code",
   "execution_count": 3,
   "id": "f9689ab7",
   "metadata": {
    "execution": {
     "iopub.execute_input": "2022-04-20T20:44:24.902657Z",
     "iopub.status.busy": "2022-04-20T20:44:24.902344Z",
     "iopub.status.idle": "2022-04-20T20:44:24.918010Z",
     "shell.execute_reply": "2022-04-20T20:44:24.917405Z"
    },
    "papermill": {
     "duration": 0.05173,
     "end_time": "2022-04-20T20:44:24.920049",
     "exception": false,
     "start_time": "2022-04-20T20:44:24.868319",
     "status": "completed"
    },
    "tags": []
   },
   "outputs": [],
   "source": [
    "df = pd.read_csv('../input/human-stress-detection-in-and-through-sleep/SaYoPillow.csv')"
   ]
  },
  {
   "cell_type": "code",
   "execution_count": 4,
   "id": "34b859ca",
   "metadata": {
    "execution": {
     "iopub.execute_input": "2022-04-20T20:44:24.988309Z",
     "iopub.status.busy": "2022-04-20T20:44:24.987757Z",
     "iopub.status.idle": "2022-04-20T20:44:25.009398Z",
     "shell.execute_reply": "2022-04-20T20:44:25.008871Z"
    },
    "papermill": {
     "duration": 0.057092,
     "end_time": "2022-04-20T20:44:25.011432",
     "exception": false,
     "start_time": "2022-04-20T20:44:24.954340",
     "status": "completed"
    },
    "tags": []
   },
   "outputs": [
    {
     "data": {
      "text/html": [
       "<div>\n",
       "<style scoped>\n",
       "    .dataframe tbody tr th:only-of-type {\n",
       "        vertical-align: middle;\n",
       "    }\n",
       "\n",
       "    .dataframe tbody tr th {\n",
       "        vertical-align: top;\n",
       "    }\n",
       "\n",
       "    .dataframe thead th {\n",
       "        text-align: right;\n",
       "    }\n",
       "</style>\n",
       "<table border=\"1\" class=\"dataframe\">\n",
       "  <thead>\n",
       "    <tr style=\"text-align: right;\">\n",
       "      <th></th>\n",
       "      <th>sr</th>\n",
       "      <th>rr</th>\n",
       "      <th>t</th>\n",
       "      <th>lm</th>\n",
       "      <th>bo</th>\n",
       "      <th>rem</th>\n",
       "      <th>sr.1</th>\n",
       "      <th>hr</th>\n",
       "      <th>sl</th>\n",
       "    </tr>\n",
       "  </thead>\n",
       "  <tbody>\n",
       "    <tr>\n",
       "      <th>0</th>\n",
       "      <td>93.80</td>\n",
       "      <td>25.680</td>\n",
       "      <td>91.840</td>\n",
       "      <td>16.60</td>\n",
       "      <td>89.840</td>\n",
       "      <td>99.60</td>\n",
       "      <td>1.840</td>\n",
       "      <td>74.20</td>\n",
       "      <td>3</td>\n",
       "    </tr>\n",
       "    <tr>\n",
       "      <th>1</th>\n",
       "      <td>91.64</td>\n",
       "      <td>25.104</td>\n",
       "      <td>91.552</td>\n",
       "      <td>15.88</td>\n",
       "      <td>89.552</td>\n",
       "      <td>98.88</td>\n",
       "      <td>1.552</td>\n",
       "      <td>72.76</td>\n",
       "      <td>3</td>\n",
       "    </tr>\n",
       "  </tbody>\n",
       "</table>\n",
       "</div>"
      ],
      "text/plain": [
       "      sr      rr       t     lm      bo    rem   sr.1     hr  sl\n",
       "0  93.80  25.680  91.840  16.60  89.840  99.60  1.840  74.20   3\n",
       "1  91.64  25.104  91.552  15.88  89.552  98.88  1.552  72.76   3"
      ]
     },
     "execution_count": 4,
     "metadata": {},
     "output_type": "execute_result"
    }
   ],
   "source": [
    "df.head(2)"
   ]
  },
  {
   "cell_type": "code",
   "execution_count": 5,
   "id": "1545dd16",
   "metadata": {
    "execution": {
     "iopub.execute_input": "2022-04-20T20:44:25.080452Z",
     "iopub.status.busy": "2022-04-20T20:44:25.079941Z",
     "iopub.status.idle": "2022-04-20T20:44:25.088777Z",
     "shell.execute_reply": "2022-04-20T20:44:25.088207Z"
    },
    "papermill": {
     "duration": 0.04564,
     "end_time": "2022-04-20T20:44:25.090667",
     "exception": false,
     "start_time": "2022-04-20T20:44:25.045027",
     "status": "completed"
    },
    "tags": []
   },
   "outputs": [],
   "source": [
    "df.columns=[['snoring range','respiration rate','body temperature','limb movement rate', \n",
    "            'blood oxygen levels','eye movement', \n",
    "            'number of hours of sleep', 'heart rate','Stress Levels']]"
   ]
  },
  {
   "cell_type": "code",
   "execution_count": 6,
   "id": "768a4209",
   "metadata": {
    "execution": {
     "iopub.execute_input": "2022-04-20T20:44:25.157964Z",
     "iopub.status.busy": "2022-04-20T20:44:25.157461Z",
     "iopub.status.idle": "2022-04-20T20:44:25.176452Z",
     "shell.execute_reply": "2022-04-20T20:44:25.175892Z"
    },
    "papermill": {
     "duration": 0.054568,
     "end_time": "2022-04-20T20:44:25.178113",
     "exception": false,
     "start_time": "2022-04-20T20:44:25.123545",
     "status": "completed"
    },
    "tags": []
   },
   "outputs": [
    {
     "data": {
      "text/html": [
       "<div>\n",
       "<style scoped>\n",
       "    .dataframe tbody tr th:only-of-type {\n",
       "        vertical-align: middle;\n",
       "    }\n",
       "\n",
       "    .dataframe tbody tr th {\n",
       "        vertical-align: top;\n",
       "    }\n",
       "\n",
       "    .dataframe thead tr th {\n",
       "        text-align: left;\n",
       "    }\n",
       "</style>\n",
       "<table border=\"1\" class=\"dataframe\">\n",
       "  <thead>\n",
       "    <tr>\n",
       "      <th></th>\n",
       "      <th>snoring range</th>\n",
       "      <th>respiration rate</th>\n",
       "      <th>body temperature</th>\n",
       "      <th>limb movement rate</th>\n",
       "      <th>blood oxygen levels</th>\n",
       "      <th>eye movement</th>\n",
       "      <th>number of hours of sleep</th>\n",
       "      <th>heart rate</th>\n",
       "      <th>Stress Levels</th>\n",
       "    </tr>\n",
       "  </thead>\n",
       "  <tbody>\n",
       "    <tr>\n",
       "      <th>0</th>\n",
       "      <td>93.80</td>\n",
       "      <td>25.680</td>\n",
       "      <td>91.840</td>\n",
       "      <td>16.600</td>\n",
       "      <td>89.840</td>\n",
       "      <td>99.60</td>\n",
       "      <td>1.840</td>\n",
       "      <td>74.20</td>\n",
       "      <td>3</td>\n",
       "    </tr>\n",
       "    <tr>\n",
       "      <th>1</th>\n",
       "      <td>91.64</td>\n",
       "      <td>25.104</td>\n",
       "      <td>91.552</td>\n",
       "      <td>15.880</td>\n",
       "      <td>89.552</td>\n",
       "      <td>98.88</td>\n",
       "      <td>1.552</td>\n",
       "      <td>72.76</td>\n",
       "      <td>3</td>\n",
       "    </tr>\n",
       "    <tr>\n",
       "      <th>2</th>\n",
       "      <td>60.00</td>\n",
       "      <td>20.000</td>\n",
       "      <td>96.000</td>\n",
       "      <td>10.000</td>\n",
       "      <td>95.000</td>\n",
       "      <td>85.00</td>\n",
       "      <td>7.000</td>\n",
       "      <td>60.00</td>\n",
       "      <td>1</td>\n",
       "    </tr>\n",
       "    <tr>\n",
       "      <th>3</th>\n",
       "      <td>85.76</td>\n",
       "      <td>23.536</td>\n",
       "      <td>90.768</td>\n",
       "      <td>13.920</td>\n",
       "      <td>88.768</td>\n",
       "      <td>96.92</td>\n",
       "      <td>0.768</td>\n",
       "      <td>68.84</td>\n",
       "      <td>3</td>\n",
       "    </tr>\n",
       "    <tr>\n",
       "      <th>4</th>\n",
       "      <td>48.12</td>\n",
       "      <td>17.248</td>\n",
       "      <td>97.872</td>\n",
       "      <td>6.496</td>\n",
       "      <td>96.248</td>\n",
       "      <td>72.48</td>\n",
       "      <td>8.248</td>\n",
       "      <td>53.12</td>\n",
       "      <td>0</td>\n",
       "    </tr>\n",
       "  </tbody>\n",
       "</table>\n",
       "</div>"
      ],
      "text/plain": [
       "  snoring range respiration rate body temperature limb movement rate  \\\n",
       "0         93.80           25.680           91.840             16.600   \n",
       "1         91.64           25.104           91.552             15.880   \n",
       "2         60.00           20.000           96.000             10.000   \n",
       "3         85.76           23.536           90.768             13.920   \n",
       "4         48.12           17.248           97.872              6.496   \n",
       "\n",
       "  blood oxygen levels eye movement number of hours of sleep heart rate  \\\n",
       "0              89.840        99.60                    1.840      74.20   \n",
       "1              89.552        98.88                    1.552      72.76   \n",
       "2              95.000        85.00                    7.000      60.00   \n",
       "3              88.768        96.92                    0.768      68.84   \n",
       "4              96.248        72.48                    8.248      53.12   \n",
       "\n",
       "  Stress Levels  \n",
       "0             3  \n",
       "1             3  \n",
       "2             1  \n",
       "3             3  \n",
       "4             0  "
      ]
     },
     "execution_count": 6,
     "metadata": {},
     "output_type": "execute_result"
    }
   ],
   "source": [
    "df.head()"
   ]
  },
  {
   "cell_type": "code",
   "execution_count": 7,
   "id": "b6938610",
   "metadata": {
    "execution": {
     "iopub.execute_input": "2022-04-20T20:44:25.245750Z",
     "iopub.status.busy": "2022-04-20T20:44:25.245243Z",
     "iopub.status.idle": "2022-04-20T20:44:25.251002Z",
     "shell.execute_reply": "2022-04-20T20:44:25.250367Z"
    },
    "papermill": {
     "duration": 0.041807,
     "end_time": "2022-04-20T20:44:25.252873",
     "exception": false,
     "start_time": "2022-04-20T20:44:25.211066",
     "status": "completed"
    },
    "tags": []
   },
   "outputs": [],
   "source": [
    "corr = df.corr()"
   ]
  },
  {
   "cell_type": "code",
   "execution_count": 8,
   "id": "69458588",
   "metadata": {
    "execution": {
     "iopub.execute_input": "2022-04-20T20:44:25.320661Z",
     "iopub.status.busy": "2022-04-20T20:44:25.320169Z",
     "iopub.status.idle": "2022-04-20T20:44:25.332283Z",
     "shell.execute_reply": "2022-04-20T20:44:25.331567Z"
    },
    "papermill": {
     "duration": 0.048177,
     "end_time": "2022-04-20T20:44:25.334131",
     "exception": false,
     "start_time": "2022-04-20T20:44:25.285954",
     "status": "completed"
    },
    "tags": []
   },
   "outputs": [
    {
     "data": {
      "text/html": [
       "<div>\n",
       "<style scoped>\n",
       "    .dataframe tbody tr th:only-of-type {\n",
       "        vertical-align: middle;\n",
       "    }\n",
       "\n",
       "    .dataframe tbody tr th {\n",
       "        vertical-align: top;\n",
       "    }\n",
       "\n",
       "    .dataframe thead tr th {\n",
       "        text-align: left;\n",
       "    }\n",
       "</style>\n",
       "<table border=\"1\" class=\"dataframe\">\n",
       "  <thead>\n",
       "    <tr>\n",
       "      <th></th>\n",
       "      <th>Stress Levels</th>\n",
       "    </tr>\n",
       "  </thead>\n",
       "  <tbody>\n",
       "    <tr>\n",
       "      <th>snoring range</th>\n",
       "      <td>0.975322</td>\n",
       "    </tr>\n",
       "    <tr>\n",
       "      <th>respiration rate</th>\n",
       "      <td>0.963516</td>\n",
       "    </tr>\n",
       "    <tr>\n",
       "      <th>body temperature</th>\n",
       "      <td>-0.962354</td>\n",
       "    </tr>\n",
       "    <tr>\n",
       "      <th>limb movement rate</th>\n",
       "      <td>0.971071</td>\n",
       "    </tr>\n",
       "    <tr>\n",
       "      <th>blood oxygen levels</th>\n",
       "      <td>-0.961092</td>\n",
       "    </tr>\n",
       "    <tr>\n",
       "      <th>eye movement</th>\n",
       "      <td>0.951988</td>\n",
       "    </tr>\n",
       "    <tr>\n",
       "      <th>number of hours of sleep</th>\n",
       "      <td>-0.973036</td>\n",
       "    </tr>\n",
       "    <tr>\n",
       "      <th>heart rate</th>\n",
       "      <td>0.963516</td>\n",
       "    </tr>\n",
       "    <tr>\n",
       "      <th>Stress Levels</th>\n",
       "      <td>1.000000</td>\n",
       "    </tr>\n",
       "  </tbody>\n",
       "</table>\n",
       "</div>"
      ],
      "text/plain": [
       "                         Stress Levels\n",
       "snoring range                 0.975322\n",
       "respiration rate              0.963516\n",
       "body temperature             -0.962354\n",
       "limb movement rate            0.971071\n",
       "blood oxygen levels          -0.961092\n",
       "eye movement                  0.951988\n",
       "number of hours of sleep     -0.973036\n",
       "heart rate                    0.963516\n",
       "Stress Levels                 1.000000"
      ]
     },
     "execution_count": 8,
     "metadata": {},
     "output_type": "execute_result"
    }
   ],
   "source": [
    "corr['Stress Levels']"
   ]
  },
  {
   "cell_type": "code",
   "execution_count": 9,
   "id": "2a78e4ed",
   "metadata": {
    "execution": {
     "iopub.execute_input": "2022-04-20T20:44:25.403271Z",
     "iopub.status.busy": "2022-04-20T20:44:25.402744Z",
     "iopub.status.idle": "2022-04-20T20:44:25.618554Z",
     "shell.execute_reply": "2022-04-20T20:44:25.617638Z"
    },
    "papermill": {
     "duration": 0.253592,
     "end_time": "2022-04-20T20:44:25.621599",
     "exception": false,
     "start_time": "2022-04-20T20:44:25.368007",
     "status": "completed"
    },
    "tags": []
   },
   "outputs": [],
   "source": [
    "from sklearn.model_selection import train_test_split"
   ]
  },
  {
   "cell_type": "code",
   "execution_count": 10,
   "id": "7c0bf2c9",
   "metadata": {
    "execution": {
     "iopub.execute_input": "2022-04-20T20:44:25.691667Z",
     "iopub.status.busy": "2022-04-20T20:44:25.690813Z",
     "iopub.status.idle": "2022-04-20T20:44:25.713631Z",
     "shell.execute_reply": "2022-04-20T20:44:25.713103Z"
    },
    "papermill": {
     "duration": 0.059939,
     "end_time": "2022-04-20T20:44:25.715505",
     "exception": false,
     "start_time": "2022-04-20T20:44:25.655566",
     "status": "completed"
    },
    "tags": []
   },
   "outputs": [
    {
     "data": {
      "text/html": [
       "<div>\n",
       "<style scoped>\n",
       "    .dataframe tbody tr th:only-of-type {\n",
       "        vertical-align: middle;\n",
       "    }\n",
       "\n",
       "    .dataframe tbody tr th {\n",
       "        vertical-align: top;\n",
       "    }\n",
       "\n",
       "    .dataframe thead tr th {\n",
       "        text-align: left;\n",
       "    }\n",
       "</style>\n",
       "<table border=\"1\" class=\"dataframe\">\n",
       "  <thead>\n",
       "    <tr>\n",
       "      <th></th>\n",
       "      <th>snoring range</th>\n",
       "      <th>respiration rate</th>\n",
       "      <th>body temperature</th>\n",
       "      <th>limb movement rate</th>\n",
       "      <th>blood oxygen levels</th>\n",
       "      <th>eye movement</th>\n",
       "      <th>number of hours of sleep</th>\n",
       "      <th>heart rate</th>\n",
       "    </tr>\n",
       "  </thead>\n",
       "  <tbody>\n",
       "    <tr>\n",
       "      <th>0</th>\n",
       "      <td>93.800</td>\n",
       "      <td>25.680</td>\n",
       "      <td>91.840</td>\n",
       "      <td>16.600</td>\n",
       "      <td>89.840</td>\n",
       "      <td>99.60</td>\n",
       "      <td>1.840</td>\n",
       "      <td>74.20</td>\n",
       "    </tr>\n",
       "    <tr>\n",
       "      <th>1</th>\n",
       "      <td>91.640</td>\n",
       "      <td>25.104</td>\n",
       "      <td>91.552</td>\n",
       "      <td>15.880</td>\n",
       "      <td>89.552</td>\n",
       "      <td>98.88</td>\n",
       "      <td>1.552</td>\n",
       "      <td>72.76</td>\n",
       "    </tr>\n",
       "    <tr>\n",
       "      <th>2</th>\n",
       "      <td>60.000</td>\n",
       "      <td>20.000</td>\n",
       "      <td>96.000</td>\n",
       "      <td>10.000</td>\n",
       "      <td>95.000</td>\n",
       "      <td>85.00</td>\n",
       "      <td>7.000</td>\n",
       "      <td>60.00</td>\n",
       "    </tr>\n",
       "    <tr>\n",
       "      <th>3</th>\n",
       "      <td>85.760</td>\n",
       "      <td>23.536</td>\n",
       "      <td>90.768</td>\n",
       "      <td>13.920</td>\n",
       "      <td>88.768</td>\n",
       "      <td>96.92</td>\n",
       "      <td>0.768</td>\n",
       "      <td>68.84</td>\n",
       "    </tr>\n",
       "    <tr>\n",
       "      <th>4</th>\n",
       "      <td>48.120</td>\n",
       "      <td>17.248</td>\n",
       "      <td>97.872</td>\n",
       "      <td>6.496</td>\n",
       "      <td>96.248</td>\n",
       "      <td>72.48</td>\n",
       "      <td>8.248</td>\n",
       "      <td>53.12</td>\n",
       "    </tr>\n",
       "    <tr>\n",
       "      <th>...</th>\n",
       "      <td>...</td>\n",
       "      <td>...</td>\n",
       "      <td>...</td>\n",
       "      <td>...</td>\n",
       "      <td>...</td>\n",
       "      <td>...</td>\n",
       "      <td>...</td>\n",
       "      <td>...</td>\n",
       "    </tr>\n",
       "    <tr>\n",
       "      <th>625</th>\n",
       "      <td>69.600</td>\n",
       "      <td>20.960</td>\n",
       "      <td>92.960</td>\n",
       "      <td>10.960</td>\n",
       "      <td>90.960</td>\n",
       "      <td>89.80</td>\n",
       "      <td>3.440</td>\n",
       "      <td>62.40</td>\n",
       "    </tr>\n",
       "    <tr>\n",
       "      <th>626</th>\n",
       "      <td>48.440</td>\n",
       "      <td>17.376</td>\n",
       "      <td>98.064</td>\n",
       "      <td>6.752</td>\n",
       "      <td>96.376</td>\n",
       "      <td>73.76</td>\n",
       "      <td>8.376</td>\n",
       "      <td>53.44</td>\n",
       "    </tr>\n",
       "    <tr>\n",
       "      <th>627</th>\n",
       "      <td>97.504</td>\n",
       "      <td>27.504</td>\n",
       "      <td>86.880</td>\n",
       "      <td>17.752</td>\n",
       "      <td>84.256</td>\n",
       "      <td>101.88</td>\n",
       "      <td>0.000</td>\n",
       "      <td>78.76</td>\n",
       "    </tr>\n",
       "    <tr>\n",
       "      <th>628</th>\n",
       "      <td>58.640</td>\n",
       "      <td>19.728</td>\n",
       "      <td>95.728</td>\n",
       "      <td>9.728</td>\n",
       "      <td>94.592</td>\n",
       "      <td>84.32</td>\n",
       "      <td>6.728</td>\n",
       "      <td>59.32</td>\n",
       "    </tr>\n",
       "    <tr>\n",
       "      <th>629</th>\n",
       "      <td>73.920</td>\n",
       "      <td>21.392</td>\n",
       "      <td>93.392</td>\n",
       "      <td>11.392</td>\n",
       "      <td>91.392</td>\n",
       "      <td>91.96</td>\n",
       "      <td>4.088</td>\n",
       "      <td>63.48</td>\n",
       "    </tr>\n",
       "  </tbody>\n",
       "</table>\n",
       "<p>630 rows × 8 columns</p>\n",
       "</div>"
      ],
      "text/plain": [
       "    snoring range respiration rate body temperature limb movement rate  \\\n",
       "0          93.800           25.680           91.840             16.600   \n",
       "1          91.640           25.104           91.552             15.880   \n",
       "2          60.000           20.000           96.000             10.000   \n",
       "3          85.760           23.536           90.768             13.920   \n",
       "4          48.120           17.248           97.872              6.496   \n",
       "..            ...              ...              ...                ...   \n",
       "625        69.600           20.960           92.960             10.960   \n",
       "626        48.440           17.376           98.064              6.752   \n",
       "627        97.504           27.504           86.880             17.752   \n",
       "628        58.640           19.728           95.728              9.728   \n",
       "629        73.920           21.392           93.392             11.392   \n",
       "\n",
       "    blood oxygen levels eye movement number of hours of sleep heart rate  \n",
       "0                89.840        99.60                    1.840      74.20  \n",
       "1                89.552        98.88                    1.552      72.76  \n",
       "2                95.000        85.00                    7.000      60.00  \n",
       "3                88.768        96.92                    0.768      68.84  \n",
       "4                96.248        72.48                    8.248      53.12  \n",
       "..                  ...          ...                      ...        ...  \n",
       "625              90.960        89.80                    3.440      62.40  \n",
       "626              96.376        73.76                    8.376      53.44  \n",
       "627              84.256       101.88                    0.000      78.76  \n",
       "628              94.592        84.32                    6.728      59.32  \n",
       "629              91.392        91.96                    4.088      63.48  \n",
       "\n",
       "[630 rows x 8 columns]"
      ]
     },
     "execution_count": 10,
     "metadata": {},
     "output_type": "execute_result"
    }
   ],
   "source": [
    "x = df.iloc[:,:-1]\n",
    "x"
   ]
  },
  {
   "cell_type": "code",
   "execution_count": 11,
   "id": "e1e05a89",
   "metadata": {
    "execution": {
     "iopub.execute_input": "2022-04-20T20:44:25.786563Z",
     "iopub.status.busy": "2022-04-20T20:44:25.786056Z",
     "iopub.status.idle": "2022-04-20T20:44:25.792435Z",
     "shell.execute_reply": "2022-04-20T20:44:25.791881Z"
    },
    "papermill": {
     "duration": 0.04402,
     "end_time": "2022-04-20T20:44:25.794142",
     "exception": false,
     "start_time": "2022-04-20T20:44:25.750122",
     "status": "completed"
    },
    "tags": []
   },
   "outputs": [
    {
     "data": {
      "text/plain": [
       "0      3\n",
       "1      3\n",
       "2      1\n",
       "3      3\n",
       "4      0\n",
       "      ..\n",
       "625    2\n",
       "626    0\n",
       "627    4\n",
       "628    1\n",
       "629    2\n",
       "Name: (Stress Levels,), Length: 630, dtype: int64"
      ]
     },
     "execution_count": 11,
     "metadata": {},
     "output_type": "execute_result"
    }
   ],
   "source": [
    "y =df.iloc[:,-1]\n",
    "y"
   ]
  },
  {
   "cell_type": "code",
   "execution_count": 12,
   "id": "496c85b8",
   "metadata": {
    "execution": {
     "iopub.execute_input": "2022-04-20T20:44:25.865565Z",
     "iopub.status.busy": "2022-04-20T20:44:25.865046Z",
     "iopub.status.idle": "2022-04-20T20:44:25.869987Z",
     "shell.execute_reply": "2022-04-20T20:44:25.869338Z"
    },
    "papermill": {
     "duration": 0.04303,
     "end_time": "2022-04-20T20:44:25.871801",
     "exception": false,
     "start_time": "2022-04-20T20:44:25.828771",
     "status": "completed"
    },
    "tags": []
   },
   "outputs": [],
   "source": [
    "xtrain,xtest,ytrain,ytest = train_test_split(x,y,test_size = 0.20)"
   ]
  },
  {
   "cell_type": "markdown",
   "id": "697546c0",
   "metadata": {
    "papermill": {
     "duration": 0.03466,
     "end_time": "2022-04-20T20:44:25.942639",
     "exception": false,
     "start_time": "2022-04-20T20:44:25.907979",
     "status": "completed"
    },
    "tags": []
   },
   "source": [
    "# Feature Selection 1"
   ]
  },
  {
   "cell_type": "code",
   "execution_count": 13,
   "id": "c5e3b97f",
   "metadata": {
    "execution": {
     "iopub.execute_input": "2022-04-20T20:44:26.015762Z",
     "iopub.status.busy": "2022-04-20T20:44:26.015246Z",
     "iopub.status.idle": "2022-04-20T20:44:26.164100Z",
     "shell.execute_reply": "2022-04-20T20:44:26.163315Z"
    },
    "papermill": {
     "duration": 0.187861,
     "end_time": "2022-04-20T20:44:26.166826",
     "exception": false,
     "start_time": "2022-04-20T20:44:25.978965",
     "status": "completed"
    },
    "tags": []
   },
   "outputs": [],
   "source": [
    "from sklearn.feature_selection import SelectKBest\n",
    "from sklearn.feature_selection import mutual_info_classif"
   ]
  },
  {
   "cell_type": "code",
   "execution_count": 14,
   "id": "e15f317d",
   "metadata": {
    "execution": {
     "iopub.execute_input": "2022-04-20T20:44:26.238244Z",
     "iopub.status.busy": "2022-04-20T20:44:26.237803Z",
     "iopub.status.idle": "2022-04-20T20:44:26.293155Z",
     "shell.execute_reply": "2022-04-20T20:44:26.292308Z"
    },
    "papermill": {
     "duration": 0.093469,
     "end_time": "2022-04-20T20:44:26.295292",
     "exception": false,
     "start_time": "2022-04-20T20:44:26.201823",
     "status": "completed"
    },
    "tags": []
   },
   "outputs": [
    {
     "name": "stderr",
     "output_type": "stream",
     "text": [
      "/opt/conda/lib/python3.7/site-packages/sklearn/utils/validation.py:1692: FutureWarning: Feature names only support names that are all strings. Got feature names with dtypes: ['tuple']. An error will be raised in 1.2.\n",
      "  FutureWarning,\n"
     ]
    }
   ],
   "source": [
    "kbest = SelectKBest(mutual_info_classif,k=4)\n",
    "slectfeture = kbest.fit(xtrain,ytrain)"
   ]
  },
  {
   "cell_type": "code",
   "execution_count": 15,
   "id": "ffce199d",
   "metadata": {
    "execution": {
     "iopub.execute_input": "2022-04-20T20:44:26.368605Z",
     "iopub.status.busy": "2022-04-20T20:44:26.368075Z",
     "iopub.status.idle": "2022-04-20T20:44:26.375299Z",
     "shell.execute_reply": "2022-04-20T20:44:26.374724Z"
    },
    "papermill": {
     "duration": 0.045937,
     "end_time": "2022-04-20T20:44:26.377004",
     "exception": false,
     "start_time": "2022-04-20T20:44:26.331067",
     "status": "completed"
    },
    "tags": []
   },
   "outputs": [
    {
     "data": {
      "text/plain": [
       "MultiIndex([(      'snoring range',),\n",
       "            (   'respiration rate',),\n",
       "            (   'body temperature',),\n",
       "            ('blood oxygen levels',)],\n",
       "           )"
      ]
     },
     "execution_count": 15,
     "metadata": {},
     "output_type": "execute_result"
    }
   ],
   "source": [
    "xtrain.columns[slectfeture.get_support()]"
   ]
  },
  {
   "cell_type": "code",
   "execution_count": 16,
   "id": "be80cca6",
   "metadata": {
    "execution": {
     "iopub.execute_input": "2022-04-20T20:44:26.450816Z",
     "iopub.status.busy": "2022-04-20T20:44:26.450276Z",
     "iopub.status.idle": "2022-04-20T20:44:26.457761Z",
     "shell.execute_reply": "2022-04-20T20:44:26.457136Z"
    },
    "papermill": {
     "duration": 0.046669,
     "end_time": "2022-04-20T20:44:26.459599",
     "exception": false,
     "start_time": "2022-04-20T20:44:26.412930",
     "status": "completed"
    },
    "tags": []
   },
   "outputs": [],
   "source": [
    "x1 = df[['snoring range','respiration rate','blood oxygen levels','heart rate']]"
   ]
  },
  {
   "cell_type": "code",
   "execution_count": 17,
   "id": "9c556b49",
   "metadata": {
    "execution": {
     "iopub.execute_input": "2022-04-20T20:44:26.536775Z",
     "iopub.status.busy": "2022-04-20T20:44:26.536257Z",
     "iopub.status.idle": "2022-04-20T20:44:26.546219Z",
     "shell.execute_reply": "2022-04-20T20:44:26.545663Z"
    },
    "papermill": {
     "duration": 0.051285,
     "end_time": "2022-04-20T20:44:26.547871",
     "exception": false,
     "start_time": "2022-04-20T20:44:26.496586",
     "status": "completed"
    },
    "tags": []
   },
   "outputs": [
    {
     "data": {
      "text/html": [
       "<div>\n",
       "<style scoped>\n",
       "    .dataframe tbody tr th:only-of-type {\n",
       "        vertical-align: middle;\n",
       "    }\n",
       "\n",
       "    .dataframe tbody tr th {\n",
       "        vertical-align: top;\n",
       "    }\n",
       "\n",
       "    .dataframe thead tr th {\n",
       "        text-align: left;\n",
       "    }\n",
       "</style>\n",
       "<table border=\"1\" class=\"dataframe\">\n",
       "  <thead>\n",
       "    <tr>\n",
       "      <th></th>\n",
       "      <th>snoring range</th>\n",
       "      <th>respiration rate</th>\n",
       "      <th>blood oxygen levels</th>\n",
       "      <th>heart rate</th>\n",
       "    </tr>\n",
       "  </thead>\n",
       "  <tbody>\n",
       "    <tr>\n",
       "      <th>0</th>\n",
       "      <td>93.8</td>\n",
       "      <td>25.68</td>\n",
       "      <td>89.84</td>\n",
       "      <td>74.2</td>\n",
       "    </tr>\n",
       "  </tbody>\n",
       "</table>\n",
       "</div>"
      ],
      "text/plain": [
       "  snoring range respiration rate blood oxygen levels heart rate\n",
       "0          93.8            25.68               89.84       74.2"
      ]
     },
     "execution_count": 17,
     "metadata": {},
     "output_type": "execute_result"
    }
   ],
   "source": [
    "x1.head(1)"
   ]
  },
  {
   "cell_type": "code",
   "execution_count": 18,
   "id": "3d2560fb",
   "metadata": {
    "execution": {
     "iopub.execute_input": "2022-04-20T20:44:26.622985Z",
     "iopub.status.busy": "2022-04-20T20:44:26.622507Z",
     "iopub.status.idle": "2022-04-20T20:44:26.627165Z",
     "shell.execute_reply": "2022-04-20T20:44:26.626470Z"
    },
    "papermill": {
     "duration": 0.045482,
     "end_time": "2022-04-20T20:44:26.628881",
     "exception": false,
     "start_time": "2022-04-20T20:44:26.583399",
     "status": "completed"
    },
    "tags": []
   },
   "outputs": [],
   "source": [
    "x1train,x1test,y1train,y1test = train_test_split(x1,y,test_size = 0.20)"
   ]
  },
  {
   "cell_type": "code",
   "execution_count": 19,
   "id": "6bbcf829",
   "metadata": {
    "execution": {
     "iopub.execute_input": "2022-04-20T20:44:26.702873Z",
     "iopub.status.busy": "2022-04-20T20:44:26.702367Z",
     "iopub.status.idle": "2022-04-20T20:44:26.712109Z",
     "shell.execute_reply": "2022-04-20T20:44:26.711540Z"
    },
    "papermill": {
     "duration": 0.048554,
     "end_time": "2022-04-20T20:44:26.713714",
     "exception": false,
     "start_time": "2022-04-20T20:44:26.665160",
     "status": "completed"
    },
    "tags": []
   },
   "outputs": [
    {
     "data": {
      "text/html": [
       "<div>\n",
       "<style scoped>\n",
       "    .dataframe tbody tr th:only-of-type {\n",
       "        vertical-align: middle;\n",
       "    }\n",
       "\n",
       "    .dataframe tbody tr th {\n",
       "        vertical-align: top;\n",
       "    }\n",
       "\n",
       "    .dataframe thead tr th {\n",
       "        text-align: left;\n",
       "    }\n",
       "</style>\n",
       "<table border=\"1\" class=\"dataframe\">\n",
       "  <thead>\n",
       "    <tr>\n",
       "      <th></th>\n",
       "      <th>snoring range</th>\n",
       "      <th>respiration rate</th>\n",
       "      <th>blood oxygen levels</th>\n",
       "      <th>heart rate</th>\n",
       "    </tr>\n",
       "  </thead>\n",
       "  <tbody>\n",
       "    <tr>\n",
       "      <th>84</th>\n",
       "      <td>68.32</td>\n",
       "      <td>20.832</td>\n",
       "      <td>90.832</td>\n",
       "      <td>62.08</td>\n",
       "    </tr>\n",
       "  </tbody>\n",
       "</table>\n",
       "</div>"
      ],
      "text/plain": [
       "   snoring range respiration rate blood oxygen levels heart rate\n",
       "84         68.32           20.832              90.832      62.08"
      ]
     },
     "execution_count": 19,
     "metadata": {},
     "output_type": "execute_result"
    }
   ],
   "source": [
    "x1train.head(1)"
   ]
  },
  {
   "cell_type": "code",
   "execution_count": 20,
   "id": "e11d443a",
   "metadata": {
    "execution": {
     "iopub.execute_input": "2022-04-20T20:44:26.787238Z",
     "iopub.status.busy": "2022-04-20T20:44:26.786739Z",
     "iopub.status.idle": "2022-04-20T20:44:26.873007Z",
     "shell.execute_reply": "2022-04-20T20:44:26.872194Z"
    },
    "papermill": {
     "duration": 0.125867,
     "end_time": "2022-04-20T20:44:26.875369",
     "exception": false,
     "start_time": "2022-04-20T20:44:26.749502",
     "status": "completed"
    },
    "tags": []
   },
   "outputs": [],
   "source": [
    "from sklearn.ensemble import AdaBoostClassifier"
   ]
  },
  {
   "cell_type": "code",
   "execution_count": 21,
   "id": "345c91eb",
   "metadata": {
    "execution": {
     "iopub.execute_input": "2022-04-20T20:44:26.951184Z",
     "iopub.status.busy": "2022-04-20T20:44:26.950921Z",
     "iopub.status.idle": "2022-04-20T20:44:27.044694Z",
     "shell.execute_reply": "2022-04-20T20:44:27.043503Z"
    },
    "papermill": {
     "duration": 0.134455,
     "end_time": "2022-04-20T20:44:27.046688",
     "exception": false,
     "start_time": "2022-04-20T20:44:26.912233",
     "status": "completed"
    },
    "tags": []
   },
   "outputs": [
    {
     "name": "stderr",
     "output_type": "stream",
     "text": [
      "/opt/conda/lib/python3.7/site-packages/sklearn/utils/validation.py:1692: FutureWarning: Feature names only support names that are all strings. Got feature names with dtypes: ['tuple']. An error will be raised in 1.2.\n",
      "  FutureWarning,\n"
     ]
    },
    {
     "data": {
      "text/plain": [
       "AdaBoostClassifier()"
      ]
     },
     "execution_count": 21,
     "metadata": {},
     "output_type": "execute_result"
    }
   ],
   "source": [
    "model1 = AdaBoostClassifier()\n",
    "model1.fit(x1train,y1train)"
   ]
  },
  {
   "cell_type": "code",
   "execution_count": 22,
   "id": "e10f1218",
   "metadata": {
    "execution": {
     "iopub.execute_input": "2022-04-20T20:44:27.121645Z",
     "iopub.status.busy": "2022-04-20T20:44:27.121170Z",
     "iopub.status.idle": "2022-04-20T20:44:27.239532Z",
     "shell.execute_reply": "2022-04-20T20:44:27.237367Z"
    },
    "papermill": {
     "duration": 0.158021,
     "end_time": "2022-04-20T20:44:27.241432",
     "exception": true,
     "start_time": "2022-04-20T20:44:27.083411",
     "status": "failed"
    },
    "tags": []
   },
   "outputs": [
    {
     "name": "stderr",
     "output_type": "stream",
     "text": [
      "/opt/conda/lib/python3.7/site-packages/sklearn/utils/validation.py:1692: FutureWarning: Feature names only support names that are all strings. Got feature names with dtypes: ['tuple']. An error will be raised in 1.2.\n",
      "  FutureWarning,\n"
     ]
    },
    {
     "ename": "ValueError",
     "evalue": "X has 8 features, but AdaBoostClassifier is expecting 4 features as input.",
     "output_type": "error",
     "traceback": [
      "\u001b[0;31m---------------------------------------------------------------------------\u001b[0m",
      "\u001b[0;31mValueError\u001b[0m                                Traceback (most recent call last)",
      "\u001b[0;32m/tmp/ipykernel_19/3459088273.py\u001b[0m in \u001b[0;36m<module>\u001b[0;34m\u001b[0m\n\u001b[0;32m----> 1\u001b[0;31m \u001b[0mprint\u001b[0m\u001b[0;34m(\u001b[0m\u001b[0;34m'train score'\u001b[0m\u001b[0;34m,\u001b[0m\u001b[0mmodel1\u001b[0m\u001b[0;34m.\u001b[0m\u001b[0mscore\u001b[0m\u001b[0;34m(\u001b[0m\u001b[0mxtrain\u001b[0m\u001b[0;34m,\u001b[0m\u001b[0mytrain\u001b[0m\u001b[0;34m)\u001b[0m\u001b[0;34m)\u001b[0m\u001b[0;34m\u001b[0m\u001b[0;34m\u001b[0m\u001b[0m\n\u001b[0m\u001b[1;32m      2\u001b[0m \u001b[0mprint\u001b[0m\u001b[0;34m(\u001b[0m\u001b[0;34m'test score'\u001b[0m\u001b[0;34m,\u001b[0m\u001b[0mmodel1\u001b[0m\u001b[0;34m.\u001b[0m\u001b[0mscore\u001b[0m\u001b[0;34m(\u001b[0m\u001b[0mxtest\u001b[0m\u001b[0;34m,\u001b[0m\u001b[0mytest\u001b[0m\u001b[0;34m)\u001b[0m\u001b[0;34m)\u001b[0m\u001b[0;34m\u001b[0m\u001b[0;34m\u001b[0m\u001b[0m\n",
      "\u001b[0;32m/opt/conda/lib/python3.7/site-packages/sklearn/base.py\u001b[0m in \u001b[0;36mscore\u001b[0;34m(self, X, y, sample_weight)\u001b[0m\n\u001b[1;32m    649\u001b[0m         \u001b[0;32mfrom\u001b[0m \u001b[0;34m.\u001b[0m\u001b[0mmetrics\u001b[0m \u001b[0;32mimport\u001b[0m \u001b[0maccuracy_score\u001b[0m\u001b[0;34m\u001b[0m\u001b[0;34m\u001b[0m\u001b[0m\n\u001b[1;32m    650\u001b[0m \u001b[0;34m\u001b[0m\u001b[0m\n\u001b[0;32m--> 651\u001b[0;31m         \u001b[0;32mreturn\u001b[0m \u001b[0maccuracy_score\u001b[0m\u001b[0;34m(\u001b[0m\u001b[0my\u001b[0m\u001b[0;34m,\u001b[0m \u001b[0mself\u001b[0m\u001b[0;34m.\u001b[0m\u001b[0mpredict\u001b[0m\u001b[0;34m(\u001b[0m\u001b[0mX\u001b[0m\u001b[0;34m)\u001b[0m\u001b[0;34m,\u001b[0m \u001b[0msample_weight\u001b[0m\u001b[0;34m=\u001b[0m\u001b[0msample_weight\u001b[0m\u001b[0;34m)\u001b[0m\u001b[0;34m\u001b[0m\u001b[0;34m\u001b[0m\u001b[0m\n\u001b[0m\u001b[1;32m    652\u001b[0m \u001b[0;34m\u001b[0m\u001b[0m\n\u001b[1;32m    653\u001b[0m     \u001b[0;32mdef\u001b[0m \u001b[0m_more_tags\u001b[0m\u001b[0;34m(\u001b[0m\u001b[0mself\u001b[0m\u001b[0;34m)\u001b[0m\u001b[0;34m:\u001b[0m\u001b[0;34m\u001b[0m\u001b[0;34m\u001b[0m\u001b[0m\n",
      "\u001b[0;32m/opt/conda/lib/python3.7/site-packages/sklearn/ensemble/_weight_boosting.py\u001b[0m in \u001b[0;36mpredict\u001b[0;34m(self, X)\u001b[0m\n\u001b[1;32m    677\u001b[0m             \u001b[0mThe\u001b[0m \u001b[0mpredicted\u001b[0m \u001b[0mclasses\u001b[0m\u001b[0;34m.\u001b[0m\u001b[0;34m\u001b[0m\u001b[0;34m\u001b[0m\u001b[0m\n\u001b[1;32m    678\u001b[0m         \"\"\"\n\u001b[0;32m--> 679\u001b[0;31m         \u001b[0mpred\u001b[0m \u001b[0;34m=\u001b[0m \u001b[0mself\u001b[0m\u001b[0;34m.\u001b[0m\u001b[0mdecision_function\u001b[0m\u001b[0;34m(\u001b[0m\u001b[0mX\u001b[0m\u001b[0;34m)\u001b[0m\u001b[0;34m\u001b[0m\u001b[0;34m\u001b[0m\u001b[0m\n\u001b[0m\u001b[1;32m    680\u001b[0m \u001b[0;34m\u001b[0m\u001b[0m\n\u001b[1;32m    681\u001b[0m         \u001b[0;32mif\u001b[0m \u001b[0mself\u001b[0m\u001b[0;34m.\u001b[0m\u001b[0mn_classes_\u001b[0m \u001b[0;34m==\u001b[0m \u001b[0;36m2\u001b[0m\u001b[0;34m:\u001b[0m\u001b[0;34m\u001b[0m\u001b[0;34m\u001b[0m\u001b[0m\n",
      "\u001b[0;32m/opt/conda/lib/python3.7/site-packages/sklearn/ensemble/_weight_boosting.py\u001b[0m in \u001b[0;36mdecision_function\u001b[0;34m(self, X)\u001b[0m\n\u001b[1;32m    738\u001b[0m         \"\"\"\n\u001b[1;32m    739\u001b[0m         \u001b[0mcheck_is_fitted\u001b[0m\u001b[0;34m(\u001b[0m\u001b[0mself\u001b[0m\u001b[0;34m)\u001b[0m\u001b[0;34m\u001b[0m\u001b[0;34m\u001b[0m\u001b[0m\n\u001b[0;32m--> 740\u001b[0;31m         \u001b[0mX\u001b[0m \u001b[0;34m=\u001b[0m \u001b[0mself\u001b[0m\u001b[0;34m.\u001b[0m\u001b[0m_check_X\u001b[0m\u001b[0;34m(\u001b[0m\u001b[0mX\u001b[0m\u001b[0;34m)\u001b[0m\u001b[0;34m\u001b[0m\u001b[0;34m\u001b[0m\u001b[0m\n\u001b[0m\u001b[1;32m    741\u001b[0m \u001b[0;34m\u001b[0m\u001b[0m\n\u001b[1;32m    742\u001b[0m         \u001b[0mn_classes\u001b[0m \u001b[0;34m=\u001b[0m \u001b[0mself\u001b[0m\u001b[0;34m.\u001b[0m\u001b[0mn_classes_\u001b[0m\u001b[0;34m\u001b[0m\u001b[0;34m\u001b[0m\u001b[0m\n",
      "\u001b[0;32m/opt/conda/lib/python3.7/site-packages/sklearn/ensemble/_weight_boosting.py\u001b[0m in \u001b[0;36m_check_X\u001b[0;34m(self, X)\u001b[0m\n\u001b[1;32m     86\u001b[0m             \u001b[0mallow_nd\u001b[0m\u001b[0;34m=\u001b[0m\u001b[0;32mTrue\u001b[0m\u001b[0;34m,\u001b[0m\u001b[0;34m\u001b[0m\u001b[0;34m\u001b[0m\u001b[0m\n\u001b[1;32m     87\u001b[0m             \u001b[0mdtype\u001b[0m\u001b[0;34m=\u001b[0m\u001b[0;32mNone\u001b[0m\u001b[0;34m,\u001b[0m\u001b[0;34m\u001b[0m\u001b[0;34m\u001b[0m\u001b[0m\n\u001b[0;32m---> 88\u001b[0;31m             \u001b[0mreset\u001b[0m\u001b[0;34m=\u001b[0m\u001b[0;32mFalse\u001b[0m\u001b[0;34m,\u001b[0m\u001b[0;34m\u001b[0m\u001b[0;34m\u001b[0m\u001b[0m\n\u001b[0m\u001b[1;32m     89\u001b[0m         )\n\u001b[1;32m     90\u001b[0m \u001b[0;34m\u001b[0m\u001b[0m\n",
      "\u001b[0;32m/opt/conda/lib/python3.7/site-packages/sklearn/base.py\u001b[0m in \u001b[0;36m_validate_data\u001b[0;34m(self, X, y, reset, validate_separately, **check_params)\u001b[0m\n\u001b[1;32m    583\u001b[0m \u001b[0;34m\u001b[0m\u001b[0m\n\u001b[1;32m    584\u001b[0m         \u001b[0;32mif\u001b[0m \u001b[0;32mnot\u001b[0m \u001b[0mno_val_X\u001b[0m \u001b[0;32mand\u001b[0m \u001b[0mcheck_params\u001b[0m\u001b[0;34m.\u001b[0m\u001b[0mget\u001b[0m\u001b[0;34m(\u001b[0m\u001b[0;34m\"ensure_2d\"\u001b[0m\u001b[0;34m,\u001b[0m \u001b[0;32mTrue\u001b[0m\u001b[0;34m)\u001b[0m\u001b[0;34m:\u001b[0m\u001b[0;34m\u001b[0m\u001b[0;34m\u001b[0m\u001b[0m\n\u001b[0;32m--> 585\u001b[0;31m             \u001b[0mself\u001b[0m\u001b[0;34m.\u001b[0m\u001b[0m_check_n_features\u001b[0m\u001b[0;34m(\u001b[0m\u001b[0mX\u001b[0m\u001b[0;34m,\u001b[0m \u001b[0mreset\u001b[0m\u001b[0;34m=\u001b[0m\u001b[0mreset\u001b[0m\u001b[0;34m)\u001b[0m\u001b[0;34m\u001b[0m\u001b[0;34m\u001b[0m\u001b[0m\n\u001b[0m\u001b[1;32m    586\u001b[0m \u001b[0;34m\u001b[0m\u001b[0m\n\u001b[1;32m    587\u001b[0m         \u001b[0;32mreturn\u001b[0m \u001b[0mout\u001b[0m\u001b[0;34m\u001b[0m\u001b[0;34m\u001b[0m\u001b[0m\n",
      "\u001b[0;32m/opt/conda/lib/python3.7/site-packages/sklearn/base.py\u001b[0m in \u001b[0;36m_check_n_features\u001b[0;34m(self, X, reset)\u001b[0m\n\u001b[1;32m    399\u001b[0m         \u001b[0;32mif\u001b[0m \u001b[0mn_features\u001b[0m \u001b[0;34m!=\u001b[0m \u001b[0mself\u001b[0m\u001b[0;34m.\u001b[0m\u001b[0mn_features_in_\u001b[0m\u001b[0;34m:\u001b[0m\u001b[0;34m\u001b[0m\u001b[0;34m\u001b[0m\u001b[0m\n\u001b[1;32m    400\u001b[0m             raise ValueError(\n\u001b[0;32m--> 401\u001b[0;31m                 \u001b[0;34mf\"X has {n_features} features, but {self.__class__.__name__} \"\u001b[0m\u001b[0;34m\u001b[0m\u001b[0;34m\u001b[0m\u001b[0m\n\u001b[0m\u001b[1;32m    402\u001b[0m                 \u001b[0;34mf\"is expecting {self.n_features_in_} features as input.\"\u001b[0m\u001b[0;34m\u001b[0m\u001b[0;34m\u001b[0m\u001b[0m\n\u001b[1;32m    403\u001b[0m             )\n",
      "\u001b[0;31mValueError\u001b[0m: X has 8 features, but AdaBoostClassifier is expecting 4 features as input."
     ]
    }
   ],
   "source": [
    "print('train score',model1.score(xtrain,ytrain))\n",
    "print('test score',model1.score(xtest,ytest))"
   ]
  },
  {
   "cell_type": "code",
   "execution_count": null,
   "id": "1792cf2d",
   "metadata": {
    "papermill": {
     "duration": null,
     "end_time": null,
     "exception": null,
     "start_time": null,
     "status": "pending"
    },
    "tags": []
   },
   "outputs": [],
   "source": []
  },
  {
   "cell_type": "markdown",
   "id": "77f46971",
   "metadata": {
    "papermill": {
     "duration": null,
     "end_time": null,
     "exception": null,
     "start_time": null,
     "status": "pending"
    },
    "tags": []
   },
   "source": [
    "# Feature Selection 2"
   ]
  },
  {
   "cell_type": "code",
   "execution_count": null,
   "id": "19e7a9ec",
   "metadata": {
    "execution": {
     "iopub.execute_input": "2022-04-20T20:25:31.928252Z",
     "iopub.status.busy": "2022-04-20T20:25:31.927260Z",
     "iopub.status.idle": "2022-04-20T20:25:31.932380Z",
     "shell.execute_reply": "2022-04-20T20:25:31.931447Z",
     "shell.execute_reply.started": "2022-04-20T20:25:31.928222Z"
    },
    "papermill": {
     "duration": null,
     "end_time": null,
     "exception": null,
     "start_time": null,
     "status": "pending"
    },
    "tags": []
   },
   "outputs": [],
   "source": [
    "from sklearn.feature_selection import SelectPercentile\n",
    "from sklearn.feature_selection import mutual_info_classif"
   ]
  },
  {
   "cell_type": "code",
   "execution_count": null,
   "id": "3b28a435",
   "metadata": {
    "execution": {
     "iopub.execute_input": "2022-04-20T20:27:47.002922Z",
     "iopub.status.busy": "2022-04-20T20:27:47.002663Z",
     "iopub.status.idle": "2022-04-20T20:27:47.039793Z",
     "shell.execute_reply": "2022-04-20T20:27:47.038509Z",
     "shell.execute_reply.started": "2022-04-20T20:27:47.002894Z"
    },
    "papermill": {
     "duration": null,
     "end_time": null,
     "exception": null,
     "start_time": null,
     "status": "pending"
    },
    "tags": []
   },
   "outputs": [],
   "source": [
    "sp = SelectPercentile(mutual_info_classif,percentile = 2)\n",
    "slectfeature2 = sp.fit(xtrain,ytrain)"
   ]
  },
  {
   "cell_type": "code",
   "execution_count": null,
   "id": "cf03ecca",
   "metadata": {
    "execution": {
     "iopub.execute_input": "2022-04-20T20:27:48.298519Z",
     "iopub.status.busy": "2022-04-20T20:27:48.298188Z",
     "iopub.status.idle": "2022-04-20T20:27:48.305137Z",
     "shell.execute_reply": "2022-04-20T20:27:48.304004Z",
     "shell.execute_reply.started": "2022-04-20T20:27:48.298494Z"
    },
    "papermill": {
     "duration": null,
     "end_time": null,
     "exception": null,
     "start_time": null,
     "status": "pending"
    },
    "tags": []
   },
   "outputs": [],
   "source": [
    "xtrain.columns[slectfeature2.get_support()]"
   ]
  },
  {
   "cell_type": "code",
   "execution_count": null,
   "id": "398720aa",
   "metadata": {
    "papermill": {
     "duration": null,
     "end_time": null,
     "exception": null,
     "start_time": null,
     "status": "pending"
    },
    "tags": []
   },
   "outputs": [],
   "source": []
  },
  {
   "cell_type": "markdown",
   "id": "473b6516",
   "metadata": {
    "papermill": {
     "duration": null,
     "end_time": null,
     "exception": null,
     "start_time": null,
     "status": "pending"
    },
    "tags": []
   },
   "source": [
    "# Train model"
   ]
  },
  {
   "cell_type": "code",
   "execution_count": null,
   "id": "3c117272",
   "metadata": {
    "execution": {
     "iopub.execute_input": "2022-04-20T20:29:04.415079Z",
     "iopub.status.busy": "2022-04-20T20:29:04.414759Z",
     "iopub.status.idle": "2022-04-20T20:29:04.429652Z",
     "shell.execute_reply": "2022-04-20T20:29:04.428694Z",
     "shell.execute_reply.started": "2022-04-20T20:29:04.415056Z"
    },
    "papermill": {
     "duration": null,
     "end_time": null,
     "exception": null,
     "start_time": null,
     "status": "pending"
    },
    "tags": []
   },
   "outputs": [],
   "source": [
    "xtrain.head(2)"
   ]
  },
  {
   "cell_type": "code",
   "execution_count": null,
   "id": "2133e1dd",
   "metadata": {
    "execution": {
     "iopub.execute_input": "2022-04-20T20:29:52.391902Z",
     "iopub.status.busy": "2022-04-20T20:29:52.391657Z",
     "iopub.status.idle": "2022-04-20T20:29:52.509390Z",
     "shell.execute_reply": "2022-04-20T20:29:52.508580Z",
     "shell.execute_reply.started": "2022-04-20T20:29:52.391874Z"
    },
    "papermill": {
     "duration": null,
     "end_time": null,
     "exception": null,
     "start_time": null,
     "status": "pending"
    },
    "tags": []
   },
   "outputs": [],
   "source": [
    "model2 = AdaBoostClassifier()\n",
    "model2.fit(xtrain,ytrain)"
   ]
  },
  {
   "cell_type": "code",
   "execution_count": null,
   "id": "f663d8b7",
   "metadata": {
    "execution": {
     "iopub.execute_input": "2022-04-20T20:30:13.115794Z",
     "iopub.status.busy": "2022-04-20T20:30:13.115532Z",
     "iopub.status.idle": "2022-04-20T20:30:13.142618Z",
     "shell.execute_reply": "2022-04-20T20:30:13.142098Z",
     "shell.execute_reply.started": "2022-04-20T20:30:13.115767Z"
    },
    "papermill": {
     "duration": null,
     "end_time": null,
     "exception": null,
     "start_time": null,
     "status": "pending"
    },
    "tags": []
   },
   "outputs": [],
   "source": [
    "print('train score',model2.score(xtrain,ytrain))\n",
    "print('test score',model2.score(xtest,ytest))"
   ]
  },
  {
   "cell_type": "markdown",
   "id": "c0757f2e",
   "metadata": {
    "papermill": {
     "duration": null,
     "end_time": null,
     "exception": null,
     "start_time": null,
     "status": "pending"
    },
    "tags": []
   },
   "source": [
    "# feature importance again train model"
   ]
  },
  {
   "cell_type": "code",
   "execution_count": null,
   "id": "4efc8bdd",
   "metadata": {
    "execution": {
     "iopub.execute_input": "2022-04-20T20:31:41.316202Z",
     "iopub.status.busy": "2022-04-20T20:31:41.315635Z",
     "iopub.status.idle": "2022-04-20T20:31:41.324174Z",
     "shell.execute_reply": "2022-04-20T20:31:41.322924Z",
     "shell.execute_reply.started": "2022-04-20T20:31:41.316166Z"
    },
    "papermill": {
     "duration": null,
     "end_time": null,
     "exception": null,
     "start_time": null,
     "status": "pending"
    },
    "tags": []
   },
   "outputs": [],
   "source": [
    "imp = model2.feature_importances_\n",
    "imp = pd.DataFrame(imp)"
   ]
  },
  {
   "cell_type": "code",
   "execution_count": null,
   "id": "abf0e22b",
   "metadata": {
    "execution": {
     "iopub.execute_input": "2022-04-20T20:32:26.086311Z",
     "iopub.status.busy": "2022-04-20T20:32:26.085852Z",
     "iopub.status.idle": "2022-04-20T20:32:26.090051Z",
     "shell.execute_reply": "2022-04-20T20:32:26.089205Z",
     "shell.execute_reply.started": "2022-04-20T20:32:26.086279Z"
    },
    "papermill": {
     "duration": null,
     "end_time": null,
     "exception": null,
     "start_time": null,
     "status": "pending"
    },
    "tags": []
   },
   "outputs": [],
   "source": [
    "feature = xtrain.columns\n",
    "feature = pd.DataFrame(feature)"
   ]
  },
  {
   "cell_type": "code",
   "execution_count": null,
   "id": "b24bfaad",
   "metadata": {
    "execution": {
     "iopub.execute_input": "2022-04-20T20:33:59.318610Z",
     "iopub.status.busy": "2022-04-20T20:33:59.317610Z",
     "iopub.status.idle": "2022-04-20T20:33:59.323241Z",
     "shell.execute_reply": "2022-04-20T20:33:59.322683Z",
     "shell.execute_reply.started": "2022-04-20T20:33:59.318556Z"
    },
    "papermill": {
     "duration": null,
     "end_time": null,
     "exception": null,
     "start_time": null,
     "status": "pending"
    },
    "tags": []
   },
   "outputs": [],
   "source": [
    "importfeature = pd.concat([imp,feature],axis=1)\n",
    "importfeature.columns=['importace','feature']"
   ]
  },
  {
   "cell_type": "code",
   "execution_count": null,
   "id": "c135c110",
   "metadata": {
    "execution": {
     "iopub.execute_input": "2022-04-20T20:34:06.442380Z",
     "iopub.status.busy": "2022-04-20T20:34:06.441336Z",
     "iopub.status.idle": "2022-04-20T20:34:06.456014Z",
     "shell.execute_reply": "2022-04-20T20:34:06.455207Z",
     "shell.execute_reply.started": "2022-04-20T20:34:06.442319Z"
    },
    "papermill": {
     "duration": null,
     "end_time": null,
     "exception": null,
     "start_time": null,
     "status": "pending"
    },
    "tags": []
   },
   "outputs": [],
   "source": [
    "importfeature"
   ]
  },
  {
   "cell_type": "code",
   "execution_count": null,
   "id": "39234662",
   "metadata": {
    "execution": {
     "iopub.execute_input": "2022-04-20T20:35:27.297125Z",
     "iopub.status.busy": "2022-04-20T20:35:27.296899Z",
     "iopub.status.idle": "2022-04-20T20:35:27.477884Z",
     "shell.execute_reply": "2022-04-20T20:35:27.476549Z",
     "shell.execute_reply.started": "2022-04-20T20:35:27.297102Z"
    },
    "papermill": {
     "duration": null,
     "end_time": null,
     "exception": null,
     "start_time": null,
     "status": "pending"
    },
    "tags": []
   },
   "outputs": [],
   "source": [
    "sns.barplot(x= importfeature['feature'],y = importfeature['importace'])\n",
    "plt.tick_params(rotation =90)"
   ]
  },
  {
   "cell_type": "code",
   "execution_count": null,
   "id": "b98c9f12",
   "metadata": {
    "execution": {
     "iopub.execute_input": "2022-04-20T20:37:33.545059Z",
     "iopub.status.busy": "2022-04-20T20:37:33.544680Z",
     "iopub.status.idle": "2022-04-20T20:37:33.549854Z",
     "shell.execute_reply": "2022-04-20T20:37:33.549121Z",
     "shell.execute_reply.started": "2022-04-20T20:37:33.545031Z"
    },
    "papermill": {
     "duration": null,
     "end_time": null,
     "exception": null,
     "start_time": null,
     "status": "pending"
    },
    "tags": []
   },
   "outputs": [],
   "source": [
    "x2 = df[['body temperature','blood oxygen levels','number of hours of sleep','respiration rate']]"
   ]
  },
  {
   "cell_type": "code",
   "execution_count": null,
   "id": "eefa9b0d",
   "metadata": {
    "execution": {
     "iopub.execute_input": "2022-04-20T20:37:39.944870Z",
     "iopub.status.busy": "2022-04-20T20:37:39.944277Z",
     "iopub.status.idle": "2022-04-20T20:37:39.961920Z",
     "shell.execute_reply": "2022-04-20T20:37:39.960967Z",
     "shell.execute_reply.started": "2022-04-20T20:37:39.944827Z"
    },
    "papermill": {
     "duration": null,
     "end_time": null,
     "exception": null,
     "start_time": null,
     "status": "pending"
    },
    "tags": []
   },
   "outputs": [],
   "source": [
    "x2.head(2)"
   ]
  },
  {
   "cell_type": "code",
   "execution_count": null,
   "id": "4a27ef8b",
   "metadata": {
    "execution": {
     "iopub.execute_input": "2022-04-20T20:38:25.951326Z",
     "iopub.status.busy": "2022-04-20T20:38:25.951096Z",
     "iopub.status.idle": "2022-04-20T20:38:25.957739Z",
     "shell.execute_reply": "2022-04-20T20:38:25.956848Z",
     "shell.execute_reply.started": "2022-04-20T20:38:25.951304Z"
    },
    "papermill": {
     "duration": null,
     "end_time": null,
     "exception": null,
     "start_time": null,
     "status": "pending"
    },
    "tags": []
   },
   "outputs": [],
   "source": [
    "x2train,x2test,y2train,y2test = train_test_split(x2,y,test_size = 0.20)"
   ]
  },
  {
   "cell_type": "code",
   "execution_count": null,
   "id": "25abcff5",
   "metadata": {
    "execution": {
     "iopub.execute_input": "2022-04-20T20:38:34.262775Z",
     "iopub.status.busy": "2022-04-20T20:38:34.262518Z",
     "iopub.status.idle": "2022-04-20T20:38:34.275093Z",
     "shell.execute_reply": "2022-04-20T20:38:34.274377Z",
     "shell.execute_reply.started": "2022-04-20T20:38:34.262747Z"
    },
    "papermill": {
     "duration": null,
     "end_time": null,
     "exception": null,
     "start_time": null,
     "status": "pending"
    },
    "tags": []
   },
   "outputs": [],
   "source": [
    "x2train.head(2)"
   ]
  },
  {
   "cell_type": "code",
   "execution_count": null,
   "id": "5e76c8f6",
   "metadata": {
    "execution": {
     "iopub.execute_input": "2022-04-20T20:42:01.082634Z",
     "iopub.status.busy": "2022-04-20T20:42:01.082335Z",
     "iopub.status.idle": "2022-04-20T20:42:01.162625Z",
     "shell.execute_reply": "2022-04-20T20:42:01.161829Z",
     "shell.execute_reply.started": "2022-04-20T20:42:01.082606Z"
    },
    "papermill": {
     "duration": null,
     "end_time": null,
     "exception": null,
     "start_time": null,
     "status": "pending"
    },
    "tags": []
   },
   "outputs": [],
   "source": [
    "model3 = AdaBoostClassifier()\n",
    "model3.fit(x2train,y2train)"
   ]
  },
  {
   "cell_type": "code",
   "execution_count": null,
   "id": "020747b8",
   "metadata": {
    "execution": {
     "iopub.execute_input": "2022-04-20T20:42:03.050087Z",
     "iopub.status.busy": "2022-04-20T20:42:03.049842Z",
     "iopub.status.idle": "2022-04-20T20:42:03.085363Z",
     "shell.execute_reply": "2022-04-20T20:42:03.084313Z",
     "shell.execute_reply.started": "2022-04-20T20:42:03.050063Z"
    },
    "papermill": {
     "duration": null,
     "end_time": null,
     "exception": null,
     "start_time": null,
     "status": "pending"
    },
    "tags": []
   },
   "outputs": [],
   "source": [
    "print('train score',model3.score(x2train,y2train))\n",
    "print('test score',model3.score(x2test,y2test))"
   ]
  },
  {
   "cell_type": "code",
   "execution_count": null,
   "id": "9a888052",
   "metadata": {
    "papermill": {
     "duration": null,
     "end_time": null,
     "exception": null,
     "start_time": null,
     "status": "pending"
    },
    "tags": []
   },
   "outputs": [],
   "source": []
  }
 ],
 "metadata": {
  "kernelspec": {
   "display_name": "Python 3",
   "language": "python",
   "name": "python3"
  },
  "language_info": {
   "codemirror_mode": {
    "name": "ipython",
    "version": 3
   },
   "file_extension": ".py",
   "mimetype": "text/x-python",
   "name": "python",
   "nbconvert_exporter": "python",
   "pygments_lexer": "ipython3",
   "version": "3.7.12"
  },
  "papermill": {
   "default_parameters": {},
   "duration": 13.135734,
   "end_time": "2022-04-20T20:44:27.999186",
   "environment_variables": {},
   "exception": true,
   "input_path": "__notebook__.ipynb",
   "output_path": "__notebook__.ipynb",
   "parameters": {},
   "start_time": "2022-04-20T20:44:14.863452",
   "version": "2.3.4"
  }
 },
 "nbformat": 4,
 "nbformat_minor": 5
}
