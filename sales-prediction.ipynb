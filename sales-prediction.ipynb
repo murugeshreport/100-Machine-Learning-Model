{
 "cells": [
  {
   "cell_type": "code",
   "execution_count": 1,
   "id": "21fb085f",
   "metadata": {
    "execution": {
     "iopub.execute_input": "2022-03-30T16:54:47.415356Z",
     "iopub.status.busy": "2022-03-30T16:54:47.414142Z",
     "iopub.status.idle": "2022-03-30T16:54:48.519863Z",
     "shell.execute_reply": "2022-03-30T16:54:48.518923Z",
     "shell.execute_reply.started": "2022-03-30T16:28:34.117899Z"
    },
    "papermill": {
     "duration": 1.156303,
     "end_time": "2022-03-30T16:54:48.520055",
     "exception": false,
     "start_time": "2022-03-30T16:54:47.363752",
     "status": "completed"
    },
    "tags": []
   },
   "outputs": [],
   "source": [
    "import pandas as pd\n",
    "import numpy as np\n",
    "import matplotlib.pyplot as plt\n",
    "import seaborn as sns"
   ]
  },
  {
   "cell_type": "code",
   "execution_count": 2,
   "id": "091bac99",
   "metadata": {
    "execution": {
     "iopub.execute_input": "2022-03-30T16:54:48.616540Z",
     "iopub.status.busy": "2022-03-30T16:54:48.615868Z",
     "iopub.status.idle": "2022-03-30T16:54:48.664540Z",
     "shell.execute_reply": "2022-03-30T16:54:48.663802Z",
     "shell.execute_reply.started": "2022-03-30T16:28:34.447132Z"
    },
    "papermill": {
     "duration": 0.096616,
     "end_time": "2022-03-30T16:54:48.664695",
     "exception": false,
     "start_time": "2022-03-30T16:54:48.568079",
     "status": "completed"
    },
    "tags": []
   },
   "outputs": [],
   "source": [
    "data = pd.read_csv('../input/sample-sales-data/sales_data_sample.csv',encoding = 'Latin-1')"
   ]
  },
  {
   "cell_type": "code",
   "execution_count": 3,
   "id": "d56265bd",
   "metadata": {
    "execution": {
     "iopub.execute_input": "2022-03-30T16:54:48.766863Z",
     "iopub.status.busy": "2022-03-30T16:54:48.766058Z",
     "iopub.status.idle": "2022-03-30T16:54:48.804961Z",
     "shell.execute_reply": "2022-03-30T16:54:48.805489Z",
     "shell.execute_reply.started": "2022-03-30T16:28:34.626693Z"
    },
    "papermill": {
     "duration": 0.094896,
     "end_time": "2022-03-30T16:54:48.805668",
     "exception": false,
     "start_time": "2022-03-30T16:54:48.710772",
     "status": "completed"
    },
    "tags": []
   },
   "outputs": [
    {
     "data": {
      "text/html": [
       "<div>\n",
       "<style scoped>\n",
       "    .dataframe tbody tr th:only-of-type {\n",
       "        vertical-align: middle;\n",
       "    }\n",
       "\n",
       "    .dataframe tbody tr th {\n",
       "        vertical-align: top;\n",
       "    }\n",
       "\n",
       "    .dataframe thead th {\n",
       "        text-align: right;\n",
       "    }\n",
       "</style>\n",
       "<table border=\"1\" class=\"dataframe\">\n",
       "  <thead>\n",
       "    <tr style=\"text-align: right;\">\n",
       "      <th></th>\n",
       "      <th>ORDERNUMBER</th>\n",
       "      <th>QUANTITYORDERED</th>\n",
       "      <th>PRICEEACH</th>\n",
       "      <th>ORDERLINENUMBER</th>\n",
       "      <th>SALES</th>\n",
       "      <th>ORDERDATE</th>\n",
       "      <th>STATUS</th>\n",
       "      <th>QTR_ID</th>\n",
       "      <th>MONTH_ID</th>\n",
       "      <th>YEAR_ID</th>\n",
       "      <th>...</th>\n",
       "      <th>ADDRESSLINE1</th>\n",
       "      <th>ADDRESSLINE2</th>\n",
       "      <th>CITY</th>\n",
       "      <th>STATE</th>\n",
       "      <th>POSTALCODE</th>\n",
       "      <th>COUNTRY</th>\n",
       "      <th>TERRITORY</th>\n",
       "      <th>CONTACTLASTNAME</th>\n",
       "      <th>CONTACTFIRSTNAME</th>\n",
       "      <th>DEALSIZE</th>\n",
       "    </tr>\n",
       "  </thead>\n",
       "  <tbody>\n",
       "    <tr>\n",
       "      <th>0</th>\n",
       "      <td>10107</td>\n",
       "      <td>30</td>\n",
       "      <td>95.70</td>\n",
       "      <td>2</td>\n",
       "      <td>2871.00</td>\n",
       "      <td>2/24/2003 0:00</td>\n",
       "      <td>Shipped</td>\n",
       "      <td>1</td>\n",
       "      <td>2</td>\n",
       "      <td>2003</td>\n",
       "      <td>...</td>\n",
       "      <td>897 Long Airport Avenue</td>\n",
       "      <td>NaN</td>\n",
       "      <td>NYC</td>\n",
       "      <td>NY</td>\n",
       "      <td>10022</td>\n",
       "      <td>USA</td>\n",
       "      <td>NaN</td>\n",
       "      <td>Yu</td>\n",
       "      <td>Kwai</td>\n",
       "      <td>Small</td>\n",
       "    </tr>\n",
       "    <tr>\n",
       "      <th>1</th>\n",
       "      <td>10121</td>\n",
       "      <td>34</td>\n",
       "      <td>81.35</td>\n",
       "      <td>5</td>\n",
       "      <td>2765.90</td>\n",
       "      <td>5/7/2003 0:00</td>\n",
       "      <td>Shipped</td>\n",
       "      <td>2</td>\n",
       "      <td>5</td>\n",
       "      <td>2003</td>\n",
       "      <td>...</td>\n",
       "      <td>59 rue de l'Abbaye</td>\n",
       "      <td>NaN</td>\n",
       "      <td>Reims</td>\n",
       "      <td>NaN</td>\n",
       "      <td>51100</td>\n",
       "      <td>France</td>\n",
       "      <td>EMEA</td>\n",
       "      <td>Henriot</td>\n",
       "      <td>Paul</td>\n",
       "      <td>Small</td>\n",
       "    </tr>\n",
       "    <tr>\n",
       "      <th>2</th>\n",
       "      <td>10134</td>\n",
       "      <td>41</td>\n",
       "      <td>94.74</td>\n",
       "      <td>2</td>\n",
       "      <td>3884.34</td>\n",
       "      <td>7/1/2003 0:00</td>\n",
       "      <td>Shipped</td>\n",
       "      <td>3</td>\n",
       "      <td>7</td>\n",
       "      <td>2003</td>\n",
       "      <td>...</td>\n",
       "      <td>27 rue du Colonel Pierre Avia</td>\n",
       "      <td>NaN</td>\n",
       "      <td>Paris</td>\n",
       "      <td>NaN</td>\n",
       "      <td>75508</td>\n",
       "      <td>France</td>\n",
       "      <td>EMEA</td>\n",
       "      <td>Da Cunha</td>\n",
       "      <td>Daniel</td>\n",
       "      <td>Medium</td>\n",
       "    </tr>\n",
       "    <tr>\n",
       "      <th>3</th>\n",
       "      <td>10145</td>\n",
       "      <td>45</td>\n",
       "      <td>83.26</td>\n",
       "      <td>6</td>\n",
       "      <td>3746.70</td>\n",
       "      <td>8/25/2003 0:00</td>\n",
       "      <td>Shipped</td>\n",
       "      <td>3</td>\n",
       "      <td>8</td>\n",
       "      <td>2003</td>\n",
       "      <td>...</td>\n",
       "      <td>78934 Hillside Dr.</td>\n",
       "      <td>NaN</td>\n",
       "      <td>Pasadena</td>\n",
       "      <td>CA</td>\n",
       "      <td>90003</td>\n",
       "      <td>USA</td>\n",
       "      <td>NaN</td>\n",
       "      <td>Young</td>\n",
       "      <td>Julie</td>\n",
       "      <td>Medium</td>\n",
       "    </tr>\n",
       "    <tr>\n",
       "      <th>4</th>\n",
       "      <td>10159</td>\n",
       "      <td>49</td>\n",
       "      <td>100.00</td>\n",
       "      <td>14</td>\n",
       "      <td>5205.27</td>\n",
       "      <td>10/10/2003 0:00</td>\n",
       "      <td>Shipped</td>\n",
       "      <td>4</td>\n",
       "      <td>10</td>\n",
       "      <td>2003</td>\n",
       "      <td>...</td>\n",
       "      <td>7734 Strong St.</td>\n",
       "      <td>NaN</td>\n",
       "      <td>San Francisco</td>\n",
       "      <td>CA</td>\n",
       "      <td>NaN</td>\n",
       "      <td>USA</td>\n",
       "      <td>NaN</td>\n",
       "      <td>Brown</td>\n",
       "      <td>Julie</td>\n",
       "      <td>Medium</td>\n",
       "    </tr>\n",
       "    <tr>\n",
       "      <th>...</th>\n",
       "      <td>...</td>\n",
       "      <td>...</td>\n",
       "      <td>...</td>\n",
       "      <td>...</td>\n",
       "      <td>...</td>\n",
       "      <td>...</td>\n",
       "      <td>...</td>\n",
       "      <td>...</td>\n",
       "      <td>...</td>\n",
       "      <td>...</td>\n",
       "      <td>...</td>\n",
       "      <td>...</td>\n",
       "      <td>...</td>\n",
       "      <td>...</td>\n",
       "      <td>...</td>\n",
       "      <td>...</td>\n",
       "      <td>...</td>\n",
       "      <td>...</td>\n",
       "      <td>...</td>\n",
       "      <td>...</td>\n",
       "      <td>...</td>\n",
       "    </tr>\n",
       "    <tr>\n",
       "      <th>2818</th>\n",
       "      <td>10350</td>\n",
       "      <td>20</td>\n",
       "      <td>100.00</td>\n",
       "      <td>15</td>\n",
       "      <td>2244.40</td>\n",
       "      <td>12/2/2004 0:00</td>\n",
       "      <td>Shipped</td>\n",
       "      <td>4</td>\n",
       "      <td>12</td>\n",
       "      <td>2004</td>\n",
       "      <td>...</td>\n",
       "      <td>C/ Moralzarzal, 86</td>\n",
       "      <td>NaN</td>\n",
       "      <td>Madrid</td>\n",
       "      <td>NaN</td>\n",
       "      <td>28034</td>\n",
       "      <td>Spain</td>\n",
       "      <td>EMEA</td>\n",
       "      <td>Freyre</td>\n",
       "      <td>Diego</td>\n",
       "      <td>Small</td>\n",
       "    </tr>\n",
       "    <tr>\n",
       "      <th>2819</th>\n",
       "      <td>10373</td>\n",
       "      <td>29</td>\n",
       "      <td>100.00</td>\n",
       "      <td>1</td>\n",
       "      <td>3978.51</td>\n",
       "      <td>1/31/2005 0:00</td>\n",
       "      <td>Shipped</td>\n",
       "      <td>1</td>\n",
       "      <td>1</td>\n",
       "      <td>2005</td>\n",
       "      <td>...</td>\n",
       "      <td>Torikatu 38</td>\n",
       "      <td>NaN</td>\n",
       "      <td>Oulu</td>\n",
       "      <td>NaN</td>\n",
       "      <td>90110</td>\n",
       "      <td>Finland</td>\n",
       "      <td>EMEA</td>\n",
       "      <td>Koskitalo</td>\n",
       "      <td>Pirkko</td>\n",
       "      <td>Medium</td>\n",
       "    </tr>\n",
       "    <tr>\n",
       "      <th>2820</th>\n",
       "      <td>10386</td>\n",
       "      <td>43</td>\n",
       "      <td>100.00</td>\n",
       "      <td>4</td>\n",
       "      <td>5417.57</td>\n",
       "      <td>3/1/2005 0:00</td>\n",
       "      <td>Resolved</td>\n",
       "      <td>1</td>\n",
       "      <td>3</td>\n",
       "      <td>2005</td>\n",
       "      <td>...</td>\n",
       "      <td>C/ Moralzarzal, 86</td>\n",
       "      <td>NaN</td>\n",
       "      <td>Madrid</td>\n",
       "      <td>NaN</td>\n",
       "      <td>28034</td>\n",
       "      <td>Spain</td>\n",
       "      <td>EMEA</td>\n",
       "      <td>Freyre</td>\n",
       "      <td>Diego</td>\n",
       "      <td>Medium</td>\n",
       "    </tr>\n",
       "    <tr>\n",
       "      <th>2821</th>\n",
       "      <td>10397</td>\n",
       "      <td>34</td>\n",
       "      <td>62.24</td>\n",
       "      <td>1</td>\n",
       "      <td>2116.16</td>\n",
       "      <td>3/28/2005 0:00</td>\n",
       "      <td>Shipped</td>\n",
       "      <td>1</td>\n",
       "      <td>3</td>\n",
       "      <td>2005</td>\n",
       "      <td>...</td>\n",
       "      <td>1 rue Alsace-Lorraine</td>\n",
       "      <td>NaN</td>\n",
       "      <td>Toulouse</td>\n",
       "      <td>NaN</td>\n",
       "      <td>31000</td>\n",
       "      <td>France</td>\n",
       "      <td>EMEA</td>\n",
       "      <td>Roulet</td>\n",
       "      <td>Annette</td>\n",
       "      <td>Small</td>\n",
       "    </tr>\n",
       "    <tr>\n",
       "      <th>2822</th>\n",
       "      <td>10414</td>\n",
       "      <td>47</td>\n",
       "      <td>65.52</td>\n",
       "      <td>9</td>\n",
       "      <td>3079.44</td>\n",
       "      <td>5/6/2005 0:00</td>\n",
       "      <td>On Hold</td>\n",
       "      <td>2</td>\n",
       "      <td>5</td>\n",
       "      <td>2005</td>\n",
       "      <td>...</td>\n",
       "      <td>8616 Spinnaker Dr.</td>\n",
       "      <td>NaN</td>\n",
       "      <td>Boston</td>\n",
       "      <td>MA</td>\n",
       "      <td>51003</td>\n",
       "      <td>USA</td>\n",
       "      <td>NaN</td>\n",
       "      <td>Yoshido</td>\n",
       "      <td>Juri</td>\n",
       "      <td>Medium</td>\n",
       "    </tr>\n",
       "  </tbody>\n",
       "</table>\n",
       "<p>2823 rows × 25 columns</p>\n",
       "</div>"
      ],
      "text/plain": [
       "      ORDERNUMBER  QUANTITYORDERED  PRICEEACH  ORDERLINENUMBER    SALES  \\\n",
       "0           10107               30      95.70                2  2871.00   \n",
       "1           10121               34      81.35                5  2765.90   \n",
       "2           10134               41      94.74                2  3884.34   \n",
       "3           10145               45      83.26                6  3746.70   \n",
       "4           10159               49     100.00               14  5205.27   \n",
       "...           ...              ...        ...              ...      ...   \n",
       "2818        10350               20     100.00               15  2244.40   \n",
       "2819        10373               29     100.00                1  3978.51   \n",
       "2820        10386               43     100.00                4  5417.57   \n",
       "2821        10397               34      62.24                1  2116.16   \n",
       "2822        10414               47      65.52                9  3079.44   \n",
       "\n",
       "            ORDERDATE    STATUS  QTR_ID  MONTH_ID  YEAR_ID  ...  \\\n",
       "0      2/24/2003 0:00   Shipped       1         2     2003  ...   \n",
       "1       5/7/2003 0:00   Shipped       2         5     2003  ...   \n",
       "2       7/1/2003 0:00   Shipped       3         7     2003  ...   \n",
       "3      8/25/2003 0:00   Shipped       3         8     2003  ...   \n",
       "4     10/10/2003 0:00   Shipped       4        10     2003  ...   \n",
       "...               ...       ...     ...       ...      ...  ...   \n",
       "2818   12/2/2004 0:00   Shipped       4        12     2004  ...   \n",
       "2819   1/31/2005 0:00   Shipped       1         1     2005  ...   \n",
       "2820    3/1/2005 0:00  Resolved       1         3     2005  ...   \n",
       "2821   3/28/2005 0:00   Shipped       1         3     2005  ...   \n",
       "2822    5/6/2005 0:00   On Hold       2         5     2005  ...   \n",
       "\n",
       "                       ADDRESSLINE1  ADDRESSLINE2           CITY STATE  \\\n",
       "0           897 Long Airport Avenue           NaN            NYC    NY   \n",
       "1                59 rue de l'Abbaye           NaN          Reims   NaN   \n",
       "2     27 rue du Colonel Pierre Avia           NaN          Paris   NaN   \n",
       "3                78934 Hillside Dr.           NaN       Pasadena    CA   \n",
       "4                   7734 Strong St.           NaN  San Francisco    CA   \n",
       "...                             ...           ...            ...   ...   \n",
       "2818             C/ Moralzarzal, 86           NaN         Madrid   NaN   \n",
       "2819                    Torikatu 38           NaN           Oulu   NaN   \n",
       "2820             C/ Moralzarzal, 86           NaN         Madrid   NaN   \n",
       "2821          1 rue Alsace-Lorraine           NaN       Toulouse   NaN   \n",
       "2822             8616 Spinnaker Dr.           NaN         Boston    MA   \n",
       "\n",
       "     POSTALCODE  COUNTRY TERRITORY CONTACTLASTNAME CONTACTFIRSTNAME DEALSIZE  \n",
       "0         10022      USA       NaN              Yu             Kwai    Small  \n",
       "1         51100   France      EMEA         Henriot             Paul    Small  \n",
       "2         75508   France      EMEA        Da Cunha           Daniel   Medium  \n",
       "3         90003      USA       NaN           Young            Julie   Medium  \n",
       "4           NaN      USA       NaN           Brown            Julie   Medium  \n",
       "...         ...      ...       ...             ...              ...      ...  \n",
       "2818      28034    Spain      EMEA          Freyre            Diego    Small  \n",
       "2819      90110  Finland      EMEA       Koskitalo           Pirkko   Medium  \n",
       "2820      28034    Spain      EMEA          Freyre            Diego   Medium  \n",
       "2821      31000   France      EMEA          Roulet          Annette    Small  \n",
       "2822      51003      USA       NaN         Yoshido             Juri   Medium  \n",
       "\n",
       "[2823 rows x 25 columns]"
      ]
     },
     "execution_count": 3,
     "metadata": {},
     "output_type": "execute_result"
    }
   ],
   "source": [
    "data"
   ]
  },
  {
   "cell_type": "code",
   "execution_count": 4,
   "id": "f9688b41",
   "metadata": {
    "execution": {
     "iopub.execute_input": "2022-03-30T16:54:48.914045Z",
     "iopub.status.busy": "2022-03-30T16:54:48.911454Z",
     "iopub.status.idle": "2022-03-30T16:54:48.917568Z",
     "shell.execute_reply": "2022-03-30T16:54:48.918202Z",
     "shell.execute_reply.started": "2022-03-30T16:28:34.926780Z"
    },
    "papermill": {
     "duration": 0.064616,
     "end_time": "2022-03-30T16:54:48.918636",
     "exception": false,
     "start_time": "2022-03-30T16:54:48.854020",
     "status": "completed"
    },
    "tags": []
   },
   "outputs": [
    {
     "data": {
      "text/plain": [
       "ORDERNUMBER            0\n",
       "QUANTITYORDERED        0\n",
       "PRICEEACH              0\n",
       "ORDERLINENUMBER        0\n",
       "SALES                  0\n",
       "ORDERDATE              0\n",
       "STATUS                 0\n",
       "QTR_ID                 0\n",
       "MONTH_ID               0\n",
       "YEAR_ID                0\n",
       "PRODUCTLINE            0\n",
       "MSRP                   0\n",
       "PRODUCTCODE            0\n",
       "CUSTOMERNAME           0\n",
       "PHONE                  0\n",
       "ADDRESSLINE1           0\n",
       "ADDRESSLINE2        2521\n",
       "CITY                   0\n",
       "STATE               1486\n",
       "POSTALCODE            76\n",
       "COUNTRY                0\n",
       "TERRITORY           1074\n",
       "CONTACTLASTNAME        0\n",
       "CONTACTFIRSTNAME       0\n",
       "DEALSIZE               0\n",
       "dtype: int64"
      ]
     },
     "execution_count": 4,
     "metadata": {},
     "output_type": "execute_result"
    }
   ],
   "source": [
    "data.isnull().sum()"
   ]
  },
  {
   "cell_type": "code",
   "execution_count": 5,
   "id": "09e2cf6d",
   "metadata": {
    "execution": {
     "iopub.execute_input": "2022-03-30T16:54:49.021575Z",
     "iopub.status.busy": "2022-03-30T16:54:49.019746Z",
     "iopub.status.idle": "2022-03-30T16:54:49.024749Z",
     "shell.execute_reply": "2022-03-30T16:54:49.025331Z",
     "shell.execute_reply.started": "2022-03-30T16:28:35.217279Z"
    },
    "papermill": {
     "duration": 0.057912,
     "end_time": "2022-03-30T16:54:49.025519",
     "exception": false,
     "start_time": "2022-03-30T16:54:48.967607",
     "status": "completed"
    },
    "tags": []
   },
   "outputs": [],
   "source": [
    "corr = data.corr()"
   ]
  },
  {
   "cell_type": "code",
   "execution_count": 6,
   "id": "43acd58b",
   "metadata": {
    "execution": {
     "iopub.execute_input": "2022-03-30T16:54:49.127083Z",
     "iopub.status.busy": "2022-03-30T16:54:49.126401Z",
     "iopub.status.idle": "2022-03-30T16:54:49.132410Z",
     "shell.execute_reply": "2022-03-30T16:54:49.132933Z",
     "shell.execute_reply.started": "2022-03-30T16:28:35.590341Z"
    },
    "papermill": {
     "duration": 0.060249,
     "end_time": "2022-03-30T16:54:49.133101",
     "exception": false,
     "start_time": "2022-03-30T16:54:49.072852",
     "status": "completed"
    },
    "tags": []
   },
   "outputs": [
    {
     "data": {
      "text/plain": [
       "SALES              1.000000\n",
       "PRICEEACH          0.657841\n",
       "MSRP               0.635239\n",
       "QUANTITYORDERED    0.551426\n",
       "ORDERNUMBER        0.039919\n",
       "YEAR_ID            0.035647\n",
       "QTR_ID            -0.006796\n",
       "MONTH_ID          -0.009605\n",
       "ORDERLINENUMBER   -0.058400\n",
       "Name: SALES, dtype: float64"
      ]
     },
     "execution_count": 6,
     "metadata": {},
     "output_type": "execute_result"
    }
   ],
   "source": [
    "corr['SALES'].sort_values(ascending = False)"
   ]
  },
  {
   "cell_type": "code",
   "execution_count": 7,
   "id": "cb9b149b",
   "metadata": {
    "execution": {
     "iopub.execute_input": "2022-03-30T16:54:49.230675Z",
     "iopub.status.busy": "2022-03-30T16:54:49.229985Z",
     "iopub.status.idle": "2022-03-30T16:54:49.236542Z",
     "shell.execute_reply": "2022-03-30T16:54:49.237015Z",
     "shell.execute_reply.started": "2022-03-30T16:28:35.947259Z"
    },
    "papermill": {
     "duration": 0.057286,
     "end_time": "2022-03-30T16:54:49.237196",
     "exception": false,
     "start_time": "2022-03-30T16:54:49.179910",
     "status": "completed"
    },
    "tags": []
   },
   "outputs": [],
   "source": [
    "x = data[['PRICEEACH','MSRP','QUANTITYORDERED']]"
   ]
  },
  {
   "cell_type": "code",
   "execution_count": 8,
   "id": "c9655fce",
   "metadata": {
    "execution": {
     "iopub.execute_input": "2022-03-30T16:54:49.333602Z",
     "iopub.status.busy": "2022-03-30T16:54:49.332977Z",
     "iopub.status.idle": "2022-03-30T16:54:49.344202Z",
     "shell.execute_reply": "2022-03-30T16:54:49.344806Z",
     "shell.execute_reply.started": "2022-03-30T16:28:36.337189Z"
    },
    "papermill": {
     "duration": 0.061266,
     "end_time": "2022-03-30T16:54:49.344993",
     "exception": false,
     "start_time": "2022-03-30T16:54:49.283727",
     "status": "completed"
    },
    "tags": []
   },
   "outputs": [
    {
     "data": {
      "text/html": [
       "<div>\n",
       "<style scoped>\n",
       "    .dataframe tbody tr th:only-of-type {\n",
       "        vertical-align: middle;\n",
       "    }\n",
       "\n",
       "    .dataframe tbody tr th {\n",
       "        vertical-align: top;\n",
       "    }\n",
       "\n",
       "    .dataframe thead th {\n",
       "        text-align: right;\n",
       "    }\n",
       "</style>\n",
       "<table border=\"1\" class=\"dataframe\">\n",
       "  <thead>\n",
       "    <tr style=\"text-align: right;\">\n",
       "      <th></th>\n",
       "      <th>PRICEEACH</th>\n",
       "      <th>MSRP</th>\n",
       "      <th>QUANTITYORDERED</th>\n",
       "    </tr>\n",
       "  </thead>\n",
       "  <tbody>\n",
       "    <tr>\n",
       "      <th>0</th>\n",
       "      <td>95.70</td>\n",
       "      <td>95</td>\n",
       "      <td>30</td>\n",
       "    </tr>\n",
       "    <tr>\n",
       "      <th>1</th>\n",
       "      <td>81.35</td>\n",
       "      <td>95</td>\n",
       "      <td>34</td>\n",
       "    </tr>\n",
       "    <tr>\n",
       "      <th>2</th>\n",
       "      <td>94.74</td>\n",
       "      <td>95</td>\n",
       "      <td>41</td>\n",
       "    </tr>\n",
       "    <tr>\n",
       "      <th>3</th>\n",
       "      <td>83.26</td>\n",
       "      <td>95</td>\n",
       "      <td>45</td>\n",
       "    </tr>\n",
       "    <tr>\n",
       "      <th>4</th>\n",
       "      <td>100.00</td>\n",
       "      <td>95</td>\n",
       "      <td>49</td>\n",
       "    </tr>\n",
       "    <tr>\n",
       "      <th>...</th>\n",
       "      <td>...</td>\n",
       "      <td>...</td>\n",
       "      <td>...</td>\n",
       "    </tr>\n",
       "    <tr>\n",
       "      <th>2818</th>\n",
       "      <td>100.00</td>\n",
       "      <td>54</td>\n",
       "      <td>20</td>\n",
       "    </tr>\n",
       "    <tr>\n",
       "      <th>2819</th>\n",
       "      <td>100.00</td>\n",
       "      <td>54</td>\n",
       "      <td>29</td>\n",
       "    </tr>\n",
       "    <tr>\n",
       "      <th>2820</th>\n",
       "      <td>100.00</td>\n",
       "      <td>54</td>\n",
       "      <td>43</td>\n",
       "    </tr>\n",
       "    <tr>\n",
       "      <th>2821</th>\n",
       "      <td>62.24</td>\n",
       "      <td>54</td>\n",
       "      <td>34</td>\n",
       "    </tr>\n",
       "    <tr>\n",
       "      <th>2822</th>\n",
       "      <td>65.52</td>\n",
       "      <td>54</td>\n",
       "      <td>47</td>\n",
       "    </tr>\n",
       "  </tbody>\n",
       "</table>\n",
       "<p>2823 rows × 3 columns</p>\n",
       "</div>"
      ],
      "text/plain": [
       "      PRICEEACH  MSRP  QUANTITYORDERED\n",
       "0         95.70    95               30\n",
       "1         81.35    95               34\n",
       "2         94.74    95               41\n",
       "3         83.26    95               45\n",
       "4        100.00    95               49\n",
       "...         ...   ...              ...\n",
       "2818     100.00    54               20\n",
       "2819     100.00    54               29\n",
       "2820     100.00    54               43\n",
       "2821      62.24    54               34\n",
       "2822      65.52    54               47\n",
       "\n",
       "[2823 rows x 3 columns]"
      ]
     },
     "execution_count": 8,
     "metadata": {},
     "output_type": "execute_result"
    }
   ],
   "source": [
    "x"
   ]
  },
  {
   "cell_type": "code",
   "execution_count": 9,
   "id": "eacb3d17",
   "metadata": {
    "execution": {
     "iopub.execute_input": "2022-03-30T16:54:49.442188Z",
     "iopub.status.busy": "2022-03-30T16:54:49.441584Z",
     "iopub.status.idle": "2022-03-30T16:54:49.444802Z",
     "shell.execute_reply": "2022-03-30T16:54:49.445359Z",
     "shell.execute_reply.started": "2022-03-30T16:28:36.357223Z"
    },
    "papermill": {
     "duration": 0.053574,
     "end_time": "2022-03-30T16:54:49.445526",
     "exception": false,
     "start_time": "2022-03-30T16:54:49.391952",
     "status": "completed"
    },
    "tags": []
   },
   "outputs": [],
   "source": [
    "y = data['SALES']"
   ]
  },
  {
   "cell_type": "code",
   "execution_count": 10,
   "id": "efa6b2a4",
   "metadata": {
    "execution": {
     "iopub.execute_input": "2022-03-30T16:54:49.544126Z",
     "iopub.status.busy": "2022-03-30T16:54:49.543490Z",
     "iopub.status.idle": "2022-03-30T16:54:49.551227Z",
     "shell.execute_reply": "2022-03-30T16:54:49.550723Z",
     "shell.execute_reply.started": "2022-03-30T16:28:36.366563Z"
    },
    "papermill": {
     "duration": 0.058799,
     "end_time": "2022-03-30T16:54:49.551388",
     "exception": false,
     "start_time": "2022-03-30T16:54:49.492589",
     "status": "completed"
    },
    "tags": []
   },
   "outputs": [
    {
     "data": {
      "text/plain": [
       "0       2871.00\n",
       "1       2765.90\n",
       "2       3884.34\n",
       "3       3746.70\n",
       "4       5205.27\n",
       "         ...   \n",
       "2818    2244.40\n",
       "2819    3978.51\n",
       "2820    5417.57\n",
       "2821    2116.16\n",
       "2822    3079.44\n",
       "Name: SALES, Length: 2823, dtype: float64"
      ]
     },
     "execution_count": 10,
     "metadata": {},
     "output_type": "execute_result"
    }
   ],
   "source": [
    "y"
   ]
  },
  {
   "cell_type": "markdown",
   "id": "e8104bb8",
   "metadata": {
    "papermill": {
     "duration": 0.047743,
     "end_time": "2022-03-30T16:54:49.647104",
     "exception": false,
     "start_time": "2022-03-30T16:54:49.599361",
     "status": "completed"
    },
    "tags": []
   },
   "source": [
    "# OUTLIER"
   ]
  },
  {
   "cell_type": "code",
   "execution_count": 11,
   "id": "9bdd510c",
   "metadata": {
    "execution": {
     "iopub.execute_input": "2022-03-30T16:54:49.747922Z",
     "iopub.status.busy": "2022-03-30T16:54:49.747068Z",
     "iopub.status.idle": "2022-03-30T16:54:49.961868Z",
     "shell.execute_reply": "2022-03-30T16:54:49.961321Z",
     "shell.execute_reply.started": "2022-03-30T16:28:36.380822Z"
    },
    "papermill": {
     "duration": 0.267096,
     "end_time": "2022-03-30T16:54:49.962008",
     "exception": false,
     "start_time": "2022-03-30T16:54:49.694912",
     "status": "completed"
    },
    "tags": []
   },
   "outputs": [
    {
     "name": "stderr",
     "output_type": "stream",
     "text": [
      "/opt/conda/lib/python3.7/site-packages/seaborn/_decorators.py:43: FutureWarning: Pass the following variable as a keyword arg: x. From version 0.12, the only valid positional argument will be `data`, and passing other arguments without an explicit keyword will result in an error or misinterpretation.\n",
      "  FutureWarning\n"
     ]
    },
    {
     "data": {
      "text/plain": [
       "<AxesSubplot:xlabel='PRICEEACH'>"
      ]
     },
     "execution_count": 11,
     "metadata": {},
     "output_type": "execute_result"
    },
    {
     "data": {
      "image/png": "[encoded data removed]",
      "text/plain": [
       "<Figure size 432x288 with 1 Axes>"
      ]
     },
     "metadata": {
      "needs_background": "light"
     },
     "output_type": "display_data"
    }
   ],
   "source": [
    "sns.boxplot(x['PRICEEACH'])"
   ]
  },
  {
   "cell_type": "code",
   "execution_count": 12,
   "id": "1a415a1d",
   "metadata": {
    "execution": {
     "iopub.execute_input": "2022-03-30T16:54:50.081634Z",
     "iopub.status.busy": "2022-03-30T16:54:50.068953Z",
     "iopub.status.idle": "2022-03-30T16:54:50.246358Z",
     "shell.execute_reply": "2022-03-30T16:54:50.246923Z",
     "shell.execute_reply.started": "2022-03-30T16:28:36.746487Z"
    },
    "papermill": {
     "duration": 0.232831,
     "end_time": "2022-03-30T16:54:50.247105",
     "exception": false,
     "start_time": "2022-03-30T16:54:50.014274",
     "status": "completed"
    },
    "tags": []
   },
   "outputs": [
    {
     "name": "stderr",
     "output_type": "stream",
     "text": [
      "/opt/conda/lib/python3.7/site-packages/seaborn/_decorators.py:43: FutureWarning: Pass the following variable as a keyword arg: x. From version 0.12, the only valid positional argument will be `data`, and passing other arguments without an explicit keyword will result in an error or misinterpretation.\n",
      "  FutureWarning\n"
     ]
    },
    {
     "data": {
      "text/plain": [
       "<AxesSubplot:xlabel='MSRP'>"
      ]
     },
     "execution_count": 12,
     "metadata": {},
     "output_type": "execute_result"
    },
    {
     "data": {
      "image/png": "[encoded data removed]",
      "text/plain": [
       "<Figure size 432x288 with 1 Axes>"
      ]
     },
     "metadata": {
      "needs_background": "light"
     },
     "output_type": "display_data"
    }
   ],
   "source": [
    "sns.boxplot(x['MSRP'])"
   ]
  },
  {
   "cell_type": "code",
   "execution_count": 13,
   "id": "9b6578e4",
   "metadata": {
    "execution": {
     "iopub.execute_input": "2022-03-30T16:54:50.359826Z",
     "iopub.status.busy": "2022-03-30T16:54:50.359047Z",
     "iopub.status.idle": "2022-03-30T16:54:50.524083Z",
     "shell.execute_reply": "2022-03-30T16:54:50.524609Z",
     "shell.execute_reply.started": "2022-03-30T16:28:37.357063Z"
    },
    "papermill": {
     "duration": 0.223942,
     "end_time": "2022-03-30T16:54:50.524797",
     "exception": false,
     "start_time": "2022-03-30T16:54:50.300855",
     "status": "completed"
    },
    "tags": []
   },
   "outputs": [
    {
     "name": "stderr",
     "output_type": "stream",
     "text": [
      "/opt/conda/lib/python3.7/site-packages/seaborn/_decorators.py:43: FutureWarning: Pass the following variable as a keyword arg: x. From version 0.12, the only valid positional argument will be `data`, and passing other arguments without an explicit keyword will result in an error or misinterpretation.\n",
      "  FutureWarning\n"
     ]
    },
    {
     "data": {
      "text/plain": [
       "<AxesSubplot:xlabel='QUANTITYORDERED'>"
      ]
     },
     "execution_count": 13,
     "metadata": {},
     "output_type": "execute_result"
    },
    {
     "data": {
      "image/png": "[encoded data removed]",
      "text/plain": [
       "<Figure size 432x288 with 1 Axes>"
      ]
     },
     "metadata": {
      "needs_background": "light"
     },
     "output_type": "display_data"
    }
   ],
   "source": [
    "sns.boxplot(x['QUANTITYORDERED'])"
   ]
  },
  {
   "cell_type": "markdown",
   "id": "e9315527",
   "metadata": {
    "papermill": {
     "duration": 0.057983,
     "end_time": "2022-03-30T16:54:50.638625",
     "exception": false,
     "start_time": "2022-03-30T16:54:50.580642",
     "status": "completed"
    },
    "tags": []
   },
   "source": [
    "# IQR"
   ]
  },
  {
   "cell_type": "code",
   "execution_count": 14,
   "id": "1e56f281",
   "metadata": {
    "execution": {
     "iopub.execute_input": "2022-03-30T16:54:50.754966Z",
     "iopub.status.busy": "2022-03-30T16:54:50.754263Z",
     "iopub.status.idle": "2022-03-30T16:54:50.762472Z",
     "shell.execute_reply": "2022-03-30T16:54:50.761906Z",
     "shell.execute_reply.started": "2022-03-30T16:28:37.522821Z"
    },
    "papermill": {
     "duration": 0.064871,
     "end_time": "2022-03-30T16:54:50.762645",
     "exception": false,
     "start_time": "2022-03-30T16:54:50.697774",
     "status": "completed"
    },
    "tags": []
   },
   "outputs": [
    {
     "data": {
      "text/plain": [
       "27.0"
      ]
     },
     "execution_count": 14,
     "metadata": {},
     "output_type": "execute_result"
    }
   ],
   "source": [
    "low=data['QUANTITYORDERED'].quantile(0.25)\n",
    "low"
   ]
  },
  {
   "cell_type": "code",
   "execution_count": 15,
   "id": "cec70faa",
   "metadata": {
    "execution": {
     "iopub.execute_input": "2022-03-30T16:54:50.880676Z",
     "iopub.status.busy": "2022-03-30T16:54:50.879913Z",
     "iopub.status.idle": "2022-03-30T16:54:50.882571Z",
     "shell.execute_reply": "2022-03-30T16:54:50.883047Z",
     "shell.execute_reply.started": "2022-03-30T16:28:37.578382Z"
    },
    "papermill": {
     "duration": 0.065737,
     "end_time": "2022-03-30T16:54:50.883210",
     "exception": false,
     "start_time": "2022-03-30T16:54:50.817473",
     "status": "completed"
    },
    "tags": []
   },
   "outputs": [
    {
     "data": {
      "text/plain": [
       "43.0"
      ]
     },
     "execution_count": 15,
     "metadata": {},
     "output_type": "execute_result"
    }
   ],
   "source": [
    "high =data['QUANTITYORDERED'].quantile(0.75)\n",
    "high"
   ]
  },
  {
   "cell_type": "code",
   "execution_count": 16,
   "id": "585692f9",
   "metadata": {
    "execution": {
     "iopub.execute_input": "2022-03-30T16:54:51.001695Z",
     "iopub.status.busy": "2022-03-30T16:54:51.000774Z",
     "iopub.status.idle": "2022-03-30T16:54:51.004645Z",
     "shell.execute_reply": "2022-03-30T16:54:51.003744Z",
     "shell.execute_reply.started": "2022-03-30T16:28:37.747798Z"
    },
    "papermill": {
     "duration": 0.068219,
     "end_time": "2022-03-30T16:54:51.004847",
     "exception": false,
     "start_time": "2022-03-30T16:54:50.936628",
     "status": "completed"
    },
    "tags": []
   },
   "outputs": [],
   "source": [
    "IQR = high - low"
   ]
  },
  {
   "cell_type": "code",
   "execution_count": 17,
   "id": "bb992473",
   "metadata": {
    "execution": {
     "iopub.execute_input": "2022-03-30T16:54:51.122508Z",
     "iopub.status.busy": "2022-03-30T16:54:51.121601Z",
     "iopub.status.idle": "2022-03-30T16:54:51.124977Z",
     "shell.execute_reply": "2022-03-30T16:54:51.125517Z",
     "shell.execute_reply.started": "2022-03-30T16:28:37.918139Z"
    },
    "papermill": {
     "duration": 0.063859,
     "end_time": "2022-03-30T16:54:51.125690",
     "exception": false,
     "start_time": "2022-03-30T16:54:51.061831",
     "status": "completed"
    },
    "tags": []
   },
   "outputs": [
    {
     "data": {
      "text/plain": [
       "16.0"
      ]
     },
     "execution_count": 17,
     "metadata": {},
     "output_type": "execute_result"
    }
   ],
   "source": [
    "IQR"
   ]
  },
  {
   "cell_type": "code",
   "execution_count": 18,
   "id": "01a380da",
   "metadata": {
    "execution": {
     "iopub.execute_input": "2022-03-30T16:54:51.245732Z",
     "iopub.status.busy": "2022-03-30T16:54:51.245000Z",
     "iopub.status.idle": "2022-03-30T16:54:51.248769Z",
     "shell.execute_reply": "2022-03-30T16:54:51.249367Z",
     "shell.execute_reply.started": "2022-03-30T16:28:38.136330Z"
    },
    "papermill": {
     "duration": 0.066867,
     "end_time": "2022-03-30T16:54:51.249579",
     "exception": false,
     "start_time": "2022-03-30T16:54:51.182712",
     "status": "completed"
    },
    "tags": []
   },
   "outputs": [
    {
     "name": "stderr",
     "output_type": "stream",
     "text": [
      "/opt/conda/lib/python3.7/site-packages/ipykernel_launcher.py:3: SettingWithCopyWarning: \n",
      "A value is trying to be set on a copy of a slice from a DataFrame.\n",
      "Try using .loc[row_indexer,col_indexer] = value instead\n",
      "\n",
      "See the caveats in the documentation: https://pandas.pydata.org/pandas-docs/stable/user_guide/indexing.html#returning-a-view-versus-a-copy\n",
      "  This is separate from the ipykernel package so we can avoid doing imports until\n"
     ]
    }
   ],
   "source": [
    "x['QUANTITYORDERED'] = np.where(x['QUANTITYORDERED'] > high,high,\n",
    "                               np.where(x['QUANTITYORDERED'] <low ,low,\n",
    "                                       x['QUANTITYORDERED']))"
   ]
  },
  {
   "cell_type": "code",
   "execution_count": 19,
   "id": "8d9ac883",
   "metadata": {
    "execution": {
     "iopub.execute_input": "2022-03-30T16:54:51.363630Z",
     "iopub.status.busy": "2022-03-30T16:54:51.362956Z",
     "iopub.status.idle": "2022-03-30T16:54:51.544319Z",
     "shell.execute_reply": "2022-03-30T16:54:51.543768Z",
     "shell.execute_reply.started": "2022-03-30T16:28:38.207093Z"
    },
    "papermill": {
     "duration": 0.238533,
     "end_time": "2022-03-30T16:54:51.544473",
     "exception": false,
     "start_time": "2022-03-30T16:54:51.305940",
     "status": "completed"
    },
    "tags": []
   },
   "outputs": [
    {
     "name": "stderr",
     "output_type": "stream",
     "text": [
      "/opt/conda/lib/python3.7/site-packages/seaborn/_decorators.py:43: FutureWarning: Pass the following variable as a keyword arg: x. From version 0.12, the only valid positional argument will be `data`, and passing other arguments without an explicit keyword will result in an error or misinterpretation.\n",
      "  FutureWarning\n"
     ]
    },
    {
     "data": {
      "text/plain": [
       "<AxesSubplot:xlabel='QUANTITYORDERED'>"
      ]
     },
     "execution_count": 19,
     "metadata": {},
     "output_type": "execute_result"
    },
    {
     "data": {
      "image/png": "[encoded data removed]",
      "text/plain": [
       "<Figure size 432x288 with 1 Axes>"
      ]
     },
     "metadata": {
      "needs_background": "light"
     },
     "output_type": "display_data"
    }
   ],
   "source": [
    "sns.boxplot(x['QUANTITYORDERED'])"
   ]
  },
  {
   "cell_type": "code",
   "execution_count": 20,
   "id": "7f78940b",
   "metadata": {
    "execution": {
     "iopub.execute_input": "2022-03-30T16:54:51.663022Z",
     "iopub.status.busy": "2022-03-30T16:54:51.662370Z",
     "iopub.status.idle": "2022-03-30T16:54:51.845383Z",
     "shell.execute_reply": "2022-03-30T16:54:51.844785Z",
     "shell.execute_reply.started": "2022-03-30T16:28:38.387191Z"
    },
    "papermill": {
     "duration": 0.244915,
     "end_time": "2022-03-30T16:54:51.845521",
     "exception": false,
     "start_time": "2022-03-30T16:54:51.600606",
     "status": "completed"
    },
    "tags": []
   },
   "outputs": [
    {
     "name": "stderr",
     "output_type": "stream",
     "text": [
      "/opt/conda/lib/python3.7/site-packages/seaborn/_decorators.py:43: FutureWarning: Pass the following variable as a keyword arg: x. From version 0.12, the only valid positional argument will be `data`, and passing other arguments without an explicit keyword will result in an error or misinterpretation.\n",
      "  FutureWarning\n"
     ]
    },
    {
     "data": {
      "text/plain": [
       "<AxesSubplot:xlabel='SALES'>"
      ]
     },
     "execution_count": 20,
     "metadata": {},
     "output_type": "execute_result"
    },
    {
     "data": {
      "image/png": "[encoded data removed]",
      "text/plain": [
       "<Figure size 432x288 with 1 Axes>"
      ]
     },
     "metadata": {
      "needs_background": "light"
     },
     "output_type": "display_data"
    }
   ],
   "source": [
    "sns.boxplot(y)"
   ]
  },
  {
   "cell_type": "code",
   "execution_count": 21,
   "id": "b047ca01",
   "metadata": {
    "execution": {
     "iopub.execute_input": "2022-03-30T16:54:51.966061Z",
     "iopub.status.busy": "2022-03-30T16:54:51.965410Z",
     "iopub.status.idle": "2022-03-30T16:54:51.971831Z",
     "shell.execute_reply": "2022-03-30T16:54:51.972407Z",
     "shell.execute_reply.started": "2022-03-30T16:33:28.169742Z"
    },
    "papermill": {
     "duration": 0.068758,
     "end_time": "2022-03-30T16:54:51.972585",
     "exception": false,
     "start_time": "2022-03-30T16:54:51.903827",
     "status": "completed"
    },
    "tags": []
   },
   "outputs": [
    {
     "data": {
      "text/plain": [
       "2203.4300000000003"
      ]
     },
     "execution_count": 21,
     "metadata": {},
     "output_type": "execute_result"
    }
   ],
   "source": [
    "l = data['SALES'].quantile(0.25)\n",
    "l"
   ]
  },
  {
   "cell_type": "code",
   "execution_count": 22,
   "id": "290435fd",
   "metadata": {
    "execution": {
     "iopub.execute_input": "2022-03-30T16:54:52.097444Z",
     "iopub.status.busy": "2022-03-30T16:54:52.096741Z",
     "iopub.status.idle": "2022-03-30T16:54:52.104071Z",
     "shell.execute_reply": "2022-03-30T16:54:52.103380Z",
     "shell.execute_reply.started": "2022-03-30T16:33:33.487609Z"
    },
    "papermill": {
     "duration": 0.069659,
     "end_time": "2022-03-30T16:54:52.104225",
     "exception": false,
     "start_time": "2022-03-30T16:54:52.034566",
     "status": "completed"
    },
    "tags": []
   },
   "outputs": [
    {
     "data": {
      "text/plain": [
       "4508.0"
      ]
     },
     "execution_count": 22,
     "metadata": {},
     "output_type": "execute_result"
    }
   ],
   "source": [
    "h = data['SALES'].quantile(0.75)\n",
    "h"
   ]
  },
  {
   "cell_type": "code",
   "execution_count": 23,
   "id": "83d8ce48",
   "metadata": {
    "execution": {
     "iopub.execute_input": "2022-03-30T16:54:52.229867Z",
     "iopub.status.busy": "2022-03-30T16:54:52.229019Z",
     "iopub.status.idle": "2022-03-30T16:54:52.231621Z",
     "shell.execute_reply": "2022-03-30T16:54:52.232089Z",
     "shell.execute_reply.started": "2022-03-30T16:33:39.525939Z"
    },
    "papermill": {
     "duration": 0.068526,
     "end_time": "2022-03-30T16:54:52.232267",
     "exception": false,
     "start_time": "2022-03-30T16:54:52.163741",
     "status": "completed"
    },
    "tags": []
   },
   "outputs": [],
   "source": [
    "data['SALES'] = np.where(data['SALES'] >h,h,\n",
    "                        np.where(data['SALES'] < l,l,\n",
    "                                data['SALES']))"
   ]
  },
  {
   "cell_type": "code",
   "execution_count": 24,
   "id": "636ff440",
   "metadata": {
    "execution": {
     "iopub.execute_input": "2022-03-30T16:54:52.358484Z",
     "iopub.status.busy": "2022-03-30T16:54:52.357416Z",
     "iopub.status.idle": "2022-03-30T16:54:52.533196Z",
     "shell.execute_reply": "2022-03-30T16:54:52.532563Z",
     "shell.execute_reply.started": "2022-03-30T16:36:30.372594Z"
    },
    "papermill": {
     "duration": 0.240887,
     "end_time": "2022-03-30T16:54:52.533379",
     "exception": false,
     "start_time": "2022-03-30T16:54:52.292492",
     "status": "completed"
    },
    "tags": []
   },
   "outputs": [
    {
     "name": "stderr",
     "output_type": "stream",
     "text": [
      "/opt/conda/lib/python3.7/site-packages/seaborn/_decorators.py:43: FutureWarning: Pass the following variable as a keyword arg: x. From version 0.12, the only valid positional argument will be `data`, and passing other arguments without an explicit keyword will result in an error or misinterpretation.\n",
      "  FutureWarning\n"
     ]
    },
    {
     "data": {
      "text/plain": [
       "<AxesSubplot:xlabel='SALES'>"
      ]
     },
     "execution_count": 24,
     "metadata": {},
     "output_type": "execute_result"
    },
    {
     "data": {
      "image/png": "[encoded data removed]",
      "text/plain": [
       "<Figure size 432x288 with 1 Axes>"
      ]
     },
     "metadata": {
      "needs_background": "light"
     },
     "output_type": "display_data"
    }
   ],
   "source": [
    "sns.boxplot(data['SALES'])"
   ]
  },
  {
   "cell_type": "code",
   "execution_count": 25,
   "id": "d46d34a9",
   "metadata": {
    "execution": {
     "iopub.execute_input": "2022-03-30T16:54:52.660521Z",
     "iopub.status.busy": "2022-03-30T16:54:52.659750Z",
     "iopub.status.idle": "2022-03-30T16:54:52.673394Z",
     "shell.execute_reply": "2022-03-30T16:54:52.673911Z",
     "shell.execute_reply.started": "2022-03-30T16:37:04.122977Z"
    },
    "papermill": {
     "duration": 0.079017,
     "end_time": "2022-03-30T16:54:52.674086",
     "exception": false,
     "start_time": "2022-03-30T16:54:52.595069",
     "status": "completed"
    },
    "tags": []
   },
   "outputs": [
    {
     "data": {
      "text/html": [
       "<div>\n",
       "<style scoped>\n",
       "    .dataframe tbody tr th:only-of-type {\n",
       "        vertical-align: middle;\n",
       "    }\n",
       "\n",
       "    .dataframe tbody tr th {\n",
       "        vertical-align: top;\n",
       "    }\n",
       "\n",
       "    .dataframe thead th {\n",
       "        text-align: right;\n",
       "    }\n",
       "</style>\n",
       "<table border=\"1\" class=\"dataframe\">\n",
       "  <thead>\n",
       "    <tr style=\"text-align: right;\">\n",
       "      <th></th>\n",
       "      <th>PRICEEACH</th>\n",
       "      <th>MSRP</th>\n",
       "      <th>QUANTITYORDERED</th>\n",
       "    </tr>\n",
       "  </thead>\n",
       "  <tbody>\n",
       "    <tr>\n",
       "      <th>0</th>\n",
       "      <td>95.70</td>\n",
       "      <td>95</td>\n",
       "      <td>30.0</td>\n",
       "    </tr>\n",
       "    <tr>\n",
       "      <th>1</th>\n",
       "      <td>81.35</td>\n",
       "      <td>95</td>\n",
       "      <td>34.0</td>\n",
       "    </tr>\n",
       "    <tr>\n",
       "      <th>2</th>\n",
       "      <td>94.74</td>\n",
       "      <td>95</td>\n",
       "      <td>41.0</td>\n",
       "    </tr>\n",
       "    <tr>\n",
       "      <th>3</th>\n",
       "      <td>83.26</td>\n",
       "      <td>95</td>\n",
       "      <td>43.0</td>\n",
       "    </tr>\n",
       "    <tr>\n",
       "      <th>4</th>\n",
       "      <td>100.00</td>\n",
       "      <td>95</td>\n",
       "      <td>43.0</td>\n",
       "    </tr>\n",
       "    <tr>\n",
       "      <th>...</th>\n",
       "      <td>...</td>\n",
       "      <td>...</td>\n",
       "      <td>...</td>\n",
       "    </tr>\n",
       "    <tr>\n",
       "      <th>2818</th>\n",
       "      <td>100.00</td>\n",
       "      <td>54</td>\n",
       "      <td>27.0</td>\n",
       "    </tr>\n",
       "    <tr>\n",
       "      <th>2819</th>\n",
       "      <td>100.00</td>\n",
       "      <td>54</td>\n",
       "      <td>29.0</td>\n",
       "    </tr>\n",
       "    <tr>\n",
       "      <th>2820</th>\n",
       "      <td>100.00</td>\n",
       "      <td>54</td>\n",
       "      <td>43.0</td>\n",
       "    </tr>\n",
       "    <tr>\n",
       "      <th>2821</th>\n",
       "      <td>62.24</td>\n",
       "      <td>54</td>\n",
       "      <td>34.0</td>\n",
       "    </tr>\n",
       "    <tr>\n",
       "      <th>2822</th>\n",
       "      <td>65.52</td>\n",
       "      <td>54</td>\n",
       "      <td>43.0</td>\n",
       "    </tr>\n",
       "  </tbody>\n",
       "</table>\n",
       "<p>2823 rows × 3 columns</p>\n",
       "</div>"
      ],
      "text/plain": [
       "      PRICEEACH  MSRP  QUANTITYORDERED\n",
       "0         95.70    95             30.0\n",
       "1         81.35    95             34.0\n",
       "2         94.74    95             41.0\n",
       "3         83.26    95             43.0\n",
       "4        100.00    95             43.0\n",
       "...         ...   ...              ...\n",
       "2818     100.00    54             27.0\n",
       "2819     100.00    54             29.0\n",
       "2820     100.00    54             43.0\n",
       "2821      62.24    54             34.0\n",
       "2822      65.52    54             43.0\n",
       "\n",
       "[2823 rows x 3 columns]"
      ]
     },
     "execution_count": 25,
     "metadata": {},
     "output_type": "execute_result"
    }
   ],
   "source": [
    "x"
   ]
  },
  {
   "cell_type": "code",
   "execution_count": 26,
   "id": "9d81b9e2",
   "metadata": {
    "execution": {
     "iopub.execute_input": "2022-03-30T16:54:52.801378Z",
     "iopub.status.busy": "2022-03-30T16:54:52.800707Z",
     "iopub.status.idle": "2022-03-30T16:54:52.808114Z",
     "shell.execute_reply": "2022-03-30T16:54:52.807566Z",
     "shell.execute_reply.started": "2022-03-30T16:37:09.723045Z"
    },
    "papermill": {
     "duration": 0.071334,
     "end_time": "2022-03-30T16:54:52.808254",
     "exception": false,
     "start_time": "2022-03-30T16:54:52.736920",
     "status": "completed"
    },
    "tags": []
   },
   "outputs": [
    {
     "data": {
      "text/plain": [
       "0       2871.00\n",
       "1       2765.90\n",
       "2       3884.34\n",
       "3       3746.70\n",
       "4       4508.00\n",
       "         ...   \n",
       "2818    2244.40\n",
       "2819    3978.51\n",
       "2820    4508.00\n",
       "2821    2203.43\n",
       "2822    3079.44\n",
       "Name: SALES, Length: 2823, dtype: float64"
      ]
     },
     "execution_count": 26,
     "metadata": {},
     "output_type": "execute_result"
    }
   ],
   "source": [
    "y=data['SALES']\n",
    "y"
   ]
  },
  {
   "cell_type": "code",
   "execution_count": 27,
   "id": "76133da1",
   "metadata": {
    "execution": {
     "iopub.execute_input": "2022-03-30T16:54:52.932562Z",
     "iopub.status.busy": "2022-03-30T16:54:52.931833Z",
     "iopub.status.idle": "2022-03-30T16:54:53.130574Z",
     "shell.execute_reply": "2022-03-30T16:54:53.129859Z",
     "shell.execute_reply.started": "2022-03-30T16:37:21.741625Z"
    },
    "papermill": {
     "duration": 0.261978,
     "end_time": "2022-03-30T16:54:53.130725",
     "exception": false,
     "start_time": "2022-03-30T16:54:52.868747",
     "status": "completed"
    },
    "tags": []
   },
   "outputs": [],
   "source": [
    "from sklearn.model_selection import train_test_split"
   ]
  },
  {
   "cell_type": "code",
   "execution_count": 28,
   "id": "18776a34",
   "metadata": {
    "execution": {
     "iopub.execute_input": "2022-03-30T16:54:53.260772Z",
     "iopub.status.busy": "2022-03-30T16:54:53.260085Z",
     "iopub.status.idle": "2022-03-30T16:54:53.263648Z",
     "shell.execute_reply": "2022-03-30T16:54:53.264154Z",
     "shell.execute_reply.started": "2022-03-30T16:37:39.907171Z"
    },
    "papermill": {
     "duration": 0.071826,
     "end_time": "2022-03-30T16:54:53.264351",
     "exception": false,
     "start_time": "2022-03-30T16:54:53.192525",
     "status": "completed"
    },
    "tags": []
   },
   "outputs": [],
   "source": [
    "xtrain,xtest,ytrain,ytest = train_test_split(x,y,test_size =0.20)"
   ]
  },
  {
   "cell_type": "code",
   "execution_count": 29,
   "id": "cd11aefd",
   "metadata": {
    "execution": {
     "iopub.execute_input": "2022-03-30T16:54:53.395547Z",
     "iopub.status.busy": "2022-03-30T16:54:53.394824Z",
     "iopub.status.idle": "2022-03-30T16:54:53.408313Z",
     "shell.execute_reply": "2022-03-30T16:54:53.408880Z",
     "shell.execute_reply.started": "2022-03-30T16:37:43.305468Z"
    },
    "papermill": {
     "duration": 0.08111,
     "end_time": "2022-03-30T16:54:53.409058",
     "exception": false,
     "start_time": "2022-03-30T16:54:53.327948",
     "status": "completed"
    },
    "tags": []
   },
   "outputs": [
    {
     "data": {
      "text/html": [
       "<div>\n",
       "<style scoped>\n",
       "    .dataframe tbody tr th:only-of-type {\n",
       "        vertical-align: middle;\n",
       "    }\n",
       "\n",
       "    .dataframe tbody tr th {\n",
       "        vertical-align: top;\n",
       "    }\n",
       "\n",
       "    .dataframe thead th {\n",
       "        text-align: right;\n",
       "    }\n",
       "</style>\n",
       "<table border=\"1\" class=\"dataframe\">\n",
       "  <thead>\n",
       "    <tr style=\"text-align: right;\">\n",
       "      <th></th>\n",
       "      <th>PRICEEACH</th>\n",
       "      <th>MSRP</th>\n",
       "      <th>QUANTITYORDERED</th>\n",
       "    </tr>\n",
       "  </thead>\n",
       "  <tbody>\n",
       "    <tr>\n",
       "      <th>970</th>\n",
       "      <td>100.00</td>\n",
       "      <td>104</td>\n",
       "      <td>30.0</td>\n",
       "    </tr>\n",
       "    <tr>\n",
       "      <th>1196</th>\n",
       "      <td>50.36</td>\n",
       "      <td>62</td>\n",
       "      <td>27.0</td>\n",
       "    </tr>\n",
       "    <tr>\n",
       "      <th>2536</th>\n",
       "      <td>85.99</td>\n",
       "      <td>90</td>\n",
       "      <td>27.0</td>\n",
       "    </tr>\n",
       "    <tr>\n",
       "      <th>947</th>\n",
       "      <td>84.30</td>\n",
       "      <td>86</td>\n",
       "      <td>32.0</td>\n",
       "    </tr>\n",
       "    <tr>\n",
       "      <th>2749</th>\n",
       "      <td>76.25</td>\n",
       "      <td>74</td>\n",
       "      <td>43.0</td>\n",
       "    </tr>\n",
       "    <tr>\n",
       "      <th>...</th>\n",
       "      <td>...</td>\n",
       "      <td>...</td>\n",
       "      <td>...</td>\n",
       "    </tr>\n",
       "    <tr>\n",
       "      <th>2165</th>\n",
       "      <td>98.18</td>\n",
       "      <td>96</td>\n",
       "      <td>27.0</td>\n",
       "    </tr>\n",
       "    <tr>\n",
       "      <th>369</th>\n",
       "      <td>100.00</td>\n",
       "      <td>118</td>\n",
       "      <td>27.0</td>\n",
       "    </tr>\n",
       "    <tr>\n",
       "      <th>1794</th>\n",
       "      <td>35.87</td>\n",
       "      <td>37</td>\n",
       "      <td>27.0</td>\n",
       "    </tr>\n",
       "    <tr>\n",
       "      <th>549</th>\n",
       "      <td>42.64</td>\n",
       "      <td>124</td>\n",
       "      <td>34.0</td>\n",
       "    </tr>\n",
       "    <tr>\n",
       "      <th>2372</th>\n",
       "      <td>82.59</td>\n",
       "      <td>43</td>\n",
       "      <td>33.0</td>\n",
       "    </tr>\n",
       "  </tbody>\n",
       "</table>\n",
       "<p>2258 rows × 3 columns</p>\n",
       "</div>"
      ],
      "text/plain": [
       "      PRICEEACH  MSRP  QUANTITYORDERED\n",
       "970      100.00   104             30.0\n",
       "1196      50.36    62             27.0\n",
       "2536      85.99    90             27.0\n",
       "947       84.30    86             32.0\n",
       "2749      76.25    74             43.0\n",
       "...         ...   ...              ...\n",
       "2165      98.18    96             27.0\n",
       "369      100.00   118             27.0\n",
       "1794      35.87    37             27.0\n",
       "549       42.64   124             34.0\n",
       "2372      82.59    43             33.0\n",
       "\n",
       "[2258 rows x 3 columns]"
      ]
     },
     "execution_count": 29,
     "metadata": {},
     "output_type": "execute_result"
    }
   ],
   "source": [
    "xtrain"
   ]
  },
  {
   "cell_type": "code",
   "execution_count": 30,
   "id": "31493c23",
   "metadata": {
    "execution": {
     "iopub.execute_input": "2022-03-30T16:54:53.537055Z",
     "iopub.status.busy": "2022-03-30T16:54:53.536411Z",
     "iopub.status.idle": "2022-03-30T16:54:53.543594Z",
     "shell.execute_reply": "2022-03-30T16:54:53.544206Z",
     "shell.execute_reply.started": "2022-03-30T16:37:49.886769Z"
    },
    "papermill": {
     "duration": 0.073854,
     "end_time": "2022-03-30T16:54:53.544404",
     "exception": false,
     "start_time": "2022-03-30T16:54:53.470550",
     "status": "completed"
    },
    "tags": []
   },
   "outputs": [
    {
     "data": {
      "text/plain": [
       "970     3581.40\n",
       "1196    2203.43\n",
       "2536    2203.43\n",
       "947     2697.60\n",
       "2749    3431.25\n",
       "         ...   \n",
       "2165    2203.43\n",
       "369     2559.60\n",
       "1794    2203.43\n",
       "549     2203.43\n",
       "2372    2725.47\n",
       "Name: SALES, Length: 2258, dtype: float64"
      ]
     },
     "execution_count": 30,
     "metadata": {},
     "output_type": "execute_result"
    }
   ],
   "source": [
    "ytrain"
   ]
  },
  {
   "cell_type": "code",
   "execution_count": 31,
   "id": "4028b630",
   "metadata": {
    "execution": {
     "iopub.execute_input": "2022-03-30T16:54:53.674929Z",
     "iopub.status.busy": "2022-03-30T16:54:53.673951Z",
     "iopub.status.idle": "2022-03-30T16:54:53.771701Z",
     "shell.execute_reply": "2022-03-30T16:54:53.770987Z",
     "shell.execute_reply.started": "2022-03-30T16:38:07.575095Z"
    },
    "papermill": {
     "duration": 0.162892,
     "end_time": "2022-03-30T16:54:53.771980",
     "exception": false,
     "start_time": "2022-03-30T16:54:53.609088",
     "status": "completed"
    },
    "tags": []
   },
   "outputs": [],
   "source": [
    "from sklearn.linear_model import LinearRegression"
   ]
  },
  {
   "cell_type": "code",
   "execution_count": 32,
   "id": "28f502c9",
   "metadata": {
    "execution": {
     "iopub.execute_input": "2022-03-30T16:54:53.904014Z",
     "iopub.status.busy": "2022-03-30T16:54:53.903356Z",
     "iopub.status.idle": "2022-03-30T16:54:53.906439Z",
     "shell.execute_reply": "2022-03-30T16:54:53.905794Z",
     "shell.execute_reply.started": "2022-03-30T16:38:12.843862Z"
    },
    "papermill": {
     "duration": 0.070655,
     "end_time": "2022-03-30T16:54:53.906584",
     "exception": false,
     "start_time": "2022-03-30T16:54:53.835929",
     "status": "completed"
    },
    "tags": []
   },
   "outputs": [],
   "source": [
    "model = LinearRegression()"
   ]
  },
  {
   "cell_type": "code",
   "execution_count": 33,
   "id": "99ba2fe0",
   "metadata": {
    "execution": {
     "iopub.execute_input": "2022-03-30T16:54:54.050888Z",
     "iopub.status.busy": "2022-03-30T16:54:54.050189Z",
     "iopub.status.idle": "2022-03-30T16:54:54.066905Z",
     "shell.execute_reply": "2022-03-30T16:54:54.067580Z",
     "shell.execute_reply.started": "2022-03-30T16:38:17.452991Z"
    },
    "papermill": {
     "duration": 0.097267,
     "end_time": "2022-03-30T16:54:54.067767",
     "exception": false,
     "start_time": "2022-03-30T16:54:53.970500",
     "status": "completed"
    },
    "tags": []
   },
   "outputs": [
    {
     "data": {
      "text/plain": [
       "LinearRegression()"
      ]
     },
     "execution_count": 33,
     "metadata": {},
     "output_type": "execute_result"
    }
   ],
   "source": [
    "model.fit(xtrain,ytrain)"
   ]
  },
  {
   "cell_type": "code",
   "execution_count": 34,
   "id": "d967ef84",
   "metadata": {
    "execution": {
     "iopub.execute_input": "2022-03-30T16:54:54.197235Z",
     "iopub.status.busy": "2022-03-30T16:54:54.196589Z",
     "iopub.status.idle": "2022-03-30T16:54:54.205680Z",
     "shell.execute_reply": "2022-03-30T16:54:54.206181Z",
     "shell.execute_reply.started": "2022-03-30T16:38:26.643389Z"
    },
    "papermill": {
     "duration": 0.074163,
     "end_time": "2022-03-30T16:54:54.206372",
     "exception": false,
     "start_time": "2022-03-30T16:54:54.132209",
     "status": "completed"
    },
    "tags": []
   },
   "outputs": [
    {
     "data": {
      "text/plain": [
       "0.7902417464636095"
      ]
     },
     "execution_count": 34,
     "metadata": {},
     "output_type": "execute_result"
    }
   ],
   "source": [
    "model.score(xtrain,ytrain)"
   ]
  },
  {
   "cell_type": "code",
   "execution_count": 35,
   "id": "1bb34fea",
   "metadata": {
    "execution": {
     "iopub.execute_input": "2022-03-30T16:54:54.338400Z",
     "iopub.status.busy": "2022-03-30T16:54:54.337648Z",
     "iopub.status.idle": "2022-03-30T16:54:54.345935Z",
     "shell.execute_reply": "2022-03-30T16:54:54.346462Z",
     "shell.execute_reply.started": "2022-03-30T16:38:40.533890Z"
    },
    "papermill": {
     "duration": 0.076512,
     "end_time": "2022-03-30T16:54:54.346645",
     "exception": false,
     "start_time": "2022-03-30T16:54:54.270133",
     "status": "completed"
    },
    "tags": []
   },
   "outputs": [
    {
     "data": {
      "text/plain": [
       "0.7973341136412184"
      ]
     },
     "execution_count": 35,
     "metadata": {},
     "output_type": "execute_result"
    }
   ],
   "source": [
    "model.score(xtest,ytest)"
   ]
  },
  {
   "cell_type": "code",
   "execution_count": 36,
   "id": "12a3ef04",
   "metadata": {
    "execution": {
     "iopub.execute_input": "2022-03-30T16:54:54.477259Z",
     "iopub.status.busy": "2022-03-30T16:54:54.476592Z",
     "iopub.status.idle": "2022-03-30T16:54:54.480038Z",
     "shell.execute_reply": "2022-03-30T16:54:54.480507Z",
     "shell.execute_reply.started": "2022-03-30T16:46:32.459579Z"
    },
    "papermill": {
     "duration": 0.069783,
     "end_time": "2022-03-30T16:54:54.480684",
     "exception": false,
     "start_time": "2022-03-30T16:54:54.410901",
     "status": "completed"
    },
    "tags": []
   },
   "outputs": [],
   "source": [
    "from sklearn.metrics import mean_absolute_error,mean_squared_error,r2_score"
   ]
  },
  {
   "cell_type": "code",
   "execution_count": 37,
   "id": "2545d5ce",
   "metadata": {
    "execution": {
     "iopub.execute_input": "2022-03-30T16:54:54.610195Z",
     "iopub.status.busy": "2022-03-30T16:54:54.609415Z",
     "iopub.status.idle": "2022-03-30T16:54:54.614968Z",
     "shell.execute_reply": "2022-03-30T16:54:54.615455Z",
     "shell.execute_reply.started": "2022-03-30T16:46:55.565532Z"
    },
    "papermill": {
     "duration": 0.071775,
     "end_time": "2022-03-30T16:54:54.615648",
     "exception": false,
     "start_time": "2022-03-30T16:54:54.543873",
     "status": "completed"
    },
    "tags": []
   },
   "outputs": [],
   "source": [
    "prd = model.predict(xtest)"
   ]
  },
  {
   "cell_type": "code",
   "execution_count": 38,
   "id": "00e19b1b",
   "metadata": {
    "execution": {
     "iopub.execute_input": "2022-03-30T16:54:54.748521Z",
     "iopub.status.busy": "2022-03-30T16:54:54.747818Z",
     "iopub.status.idle": "2022-03-30T16:54:54.752870Z",
     "shell.execute_reply": "2022-03-30T16:54:54.753399Z",
     "shell.execute_reply.started": "2022-03-30T16:47:09.993831Z"
    },
    "papermill": {
     "duration": 0.071517,
     "end_time": "2022-03-30T16:54:54.753579",
     "exception": false,
     "start_time": "2022-03-30T16:54:54.682062",
     "status": "completed"
    },
    "tags": []
   },
   "outputs": [
    {
     "data": {
      "text/plain": [
       "341.92904822337357"
      ]
     },
     "execution_count": 38,
     "metadata": {},
     "output_type": "execute_result"
    }
   ],
   "source": [
    "mean_absolute_error(ytest,prd)"
   ]
  },
  {
   "cell_type": "code",
   "execution_count": 39,
   "id": "6d6da843",
   "metadata": {
    "execution": {
     "iopub.execute_input": "2022-03-30T16:54:54.893269Z",
     "iopub.status.busy": "2022-03-30T16:54:54.892604Z",
     "iopub.status.idle": "2022-03-30T16:54:54.898157Z",
     "shell.execute_reply": "2022-03-30T16:54:54.898663Z",
     "shell.execute_reply.started": "2022-03-30T16:47:32.015278Z"
    },
    "papermill": {
     "duration": 0.076864,
     "end_time": "2022-03-30T16:54:54.898855",
     "exception": false,
     "start_time": "2022-03-30T16:54:54.821991",
     "status": "completed"
    },
    "tags": []
   },
   "outputs": [
    {
     "data": {
      "text/plain": [
       "185384.89394364308"
      ]
     },
     "execution_count": 39,
     "metadata": {},
     "output_type": "execute_result"
    }
   ],
   "source": [
    "mean_squared_error(ytest,prd)"
   ]
  },
  {
   "cell_type": "code",
   "execution_count": 40,
   "id": "936f04b9",
   "metadata": {
    "execution": {
     "iopub.execute_input": "2022-03-30T16:54:55.034496Z",
     "iopub.status.busy": "2022-03-30T16:54:55.033830Z",
     "iopub.status.idle": "2022-03-30T16:54:55.039264Z",
     "shell.execute_reply": "2022-03-30T16:54:55.039749Z",
     "shell.execute_reply.started": "2022-03-30T16:50:39.782285Z"
    },
    "papermill": {
     "duration": 0.075086,
     "end_time": "2022-03-30T16:54:55.039922",
     "exception": false,
     "start_time": "2022-03-30T16:54:54.964836",
     "status": "completed"
    },
    "tags": []
   },
   "outputs": [
    {
     "data": {
      "text/plain": [
       "0.7973341136412184"
      ]
     },
     "execution_count": 40,
     "metadata": {},
     "output_type": "execute_result"
    }
   ],
   "source": [
    "r2_score(ytest,prd)"
   ]
  },
  {
   "cell_type": "code",
   "execution_count": 41,
   "id": "9721deb2",
   "metadata": {
    "execution": {
     "iopub.execute_input": "2022-03-30T16:54:55.177429Z",
     "iopub.status.busy": "2022-03-30T16:54:55.176702Z",
     "iopub.status.idle": "2022-03-30T16:54:55.192310Z",
     "shell.execute_reply": "2022-03-30T16:54:55.191637Z",
     "shell.execute_reply.started": "2022-03-30T16:51:46.639624Z"
    },
    "papermill": {
     "duration": 0.085005,
     "end_time": "2022-03-30T16:54:55.192462",
     "exception": false,
     "start_time": "2022-03-30T16:54:55.107457",
     "status": "completed"
    },
    "tags": []
   },
   "outputs": [
    {
     "data": {
      "text/plain": [
       "array([2148.85145571, 4686.97042398, 4631.88324569, 4096.68713481,\n",
       "       3254.44476174, 1594.45544494, 3237.91860825, 2853.91703957,\n",
       "       2981.6094347 , 3859.8122682 , 2421.30311138, 4334.41248297,\n",
       "       1892.93365917, 3341.56755158, 3502.33706401, 3687.8727816 ,\n",
       "       4331.95385138, 2931.95604217, 4406.02581474, 2017.60886506,\n",
       "       3353.60168265, 1352.18136197, 4417.0432504 , 4433.56940388,\n",
       "       2221.41570299, 3016.55319972, 1850.75721636, 4306.86889383,\n",
       "       3177.32271214, 2807.19186898, 3375.63655396, 3995.92206386,\n",
       "       2927.87691178, 1507.16714687,  980.11686335, 4378.4822256 ,\n",
       "       4380.09037565, 4505.18273565, 2111.66614263, 2361.76480965,\n",
       "       4358.9330049 , 2313.24570769, 3381.14527179, 4284.83402252,\n",
       "       3430.72373224, 2722.72992644, 2780.27528471, 2572.9255828 ,\n",
       "       4912.82785493, 1513.44998172, 2338.4815032 , 2180.97016364,\n",
       "       1848.43698929, 3408.68886093, 3540.8980888 , 4598.83093872,\n",
       "       3353.60168265, 4483.14786433, 3639.95571891, 3116.98778346,\n",
       "       1956.87173477, 3960.41112529, 4245.84775695, 2891.89966412,\n",
       "       4378.4822256 , 3548.00233982, 3050.6222021 , 4406.02581474,\n",
       "       3353.60168265, 1927.92664977, 3451.74190814, 3742.09580299,\n",
       "       2372.38439047, 3369.27520946, 4559.84467315, 4664.93555266,\n",
       "       3455.94228187, 2582.34853671, 3138.76168735, 3133.25296952,\n",
       "       3543.78196117, 4797.14478054, 2421.87715783, 3379.11188096,\n",
       "       2537.16130482, 2266.95928386, 4295.85145818, 3671.39347565,\n",
       "       4543.74376044, 1184.53772941, 4369.49818076, 3353.60168265,\n",
       "       4803.67019378, 4250.60386572, 3409.39284425, 2995.53502381,\n",
       "       4367.46478994, 4118.72245069, 2602.82601476, 4052.02593755,\n",
       "       4538.23504261, 3349.48858271, 2857.38267812, 2135.73707209,\n",
       "       3777.18150078, 3414.19757876, 1672.25775416, 4560.26991393,\n",
       "       3491.55517153, 3220.37575936, 4014.48160816, 4560.26991393,\n",
       "       4037.53317489, 4067.53539562, 3495.08872102, 2634.78013175,\n",
       "       4292.37613117, 4130.58992333, 1834.67141144, 1838.39793977,\n",
       "       4032.99261845, 3276.47963305, 3229.7075232 , 4178.7264476 ,\n",
       "       3254.44476174, 4367.46478994, 4071.15898498, 2714.68870342,\n",
       "       4218.72940858, 3596.41050786, 3236.95372107, 3445.2164949 ,\n",
       "       4193.58364591, 4383.99094343, 4088.55357153, 4163.21698952,\n",
       "       4565.77863176, 1083.66554206, 2817.48104727, 1861.52817846,\n",
       "       2430.98520504, 2810.2839903 , 3045.11348427, 4701.03794586,\n",
       "       3798.82339327, 2220.41579481, 3607.42794352, 2028.73572454,\n",
       "       3237.91860825, 3756.74011629, 4290.34274035, 2939.77681573,\n",
       "       3117.67238986, 1294.69590562, 3508.87963141, 3153.79034949,\n",
       "       3676.89632255, 3239.36054444, 3221.39245477, 2659.57993249,\n",
       "       2697.52699977, 2279.90114515, 4483.14786433, 4276.09378391,\n",
       "       3324.51527175, 3527.84726233, 4483.14786433, 2738.42541282,\n",
       "       2572.73374712, 1759.68187411, 4333.9872422 , 2991.21827572,\n",
       "       4163.61529596, 3930.40890456, 3016.55319972, 3182.83142997,\n",
       "       2333.59696764, 3667.59859885, 1368.06761851, 3586.40976761,\n",
       "       1267.85577759, 2023.75747983, 3993.46343226, 4091.03601853,\n",
       "       4543.74376044, 3225.88447719, 4538.23504261, 2872.6560497 ,\n",
       "       2739.88734689, 1675.21939529, 3005.53263809, 2039.29059803,\n",
       "       3248.93604391, 3160.79655866, 4279.32530469, 2983.46266815,\n",
       "       4138.13203198, 2671.91760236, 3099.92199764, 2528.00144938,\n",
       "       3396.7312567 , 3996.93875927, 4505.18273565, 3155.28784083,\n",
       "       3822.75735064, 3979.06604412, 3392.58909138, 3200.93603309,\n",
       "       1733.77114659, 1728.72979635, 3971.08411615, 4383.99094343,\n",
       "       3049.78994023, 3631.24980974, 4312.37761166, 3869.81300845,\n",
       "       2146.34589189, 3253.40059571, 2381.25848223, 3133.25296952,\n",
       "       2719.57911695, 4290.34274035, 2439.54934375, 2074.82855561,\n",
       "       3287.49706871, 1726.56867733, 3087.24316423, 3149.779123  ,\n",
       "       3037.77740181, 3473.87810255, 2332.62987177, 3667.59859885,\n",
       "       4290.34274035, 4433.56940388, 3298.21263093, 4208.72866834,\n",
       "       3432.16566842, 3763.36036777, 4091.17841698, 4418.65140044,\n",
       "       3741.91846822, 2849.06492828, 2588.67280681, 4259.3238242 ,\n",
       "       3963.54956491, 3050.29828442, 2030.84022991, 3064.03746422,\n",
       "       2920.87283366, 4664.93555266, 3166.30527649, 3254.44476174,\n",
       "       2730.51025263, 2843.54545647, 3264.14638056, 3415.52040265,\n",
       "       2788.13107222, 4510.69145347, 2693.52386697, 3875.32172627,\n",
       "       1373.71917936, 3465.3743244 , 3466.27243677, 3243.18864286,\n",
       "       3342.55890742, 3149.779123  , 3669.04053504, 2762.16205162,\n",
       "       4505.18273565, 3698.99438407, 2729.97512939, 3069.50306736,\n",
       "       3076.59878011, 4035.07454329, 3353.60168265, 3466.89180659,\n",
       "       4114.65522448, 3744.72064845, 2975.59771438, 3810.23380775,\n",
       "       2534.17539668, 4304.02431159, 2849.72099854, 3677.00788446,\n",
       "       2254.00605467, 3105.70938038, 3032.61747555, 3536.83130716,\n",
       "       2647.14748795, 3538.77465108, 2562.88226414, 2368.9527074 ,\n",
       "       4298.90154441, 2029.6898507 , 4323.39504732, 3488.26954212,\n",
       "       2174.76600075, 2159.95732943, 2954.85232541, 3640.48025048,\n",
       "       2423.34833579, 3502.33706401, 2672.45662781, 3345.4904106 ,\n",
       "       3808.79187156, 2052.10365153, 3529.88065315, 4295.85145818,\n",
       "       4337.4625692 , 3080.66548412, 4235.25556207, 2647.02349261,\n",
       "       1868.97650031, 3007.67918559, 3139.34878114, 3490.30293294,\n",
       "       4200.64487395, 4277.45812773, 3417.67290576, 4219.74610399,\n",
       "       2589.56764496, 3400.68097946, 3331.56681133, 2706.25176366,\n",
       "       3516.82982667, 3675.99118905, 3565.39159171, 3241.5460081 ,\n",
       "       4461.11299302, 3345.38464902, 4912.82785493, 3237.91860825,\n",
       "       4400.51709691, 4483.14786433, 4670.44427049, 3777.18150078,\n",
       "       1841.19568151, 2533.46705252, 4307.88558924, 3386.65398961,\n",
       "       1687.15761555, 3657.00640397, 2905.4469306 , 3772.68947836,\n",
       "       3963.46121153, 3303.29442151, 4912.82785493, 3353.60168265,\n",
       "       3237.91860825, 4117.8502001 , 3557.42424229, 3673.10731668,\n",
       "       3378.09518555, 4064.06006862, 4655.95150783, 3586.01732507,\n",
       "       4264.83254203, 3512.25530772, 1974.09219015, 3133.25296952,\n",
       "       1448.47850816, 2797.26659005, 2345.79446181, 3171.5741609 ,\n",
       "       4543.74376044, 3610.23918421, 3479.86334718, 4367.46478994,\n",
       "       1720.90581918, 4406.02581474, 4549.25247827, 3254.44476174,\n",
       "       2322.38869122, 2975.70027235, 1985.27780136, 4405.39942379,\n",
       "       2704.54938929, 4323.39504732, 3310.4851489 , 3138.76168735,\n",
       "       2806.32564461, 4406.02581474, 2545.32110385, 2104.2847368 ,\n",
       "       2142.42363975, 3360.53997383, 2085.09293061, 4064.48530939,\n",
       "       3016.91656984, 3127.74425169, 3888.37255275, 4312.37761166,\n",
       "       4218.72940858, 4383.99094343, 3549.88213364, 3509.2322405 ,\n",
       "       2064.05582939, 2156.09436529, 3071.09869226, 4631.88324569,\n",
       "       2907.27978516, 3873.28833545, 3284.60120044, 3931.85084074,\n",
       "       2071.15803403, 3782.09876397, 2348.20731843, 1852.17214056,\n",
       "       2999.15762529, 4529.25099778, 1801.3408982 , 2315.73341171,\n",
       "       2769.42655385, 2713.44614626, 3490.5039914 , 3149.779123  ,\n",
       "       2500.41314375, 4169.83937909, 2598.1539126 , 3572.93370036,\n",
       "       2589.56764496, 4104.65448424, 4312.37761166, 4029.56582546,\n",
       "       4406.02581474, 3590.90179003, 4659.42683483, 3128.4068068 ,\n",
       "       2146.2995736 , 4147.36193645, 4219.74610399, 2015.81050225,\n",
       "       3177.06937977, 2850.4853565 , 2517.86595277, 3469.62918776,\n",
       "       2499.35830137, 2572.09019496, 3147.41540729, 4406.02581474,\n",
       "       2008.0700801 , 3254.44476174, 4040.55570583, 4406.02581474,\n",
       "       3711.40247692, 3139.56655623, 3036.59520521, 2071.65829156,\n",
       "       2800.52582141, 3711.86069232, 4670.44427049, 1683.56469338,\n",
       "       1388.57371034, 4560.26991393, 3453.39574145, 4290.34274035,\n",
       "       4383.99094343, 4353.98872269, 2936.17802262, 4047.53391513,\n",
       "       2008.60803299, 3279.42829743, 4168.30046658, 4350.93863646,\n",
       "       3427.37932999, 3392.16270744, 3796.16628586, 4631.88324569,\n",
       "       2854.90404864, 2396.67469683, 2397.72320963, 1738.94076131,\n",
       "       3324.83010081, 4560.26991393, 2053.82166997, 3353.60168265,\n",
       "       2413.33026499, 3408.68886093, 1937.26749519, 4138.13203198,\n",
       "       3158.42467865, 4239.32234371, 2323.84955976, 2620.11385184,\n",
       "       3419.70629658, 4207.28673215, 3344.87202867, 2987.21353409,\n",
       "       2550.39808197, 3930.40890456, 2901.88682074, 3855.74548656,\n",
       "       4185.47336878, 3605.39455269, 3051.22768493, 3519.28845826,\n",
       "       4433.56940388, 4383.99094343, 3232.8351312 , 2196.66771751,\n",
       "       3252.59954435, 3632.93814183, 3872.27164004, 4400.51709691,\n",
       "       2440.64257304, 2178.46505847, 3945.91836263, 3993.46343226,\n",
       "       3732.80393615, 2977.41706295, 3469.28475704, 4349.49670027,\n",
       "       3392.16270744, 1647.90113866, 1553.14681422, 3149.779123  ,\n",
       "       3182.83142997, 2554.57642553, 1717.38569804, 2769.99312052,\n",
       "       3837.77739689, 2537.39373611, 2288.18280143, 2560.38531623,\n",
       "       3155.28784083, 2182.48215589, 3663.53181721, 3149.779123  ,\n",
       "       3419.70629658, 3540.8980888 , 3671.34662811, 2163.15416089,\n",
       "       3792.09584901, 3699.04275577, 1631.33630897, 3229.38682321,\n",
       "       2940.44784553, 1616.8579555 , 4108.55505202, 2798.02667185,\n",
       "       3166.30527649, 4053.46787374, 2592.53684351, 3746.58782541,\n",
       "       3155.28784083, 2517.78560136, 2629.28446127, 4383.99094343,\n",
       "       2473.00172832, 2940.44784553, 2578.54967303, 4021.05715019,\n",
       "       4433.56940388, 3532.3150107 , 3241.39393526, 3557.42424229,\n",
       "       2272.56773002, 2963.09087404, 3254.44476174, 2146.34589189,\n",
       "       2894.74913645, 1907.70944055, 3747.17928004, 4664.93555266,\n",
       "       2526.92706777])"
      ]
     },
     "execution_count": 41,
     "metadata": {},
     "output_type": "execute_result"
    }
   ],
   "source": [
    "model.predict(xtest)"
   ]
  },
  {
   "cell_type": "code",
   "execution_count": 42,
   "id": "854da549",
   "metadata": {
    "execution": {
     "iopub.execute_input": "2022-03-30T16:54:55.332477Z",
     "iopub.status.busy": "2022-03-30T16:54:55.331728Z",
     "iopub.status.idle": "2022-03-30T16:54:55.338167Z",
     "shell.execute_reply": "2022-03-30T16:54:55.338683Z",
     "shell.execute_reply.started": "2022-03-30T16:51:53.610998Z"
    },
    "papermill": {
     "duration": 0.077463,
     "end_time": "2022-03-30T16:54:55.338858",
     "exception": false,
     "start_time": "2022-03-30T16:54:55.261395",
     "status": "completed"
    },
    "tags": []
   },
   "outputs": [
    {
     "data": {
      "text/plain": [
       "684     2203.43\n",
       "319     4508.00\n",
       "654     4508.00\n",
       "178     4508.00\n",
       "2059    3070.54\n",
       "         ...   \n",
       "2293    2629.44\n",
       "2203    2203.43\n",
       "1053    4508.00\n",
       "1023    4508.00\n",
       "2315    2234.40\n",
       "Name: SALES, Length: 565, dtype: float64"
      ]
     },
     "execution_count": 42,
     "metadata": {},
     "output_type": "execute_result"
    }
   ],
   "source": [
    "ytest"
   ]
  },
  {
   "cell_type": "code",
   "execution_count": 43,
   "id": "d5a542b8",
   "metadata": {
    "execution": {
     "iopub.execute_input": "2022-03-30T16:54:55.475539Z",
     "iopub.status.busy": "2022-03-30T16:54:55.474868Z",
     "iopub.status.idle": "2022-03-30T16:54:55.478130Z",
     "shell.execute_reply": "2022-03-30T16:54:55.478693Z",
     "shell.execute_reply.started": "2022-03-30T16:52:52.009413Z"
    },
    "papermill": {
     "duration": 0.074806,
     "end_time": "2022-03-30T16:54:55.478876",
     "exception": false,
     "start_time": "2022-03-30T16:54:55.404070",
     "status": "completed"
    },
    "tags": []
   },
   "outputs": [],
   "source": [
    "from scipy.stats import sem"
   ]
  },
  {
   "cell_type": "code",
   "execution_count": 44,
   "id": "702f0e23",
   "metadata": {
    "execution": {
     "iopub.execute_input": "2022-03-30T16:54:55.621603Z",
     "iopub.status.busy": "2022-03-30T16:54:55.620901Z",
     "iopub.status.idle": "2022-03-30T16:54:55.627585Z",
     "shell.execute_reply": "2022-03-30T16:54:55.628076Z",
     "shell.execute_reply.started": "2022-03-30T16:52:57.137658Z"
    },
    "papermill": {
     "duration": 0.077632,
     "end_time": "2022-03-30T16:54:55.628270",
     "exception": false,
     "start_time": "2022-03-30T16:54:55.550638",
     "status": "completed"
    },
    "tags": []
   },
   "outputs": [
    {
     "data": {
      "text/plain": [
       "array([0.37970169, 0.75637994, 0.12289816])"
      ]
     },
     "execution_count": 44,
     "metadata": {},
     "output_type": "execute_result"
    }
   ],
   "source": [
    "sem(x)"
   ]
  },
  {
   "cell_type": "code",
   "execution_count": null,
   "id": "fe98dc23",
   "metadata": {
    "papermill": {
     "duration": 0.066912,
     "end_time": "2022-03-30T16:54:55.763498",
     "exception": false,
     "start_time": "2022-03-30T16:54:55.696586",
     "status": "completed"
    },
    "tags": []
   },
   "outputs": [],
   "source": []
  }
 ],
 "metadata": {
  "kernelspec": {
   "display_name": "Python 3",
   "language": "python",
   "name": "python3"
  },
  "language_info": {
   "codemirror_mode": {
    "name": "ipython",
    "version": 3
   },
   "file_extension": ".py",
   "mimetype": "text/x-python",
   "name": "python",
   "nbconvert_exporter": "python",
   "pygments_lexer": "ipython3",
   "version": "3.7.12"
  },
  "papermill": {
   "default_parameters": {},
   "duration": 19.718681,
   "end_time": "2022-03-30T16:54:56.643855",
   "environment_variables": {},
   "exception": null,
   "input_path": "__notebook__.ipynb",
   "output_path": "__notebook__.ipynb",
   "parameters": {},
   "start_time": "2022-03-30T16:54:36.925174",
   "version": "2.3.3"
  }
 },
 "nbformat": 4,
 "nbformat_minor": 5
}
