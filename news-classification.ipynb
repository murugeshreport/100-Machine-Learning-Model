{
 "cells": [
  {
   "cell_type": "code",
   "execution_count": 1,
   "id": "3126d3ec",
   "metadata": {
    "execution": {
     "iopub.execute_input": "2022-04-07T18:45:55.505750Z",
     "iopub.status.busy": "2022-04-07T18:45:55.500283Z",
     "iopub.status.idle": "2022-04-07T18:45:56.630719Z",
     "shell.execute_reply": "2022-04-07T18:45:56.629524Z",
     "shell.execute_reply.started": "2022-04-07T17:26:41.150317Z"
    },
    "papermill": {
     "duration": 1.153001,
     "end_time": "2022-04-07T18:45:56.631005",
     "exception": false,
     "start_time": "2022-04-07T18:45:55.478004",
     "status": "completed"
    },
    "tags": []
   },
   "outputs": [],
   "source": [
    "import pandas as pd\n",
    "import numpy as np\n",
    "import matplotlib.pyplot as plt\n",
    "import seaborn as sns"
   ]
  },
  {
   "cell_type": "code",
   "execution_count": 2,
   "id": "d28edecf",
   "metadata": {
    "execution": {
     "iopub.execute_input": "2022-04-07T18:45:56.666526Z",
     "iopub.status.busy": "2022-04-07T18:45:56.665898Z",
     "iopub.status.idle": "2022-04-07T18:45:57.843341Z",
     "shell.execute_reply": "2022-04-07T18:45:57.842596Z",
     "shell.execute_reply.started": "2022-04-07T17:53:27.334024Z"
    },
    "papermill": {
     "duration": 1.196501,
     "end_time": "2022-04-07T18:45:57.843559",
     "exception": false,
     "start_time": "2022-04-07T18:45:56.647058",
     "status": "completed"
    },
    "tags": []
   },
   "outputs": [],
   "source": [
    "data = pd.read_csv('../input/news-classification-dataset/News.csv')"
   ]
  },
  {
   "cell_type": "code",
   "execution_count": 3,
   "id": "a118a046",
   "metadata": {
    "execution": {
     "iopub.execute_input": "2022-04-07T18:45:57.886790Z",
     "iopub.status.busy": "2022-04-07T18:45:57.885978Z",
     "iopub.status.idle": "2022-04-07T18:45:57.905497Z",
     "shell.execute_reply": "2022-04-07T18:45:57.904849Z",
     "shell.execute_reply.started": "2022-04-07T18:01:15.952216Z"
    },
    "papermill": {
     "duration": 0.045245,
     "end_time": "2022-04-07T18:45:57.905662",
     "exception": false,
     "start_time": "2022-04-07T18:45:57.860417",
     "status": "completed"
    },
    "tags": []
   },
   "outputs": [
    {
     "data": {
      "text/html": [
       "<div>\n",
       "<style scoped>\n",
       "    .dataframe tbody tr th:only-of-type {\n",
       "        vertical-align: middle;\n",
       "    }\n",
       "\n",
       "    .dataframe tbody tr th {\n",
       "        vertical-align: top;\n",
       "    }\n",
       "\n",
       "    .dataframe thead th {\n",
       "        text-align: right;\n",
       "    }\n",
       "</style>\n",
       "<table border=\"1\" class=\"dataframe\">\n",
       "  <thead>\n",
       "    <tr style=\"text-align: right;\">\n",
       "      <th></th>\n",
       "      <th>headline</th>\n",
       "      <th>category</th>\n",
       "      <th>authors</th>\n",
       "      <th>short_description</th>\n",
       "    </tr>\n",
       "  </thead>\n",
       "  <tbody>\n",
       "    <tr>\n",
       "      <th>0</th>\n",
       "      <td>There Were 2 Mass Shootings In Texas Last Wee...</td>\n",
       "      <td>CRIME</td>\n",
       "      <td>Melissa Jeltsen</td>\n",
       "      <td>She left her husband. He killed their childre...</td>\n",
       "    </tr>\n",
       "    <tr>\n",
       "      <th>1</th>\n",
       "      <td>Will Smith Joins Diplo And Nicky Jam For The ...</td>\n",
       "      <td>ENTERTAINMENT</td>\n",
       "      <td>Andy McDonald</td>\n",
       "      <td>Of course it has a song.</td>\n",
       "    </tr>\n",
       "    <tr>\n",
       "      <th>2</th>\n",
       "      <td>Hugh Grant Marries For The First Time At Age ...</td>\n",
       "      <td>ENTERTAINMENT</td>\n",
       "      <td>Ron Dicker</td>\n",
       "      <td>The actor and his longtime girlfriend Anna Eb...</td>\n",
       "    </tr>\n",
       "    <tr>\n",
       "      <th>3</th>\n",
       "      <td>Jim Carrey Blasts 'Castrato' Adam Schiff And ...</td>\n",
       "      <td>ENTERTAINMENT</td>\n",
       "      <td>Ron Dicker</td>\n",
       "      <td>The actor gives Dems an ass-kicking for not f...</td>\n",
       "    </tr>\n",
       "    <tr>\n",
       "      <th>4</th>\n",
       "      <td>Julianna Margulies Uses Donald Trump Poop Bag...</td>\n",
       "      <td>ENTERTAINMENT</td>\n",
       "      <td>Ron Dicker</td>\n",
       "      <td>The Dietland actress said using the bags is a...</td>\n",
       "    </tr>\n",
       "    <tr>\n",
       "      <th>...</th>\n",
       "      <td>...</td>\n",
       "      <td>...</td>\n",
       "      <td>...</td>\n",
       "      <td>...</td>\n",
       "    </tr>\n",
       "    <tr>\n",
       "      <th>200848</th>\n",
       "      <td>RIM CEO Thorsten Heins' 'Significant' Plans F...</td>\n",
       "      <td>TECH</td>\n",
       "      <td>Reuters Reuters</td>\n",
       "      <td>Verizon Wireless and AT&amp;T are already promoti...</td>\n",
       "    </tr>\n",
       "    <tr>\n",
       "      <th>200849</th>\n",
       "      <td>Maria Sharapova Stunned By Victoria Azarenka ...</td>\n",
       "      <td>SPORTS</td>\n",
       "      <td></td>\n",
       "      <td>Afterward Azarenka more effusive with the pre...</td>\n",
       "    </tr>\n",
       "    <tr>\n",
       "      <th>200850</th>\n",
       "      <td>Giants Over Patriots Jets Over Colts Among  M...</td>\n",
       "      <td>SPORTS</td>\n",
       "      <td></td>\n",
       "      <td>Leading up to Super Bowl XLVI the most talked...</td>\n",
       "    </tr>\n",
       "    <tr>\n",
       "      <th>200851</th>\n",
       "      <td>Aldon Smith Arrested</td>\n",
       "      <td>SPORTS</td>\n",
       "      <td>49ers Linebacker Busted For DUI authors</td>\n",
       "      <td>//www.huffingtonpost.com/entry/aldon-smith-arr...</td>\n",
       "    </tr>\n",
       "    <tr>\n",
       "      <th>200852</th>\n",
       "      <td>Dwight Howard Rips Teammates After Magic Loss...</td>\n",
       "      <td>SPORTS</td>\n",
       "      <td></td>\n",
       "      <td>The five-time all-star center tore into his t...</td>\n",
       "    </tr>\n",
       "  </tbody>\n",
       "</table>\n",
       "<p>200853 rows × 4 columns</p>\n",
       "</div>"
      ],
      "text/plain": [
       "                                                 headline          category  \\\n",
       "0        There Were 2 Mass Shootings In Texas Last Wee...           CRIME     \n",
       "1        Will Smith Joins Diplo And Nicky Jam For The ...   ENTERTAINMENT     \n",
       "2        Hugh Grant Marries For The First Time At Age ...   ENTERTAINMENT     \n",
       "3        Jim Carrey Blasts 'Castrato' Adam Schiff And ...   ENTERTAINMENT     \n",
       "4        Julianna Margulies Uses Donald Trump Poop Bag...   ENTERTAINMENT     \n",
       "...                                                   ...               ...   \n",
       "200848   RIM CEO Thorsten Heins' 'Significant' Plans F...            TECH     \n",
       "200849   Maria Sharapova Stunned By Victoria Azarenka ...          SPORTS     \n",
       "200850   Giants Over Patriots Jets Over Colts Among  M...          SPORTS     \n",
       "200851                               Aldon Smith Arrested          SPORTS     \n",
       "200852   Dwight Howard Rips Teammates After Magic Loss...          SPORTS     \n",
       "\n",
       "                                         authors  \\\n",
       "0                              Melissa Jeltsen     \n",
       "1                                Andy McDonald     \n",
       "2                                   Ron Dicker     \n",
       "3                                   Ron Dicker     \n",
       "4                                   Ron Dicker     \n",
       "...                                          ...   \n",
       "200848                         Reuters Reuters     \n",
       "200849                                             \n",
       "200850                                             \n",
       "200851   49ers Linebacker Busted For DUI authors   \n",
       "200852                                             \n",
       "\n",
       "                                        short_description  \n",
       "0        She left her husband. He killed their childre...  \n",
       "1                               Of course it has a song.   \n",
       "2        The actor and his longtime girlfriend Anna Eb...  \n",
       "3        The actor gives Dems an ass-kicking for not f...  \n",
       "4        The Dietland actress said using the bags is a...  \n",
       "...                                                   ...  \n",
       "200848   Verizon Wireless and AT&T are already promoti...  \n",
       "200849   Afterward Azarenka more effusive with the pre...  \n",
       "200850   Leading up to Super Bowl XLVI the most talked...  \n",
       "200851  //www.huffingtonpost.com/entry/aldon-smith-arr...  \n",
       "200852   The five-time all-star center tore into his t...  \n",
       "\n",
       "[200853 rows x 4 columns]"
      ]
     },
     "execution_count": 3,
     "metadata": {},
     "output_type": "execute_result"
    }
   ],
   "source": [
    "data"
   ]
  },
  {
   "cell_type": "code",
   "execution_count": 4,
   "id": "3ef8d082",
   "metadata": {
    "execution": {
     "iopub.execute_input": "2022-04-07T18:45:57.990041Z",
     "iopub.status.busy": "2022-04-07T18:45:57.952337Z",
     "iopub.status.idle": "2022-04-07T18:45:58.556926Z",
     "shell.execute_reply": "2022-04-07T18:45:58.556283Z",
     "shell.execute_reply.started": "2022-04-07T18:03:35.179462Z"
    },
    "papermill": {
     "duration": 0.633359,
     "end_time": "2022-04-07T18:45:58.557072",
     "exception": false,
     "start_time": "2022-04-07T18:45:57.923713",
     "status": "completed"
    },
    "tags": []
   },
   "outputs": [
    {
     "data": {
      "text/plain": [
       "<AxesSubplot:>"
      ]
     },
     "execution_count": 4,
     "metadata": {},
     "output_type": "execute_result"
    },
    {
     "data": {
      "image/png": "[encoded data removed]",
      "text/plain": [
       "<Figure size 1080x648 with 1 Axes>"
      ]
     },
     "metadata": {
      "needs_background": "light"
     },
     "output_type": "display_data"
    }
   ],
   "source": [
    "fig = plt.figure(figsize=(15,9))\n",
    "sns.barplot(x = data['category'].value_counts().values,y=data['category'].value_counts().index)"
   ]
  },
  {
   "cell_type": "code",
   "execution_count": 5,
   "id": "a330f24b",
   "metadata": {
    "execution": {
     "iopub.execute_input": "2022-04-07T18:45:58.609441Z",
     "iopub.status.busy": "2022-04-07T18:45:58.608355Z",
     "iopub.status.idle": "2022-04-07T18:45:58.610659Z",
     "shell.execute_reply": "2022-04-07T18:45:58.611087Z",
     "shell.execute_reply.started": "2022-04-07T18:04:19.593031Z"
    },
    "papermill": {
     "duration": 0.036373,
     "end_time": "2022-04-07T18:45:58.611292",
     "exception": false,
     "start_time": "2022-04-07T18:45:58.574919",
     "status": "completed"
    },
    "tags": []
   },
   "outputs": [],
   "source": [
    "df = data[['headline','category']]"
   ]
  },
  {
   "cell_type": "code",
   "execution_count": 6,
   "id": "4832dc4f",
   "metadata": {
    "execution": {
     "iopub.execute_input": "2022-04-07T18:45:58.650711Z",
     "iopub.status.busy": "2022-04-07T18:45:58.649709Z",
     "iopub.status.idle": "2022-04-07T18:45:58.659785Z",
     "shell.execute_reply": "2022-04-07T18:45:58.659244Z",
     "shell.execute_reply.started": "2022-04-07T18:04:28.302890Z"
    },
    "papermill": {
     "duration": 0.030775,
     "end_time": "2022-04-07T18:45:58.659930",
     "exception": false,
     "start_time": "2022-04-07T18:45:58.629155",
     "status": "completed"
    },
    "tags": []
   },
   "outputs": [
    {
     "data": {
      "text/html": [
       "<div>\n",
       "<style scoped>\n",
       "    .dataframe tbody tr th:only-of-type {\n",
       "        vertical-align: middle;\n",
       "    }\n",
       "\n",
       "    .dataframe tbody tr th {\n",
       "        vertical-align: top;\n",
       "    }\n",
       "\n",
       "    .dataframe thead th {\n",
       "        text-align: right;\n",
       "    }\n",
       "</style>\n",
       "<table border=\"1\" class=\"dataframe\">\n",
       "  <thead>\n",
       "    <tr style=\"text-align: right;\">\n",
       "      <th></th>\n",
       "      <th>headline</th>\n",
       "      <th>category</th>\n",
       "    </tr>\n",
       "  </thead>\n",
       "  <tbody>\n",
       "    <tr>\n",
       "      <th>0</th>\n",
       "      <td>There Were 2 Mass Shootings In Texas Last Wee...</td>\n",
       "      <td>CRIME</td>\n",
       "    </tr>\n",
       "    <tr>\n",
       "      <th>1</th>\n",
       "      <td>Will Smith Joins Diplo And Nicky Jam For The ...</td>\n",
       "      <td>ENTERTAINMENT</td>\n",
       "    </tr>\n",
       "    <tr>\n",
       "      <th>2</th>\n",
       "      <td>Hugh Grant Marries For The First Time At Age ...</td>\n",
       "      <td>ENTERTAINMENT</td>\n",
       "    </tr>\n",
       "    <tr>\n",
       "      <th>3</th>\n",
       "      <td>Jim Carrey Blasts 'Castrato' Adam Schiff And ...</td>\n",
       "      <td>ENTERTAINMENT</td>\n",
       "    </tr>\n",
       "    <tr>\n",
       "      <th>4</th>\n",
       "      <td>Julianna Margulies Uses Donald Trump Poop Bag...</td>\n",
       "      <td>ENTERTAINMENT</td>\n",
       "    </tr>\n",
       "  </tbody>\n",
       "</table>\n",
       "</div>"
      ],
      "text/plain": [
       "                                            headline          category\n",
       "0   There Were 2 Mass Shootings In Texas Last Wee...           CRIME  \n",
       "1   Will Smith Joins Diplo And Nicky Jam For The ...   ENTERTAINMENT  \n",
       "2   Hugh Grant Marries For The First Time At Age ...   ENTERTAINMENT  \n",
       "3   Jim Carrey Blasts 'Castrato' Adam Schiff And ...   ENTERTAINMENT  \n",
       "4   Julianna Margulies Uses Donald Trump Poop Bag...   ENTERTAINMENT  "
      ]
     },
     "execution_count": 6,
     "metadata": {},
     "output_type": "execute_result"
    }
   ],
   "source": [
    "df.head()"
   ]
  },
  {
   "cell_type": "code",
   "execution_count": 7,
   "id": "17630d3e",
   "metadata": {
    "execution": {
     "iopub.execute_input": "2022-04-07T18:45:58.697757Z",
     "iopub.status.busy": "2022-04-07T18:45:58.696770Z",
     "iopub.status.idle": "2022-04-07T18:45:58.890404Z",
     "shell.execute_reply": "2022-04-07T18:45:58.890876Z",
     "shell.execute_reply.started": "2022-04-07T18:05:18.496506Z"
    },
    "papermill": {
     "duration": 0.21451,
     "end_time": "2022-04-07T18:45:58.891077",
     "exception": false,
     "start_time": "2022-04-07T18:45:58.676567",
     "status": "completed"
    },
    "tags": []
   },
   "outputs": [],
   "source": [
    "from sklearn.feature_extraction.text import CountVectorizer"
   ]
  },
  {
   "cell_type": "code",
   "execution_count": 8,
   "id": "5b271b0f",
   "metadata": {
    "execution": {
     "iopub.execute_input": "2022-04-07T18:45:58.941311Z",
     "iopub.status.busy": "2022-04-07T18:45:58.940367Z",
     "iopub.status.idle": "2022-04-07T18:45:58.944755Z",
     "shell.execute_reply": "2022-04-07T18:45:58.945233Z",
     "shell.execute_reply.started": "2022-04-07T18:06:12.736993Z"
    },
    "papermill": {
     "duration": 0.035333,
     "end_time": "2022-04-07T18:45:58.945434",
     "exception": false,
     "start_time": "2022-04-07T18:45:58.910101",
     "status": "completed"
    },
    "tags": []
   },
   "outputs": [],
   "source": [
    "x = np.array(df['headline'])\n",
    "y = np.array(df['category'])"
   ]
  },
  {
   "cell_type": "code",
   "execution_count": 9,
   "id": "a29a76cf",
   "metadata": {
    "execution": {
     "iopub.execute_input": "2022-04-07T18:45:59.010307Z",
     "iopub.status.busy": "2022-04-07T18:45:58.999583Z",
     "iopub.status.idle": "2022-04-07T18:46:01.287128Z",
     "shell.execute_reply": "2022-04-07T18:46:01.286300Z",
     "shell.execute_reply.started": "2022-04-07T18:24:28.482496Z"
    },
    "papermill": {
     "duration": 2.319567,
     "end_time": "2022-04-07T18:46:01.287345",
     "exception": false,
     "start_time": "2022-04-07T18:45:58.967778",
     "status": "completed"
    },
    "tags": []
   },
   "outputs": [],
   "source": [
    "m = CountVectorizer()\n",
    "x = m.fit_transform(x) "
   ]
  },
  {
   "cell_type": "code",
   "execution_count": 10,
   "id": "e39713b5",
   "metadata": {
    "execution": {
     "iopub.execute_input": "2022-04-07T18:46:01.326524Z",
     "iopub.status.busy": "2022-04-07T18:46:01.325790Z",
     "iopub.status.idle": "2022-04-07T18:46:01.385322Z",
     "shell.execute_reply": "2022-04-07T18:46:01.385831Z",
     "shell.execute_reply.started": "2022-04-07T18:25:07.272428Z"
    },
    "papermill": {
     "duration": 0.081131,
     "end_time": "2022-04-07T18:46:01.386021",
     "exception": false,
     "start_time": "2022-04-07T18:46:01.304890",
     "status": "completed"
    },
    "tags": []
   },
   "outputs": [],
   "source": [
    "from sklearn.model_selection import train_test_split"
   ]
  },
  {
   "cell_type": "code",
   "execution_count": 11,
   "id": "8de4c93b",
   "metadata": {
    "execution": {
     "iopub.execute_input": "2022-04-07T18:46:01.425311Z",
     "iopub.status.busy": "2022-04-07T18:46:01.424591Z",
     "iopub.status.idle": "2022-04-07T18:46:01.471498Z",
     "shell.execute_reply": "2022-04-07T18:46:01.470835Z",
     "shell.execute_reply.started": "2022-04-07T18:25:38.227729Z"
    },
    "papermill": {
     "duration": 0.06767,
     "end_time": "2022-04-07T18:46:01.471661",
     "exception": false,
     "start_time": "2022-04-07T18:46:01.403991",
     "status": "completed"
    },
    "tags": []
   },
   "outputs": [],
   "source": [
    "xtrain,xtest,ytrain,ytest =train_test_split(x,y,test_size = 0.20)"
   ]
  },
  {
   "cell_type": "code",
   "execution_count": 12,
   "id": "f1d12832",
   "metadata": {
    "execution": {
     "iopub.execute_input": "2022-04-07T18:46:01.514080Z",
     "iopub.status.busy": "2022-04-07T18:46:01.513431Z",
     "iopub.status.idle": "2022-04-07T18:46:01.518793Z",
     "shell.execute_reply": "2022-04-07T18:46:01.518184Z",
     "shell.execute_reply.started": "2022-04-07T18:28:08.840688Z"
    },
    "papermill": {
     "duration": 0.027305,
     "end_time": "2022-04-07T18:46:01.518944",
     "exception": false,
     "start_time": "2022-04-07T18:46:01.491639",
     "status": "completed"
    },
    "tags": []
   },
   "outputs": [],
   "source": [
    "from sklearn.naive_bayes import MultinomialNB"
   ]
  },
  {
   "cell_type": "code",
   "execution_count": 13,
   "id": "c0121aef",
   "metadata": {
    "execution": {
     "iopub.execute_input": "2022-04-07T18:46:01.566191Z",
     "iopub.status.busy": "2022-04-07T18:46:01.565171Z",
     "iopub.status.idle": "2022-04-07T18:46:02.571265Z",
     "shell.execute_reply": "2022-04-07T18:46:02.571810Z",
     "shell.execute_reply.started": "2022-04-07T18:28:33.823740Z"
    },
    "papermill": {
     "duration": 1.033851,
     "end_time": "2022-04-07T18:46:02.571999",
     "exception": false,
     "start_time": "2022-04-07T18:46:01.538148",
     "status": "completed"
    },
    "tags": []
   },
   "outputs": [
    {
     "data": {
      "text/plain": [
       "MultinomialNB()"
      ]
     },
     "execution_count": 13,
     "metadata": {},
     "output_type": "execute_result"
    }
   ],
   "source": [
    "model = MultinomialNB()\n",
    "model.fit(xtrain,ytrain)"
   ]
  },
  {
   "cell_type": "code",
   "execution_count": 14,
   "id": "392c02ab",
   "metadata": {
    "execution": {
     "iopub.execute_input": "2022-04-07T18:46:02.611728Z",
     "iopub.status.busy": "2022-04-07T18:46:02.610703Z",
     "iopub.status.idle": "2022-04-07T18:46:02.616814Z",
     "shell.execute_reply": "2022-04-07T18:46:02.617419Z",
     "shell.execute_reply.started": "2022-04-07T18:29:07.192991Z"
    },
    "papermill": {
     "duration": 0.027689,
     "end_time": "2022-04-07T18:46:02.617602",
     "exception": false,
     "start_time": "2022-04-07T18:46:02.589913",
     "status": "completed"
    },
    "tags": []
   },
   "outputs": [
    {
     "data": {
      "text/plain": [
       "' Justin Timberlake Visits Texas School Shooting Victims authors'"
      ]
     },
     "execution_count": 14,
     "metadata": {},
     "output_type": "execute_result"
    }
   ],
   "source": [
    "df['headline'].loc[10]"
   ]
  },
  {
   "cell_type": "code",
   "execution_count": 15,
   "id": "d6a6f74f",
   "metadata": {
    "execution": {
     "iopub.execute_input": "2022-04-07T18:46:02.657434Z",
     "iopub.status.busy": "2022-04-07T18:46:02.656685Z",
     "iopub.status.idle": "2022-04-07T18:46:02.662891Z",
     "shell.execute_reply": "2022-04-07T18:46:02.663389Z",
     "shell.execute_reply.started": "2022-04-07T18:29:44.886031Z"
    },
    "papermill": {
     "duration": 0.028002,
     "end_time": "2022-04-07T18:46:02.663569",
     "exception": false,
     "start_time": "2022-04-07T18:46:02.635567",
     "status": "completed"
    },
    "tags": []
   },
   "outputs": [
    {
     "data": {
      "text/plain": [
       "' ENTERTAINMENT  '"
      ]
     },
     "execution_count": 15,
     "metadata": {},
     "output_type": "execute_result"
    }
   ],
   "source": [
    "df['category'].loc[10]"
   ]
  },
  {
   "cell_type": "code",
   "execution_count": 16,
   "id": "dc56c937",
   "metadata": {
    "execution": {
     "iopub.execute_input": "2022-04-07T18:46:02.706817Z",
     "iopub.status.busy": "2022-04-07T18:46:02.706099Z",
     "iopub.status.idle": "2022-04-07T18:46:02.708870Z",
     "shell.execute_reply": "2022-04-07T18:46:02.709334Z",
     "shell.execute_reply.started": "2022-04-07T18:44:08.620765Z"
    },
    "papermill": {
     "duration": 0.028209,
     "end_time": "2022-04-07T18:46:02.709516",
     "exception": false,
     "start_time": "2022-04-07T18:46:02.681307",
     "status": "completed"
    },
    "tags": []
   },
   "outputs": [],
   "source": [
    "input = 'Washington creates first statewide alert system for missing Indigenous people'\n",
    "text = m.transform([input]).toarray()"
   ]
  },
  {
   "cell_type": "code",
   "execution_count": 17,
   "id": "ef37ccaa",
   "metadata": {
    "execution": {
     "iopub.execute_input": "2022-04-07T18:46:02.751294Z",
     "iopub.status.busy": "2022-04-07T18:46:02.750628Z",
     "iopub.status.idle": "2022-04-07T18:46:02.762515Z",
     "shell.execute_reply": "2022-04-07T18:46:02.764169Z",
     "shell.execute_reply.started": "2022-04-07T18:44:15.345724Z"
    },
    "papermill": {
     "duration": 0.036356,
     "end_time": "2022-04-07T18:46:02.764533",
     "exception": false,
     "start_time": "2022-04-07T18:46:02.728177",
     "status": "completed"
    },
    "tags": []
   },
   "outputs": [
    {
     "data": {
      "text/plain": [
       "array([' POLITICS  '], dtype='<U17')"
      ]
     },
     "execution_count": 17,
     "metadata": {},
     "output_type": "execute_result"
    }
   ],
   "source": [
    "model.predict(text)"
   ]
  },
  {
   "cell_type": "code",
   "execution_count": null,
   "id": "efb698aa",
   "metadata": {
    "papermill": {
     "duration": 0.039659,
     "end_time": "2022-04-07T18:46:02.845489",
     "exception": false,
     "start_time": "2022-04-07T18:46:02.805830",
     "status": "completed"
    },
    "tags": []
   },
   "outputs": [],
   "source": []
  }
 ],
 "metadata": {
  "kernelspec": {
   "display_name": "Python 3",
   "language": "python",
   "name": "python3"
  },
  "language_info": {
   "codemirror_mode": {
    "name": "ipython",
    "version": 3
   },
   "file_extension": ".py",
   "mimetype": "text/x-python",
   "name": "python",
   "nbconvert_exporter": "python",
   "pygments_lexer": "ipython3",
   "version": "3.7.12"
  },
  "papermill": {
   "default_parameters": {},
   "duration": 19.232555,
   "end_time": "2022-04-07T18:46:03.795994",
   "environment_variables": {},
   "exception": null,
   "input_path": "__notebook__.ipynb",
   "output_path": "__notebook__.ipynb",
   "parameters": {},
   "start_time": "2022-04-07T18:45:44.563439",
   "version": "2.3.3"
  }
 },
 "nbformat": 4,
 "nbformat_minor": 5
}
