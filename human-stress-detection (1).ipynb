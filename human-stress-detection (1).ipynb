{
 "cells": [
  {
   "cell_type": "code",
   "execution_count": null,
   "id": "76db30f5",
   "metadata": {
    "papermill": {
     "duration": 0.060994,
     "end_time": "2022-04-20T21:57:01.213901",
     "exception": false,
     "start_time": "2022-04-20T21:57:01.152907",
     "status": "completed"
    },
    "tags": []
   },
   "outputs": [],
   "source": []
  },
  {
   "cell_type": "markdown",
   "id": "45b51e3d",
   "metadata": {
    "papermill": {
     "duration": 0.044464,
     "end_time": "2022-04-20T21:57:01.305414",
     "exception": false,
     "start_time": "2022-04-20T21:57:01.260950",
     "status": "completed"
    },
    "tags": []
   },
   "source": [
    "# Human Stress Detection"
   ]
  },
  {
   "cell_type": "markdown",
   "id": "fe50dfe0",
   "metadata": {
    "papermill": {
     "duration": 0.044578,
     "end_time": "2022-04-20T21:57:01.396644",
     "exception": false,
     "start_time": "2022-04-20T21:57:01.352066",
     "status": "completed"
    },
    "tags": []
   },
   "source": [
    "![](https://www.stress.org/wp-content/uploads/2020/02/anxiety-190723-1000x563-1.jpg)"
   ]
  },
  {
   "cell_type": "code",
   "execution_count": 1,
   "id": "c05f7d18",
   "metadata": {
    "execution": {
     "iopub.execute_input": "2022-04-20T21:57:01.487874Z",
     "iopub.status.busy": "2022-04-20T21:57:01.487544Z",
     "iopub.status.idle": "2022-04-20T21:57:01.497493Z",
     "shell.execute_reply": "2022-04-20T21:57:01.496734Z"
    },
    "papermill": {
     "duration": 0.05876,
     "end_time": "2022-04-20T21:57:01.500112",
     "exception": false,
     "start_time": "2022-04-20T21:57:01.441352",
     "status": "completed"
    },
    "tags": []
   },
   "outputs": [],
   "source": [
    "import pandas as pd\n",
    "import numpy as np\n",
    "import matplotlib.pyplot as plt"
   ]
  },
  {
   "cell_type": "code",
   "execution_count": 2,
   "id": "0fc46033",
   "metadata": {
    "execution": {
     "iopub.execute_input": "2022-04-20T21:57:01.593270Z",
     "iopub.status.busy": "2022-04-20T21:57:01.592975Z",
     "iopub.status.idle": "2022-04-20T21:57:02.719343Z",
     "shell.execute_reply": "2022-04-20T21:57:02.718323Z"
    },
    "papermill": {
     "duration": 1.175139,
     "end_time": "2022-04-20T21:57:02.721781",
     "exception": false,
     "start_time": "2022-04-20T21:57:01.546642",
     "status": "completed"
    },
    "tags": []
   },
   "outputs": [],
   "source": [
    "import seaborn as sns"
   ]
  },
  {
   "cell_type": "code",
   "execution_count": 3,
   "id": "af20568c",
   "metadata": {
    "execution": {
     "iopub.execute_input": "2022-04-20T21:57:02.814823Z",
     "iopub.status.busy": "2022-04-20T21:57:02.813984Z",
     "iopub.status.idle": "2022-04-20T21:57:02.840467Z",
     "shell.execute_reply": "2022-04-20T21:57:02.839556Z"
    },
    "papermill": {
     "duration": 0.075369,
     "end_time": "2022-04-20T21:57:02.842808",
     "exception": false,
     "start_time": "2022-04-20T21:57:02.767439",
     "status": "completed"
    },
    "tags": []
   },
   "outputs": [],
   "source": [
    "df = pd.read_csv('../input/human-stress-detection-in-and-through-sleep/SaYoPillow.csv')"
   ]
  },
  {
   "cell_type": "code",
   "execution_count": 4,
   "id": "5757db37",
   "metadata": {
    "execution": {
     "iopub.execute_input": "2022-04-20T21:57:02.939603Z",
     "iopub.status.busy": "2022-04-20T21:57:02.939286Z",
     "iopub.status.idle": "2022-04-20T21:57:02.961694Z",
     "shell.execute_reply": "2022-04-20T21:57:02.961033Z"
    },
    "papermill": {
     "duration": 0.07383,
     "end_time": "2022-04-20T21:57:02.964062",
     "exception": false,
     "start_time": "2022-04-20T21:57:02.890232",
     "status": "completed"
    },
    "tags": []
   },
   "outputs": [
    {
     "data": {
      "text/html": [
       "<div>\n",
       "<style scoped>\n",
       "    .dataframe tbody tr th:only-of-type {\n",
       "        vertical-align: middle;\n",
       "    }\n",
       "\n",
       "    .dataframe tbody tr th {\n",
       "        vertical-align: top;\n",
       "    }\n",
       "\n",
       "    .dataframe thead th {\n",
       "        text-align: right;\n",
       "    }\n",
       "</style>\n",
       "<table border=\"1\" class=\"dataframe\">\n",
       "  <thead>\n",
       "    <tr style=\"text-align: right;\">\n",
       "      <th></th>\n",
       "      <th>sr</th>\n",
       "      <th>rr</th>\n",
       "      <th>t</th>\n",
       "      <th>lm</th>\n",
       "      <th>bo</th>\n",
       "      <th>rem</th>\n",
       "      <th>sr.1</th>\n",
       "      <th>hr</th>\n",
       "      <th>sl</th>\n",
       "    </tr>\n",
       "  </thead>\n",
       "  <tbody>\n",
       "    <tr>\n",
       "      <th>0</th>\n",
       "      <td>93.80</td>\n",
       "      <td>25.680</td>\n",
       "      <td>91.840</td>\n",
       "      <td>16.60</td>\n",
       "      <td>89.840</td>\n",
       "      <td>99.60</td>\n",
       "      <td>1.840</td>\n",
       "      <td>74.20</td>\n",
       "      <td>3</td>\n",
       "    </tr>\n",
       "    <tr>\n",
       "      <th>1</th>\n",
       "      <td>91.64</td>\n",
       "      <td>25.104</td>\n",
       "      <td>91.552</td>\n",
       "      <td>15.88</td>\n",
       "      <td>89.552</td>\n",
       "      <td>98.88</td>\n",
       "      <td>1.552</td>\n",
       "      <td>72.76</td>\n",
       "      <td>3</td>\n",
       "    </tr>\n",
       "  </tbody>\n",
       "</table>\n",
       "</div>"
      ],
      "text/plain": [
       "      sr      rr       t     lm      bo    rem   sr.1     hr  sl\n",
       "0  93.80  25.680  91.840  16.60  89.840  99.60  1.840  74.20   3\n",
       "1  91.64  25.104  91.552  15.88  89.552  98.88  1.552  72.76   3"
      ]
     },
     "execution_count": 4,
     "metadata": {},
     "output_type": "execute_result"
    }
   ],
   "source": [
    "df.head(2)"
   ]
  },
  {
   "cell_type": "code",
   "execution_count": 5,
   "id": "009bd4d3",
   "metadata": {
    "execution": {
     "iopub.execute_input": "2022-04-20T21:57:03.057940Z",
     "iopub.status.busy": "2022-04-20T21:57:03.057429Z",
     "iopub.status.idle": "2022-04-20T21:57:03.066808Z",
     "shell.execute_reply": "2022-04-20T21:57:03.066074Z"
    },
    "papermill": {
     "duration": 0.058234,
     "end_time": "2022-04-20T21:57:03.069138",
     "exception": false,
     "start_time": "2022-04-20T21:57:03.010904",
     "status": "completed"
    },
    "tags": []
   },
   "outputs": [],
   "source": [
    "df.columns=[['snoring range','respiration rate','body temperature','limb movement rate', \n",
    "            'blood oxygen levels','eye movement', \n",
    "            'number of hours of sleep', 'heart rate','Stress Levels']]"
   ]
  },
  {
   "cell_type": "code",
   "execution_count": 6,
   "id": "8496e2ff",
   "metadata": {
    "execution": {
     "iopub.execute_input": "2022-04-20T21:57:03.163938Z",
     "iopub.status.busy": "2022-04-20T21:57:03.163487Z",
     "iopub.status.idle": "2022-04-20T21:57:03.184290Z",
     "shell.execute_reply": "2022-04-20T21:57:03.183371Z"
    },
    "papermill": {
     "duration": 0.069998,
     "end_time": "2022-04-20T21:57:03.186412",
     "exception": false,
     "start_time": "2022-04-20T21:57:03.116414",
     "status": "completed"
    },
    "tags": []
   },
   "outputs": [
    {
     "data": {
      "text/html": [
       "<div>\n",
       "<style scoped>\n",
       "    .dataframe tbody tr th:only-of-type {\n",
       "        vertical-align: middle;\n",
       "    }\n",
       "\n",
       "    .dataframe tbody tr th {\n",
       "        vertical-align: top;\n",
       "    }\n",
       "\n",
       "    .dataframe thead tr th {\n",
       "        text-align: left;\n",
       "    }\n",
       "</style>\n",
       "<table border=\"1\" class=\"dataframe\">\n",
       "  <thead>\n",
       "    <tr>\n",
       "      <th></th>\n",
       "      <th>snoring range</th>\n",
       "      <th>respiration rate</th>\n",
       "      <th>body temperature</th>\n",
       "      <th>limb movement rate</th>\n",
       "      <th>blood oxygen levels</th>\n",
       "      <th>eye movement</th>\n",
       "      <th>number of hours of sleep</th>\n",
       "      <th>heart rate</th>\n",
       "      <th>Stress Levels</th>\n",
       "    </tr>\n",
       "  </thead>\n",
       "  <tbody>\n",
       "    <tr>\n",
       "      <th>0</th>\n",
       "      <td>93.80</td>\n",
       "      <td>25.680</td>\n",
       "      <td>91.840</td>\n",
       "      <td>16.600</td>\n",
       "      <td>89.840</td>\n",
       "      <td>99.60</td>\n",
       "      <td>1.840</td>\n",
       "      <td>74.20</td>\n",
       "      <td>3</td>\n",
       "    </tr>\n",
       "    <tr>\n",
       "      <th>1</th>\n",
       "      <td>91.64</td>\n",
       "      <td>25.104</td>\n",
       "      <td>91.552</td>\n",
       "      <td>15.880</td>\n",
       "      <td>89.552</td>\n",
       "      <td>98.88</td>\n",
       "      <td>1.552</td>\n",
       "      <td>72.76</td>\n",
       "      <td>3</td>\n",
       "    </tr>\n",
       "    <tr>\n",
       "      <th>2</th>\n",
       "      <td>60.00</td>\n",
       "      <td>20.000</td>\n",
       "      <td>96.000</td>\n",
       "      <td>10.000</td>\n",
       "      <td>95.000</td>\n",
       "      <td>85.00</td>\n",
       "      <td>7.000</td>\n",
       "      <td>60.00</td>\n",
       "      <td>1</td>\n",
       "    </tr>\n",
       "    <tr>\n",
       "      <th>3</th>\n",
       "      <td>85.76</td>\n",
       "      <td>23.536</td>\n",
       "      <td>90.768</td>\n",
       "      <td>13.920</td>\n",
       "      <td>88.768</td>\n",
       "      <td>96.92</td>\n",
       "      <td>0.768</td>\n",
       "      <td>68.84</td>\n",
       "      <td>3</td>\n",
       "    </tr>\n",
       "    <tr>\n",
       "      <th>4</th>\n",
       "      <td>48.12</td>\n",
       "      <td>17.248</td>\n",
       "      <td>97.872</td>\n",
       "      <td>6.496</td>\n",
       "      <td>96.248</td>\n",
       "      <td>72.48</td>\n",
       "      <td>8.248</td>\n",
       "      <td>53.12</td>\n",
       "      <td>0</td>\n",
       "    </tr>\n",
       "  </tbody>\n",
       "</table>\n",
       "</div>"
      ],
      "text/plain": [
       "  snoring range respiration rate body temperature limb movement rate  \\\n",
       "0         93.80           25.680           91.840             16.600   \n",
       "1         91.64           25.104           91.552             15.880   \n",
       "2         60.00           20.000           96.000             10.000   \n",
       "3         85.76           23.536           90.768             13.920   \n",
       "4         48.12           17.248           97.872              6.496   \n",
       "\n",
       "  blood oxygen levels eye movement number of hours of sleep heart rate  \\\n",
       "0              89.840        99.60                    1.840      74.20   \n",
       "1              89.552        98.88                    1.552      72.76   \n",
       "2              95.000        85.00                    7.000      60.00   \n",
       "3              88.768        96.92                    0.768      68.84   \n",
       "4              96.248        72.48                    8.248      53.12   \n",
       "\n",
       "  Stress Levels  \n",
       "0             3  \n",
       "1             3  \n",
       "2             1  \n",
       "3             3  \n",
       "4             0  "
      ]
     },
     "execution_count": 6,
     "metadata": {},
     "output_type": "execute_result"
    }
   ],
   "source": [
    "df.head()"
   ]
  },
  {
   "cell_type": "code",
   "execution_count": 7,
   "id": "a5ade591",
   "metadata": {
    "execution": {
     "iopub.execute_input": "2022-04-20T21:57:03.279908Z",
     "iopub.status.busy": "2022-04-20T21:57:03.279642Z",
     "iopub.status.idle": "2022-04-20T21:57:03.286969Z",
     "shell.execute_reply": "2022-04-20T21:57:03.286129Z"
    },
    "papermill": {
     "duration": 0.05675,
     "end_time": "2022-04-20T21:57:03.289111",
     "exception": false,
     "start_time": "2022-04-20T21:57:03.232361",
     "status": "completed"
    },
    "tags": []
   },
   "outputs": [],
   "source": [
    "corr = df.corr()"
   ]
  },
  {
   "cell_type": "code",
   "execution_count": 8,
   "id": "31a5b2e0",
   "metadata": {
    "execution": {
     "iopub.execute_input": "2022-04-20T21:57:03.383576Z",
     "iopub.status.busy": "2022-04-20T21:57:03.383061Z",
     "iopub.status.idle": "2022-04-20T21:57:03.395757Z",
     "shell.execute_reply": "2022-04-20T21:57:03.395128Z"
    },
    "papermill": {
     "duration": 0.061896,
     "end_time": "2022-04-20T21:57:03.397796",
     "exception": false,
     "start_time": "2022-04-20T21:57:03.335900",
     "status": "completed"
    },
    "tags": []
   },
   "outputs": [
    {
     "data": {
      "text/html": [
       "<div>\n",
       "<style scoped>\n",
       "    .dataframe tbody tr th:only-of-type {\n",
       "        vertical-align: middle;\n",
       "    }\n",
       "\n",
       "    .dataframe tbody tr th {\n",
       "        vertical-align: top;\n",
       "    }\n",
       "\n",
       "    .dataframe thead tr th {\n",
       "        text-align: left;\n",
       "    }\n",
       "</style>\n",
       "<table border=\"1\" class=\"dataframe\">\n",
       "  <thead>\n",
       "    <tr>\n",
       "      <th></th>\n",
       "      <th>Stress Levels</th>\n",
       "    </tr>\n",
       "  </thead>\n",
       "  <tbody>\n",
       "    <tr>\n",
       "      <th>snoring range</th>\n",
       "      <td>0.975322</td>\n",
       "    </tr>\n",
       "    <tr>\n",
       "      <th>respiration rate</th>\n",
       "      <td>0.963516</td>\n",
       "    </tr>\n",
       "    <tr>\n",
       "      <th>body temperature</th>\n",
       "      <td>-0.962354</td>\n",
       "    </tr>\n",
       "    <tr>\n",
       "      <th>limb movement rate</th>\n",
       "      <td>0.971071</td>\n",
       "    </tr>\n",
       "    <tr>\n",
       "      <th>blood oxygen levels</th>\n",
       "      <td>-0.961092</td>\n",
       "    </tr>\n",
       "    <tr>\n",
       "      <th>eye movement</th>\n",
       "      <td>0.951988</td>\n",
       "    </tr>\n",
       "    <tr>\n",
       "      <th>number of hours of sleep</th>\n",
       "      <td>-0.973036</td>\n",
       "    </tr>\n",
       "    <tr>\n",
       "      <th>heart rate</th>\n",
       "      <td>0.963516</td>\n",
       "    </tr>\n",
       "    <tr>\n",
       "      <th>Stress Levels</th>\n",
       "      <td>1.000000</td>\n",
       "    </tr>\n",
       "  </tbody>\n",
       "</table>\n",
       "</div>"
      ],
      "text/plain": [
       "                         Stress Levels\n",
       "snoring range                 0.975322\n",
       "respiration rate              0.963516\n",
       "body temperature             -0.962354\n",
       "limb movement rate            0.971071\n",
       "blood oxygen levels          -0.961092\n",
       "eye movement                  0.951988\n",
       "number of hours of sleep     -0.973036\n",
       "heart rate                    0.963516\n",
       "Stress Levels                 1.000000"
      ]
     },
     "execution_count": 8,
     "metadata": {},
     "output_type": "execute_result"
    }
   ],
   "source": [
    "corr['Stress Levels']"
   ]
  },
  {
   "cell_type": "code",
   "execution_count": 9,
   "id": "2a5c5a1b",
   "metadata": {
    "execution": {
     "iopub.execute_input": "2022-04-20T21:57:03.493140Z",
     "iopub.status.busy": "2022-04-20T21:57:03.492864Z",
     "iopub.status.idle": "2022-04-20T21:57:03.694296Z",
     "shell.execute_reply": "2022-04-20T21:57:03.693333Z"
    },
    "papermill": {
     "duration": 0.252131,
     "end_time": "2022-04-20T21:57:03.696788",
     "exception": false,
     "start_time": "2022-04-20T21:57:03.444657",
     "status": "completed"
    },
    "tags": []
   },
   "outputs": [],
   "source": [
    "from sklearn.model_selection import train_test_split"
   ]
  },
  {
   "cell_type": "code",
   "execution_count": 10,
   "id": "69bea5da",
   "metadata": {
    "execution": {
     "iopub.execute_input": "2022-04-20T21:57:03.792744Z",
     "iopub.status.busy": "2022-04-20T21:57:03.791790Z",
     "iopub.status.idle": "2022-04-20T21:57:03.817755Z",
     "shell.execute_reply": "2022-04-20T21:57:03.817051Z"
    },
    "papermill": {
     "duration": 0.075787,
     "end_time": "2022-04-20T21:57:03.819604",
     "exception": false,
     "start_time": "2022-04-20T21:57:03.743817",
     "status": "completed"
    },
    "tags": []
   },
   "outputs": [
    {
     "data": {
      "text/html": [
       "<div>\n",
       "<style scoped>\n",
       "    .dataframe tbody tr th:only-of-type {\n",
       "        vertical-align: middle;\n",
       "    }\n",
       "\n",
       "    .dataframe tbody tr th {\n",
       "        vertical-align: top;\n",
       "    }\n",
       "\n",
       "    .dataframe thead tr th {\n",
       "        text-align: left;\n",
       "    }\n",
       "</style>\n",
       "<table border=\"1\" class=\"dataframe\">\n",
       "  <thead>\n",
       "    <tr>\n",
       "      <th></th>\n",
       "      <th>snoring range</th>\n",
       "      <th>respiration rate</th>\n",
       "      <th>body temperature</th>\n",
       "      <th>limb movement rate</th>\n",
       "      <th>blood oxygen levels</th>\n",
       "      <th>eye movement</th>\n",
       "      <th>number of hours of sleep</th>\n",
       "      <th>heart rate</th>\n",
       "    </tr>\n",
       "  </thead>\n",
       "  <tbody>\n",
       "    <tr>\n",
       "      <th>0</th>\n",
       "      <td>93.800</td>\n",
       "      <td>25.680</td>\n",
       "      <td>91.840</td>\n",
       "      <td>16.600</td>\n",
       "      <td>89.840</td>\n",
       "      <td>99.60</td>\n",
       "      <td>1.840</td>\n",
       "      <td>74.20</td>\n",
       "    </tr>\n",
       "    <tr>\n",
       "      <th>1</th>\n",
       "      <td>91.640</td>\n",
       "      <td>25.104</td>\n",
       "      <td>91.552</td>\n",
       "      <td>15.880</td>\n",
       "      <td>89.552</td>\n",
       "      <td>98.88</td>\n",
       "      <td>1.552</td>\n",
       "      <td>72.76</td>\n",
       "    </tr>\n",
       "    <tr>\n",
       "      <th>2</th>\n",
       "      <td>60.000</td>\n",
       "      <td>20.000</td>\n",
       "      <td>96.000</td>\n",
       "      <td>10.000</td>\n",
       "      <td>95.000</td>\n",
       "      <td>85.00</td>\n",
       "      <td>7.000</td>\n",
       "      <td>60.00</td>\n",
       "    </tr>\n",
       "    <tr>\n",
       "      <th>3</th>\n",
       "      <td>85.760</td>\n",
       "      <td>23.536</td>\n",
       "      <td>90.768</td>\n",
       "      <td>13.920</td>\n",
       "      <td>88.768</td>\n",
       "      <td>96.92</td>\n",
       "      <td>0.768</td>\n",
       "      <td>68.84</td>\n",
       "    </tr>\n",
       "    <tr>\n",
       "      <th>4</th>\n",
       "      <td>48.120</td>\n",
       "      <td>17.248</td>\n",
       "      <td>97.872</td>\n",
       "      <td>6.496</td>\n",
       "      <td>96.248</td>\n",
       "      <td>72.48</td>\n",
       "      <td>8.248</td>\n",
       "      <td>53.12</td>\n",
       "    </tr>\n",
       "    <tr>\n",
       "      <th>...</th>\n",
       "      <td>...</td>\n",
       "      <td>...</td>\n",
       "      <td>...</td>\n",
       "      <td>...</td>\n",
       "      <td>...</td>\n",
       "      <td>...</td>\n",
       "      <td>...</td>\n",
       "      <td>...</td>\n",
       "    </tr>\n",
       "    <tr>\n",
       "      <th>625</th>\n",
       "      <td>69.600</td>\n",
       "      <td>20.960</td>\n",
       "      <td>92.960</td>\n",
       "      <td>10.960</td>\n",
       "      <td>90.960</td>\n",
       "      <td>89.80</td>\n",
       "      <td>3.440</td>\n",
       "      <td>62.40</td>\n",
       "    </tr>\n",
       "    <tr>\n",
       "      <th>626</th>\n",
       "      <td>48.440</td>\n",
       "      <td>17.376</td>\n",
       "      <td>98.064</td>\n",
       "      <td>6.752</td>\n",
       "      <td>96.376</td>\n",
       "      <td>73.76</td>\n",
       "      <td>8.376</td>\n",
       "      <td>53.44</td>\n",
       "    </tr>\n",
       "    <tr>\n",
       "      <th>627</th>\n",
       "      <td>97.504</td>\n",
       "      <td>27.504</td>\n",
       "      <td>86.880</td>\n",
       "      <td>17.752</td>\n",
       "      <td>84.256</td>\n",
       "      <td>101.88</td>\n",
       "      <td>0.000</td>\n",
       "      <td>78.76</td>\n",
       "    </tr>\n",
       "    <tr>\n",
       "      <th>628</th>\n",
       "      <td>58.640</td>\n",
       "      <td>19.728</td>\n",
       "      <td>95.728</td>\n",
       "      <td>9.728</td>\n",
       "      <td>94.592</td>\n",
       "      <td>84.32</td>\n",
       "      <td>6.728</td>\n",
       "      <td>59.32</td>\n",
       "    </tr>\n",
       "    <tr>\n",
       "      <th>629</th>\n",
       "      <td>73.920</td>\n",
       "      <td>21.392</td>\n",
       "      <td>93.392</td>\n",
       "      <td>11.392</td>\n",
       "      <td>91.392</td>\n",
       "      <td>91.96</td>\n",
       "      <td>4.088</td>\n",
       "      <td>63.48</td>\n",
       "    </tr>\n",
       "  </tbody>\n",
       "</table>\n",
       "<p>630 rows × 8 columns</p>\n",
       "</div>"
      ],
      "text/plain": [
       "    snoring range respiration rate body temperature limb movement rate  \\\n",
       "0          93.800           25.680           91.840             16.600   \n",
       "1          91.640           25.104           91.552             15.880   \n",
       "2          60.000           20.000           96.000             10.000   \n",
       "3          85.760           23.536           90.768             13.920   \n",
       "4          48.120           17.248           97.872              6.496   \n",
       "..            ...              ...              ...                ...   \n",
       "625        69.600           20.960           92.960             10.960   \n",
       "626        48.440           17.376           98.064              6.752   \n",
       "627        97.504           27.504           86.880             17.752   \n",
       "628        58.640           19.728           95.728              9.728   \n",
       "629        73.920           21.392           93.392             11.392   \n",
       "\n",
       "    blood oxygen levels eye movement number of hours of sleep heart rate  \n",
       "0                89.840        99.60                    1.840      74.20  \n",
       "1                89.552        98.88                    1.552      72.76  \n",
       "2                95.000        85.00                    7.000      60.00  \n",
       "3                88.768        96.92                    0.768      68.84  \n",
       "4                96.248        72.48                    8.248      53.12  \n",
       "..                  ...          ...                      ...        ...  \n",
       "625              90.960        89.80                    3.440      62.40  \n",
       "626              96.376        73.76                    8.376      53.44  \n",
       "627              84.256       101.88                    0.000      78.76  \n",
       "628              94.592        84.32                    6.728      59.32  \n",
       "629              91.392        91.96                    4.088      63.48  \n",
       "\n",
       "[630 rows x 8 columns]"
      ]
     },
     "execution_count": 10,
     "metadata": {},
     "output_type": "execute_result"
    }
   ],
   "source": [
    "x = df.iloc[:,:-1]\n",
    "x"
   ]
  },
  {
   "cell_type": "code",
   "execution_count": 11,
   "id": "678648bf",
   "metadata": {
    "execution": {
     "iopub.execute_input": "2022-04-20T21:57:03.915891Z",
     "iopub.status.busy": "2022-04-20T21:57:03.915403Z",
     "iopub.status.idle": "2022-04-20T21:57:03.923217Z",
     "shell.execute_reply": "2022-04-20T21:57:03.922207Z"
    },
    "papermill": {
     "duration": 0.058476,
     "end_time": "2022-04-20T21:57:03.925307",
     "exception": false,
     "start_time": "2022-04-20T21:57:03.866831",
     "status": "completed"
    },
    "tags": []
   },
   "outputs": [
    {
     "data": {
      "text/plain": [
       "0      3\n",
       "1      3\n",
       "2      1\n",
       "3      3\n",
       "4      0\n",
       "      ..\n",
       "625    2\n",
       "626    0\n",
       "627    4\n",
       "628    1\n",
       "629    2\n",
       "Name: (Stress Levels,), Length: 630, dtype: int64"
      ]
     },
     "execution_count": 11,
     "metadata": {},
     "output_type": "execute_result"
    }
   ],
   "source": [
    "y =df.iloc[:,-1]\n",
    "y"
   ]
  },
  {
   "cell_type": "code",
   "execution_count": 12,
   "id": "3bdc5c8b",
   "metadata": {
    "execution": {
     "iopub.execute_input": "2022-04-20T21:57:04.022931Z",
     "iopub.status.busy": "2022-04-20T21:57:04.022627Z",
     "iopub.status.idle": "2022-04-20T21:57:04.027788Z",
     "shell.execute_reply": "2022-04-20T21:57:04.027173Z"
    },
    "papermill": {
     "duration": 0.05708,
     "end_time": "2022-04-20T21:57:04.029721",
     "exception": false,
     "start_time": "2022-04-20T21:57:03.972641",
     "status": "completed"
    },
    "tags": []
   },
   "outputs": [],
   "source": [
    "xtrain,xtest,ytrain,ytest = train_test_split(x,y,test_size = 0.20)"
   ]
  },
  {
   "cell_type": "markdown",
   "id": "5cca8ca8",
   "metadata": {
    "papermill": {
     "duration": 0.047004,
     "end_time": "2022-04-20T21:57:04.124985",
     "exception": false,
     "start_time": "2022-04-20T21:57:04.077981",
     "status": "completed"
    },
    "tags": []
   },
   "source": [
    "# Feature Selection 1"
   ]
  },
  {
   "cell_type": "code",
   "execution_count": 13,
   "id": "7a03f654",
   "metadata": {
    "execution": {
     "iopub.execute_input": "2022-04-20T21:57:04.221785Z",
     "iopub.status.busy": "2022-04-20T21:57:04.221331Z",
     "iopub.status.idle": "2022-04-20T21:57:04.367215Z",
     "shell.execute_reply": "2022-04-20T21:57:04.366303Z"
    },
    "papermill": {
     "duration": 0.197309,
     "end_time": "2022-04-20T21:57:04.369821",
     "exception": false,
     "start_time": "2022-04-20T21:57:04.172512",
     "status": "completed"
    },
    "tags": []
   },
   "outputs": [],
   "source": [
    "from sklearn.feature_selection import SelectKBest\n",
    "from sklearn.feature_selection import mutual_info_classif"
   ]
  },
  {
   "cell_type": "code",
   "execution_count": 14,
   "id": "1a31143a",
   "metadata": {
    "execution": {
     "iopub.execute_input": "2022-04-20T21:57:04.467958Z",
     "iopub.status.busy": "2022-04-20T21:57:04.467651Z",
     "iopub.status.idle": "2022-04-20T21:57:04.524053Z",
     "shell.execute_reply": "2022-04-20T21:57:04.523279Z"
    },
    "papermill": {
     "duration": 0.108635,
     "end_time": "2022-04-20T21:57:04.526359",
     "exception": false,
     "start_time": "2022-04-20T21:57:04.417724",
     "status": "completed"
    },
    "tags": []
   },
   "outputs": [
    {
     "name": "stderr",
     "output_type": "stream",
     "text": [
      "/opt/conda/lib/python3.7/site-packages/sklearn/utils/validation.py:1692: FutureWarning: Feature names only support names that are all strings. Got feature names with dtypes: ['tuple']. An error will be raised in 1.2.\n",
      "  FutureWarning,\n"
     ]
    }
   ],
   "source": [
    "kbest = SelectKBest(mutual_info_classif,k=4)\n",
    "slectfeture = kbest.fit(xtrain,ytrain)"
   ]
  },
  {
   "cell_type": "code",
   "execution_count": 15,
   "id": "feeddacd",
   "metadata": {
    "execution": {
     "iopub.execute_input": "2022-04-20T21:57:04.624156Z",
     "iopub.status.busy": "2022-04-20T21:57:04.623582Z",
     "iopub.status.idle": "2022-04-20T21:57:04.630996Z",
     "shell.execute_reply": "2022-04-20T21:57:04.630436Z"
    },
    "papermill": {
     "duration": 0.058603,
     "end_time": "2022-04-20T21:57:04.632918",
     "exception": false,
     "start_time": "2022-04-20T21:57:04.574315",
     "status": "completed"
    },
    "tags": []
   },
   "outputs": [
    {
     "data": {
      "text/plain": [
       "MultiIndex([(     'snoring range',),\n",
       "            (  'respiration rate',),\n",
       "            ('limb movement rate',),\n",
       "            (        'heart rate',)],\n",
       "           )"
      ]
     },
     "execution_count": 15,
     "metadata": {},
     "output_type": "execute_result"
    }
   ],
   "source": [
    "xtrain.columns[slectfeture.get_support()]"
   ]
  },
  {
   "cell_type": "code",
   "execution_count": 16,
   "id": "676d8a33",
   "metadata": {
    "execution": {
     "iopub.execute_input": "2022-04-20T21:57:04.734103Z",
     "iopub.status.busy": "2022-04-20T21:57:04.733751Z",
     "iopub.status.idle": "2022-04-20T21:57:04.741927Z",
     "shell.execute_reply": "2022-04-20T21:57:04.741092Z"
    },
    "papermill": {
     "duration": 0.0618,
     "end_time": "2022-04-20T21:57:04.744198",
     "exception": false,
     "start_time": "2022-04-20T21:57:04.682398",
     "status": "completed"
    },
    "tags": []
   },
   "outputs": [],
   "source": [
    "x1 = df[['snoring range','respiration rate','blood oxygen levels','heart rate']]"
   ]
  },
  {
   "cell_type": "code",
   "execution_count": 17,
   "id": "e8482dfd",
   "metadata": {
    "execution": {
     "iopub.execute_input": "2022-04-20T21:57:04.842718Z",
     "iopub.status.busy": "2022-04-20T21:57:04.842415Z",
     "iopub.status.idle": "2022-04-20T21:57:04.853855Z",
     "shell.execute_reply": "2022-04-20T21:57:04.852870Z"
    },
    "papermill": {
     "duration": 0.063232,
     "end_time": "2022-04-20T21:57:04.856067",
     "exception": false,
     "start_time": "2022-04-20T21:57:04.792835",
     "status": "completed"
    },
    "tags": []
   },
   "outputs": [
    {
     "data": {
      "text/html": [
       "<div>\n",
       "<style scoped>\n",
       "    .dataframe tbody tr th:only-of-type {\n",
       "        vertical-align: middle;\n",
       "    }\n",
       "\n",
       "    .dataframe tbody tr th {\n",
       "        vertical-align: top;\n",
       "    }\n",
       "\n",
       "    .dataframe thead tr th {\n",
       "        text-align: left;\n",
       "    }\n",
       "</style>\n",
       "<table border=\"1\" class=\"dataframe\">\n",
       "  <thead>\n",
       "    <tr>\n",
       "      <th></th>\n",
       "      <th>snoring range</th>\n",
       "      <th>respiration rate</th>\n",
       "      <th>blood oxygen levels</th>\n",
       "      <th>heart rate</th>\n",
       "    </tr>\n",
       "  </thead>\n",
       "  <tbody>\n",
       "    <tr>\n",
       "      <th>0</th>\n",
       "      <td>93.8</td>\n",
       "      <td>25.68</td>\n",
       "      <td>89.84</td>\n",
       "      <td>74.2</td>\n",
       "    </tr>\n",
       "  </tbody>\n",
       "</table>\n",
       "</div>"
      ],
      "text/plain": [
       "  snoring range respiration rate blood oxygen levels heart rate\n",
       "0          93.8            25.68               89.84       74.2"
      ]
     },
     "execution_count": 17,
     "metadata": {},
     "output_type": "execute_result"
    }
   ],
   "source": [
    "x1.head(1)"
   ]
  },
  {
   "cell_type": "code",
   "execution_count": 18,
   "id": "6d44118a",
   "metadata": {
    "execution": {
     "iopub.execute_input": "2022-04-20T21:57:04.957213Z",
     "iopub.status.busy": "2022-04-20T21:57:04.956894Z",
     "iopub.status.idle": "2022-04-20T21:57:04.962538Z",
     "shell.execute_reply": "2022-04-20T21:57:04.961915Z"
    },
    "papermill": {
     "duration": 0.059114,
     "end_time": "2022-04-20T21:57:04.964433",
     "exception": false,
     "start_time": "2022-04-20T21:57:04.905319",
     "status": "completed"
    },
    "tags": []
   },
   "outputs": [],
   "source": [
    "x1train,x1test,y1train,y1test = train_test_split(x1,y,test_size = 0.20)"
   ]
  },
  {
   "cell_type": "code",
   "execution_count": 19,
   "id": "c291b1ac",
   "metadata": {
    "execution": {
     "iopub.execute_input": "2022-04-20T21:57:05.066254Z",
     "iopub.status.busy": "2022-04-20T21:57:05.065834Z",
     "iopub.status.idle": "2022-04-20T21:57:05.077497Z",
     "shell.execute_reply": "2022-04-20T21:57:05.076660Z"
    },
    "papermill": {
     "duration": 0.064154,
     "end_time": "2022-04-20T21:57:05.079384",
     "exception": false,
     "start_time": "2022-04-20T21:57:05.015230",
     "status": "completed"
    },
    "tags": []
   },
   "outputs": [
    {
     "data": {
      "text/html": [
       "<div>\n",
       "<style scoped>\n",
       "    .dataframe tbody tr th:only-of-type {\n",
       "        vertical-align: middle;\n",
       "    }\n",
       "\n",
       "    .dataframe tbody tr th {\n",
       "        vertical-align: top;\n",
       "    }\n",
       "\n",
       "    .dataframe thead tr th {\n",
       "        text-align: left;\n",
       "    }\n",
       "</style>\n",
       "<table border=\"1\" class=\"dataframe\">\n",
       "  <thead>\n",
       "    <tr>\n",
       "      <th></th>\n",
       "      <th>snoring range</th>\n",
       "      <th>respiration rate</th>\n",
       "      <th>blood oxygen levels</th>\n",
       "      <th>heart rate</th>\n",
       "    </tr>\n",
       "  </thead>\n",
       "  <tbody>\n",
       "    <tr>\n",
       "      <th>133</th>\n",
       "      <td>92.72</td>\n",
       "      <td>25.392</td>\n",
       "      <td>89.696</td>\n",
       "      <td>73.48</td>\n",
       "    </tr>\n",
       "  </tbody>\n",
       "</table>\n",
       "</div>"
      ],
      "text/plain": [
       "    snoring range respiration rate blood oxygen levels heart rate\n",
       "133         92.72           25.392              89.696      73.48"
      ]
     },
     "execution_count": 19,
     "metadata": {},
     "output_type": "execute_result"
    }
   ],
   "source": [
    "x1train.head(1)"
   ]
  },
  {
   "cell_type": "code",
   "execution_count": 20,
   "id": "d993d9a3",
   "metadata": {
    "execution": {
     "iopub.execute_input": "2022-04-20T21:57:05.180527Z",
     "iopub.status.busy": "2022-04-20T21:57:05.179983Z",
     "iopub.status.idle": "2022-04-20T21:57:05.276311Z",
     "shell.execute_reply": "2022-04-20T21:57:05.275495Z"
    },
    "papermill": {
     "duration": 0.149377,
     "end_time": "2022-04-20T21:57:05.278460",
     "exception": false,
     "start_time": "2022-04-20T21:57:05.129083",
     "status": "completed"
    },
    "tags": []
   },
   "outputs": [],
   "source": [
    "from sklearn.ensemble import AdaBoostClassifier"
   ]
  },
  {
   "cell_type": "code",
   "execution_count": 21,
   "id": "d55170d4",
   "metadata": {
    "execution": {
     "iopub.execute_input": "2022-04-20T21:57:05.379422Z",
     "iopub.status.busy": "2022-04-20T21:57:05.378893Z",
     "iopub.status.idle": "2022-04-20T21:57:05.488374Z",
     "shell.execute_reply": "2022-04-20T21:57:05.487796Z"
    },
    "papermill": {
     "duration": 0.163966,
     "end_time": "2022-04-20T21:57:05.492177",
     "exception": false,
     "start_time": "2022-04-20T21:57:05.328211",
     "status": "completed"
    },
    "tags": []
   },
   "outputs": [
    {
     "name": "stderr",
     "output_type": "stream",
     "text": [
      "/opt/conda/lib/python3.7/site-packages/sklearn/utils/validation.py:1692: FutureWarning: Feature names only support names that are all strings. Got feature names with dtypes: ['tuple']. An error will be raised in 1.2.\n",
      "  FutureWarning,\n"
     ]
    },
    {
     "data": {
      "text/plain": [
       "AdaBoostClassifier()"
      ]
     },
     "execution_count": 21,
     "metadata": {},
     "output_type": "execute_result"
    }
   ],
   "source": [
    "model1 = AdaBoostClassifier()\n",
    "model1.fit(x1train,y1train)"
   ]
  },
  {
   "cell_type": "code",
   "execution_count": 22,
   "id": "1608efe1",
   "metadata": {
    "execution": {
     "iopub.execute_input": "2022-04-20T21:57:05.594942Z",
     "iopub.status.busy": "2022-04-20T21:57:05.594687Z",
     "iopub.status.idle": "2022-04-20T21:57:05.628106Z",
     "shell.execute_reply": "2022-04-20T21:57:05.627076Z"
    },
    "papermill": {
     "duration": 0.089143,
     "end_time": "2022-04-20T21:57:05.632185",
     "exception": false,
     "start_time": "2022-04-20T21:57:05.543042",
     "status": "completed"
    },
    "tags": []
   },
   "outputs": [
    {
     "name": "stdout",
     "output_type": "stream",
     "text": [
      "train score 0.5992063492063492\n",
      "test score 0.6031746031746031\n"
     ]
    },
    {
     "name": "stderr",
     "output_type": "stream",
     "text": [
      "/opt/conda/lib/python3.7/site-packages/sklearn/utils/validation.py:1692: FutureWarning: Feature names only support names that are all strings. Got feature names with dtypes: ['tuple']. An error will be raised in 1.2.\n",
      "  FutureWarning,\n",
      "/opt/conda/lib/python3.7/site-packages/sklearn/utils/validation.py:1692: FutureWarning: Feature names only support names that are all strings. Got feature names with dtypes: ['tuple']. An error will be raised in 1.2.\n",
      "  FutureWarning,\n"
     ]
    }
   ],
   "source": [
    "print('train score',model1.score(x1train,y1train))\n",
    "print('test score',model1.score(x1test,y1test))"
   ]
  },
  {
   "cell_type": "code",
   "execution_count": null,
   "id": "279e3c30",
   "metadata": {
    "papermill": {
     "duration": 0.050828,
     "end_time": "2022-04-20T21:57:05.734757",
     "exception": false,
     "start_time": "2022-04-20T21:57:05.683929",
     "status": "completed"
    },
    "tags": []
   },
   "outputs": [],
   "source": []
  },
  {
   "cell_type": "markdown",
   "id": "66ca1310",
   "metadata": {
    "papermill": {
     "duration": 0.050527,
     "end_time": "2022-04-20T21:57:05.835956",
     "exception": false,
     "start_time": "2022-04-20T21:57:05.785429",
     "status": "completed"
    },
    "tags": []
   },
   "source": [
    "# Feature Selection 2"
   ]
  },
  {
   "cell_type": "code",
   "execution_count": 23,
   "id": "14700fd6",
   "metadata": {
    "execution": {
     "iopub.execute_input": "2022-04-20T21:57:05.940202Z",
     "iopub.status.busy": "2022-04-20T21:57:05.939885Z",
     "iopub.status.idle": "2022-04-20T21:57:05.943784Z",
     "shell.execute_reply": "2022-04-20T21:57:05.943176Z"
    },
    "papermill": {
     "duration": 0.059083,
     "end_time": "2022-04-20T21:57:05.945606",
     "exception": false,
     "start_time": "2022-04-20T21:57:05.886523",
     "status": "completed"
    },
    "tags": []
   },
   "outputs": [],
   "source": [
    "from sklearn.feature_selection import SelectPercentile\n",
    "from sklearn.feature_selection import mutual_info_classif"
   ]
  },
  {
   "cell_type": "code",
   "execution_count": 24,
   "id": "da0393d1",
   "metadata": {
    "execution": {
     "iopub.execute_input": "2022-04-20T21:57:06.053840Z",
     "iopub.status.busy": "2022-04-20T21:57:06.053306Z",
     "iopub.status.idle": "2022-04-20T21:57:06.105511Z",
     "shell.execute_reply": "2022-04-20T21:57:06.104903Z"
    },
    "papermill": {
     "duration": 0.111161,
     "end_time": "2022-04-20T21:57:06.108247",
     "exception": false,
     "start_time": "2022-04-20T21:57:05.997086",
     "status": "completed"
    },
    "tags": []
   },
   "outputs": [
    {
     "name": "stderr",
     "output_type": "stream",
     "text": [
      "/opt/conda/lib/python3.7/site-packages/sklearn/utils/validation.py:1692: FutureWarning: Feature names only support names that are all strings. Got feature names with dtypes: ['tuple']. An error will be raised in 1.2.\n",
      "  FutureWarning,\n"
     ]
    }
   ],
   "source": [
    "sp = SelectPercentile(mutual_info_classif,percentile = 2)\n",
    "slectfeature2 = sp.fit(xtrain,ytrain)"
   ]
  },
  {
   "cell_type": "code",
   "execution_count": 25,
   "id": "0a6a2766",
   "metadata": {
    "execution": {
     "iopub.execute_input": "2022-04-20T21:57:06.213121Z",
     "iopub.status.busy": "2022-04-20T21:57:06.212855Z",
     "iopub.status.idle": "2022-04-20T21:57:06.220050Z",
     "shell.execute_reply": "2022-04-20T21:57:06.219427Z"
    },
    "papermill": {
     "duration": 0.061386,
     "end_time": "2022-04-20T21:57:06.221807",
     "exception": false,
     "start_time": "2022-04-20T21:57:06.160421",
     "status": "completed"
    },
    "tags": []
   },
   "outputs": [
    {
     "data": {
      "text/plain": [
       "MultiIndex([('snoring range',)],\n",
       "           )"
      ]
     },
     "execution_count": 25,
     "metadata": {},
     "output_type": "execute_result"
    }
   ],
   "source": [
    "xtrain.columns[slectfeature2.get_support()]"
   ]
  },
  {
   "cell_type": "code",
   "execution_count": null,
   "id": "b2731570",
   "metadata": {
    "papermill": {
     "duration": 0.051986,
     "end_time": "2022-04-20T21:57:06.326450",
     "exception": false,
     "start_time": "2022-04-20T21:57:06.274464",
     "status": "completed"
    },
    "tags": []
   },
   "outputs": [],
   "source": []
  },
  {
   "cell_type": "markdown",
   "id": "cb2c0b89",
   "metadata": {
    "papermill": {
     "duration": 0.050976,
     "end_time": "2022-04-20T21:57:06.428828",
     "exception": false,
     "start_time": "2022-04-20T21:57:06.377852",
     "status": "completed"
    },
    "tags": []
   },
   "source": [
    "# Train model"
   ]
  },
  {
   "cell_type": "code",
   "execution_count": 26,
   "id": "ca61d586",
   "metadata": {
    "execution": {
     "iopub.execute_input": "2022-04-20T21:57:06.534483Z",
     "iopub.status.busy": "2022-04-20T21:57:06.533895Z",
     "iopub.status.idle": "2022-04-20T21:57:06.548595Z",
     "shell.execute_reply": "2022-04-20T21:57:06.547914Z"
    },
    "papermill": {
     "duration": 0.069656,
     "end_time": "2022-04-20T21:57:06.550453",
     "exception": false,
     "start_time": "2022-04-20T21:57:06.480797",
     "status": "completed"
    },
    "tags": []
   },
   "outputs": [
    {
     "data": {
      "text/html": [
       "<div>\n",
       "<style scoped>\n",
       "    .dataframe tbody tr th:only-of-type {\n",
       "        vertical-align: middle;\n",
       "    }\n",
       "\n",
       "    .dataframe tbody tr th {\n",
       "        vertical-align: top;\n",
       "    }\n",
       "\n",
       "    .dataframe thead tr th {\n",
       "        text-align: left;\n",
       "    }\n",
       "</style>\n",
       "<table border=\"1\" class=\"dataframe\">\n",
       "  <thead>\n",
       "    <tr>\n",
       "      <th></th>\n",
       "      <th>snoring range</th>\n",
       "      <th>respiration rate</th>\n",
       "      <th>body temperature</th>\n",
       "      <th>limb movement rate</th>\n",
       "      <th>blood oxygen levels</th>\n",
       "      <th>eye movement</th>\n",
       "      <th>number of hours of sleep</th>\n",
       "      <th>heart rate</th>\n",
       "    </tr>\n",
       "  </thead>\n",
       "  <tbody>\n",
       "    <tr>\n",
       "      <th>363</th>\n",
       "      <td>71.84</td>\n",
       "      <td>21.184</td>\n",
       "      <td>93.184</td>\n",
       "      <td>11.184</td>\n",
       "      <td>91.184</td>\n",
       "      <td>90.92</td>\n",
       "      <td>3.776</td>\n",
       "      <td>62.96</td>\n",
       "    </tr>\n",
       "    <tr>\n",
       "      <th>551</th>\n",
       "      <td>91.88</td>\n",
       "      <td>25.168</td>\n",
       "      <td>91.584</td>\n",
       "      <td>15.960</td>\n",
       "      <td>89.584</td>\n",
       "      <td>98.96</td>\n",
       "      <td>1.584</td>\n",
       "      <td>72.92</td>\n",
       "    </tr>\n",
       "  </tbody>\n",
       "</table>\n",
       "</div>"
      ],
      "text/plain": [
       "    snoring range respiration rate body temperature limb movement rate  \\\n",
       "363         71.84           21.184           93.184             11.184   \n",
       "551         91.88           25.168           91.584             15.960   \n",
       "\n",
       "    blood oxygen levels eye movement number of hours of sleep heart rate  \n",
       "363              91.184        90.92                    3.776      62.96  \n",
       "551              89.584        98.96                    1.584      72.92  "
      ]
     },
     "execution_count": 26,
     "metadata": {},
     "output_type": "execute_result"
    }
   ],
   "source": [
    "xtrain.head(2)"
   ]
  },
  {
   "cell_type": "code",
   "execution_count": 27,
   "id": "cdd21dcf",
   "metadata": {
    "execution": {
     "iopub.execute_input": "2022-04-20T21:57:06.656515Z",
     "iopub.status.busy": "2022-04-20T21:57:06.655986Z",
     "iopub.status.idle": "2022-04-20T21:57:06.768030Z",
     "shell.execute_reply": "2022-04-20T21:57:06.767398Z"
    },
    "papermill": {
     "duration": 0.168986,
     "end_time": "2022-04-20T21:57:06.771351",
     "exception": false,
     "start_time": "2022-04-20T21:57:06.602365",
     "status": "completed"
    },
    "tags": []
   },
   "outputs": [
    {
     "name": "stderr",
     "output_type": "stream",
     "text": [
      "/opt/conda/lib/python3.7/site-packages/sklearn/utils/validation.py:1692: FutureWarning: Feature names only support names that are all strings. Got feature names with dtypes: ['tuple']. An error will be raised in 1.2.\n",
      "  FutureWarning,\n"
     ]
    },
    {
     "data": {
      "text/plain": [
       "AdaBoostClassifier()"
      ]
     },
     "execution_count": 27,
     "metadata": {},
     "output_type": "execute_result"
    }
   ],
   "source": [
    "model2 = AdaBoostClassifier()\n",
    "model2.fit(xtrain,ytrain)"
   ]
  },
  {
   "cell_type": "code",
   "execution_count": 28,
   "id": "15f75cd4",
   "metadata": {
    "execution": {
     "iopub.execute_input": "2022-04-20T21:57:06.879109Z",
     "iopub.status.busy": "2022-04-20T21:57:06.878812Z",
     "iopub.status.idle": "2022-04-20T21:57:06.913148Z",
     "shell.execute_reply": "2022-04-20T21:57:06.911186Z"
    },
    "papermill": {
     "duration": 0.091767,
     "end_time": "2022-04-20T21:57:06.916301",
     "exception": false,
     "start_time": "2022-04-20T21:57:06.824534",
     "status": "completed"
    },
    "tags": []
   },
   "outputs": [
    {
     "name": "stdout",
     "output_type": "stream",
     "text": [
      "train score 0.8095238095238095\n",
      "test score 0.753968253968254\n"
     ]
    },
    {
     "name": "stderr",
     "output_type": "stream",
     "text": [
      "/opt/conda/lib/python3.7/site-packages/sklearn/utils/validation.py:1692: FutureWarning: Feature names only support names that are all strings. Got feature names with dtypes: ['tuple']. An error will be raised in 1.2.\n",
      "  FutureWarning,\n",
      "/opt/conda/lib/python3.7/site-packages/sklearn/utils/validation.py:1692: FutureWarning: Feature names only support names that are all strings. Got feature names with dtypes: ['tuple']. An error will be raised in 1.2.\n",
      "  FutureWarning,\n"
     ]
    }
   ],
   "source": [
    "print('train score',model2.score(xtrain,ytrain))\n",
    "print('test score',model2.score(xtest,ytest))"
   ]
  },
  {
   "cell_type": "markdown",
   "id": "c095cd9a",
   "metadata": {
    "papermill": {
     "duration": 0.054576,
     "end_time": "2022-04-20T21:57:07.025212",
     "exception": false,
     "start_time": "2022-04-20T21:57:06.970636",
     "status": "completed"
    },
    "tags": []
   },
   "source": [
    "# feature importance again train model"
   ]
  },
  {
   "cell_type": "code",
   "execution_count": 29,
   "id": "c5c51cd0",
   "metadata": {
    "execution": {
     "iopub.execute_input": "2022-04-20T21:57:07.136192Z",
     "iopub.status.busy": "2022-04-20T21:57:07.135415Z",
     "iopub.status.idle": "2022-04-20T21:57:07.141746Z",
     "shell.execute_reply": "2022-04-20T21:57:07.140964Z"
    },
    "papermill": {
     "duration": 0.063763,
     "end_time": "2022-04-20T21:57:07.143758",
     "exception": false,
     "start_time": "2022-04-20T21:57:07.079995",
     "status": "completed"
    },
    "tags": []
   },
   "outputs": [],
   "source": [
    "imp = model2.feature_importances_\n",
    "imp = pd.DataFrame(imp)"
   ]
  },
  {
   "cell_type": "code",
   "execution_count": 30,
   "id": "4b79999f",
   "metadata": {
    "execution": {
     "iopub.execute_input": "2022-04-20T21:57:07.253342Z",
     "iopub.status.busy": "2022-04-20T21:57:07.253076Z",
     "iopub.status.idle": "2022-04-20T21:57:07.257495Z",
     "shell.execute_reply": "2022-04-20T21:57:07.256532Z"
    },
    "papermill": {
     "duration": 0.061668,
     "end_time": "2022-04-20T21:57:07.259503",
     "exception": false,
     "start_time": "2022-04-20T21:57:07.197835",
     "status": "completed"
    },
    "tags": []
   },
   "outputs": [],
   "source": [
    "feature = xtrain.columns\n",
    "feature = pd.DataFrame(feature)"
   ]
  },
  {
   "cell_type": "code",
   "execution_count": 31,
   "id": "ef65afad",
   "metadata": {
    "execution": {
     "iopub.execute_input": "2022-04-20T21:57:07.368852Z",
     "iopub.status.busy": "2022-04-20T21:57:07.368084Z",
     "iopub.status.idle": "2022-04-20T21:57:07.374080Z",
     "shell.execute_reply": "2022-04-20T21:57:07.373490Z"
    },
    "papermill": {
     "duration": 0.062396,
     "end_time": "2022-04-20T21:57:07.375960",
     "exception": false,
     "start_time": "2022-04-20T21:57:07.313564",
     "status": "completed"
    },
    "tags": []
   },
   "outputs": [],
   "source": [
    "importfeature = pd.concat([imp,feature],axis=1)\n",
    "importfeature.columns=['importace','feature']"
   ]
  },
  {
   "cell_type": "code",
   "execution_count": 32,
   "id": "7d9d3b77",
   "metadata": {
    "execution": {
     "iopub.execute_input": "2022-04-20T21:57:07.485421Z",
     "iopub.status.busy": "2022-04-20T21:57:07.484913Z",
     "iopub.status.idle": "2022-04-20T21:57:07.496760Z",
     "shell.execute_reply": "2022-04-20T21:57:07.495900Z"
    },
    "papermill": {
     "duration": 0.069098,
     "end_time": "2022-04-20T21:57:07.498703",
     "exception": false,
     "start_time": "2022-04-20T21:57:07.429605",
     "status": "completed"
    },
    "tags": []
   },
   "outputs": [
    {
     "data": {
      "text/html": [
       "<div>\n",
       "<style scoped>\n",
       "    .dataframe tbody tr th:only-of-type {\n",
       "        vertical-align: middle;\n",
       "    }\n",
       "\n",
       "    .dataframe tbody tr th {\n",
       "        vertical-align: top;\n",
       "    }\n",
       "\n",
       "    .dataframe thead th {\n",
       "        text-align: right;\n",
       "    }\n",
       "</style>\n",
       "<table border=\"1\" class=\"dataframe\">\n",
       "  <thead>\n",
       "    <tr style=\"text-align: right;\">\n",
       "      <th></th>\n",
       "      <th>importace</th>\n",
       "      <th>feature</th>\n",
       "    </tr>\n",
       "  </thead>\n",
       "  <tbody>\n",
       "    <tr>\n",
       "      <th>0</th>\n",
       "      <td>0.52</td>\n",
       "      <td>(snoring range,)</td>\n",
       "    </tr>\n",
       "    <tr>\n",
       "      <th>1</th>\n",
       "      <td>0.00</td>\n",
       "      <td>(respiration rate,)</td>\n",
       "    </tr>\n",
       "    <tr>\n",
       "      <th>2</th>\n",
       "      <td>0.12</td>\n",
       "      <td>(body temperature,)</td>\n",
       "    </tr>\n",
       "    <tr>\n",
       "      <th>3</th>\n",
       "      <td>0.00</td>\n",
       "      <td>(limb movement rate,)</td>\n",
       "    </tr>\n",
       "    <tr>\n",
       "      <th>4</th>\n",
       "      <td>0.18</td>\n",
       "      <td>(blood oxygen levels,)</td>\n",
       "    </tr>\n",
       "    <tr>\n",
       "      <th>5</th>\n",
       "      <td>0.00</td>\n",
       "      <td>(eye movement,)</td>\n",
       "    </tr>\n",
       "    <tr>\n",
       "      <th>6</th>\n",
       "      <td>0.18</td>\n",
       "      <td>(number of hours of sleep,)</td>\n",
       "    </tr>\n",
       "    <tr>\n",
       "      <th>7</th>\n",
       "      <td>0.00</td>\n",
       "      <td>(heart rate,)</td>\n",
       "    </tr>\n",
       "  </tbody>\n",
       "</table>\n",
       "</div>"
      ],
      "text/plain": [
       "   importace                      feature\n",
       "0       0.52             (snoring range,)\n",
       "1       0.00          (respiration rate,)\n",
       "2       0.12          (body temperature,)\n",
       "3       0.00        (limb movement rate,)\n",
       "4       0.18       (blood oxygen levels,)\n",
       "5       0.00              (eye movement,)\n",
       "6       0.18  (number of hours of sleep,)\n",
       "7       0.00                (heart rate,)"
      ]
     },
     "execution_count": 32,
     "metadata": {},
     "output_type": "execute_result"
    }
   ],
   "source": [
    "importfeature"
   ]
  },
  {
   "cell_type": "code",
   "execution_count": 33,
   "id": "ba69815f",
   "metadata": {
    "execution": {
     "iopub.execute_input": "2022-04-20T21:57:07.609313Z",
     "iopub.status.busy": "2022-04-20T21:57:07.608992Z",
     "iopub.status.idle": "2022-04-20T21:57:07.890047Z",
     "shell.execute_reply": "2022-04-20T21:57:07.889193Z"
    },
    "papermill": {
     "duration": 0.338651,
     "end_time": "2022-04-20T21:57:07.892472",
     "exception": false,
     "start_time": "2022-04-20T21:57:07.553821",
     "status": "completed"
    },
    "tags": []
   },
   "outputs": [
    {
     "data": {
      "image/png": "[encoded data removed]",
      "text/plain": [
       "<Figure size 432x288 with 1 Axes>"
      ]
     },
     "metadata": {
      "needs_background": "light"
     },
     "output_type": "display_data"
    }
   ],
   "source": [
    "sns.barplot(x= importfeature['feature'],y = importfeature['importace'])\n",
    "plt.tick_params(rotation =90)"
   ]
  },
  {
   "cell_type": "code",
   "execution_count": 34,
   "id": "b61c32ea",
   "metadata": {
    "execution": {
     "iopub.execute_input": "2022-04-20T21:57:08.006678Z",
     "iopub.status.busy": "2022-04-20T21:57:08.006269Z",
     "iopub.status.idle": "2022-04-20T21:57:08.011682Z",
     "shell.execute_reply": "2022-04-20T21:57:08.011112Z"
    },
    "papermill": {
     "duration": 0.065618,
     "end_time": "2022-04-20T21:57:08.013605",
     "exception": false,
     "start_time": "2022-04-20T21:57:07.947987",
     "status": "completed"
    },
    "tags": []
   },
   "outputs": [],
   "source": [
    "x2 = df[['body temperature','blood oxygen levels','number of hours of sleep','respiration rate']]"
   ]
  },
  {
   "cell_type": "code",
   "execution_count": 35,
   "id": "2bf61e53",
   "metadata": {
    "execution": {
     "iopub.execute_input": "2022-04-20T21:57:08.127608Z",
     "iopub.status.busy": "2022-04-20T21:57:08.127089Z",
     "iopub.status.idle": "2022-04-20T21:57:08.138281Z",
     "shell.execute_reply": "2022-04-20T21:57:08.137479Z"
    },
    "papermill": {
     "duration": 0.070505,
     "end_time": "2022-04-20T21:57:08.140621",
     "exception": false,
     "start_time": "2022-04-20T21:57:08.070116",
     "status": "completed"
    },
    "tags": []
   },
   "outputs": [
    {
     "data": {
      "text/html": [
       "<div>\n",
       "<style scoped>\n",
       "    .dataframe tbody tr th:only-of-type {\n",
       "        vertical-align: middle;\n",
       "    }\n",
       "\n",
       "    .dataframe tbody tr th {\n",
       "        vertical-align: top;\n",
       "    }\n",
       "\n",
       "    .dataframe thead tr th {\n",
       "        text-align: left;\n",
       "    }\n",
       "</style>\n",
       "<table border=\"1\" class=\"dataframe\">\n",
       "  <thead>\n",
       "    <tr>\n",
       "      <th></th>\n",
       "      <th>body temperature</th>\n",
       "      <th>blood oxygen levels</th>\n",
       "      <th>number of hours of sleep</th>\n",
       "      <th>respiration rate</th>\n",
       "    </tr>\n",
       "  </thead>\n",
       "  <tbody>\n",
       "    <tr>\n",
       "      <th>0</th>\n",
       "      <td>91.840</td>\n",
       "      <td>89.840</td>\n",
       "      <td>1.840</td>\n",
       "      <td>25.680</td>\n",
       "    </tr>\n",
       "    <tr>\n",
       "      <th>1</th>\n",
       "      <td>91.552</td>\n",
       "      <td>89.552</td>\n",
       "      <td>1.552</td>\n",
       "      <td>25.104</td>\n",
       "    </tr>\n",
       "  </tbody>\n",
       "</table>\n",
       "</div>"
      ],
      "text/plain": [
       "  body temperature blood oxygen levels number of hours of sleep  \\\n",
       "0           91.840              89.840                    1.840   \n",
       "1           91.552              89.552                    1.552   \n",
       "\n",
       "  respiration rate  \n",
       "0           25.680  \n",
       "1           25.104  "
      ]
     },
     "execution_count": 35,
     "metadata": {},
     "output_type": "execute_result"
    }
   ],
   "source": [
    "x2.head(2)"
   ]
  },
  {
   "cell_type": "code",
   "execution_count": 36,
   "id": "1077c9ed",
   "metadata": {
    "execution": {
     "iopub.execute_input": "2022-04-20T21:57:08.256660Z",
     "iopub.status.busy": "2022-04-20T21:57:08.256223Z",
     "iopub.status.idle": "2022-04-20T21:57:08.262776Z",
     "shell.execute_reply": "2022-04-20T21:57:08.261944Z"
    },
    "papermill": {
     "duration": 0.067526,
     "end_time": "2022-04-20T21:57:08.264810",
     "exception": false,
     "start_time": "2022-04-20T21:57:08.197284",
     "status": "completed"
    },
    "tags": []
   },
   "outputs": [],
   "source": [
    "x2train,x2test,y2train,y2test = train_test_split(x2,y,test_size = 0.20)"
   ]
  },
  {
   "cell_type": "code",
   "execution_count": 37,
   "id": "f770be9a",
   "metadata": {
    "execution": {
     "iopub.execute_input": "2022-04-20T21:57:08.383477Z",
     "iopub.status.busy": "2022-04-20T21:57:08.383173Z",
     "iopub.status.idle": "2022-04-20T21:57:08.394804Z",
     "shell.execute_reply": "2022-04-20T21:57:08.394189Z"
    },
    "papermill": {
     "duration": 0.075811,
     "end_time": "2022-04-20T21:57:08.396891",
     "exception": false,
     "start_time": "2022-04-20T21:57:08.321080",
     "status": "completed"
    },
    "tags": []
   },
   "outputs": [
    {
     "data": {
      "text/html": [
       "<div>\n",
       "<style scoped>\n",
       "    .dataframe tbody tr th:only-of-type {\n",
       "        vertical-align: middle;\n",
       "    }\n",
       "\n",
       "    .dataframe tbody tr th {\n",
       "        vertical-align: top;\n",
       "    }\n",
       "\n",
       "    .dataframe thead tr th {\n",
       "        text-align: left;\n",
       "    }\n",
       "</style>\n",
       "<table border=\"1\" class=\"dataframe\">\n",
       "  <thead>\n",
       "    <tr>\n",
       "      <th></th>\n",
       "      <th>body temperature</th>\n",
       "      <th>blood oxygen levels</th>\n",
       "      <th>number of hours of sleep</th>\n",
       "      <th>respiration rate</th>\n",
       "    </tr>\n",
       "  </thead>\n",
       "  <tbody>\n",
       "    <tr>\n",
       "      <th>381</th>\n",
       "      <td>95.024</td>\n",
       "      <td>93.536</td>\n",
       "      <td>6.024</td>\n",
       "      <td>19.024</td>\n",
       "    </tr>\n",
       "    <tr>\n",
       "      <th>190</th>\n",
       "      <td>94.560</td>\n",
       "      <td>92.840</td>\n",
       "      <td>5.560</td>\n",
       "      <td>18.560</td>\n",
       "    </tr>\n",
       "  </tbody>\n",
       "</table>\n",
       "</div>"
      ],
      "text/plain": [
       "    body temperature blood oxygen levels number of hours of sleep  \\\n",
       "381           95.024              93.536                    6.024   \n",
       "190           94.560              92.840                    5.560   \n",
       "\n",
       "    respiration rate  \n",
       "381           19.024  \n",
       "190           18.560  "
      ]
     },
     "execution_count": 37,
     "metadata": {},
     "output_type": "execute_result"
    }
   ],
   "source": [
    "x2train.head(2)"
   ]
  },
  {
   "cell_type": "code",
   "execution_count": 38,
   "id": "c7429fa4",
   "metadata": {
    "execution": {
     "iopub.execute_input": "2022-04-20T21:57:08.513577Z",
     "iopub.status.busy": "2022-04-20T21:57:08.513070Z",
     "iopub.status.idle": "2022-04-20T21:57:08.618305Z",
     "shell.execute_reply": "2022-04-20T21:57:08.617452Z"
    },
    "papermill": {
     "duration": 0.166867,
     "end_time": "2022-04-20T21:57:08.620762",
     "exception": false,
     "start_time": "2022-04-20T21:57:08.453895",
     "status": "completed"
    },
    "tags": []
   },
   "outputs": [
    {
     "name": "stderr",
     "output_type": "stream",
     "text": [
      "/opt/conda/lib/python3.7/site-packages/sklearn/utils/validation.py:1692: FutureWarning: Feature names only support names that are all strings. Got feature names with dtypes: ['tuple']. An error will be raised in 1.2.\n",
      "  FutureWarning,\n"
     ]
    },
    {
     "data": {
      "text/plain": [
       "AdaBoostClassifier()"
      ]
     },
     "execution_count": 38,
     "metadata": {},
     "output_type": "execute_result"
    }
   ],
   "source": [
    "model3 = AdaBoostClassifier()\n",
    "model3.fit(x2train,y2train)"
   ]
  },
  {
   "cell_type": "code",
   "execution_count": 39,
   "id": "79f7fb7f",
   "metadata": {
    "execution": {
     "iopub.execute_input": "2022-04-20T21:57:08.737137Z",
     "iopub.status.busy": "2022-04-20T21:57:08.736806Z",
     "iopub.status.idle": "2022-04-20T21:57:08.772748Z",
     "shell.execute_reply": "2022-04-20T21:57:08.771156Z"
    },
    "papermill": {
     "duration": 0.097776,
     "end_time": "2022-04-20T21:57:08.775848",
     "exception": false,
     "start_time": "2022-04-20T21:57:08.678072",
     "status": "completed"
    },
    "tags": []
   },
   "outputs": [
    {
     "name": "stdout",
     "output_type": "stream",
     "text": [
      "train score 0.6150793650793651\n",
      "test score 0.5079365079365079\n"
     ]
    },
    {
     "name": "stderr",
     "output_type": "stream",
     "text": [
      "/opt/conda/lib/python3.7/site-packages/sklearn/utils/validation.py:1692: FutureWarning: Feature names only support names that are all strings. Got feature names with dtypes: ['tuple']. An error will be raised in 1.2.\n",
      "  FutureWarning,\n",
      "/opt/conda/lib/python3.7/site-packages/sklearn/utils/validation.py:1692: FutureWarning: Feature names only support names that are all strings. Got feature names with dtypes: ['tuple']. An error will be raised in 1.2.\n",
      "  FutureWarning,\n"
     ]
    }
   ],
   "source": [
    "print('train score',model3.score(x2train,y2train))\n",
    "print('test score',model3.score(x2test,y2test))"
   ]
  },
  {
   "cell_type": "code",
   "execution_count": null,
   "id": "44c06c18",
   "metadata": {
    "papermill": {
     "duration": 0.057898,
     "end_time": "2022-04-20T21:57:08.892244",
     "exception": false,
     "start_time": "2022-04-20T21:57:08.834346",
     "status": "completed"
    },
    "tags": []
   },
   "outputs": [],
   "source": []
  }
 ],
 "metadata": {
  "kernelspec": {
   "display_name": "Python 3",
   "language": "python",
   "name": "python3"
  },
  "language_info": {
   "codemirror_mode": {
    "name": "ipython",
    "version": 3
   },
   "file_extension": ".py",
   "mimetype": "text/x-python",
   "name": "python",
   "nbconvert_exporter": "python",
   "pygments_lexer": "ipython3",
   "version": "3.7.12"
  },
  "papermill": {
   "default_parameters": {},
   "duration": 18.341088,
   "end_time": "2022-04-20T21:57:09.671287",
   "environment_variables": {},
   "exception": null,
   "input_path": "__notebook__.ipynb",
   "output_path": "__notebook__.ipynb",
   "parameters": {},
   "start_time": "2022-04-20T21:56:51.330199",
   "version": "2.3.4"
  }
 },
 "nbformat": 4,
 "nbformat_minor": 5
}
