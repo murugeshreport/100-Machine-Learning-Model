{
  "nbformat": 4,
  "nbformat_minor": 0,
  "metadata": {
    "colab": {
      "name": "Keywords Extraction",
      "provenance": []
    },
    "kernelspec": {
      "name": "python3",
      "display_name": "Python 3"
    },
    "language_info": {
      "name": "python"
    }
  },
  "cells": [
    {
      "cell_type": "markdown",
      "source": [
        "**KEYWORDS** EXTRACTION"
      ],
      "metadata": {
        "id": "qbwb9yYJM5BT"
      }
    },
    {
      "cell_type": "code",
      "source": [
        "import nltk"
      ],
      "metadata": {
        "id": "1lHKM2uoMwrl"
      },
      "execution_count": 21,
      "outputs": []
    },
    {
      "cell_type": "code",
      "source": [
        "!pip install rake-nltk"
      ],
      "metadata": {
        "id": "X_4W2pUwMw4n",
        "colab": {
          "base_uri": "https://localhost:8080/"
        },
        "outputId": "300eb2bd-40de-413d-eddb-1c200c1473dc"
      },
      "execution_count": 22,
      "outputs": [
        {
          "output_type": "stream",
          "name": "stdout",
          "text": [
            "Requirement already satisfied: rake-nltk in /usr/local/lib/python3.7/dist-packages (1.0.6)\n",
            "Requirement already satisfied: nltk<4.0.0,>=3.6.2 in /usr/local/lib/python3.7/dist-packages (from rake-nltk) (3.7)\n",
            "Requirement already satisfied: regex>=2021.8.3 in /usr/local/lib/python3.7/dist-packages (from nltk<4.0.0,>=3.6.2->rake-nltk) (2022.3.15)\n",
            "Requirement already satisfied: tqdm in /usr/local/lib/python3.7/dist-packages (from nltk<4.0.0,>=3.6.2->rake-nltk) (4.64.0)\n",
            "Requirement already satisfied: click in /usr/local/lib/python3.7/dist-packages (from nltk<4.0.0,>=3.6.2->rake-nltk) (7.1.2)\n",
            "Requirement already satisfied: joblib in /usr/local/lib/python3.7/dist-packages (from nltk<4.0.0,>=3.6.2->rake-nltk) (1.1.0)\n"
          ]
        }
      ]
    },
    {
      "cell_type": "code",
      "source": [
        "nltk.download('stopwords')"
      ],
      "metadata": {
        "id": "h22r4upjMw7J",
        "colab": {
          "base_uri": "https://localhost:8080/"
        },
        "outputId": "480fc131-c732-4bc0-e794-2d639bc1db57"
      },
      "execution_count": 23,
      "outputs": [
        {
          "output_type": "stream",
          "name": "stderr",
          "text": [
            "[nltk_data] Downloading package stopwords to /root/nltk_data...\n",
            "[nltk_data]   Package stopwords is already up-to-date!\n"
          ]
        },
        {
          "output_type": "execute_result",
          "data": {
            "text/plain": [
              "True"
            ]
          },
          "metadata": {},
          "execution_count": 23
        }
      ]
    },
    {
      "cell_type": "code",
      "source": [
        "nltk.download('punkt')"
      ],
      "metadata": {
        "id": "HtK6Y3RVMw_b",
        "colab": {
          "base_uri": "https://localhost:8080/"
        },
        "outputId": "88a83221-25a5-4342-be3b-9f69abca6fc0"
      },
      "execution_count": 24,
      "outputs": [
        {
          "output_type": "stream",
          "name": "stderr",
          "text": [
            "[nltk_data] Downloading package punkt to /root/nltk_data...\n",
            "[nltk_data]   Package punkt is already up-to-date!\n"
          ]
        },
        {
          "output_type": "execute_result",
          "data": {
            "text/plain": [
              "True"
            ]
          },
          "metadata": {},
          "execution_count": 24
        }
      ]
    },
    {
      "cell_type": "code",
      "source": [
        "model= Rake()"
      ],
      "metadata": {
        "id": "sN3sFzrWMxCQ"
      },
      "execution_count": 25,
      "outputs": []
    },
    {
      "cell_type": "code",
      "source": [
        "text = 'More than 30 experts from around the world provide a window into the change and potential opportunities in AI and Open Banking. Complete and submit the form below to get the full list of guest experts within the programme prospectus'"
      ],
      "metadata": {
        "id": "f7R4ak-9MxFw"
      },
      "execution_count": 26,
      "outputs": []
    },
    {
      "cell_type": "code",
      "source": [
        "model.extract_keywords_from_text(text)"
      ],
      "metadata": {
        "id": "cS4_qk0DMxIv"
      },
      "execution_count": 27,
      "outputs": []
    },
    {
      "cell_type": "code",
      "source": [
        "extract = model.get_ranked_phrases()"
      ],
      "metadata": {
        "id": "ujAyctcsMxMN"
      },
      "execution_count": 28,
      "outputs": []
    },
    {
      "cell_type": "code",
      "source": [
        "print(extract)"
      ],
      "metadata": {
        "id": "pAERfvsvMxPT",
        "colab": {
          "base_uri": "https://localhost:8080/"
        },
        "outputId": "ce6f04e8-30ac-4b89-e45d-1a5a15acd3a3"
      },
      "execution_count": 29,
      "outputs": [
        {
          "output_type": "stream",
          "name": "stdout",
          "text": [
            "['guest experts within', '30 experts', 'world provide', 'programme prospectus', 'potential opportunities', 'open banking', 'full list', 'window', 'submit', 'get', 'form', 'complete', 'change', 'around', 'ai']\n"
          ]
        }
      ]
    },
    {
      "cell_type": "code",
      "source": [
        ""
      ],
      "metadata": {
        "id": "IbSrff2cMxS7"
      },
      "execution_count": null,
      "outputs": []
    },
    {
      "cell_type": "code",
      "source": [
        ""
      ],
      "metadata": {
        "id": "LBik6JPvMxW_"
      },
      "execution_count": null,
      "outputs": []
    },
    {
      "cell_type": "code",
      "source": [
        ""
      ],
      "metadata": {
        "id": "Gd4gMwmsMxaU"
      },
      "execution_count": null,
      "outputs": []
    },
    {
      "cell_type": "code",
      "source": [
        ""
      ],
      "metadata": {
        "id": "EQfN0AMhMxcS"
      },
      "execution_count": null,
      "outputs": []
    }
  ]
}